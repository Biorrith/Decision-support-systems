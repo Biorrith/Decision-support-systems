{
 "cells": [
  {
   "attachments": {},
   "cell_type": "markdown",
   "metadata": {},
   "source": [
    "Links:\n",
    "\n",
    "- https://surprise.readthedocs.io/en/stable/getting_started.html\n",
    "- https://surpriselib.com/\n",
    "\n",
    "Inspiration:\n",
    "- https://towardsdatascience.com/building-and-testing-recommender-systems-with-surprise-step-by-step-d4ba702ef80b\n",
    "- https://github.com/rposhala/Recommender-System-on-MovieLens-dataset\n",
    "- https://github.com/divensambhwani/MovieLens-100K_Recommender-System/blob/master/MovieLens-100K-Recommeder%20System-SVD.ipynb\n",
    "- https://www.kaggle.com/code/sunyuanxi/surprise\n",
    "- https://surprise.readthedocs.io/en/stable/FAQ.html\n",
    "- https://surprise.readthedocs.io/en/stable/predictions_module.html\n",
    "- https://github.com/rposhala/Recommender-System-on-MovieLens-dataset\n",
    "- https://nbviewer.org/github/NicolasHug/Surprise/blob/master/examples/notebooks/KNNBasic_analysis.ipynb\n",
    "- https://towardsdatascience.com/how-you-can-build-simple-recommender-systems-with-surprise-b0d32a8e4802\n",
    "\n",
    "\n",
    "State of the art:\n",
    "- https://paperswithcode.com/sota/collaborative-filtering-on-movielens-100k"
   ]
  },
  {
   "cell_type": "code",
   "execution_count": 2,
   "metadata": {},
   "outputs": [],
   "source": [
    "import numpy as np\n",
    "import pandas as pd"
   ]
  },
  {
   "cell_type": "code",
   "execution_count": null,
   "metadata": {},
   "outputs": [],
   "source": []
  },
  {
   "cell_type": "code",
   "execution_count": 3,
   "metadata": {},
   "outputs": [],
   "source": [
    "RATINGS_DATA_FILE = './ml-100k/u.data'\n",
    "USERS_DATA_FILE = './ml-100k/u.user'\n",
    "\n",
    "ratings = pd.read_csv(RATINGS_DATA_FILE, sep='\\t', header=None, names=['user_id', 'item_id', 'rating', 'timestamp'])\n",
    "users = pd.read_csv(USERS_DATA_FILE, sep='|', header=None, names=['user id', 'age', 'gender', 'occupation', 'zip code']) #encoding='ISO-8859-1'\n",
    "movies = pd.read_csv('ml-100k/u.item', \n",
    "                    sep='|', \n",
    "                    header=None, \n",
    "                    encoding='ISO-8859-1',\n",
    "                    names=['movie_id', 'movie_title', 'release_date', 'video_release_date', 'IMDb_URL', 'unknown', 'Action', 'Adventure', \n",
    "                    'Animation', 'Children\\'s', 'Comedy', 'Crime', 'Documentary', 'Drama', 'Fantasy', 'Film-Noir', 'Horror', 'Musical', \n",
    "                    'Mystery', 'Romance', 'Sci-Fi', 'Thriller', 'War', 'Western'])\n",
    "del movies['video_release_date']\n",
    "del movies['unknown']\n",
    "del movies['IMDb_URL']"
   ]
  },
  {
   "cell_type": "code",
   "execution_count": 4,
   "metadata": {},
   "outputs": [
    {
     "name": "stdout",
     "output_type": "stream",
     "text": [
      "(100000, 4)\n"
     ]
    },
    {
     "data": {
      "text/html": [
       "<div>\n",
       "<style scoped>\n",
       "    .dataframe tbody tr th:only-of-type {\n",
       "        vertical-align: middle;\n",
       "    }\n",
       "\n",
       "    .dataframe tbody tr th {\n",
       "        vertical-align: top;\n",
       "    }\n",
       "\n",
       "    .dataframe thead th {\n",
       "        text-align: right;\n",
       "    }\n",
       "</style>\n",
       "<table border=\"1\" class=\"dataframe\">\n",
       "  <thead>\n",
       "    <tr style=\"text-align: right;\">\n",
       "      <th></th>\n",
       "      <th>userID</th>\n",
       "      <th>itemID</th>\n",
       "      <th>rating</th>\n",
       "      <th>timestand</th>\n",
       "    </tr>\n",
       "  </thead>\n",
       "  <tbody>\n",
       "    <tr>\n",
       "      <th>0</th>\n",
       "      <td>196</td>\n",
       "      <td>242</td>\n",
       "      <td>3</td>\n",
       "      <td>881250949</td>\n",
       "    </tr>\n",
       "    <tr>\n",
       "      <th>1</th>\n",
       "      <td>186</td>\n",
       "      <td>302</td>\n",
       "      <td>3</td>\n",
       "      <td>891717742</td>\n",
       "    </tr>\n",
       "    <tr>\n",
       "      <th>2</th>\n",
       "      <td>22</td>\n",
       "      <td>377</td>\n",
       "      <td>1</td>\n",
       "      <td>878887116</td>\n",
       "    </tr>\n",
       "    <tr>\n",
       "      <th>3</th>\n",
       "      <td>244</td>\n",
       "      <td>51</td>\n",
       "      <td>2</td>\n",
       "      <td>880606923</td>\n",
       "    </tr>\n",
       "    <tr>\n",
       "      <th>4</th>\n",
       "      <td>166</td>\n",
       "      <td>346</td>\n",
       "      <td>1</td>\n",
       "      <td>886397596</td>\n",
       "    </tr>\n",
       "    <tr>\n",
       "      <th>...</th>\n",
       "      <td>...</td>\n",
       "      <td>...</td>\n",
       "      <td>...</td>\n",
       "      <td>...</td>\n",
       "    </tr>\n",
       "    <tr>\n",
       "      <th>99995</th>\n",
       "      <td>880</td>\n",
       "      <td>476</td>\n",
       "      <td>3</td>\n",
       "      <td>880175444</td>\n",
       "    </tr>\n",
       "    <tr>\n",
       "      <th>99996</th>\n",
       "      <td>716</td>\n",
       "      <td>204</td>\n",
       "      <td>5</td>\n",
       "      <td>879795543</td>\n",
       "    </tr>\n",
       "    <tr>\n",
       "      <th>99997</th>\n",
       "      <td>276</td>\n",
       "      <td>1090</td>\n",
       "      <td>1</td>\n",
       "      <td>874795795</td>\n",
       "    </tr>\n",
       "    <tr>\n",
       "      <th>99998</th>\n",
       "      <td>13</td>\n",
       "      <td>225</td>\n",
       "      <td>2</td>\n",
       "      <td>882399156</td>\n",
       "    </tr>\n",
       "    <tr>\n",
       "      <th>99999</th>\n",
       "      <td>12</td>\n",
       "      <td>203</td>\n",
       "      <td>3</td>\n",
       "      <td>879959583</td>\n",
       "    </tr>\n",
       "  </tbody>\n",
       "</table>\n",
       "<p>100000 rows × 4 columns</p>\n",
       "</div>"
      ],
      "text/plain": [
       "       userID  itemID  rating  timestand\n",
       "0         196     242       3  881250949\n",
       "1         186     302       3  891717742\n",
       "2          22     377       1  878887116\n",
       "3         244      51       2  880606923\n",
       "4         166     346       1  886397596\n",
       "...       ...     ...     ...        ...\n",
       "99995     880     476       3  880175444\n",
       "99996     716     204       5  879795543\n",
       "99997     276    1090       1  874795795\n",
       "99998      13     225       2  882399156\n",
       "99999      12     203       3  879959583\n",
       "\n",
       "[100000 rows x 4 columns]"
      ]
     },
     "metadata": {},
     "output_type": "display_data"
    },
    {
     "name": "stdout",
     "output_type": "stream",
     "text": [
      "(943, 5)\n"
     ]
    },
    {
     "data": {
      "text/html": [
       "<div>\n",
       "<style scoped>\n",
       "    .dataframe tbody tr th:only-of-type {\n",
       "        vertical-align: middle;\n",
       "    }\n",
       "\n",
       "    .dataframe tbody tr th {\n",
       "        vertical-align: top;\n",
       "    }\n",
       "\n",
       "    .dataframe thead th {\n",
       "        text-align: right;\n",
       "    }\n",
       "</style>\n",
       "<table border=\"1\" class=\"dataframe\">\n",
       "  <thead>\n",
       "    <tr style=\"text-align: right;\">\n",
       "      <th></th>\n",
       "      <th>user id</th>\n",
       "      <th>age</th>\n",
       "      <th>gender</th>\n",
       "      <th>occupation</th>\n",
       "      <th>zip code</th>\n",
       "    </tr>\n",
       "  </thead>\n",
       "  <tbody>\n",
       "    <tr>\n",
       "      <th>0</th>\n",
       "      <td>1</td>\n",
       "      <td>24</td>\n",
       "      <td>M</td>\n",
       "      <td>technician</td>\n",
       "      <td>85711</td>\n",
       "    </tr>\n",
       "    <tr>\n",
       "      <th>1</th>\n",
       "      <td>2</td>\n",
       "      <td>53</td>\n",
       "      <td>F</td>\n",
       "      <td>other</td>\n",
       "      <td>94043</td>\n",
       "    </tr>\n",
       "    <tr>\n",
       "      <th>2</th>\n",
       "      <td>3</td>\n",
       "      <td>23</td>\n",
       "      <td>M</td>\n",
       "      <td>writer</td>\n",
       "      <td>32067</td>\n",
       "    </tr>\n",
       "    <tr>\n",
       "      <th>3</th>\n",
       "      <td>4</td>\n",
       "      <td>24</td>\n",
       "      <td>M</td>\n",
       "      <td>technician</td>\n",
       "      <td>43537</td>\n",
       "    </tr>\n",
       "    <tr>\n",
       "      <th>4</th>\n",
       "      <td>5</td>\n",
       "      <td>33</td>\n",
       "      <td>F</td>\n",
       "      <td>other</td>\n",
       "      <td>15213</td>\n",
       "    </tr>\n",
       "    <tr>\n",
       "      <th>5</th>\n",
       "      <td>6</td>\n",
       "      <td>42</td>\n",
       "      <td>M</td>\n",
       "      <td>executive</td>\n",
       "      <td>98101</td>\n",
       "    </tr>\n",
       "    <tr>\n",
       "      <th>6</th>\n",
       "      <td>7</td>\n",
       "      <td>57</td>\n",
       "      <td>M</td>\n",
       "      <td>administrator</td>\n",
       "      <td>91344</td>\n",
       "    </tr>\n",
       "    <tr>\n",
       "      <th>7</th>\n",
       "      <td>8</td>\n",
       "      <td>36</td>\n",
       "      <td>M</td>\n",
       "      <td>administrator</td>\n",
       "      <td>05201</td>\n",
       "    </tr>\n",
       "    <tr>\n",
       "      <th>8</th>\n",
       "      <td>9</td>\n",
       "      <td>29</td>\n",
       "      <td>M</td>\n",
       "      <td>student</td>\n",
       "      <td>01002</td>\n",
       "    </tr>\n",
       "    <tr>\n",
       "      <th>9</th>\n",
       "      <td>10</td>\n",
       "      <td>53</td>\n",
       "      <td>M</td>\n",
       "      <td>lawyer</td>\n",
       "      <td>90703</td>\n",
       "    </tr>\n",
       "  </tbody>\n",
       "</table>\n",
       "</div>"
      ],
      "text/plain": [
       "   user id  age gender     occupation zip code\n",
       "0        1   24      M     technician    85711\n",
       "1        2   53      F          other    94043\n",
       "2        3   23      M         writer    32067\n",
       "3        4   24      M     technician    43537\n",
       "4        5   33      F          other    15213\n",
       "5        6   42      M      executive    98101\n",
       "6        7   57      M  administrator    91344\n",
       "7        8   36      M  administrator    05201\n",
       "8        9   29      M        student    01002\n",
       "9       10   53      M         lawyer    90703"
      ]
     },
     "metadata": {},
     "output_type": "display_data"
    }
   ],
   "source": [
    "ratings_dict = {'userID': list(ratings.user_id),\n",
    "                'itemID': list(ratings.item_id),\n",
    "                'rating': list(ratings.rating),\n",
    "                'timestand' : list(ratings.timestamp)}\n",
    "\n",
    "df = pd.DataFrame(ratings_dict)\n",
    "print(df.shape)\n",
    "display(df)\n",
    "print(users.shape)\n",
    "display(users.head(10))"
   ]
  },
  {
   "attachments": {},
   "cell_type": "markdown",
   "metadata": {},
   "source": [
    "# Exploratory Data Analysis (EDA)\n",
    "\n",
    "As to better understand the data we're working with, EDA will be performed. This will include distribution of the ratings and the user's ratings."
   ]
  },
  {
   "cell_type": "code",
   "execution_count": 5,
   "metadata": {},
   "outputs": [
    {
     "name": "stdout",
     "output_type": "stream",
     "text": [
      "4    34174\n",
      "3    27145\n",
      "5    21201\n",
      "2    11370\n",
      "1     6110\n",
      "Name: rating, dtype: int64\n"
     ]
    },
    {
     "data": {
      "application/vnd.plotly.v1+json": {
       "config": {
        "linkText": "Export to plot.ly",
        "plotlyServerURL": "https://plot.ly",
        "showLink": false
       },
       "data": [
        {
         "text": [
          "34.2 %",
          "27.1 %",
          "21.2 %",
          "11.4 %",
          "6.1 %"
         ],
         "textposition": "auto",
         "type": "bar",
         "x": [
          4,
          3,
          5,
          2,
          1
         ],
         "y": [
          34174,
          27145,
          21201,
          11370,
          6110
         ]
        }
       ],
       "layout": {
        "template": {
         "data": {
          "bar": [
           {
            "error_x": {
             "color": "#2a3f5f"
            },
            "error_y": {
             "color": "#2a3f5f"
            },
            "marker": {
             "line": {
              "color": "#E5ECF6",
              "width": 0.5
             },
             "pattern": {
              "fillmode": "overlay",
              "size": 10,
              "solidity": 0.2
             }
            },
            "type": "bar"
           }
          ],
          "barpolar": [
           {
            "marker": {
             "line": {
              "color": "#E5ECF6",
              "width": 0.5
             },
             "pattern": {
              "fillmode": "overlay",
              "size": 10,
              "solidity": 0.2
             }
            },
            "type": "barpolar"
           }
          ],
          "carpet": [
           {
            "aaxis": {
             "endlinecolor": "#2a3f5f",
             "gridcolor": "white",
             "linecolor": "white",
             "minorgridcolor": "white",
             "startlinecolor": "#2a3f5f"
            },
            "baxis": {
             "endlinecolor": "#2a3f5f",
             "gridcolor": "white",
             "linecolor": "white",
             "minorgridcolor": "white",
             "startlinecolor": "#2a3f5f"
            },
            "type": "carpet"
           }
          ],
          "choropleth": [
           {
            "colorbar": {
             "outlinewidth": 0,
             "ticks": ""
            },
            "type": "choropleth"
           }
          ],
          "contour": [
           {
            "colorbar": {
             "outlinewidth": 0,
             "ticks": ""
            },
            "colorscale": [
             [
              0,
              "#0d0887"
             ],
             [
              0.1111111111111111,
              "#46039f"
             ],
             [
              0.2222222222222222,
              "#7201a8"
             ],
             [
              0.3333333333333333,
              "#9c179e"
             ],
             [
              0.4444444444444444,
              "#bd3786"
             ],
             [
              0.5555555555555556,
              "#d8576b"
             ],
             [
              0.6666666666666666,
              "#ed7953"
             ],
             [
              0.7777777777777778,
              "#fb9f3a"
             ],
             [
              0.8888888888888888,
              "#fdca26"
             ],
             [
              1,
              "#f0f921"
             ]
            ],
            "type": "contour"
           }
          ],
          "contourcarpet": [
           {
            "colorbar": {
             "outlinewidth": 0,
             "ticks": ""
            },
            "type": "contourcarpet"
           }
          ],
          "heatmap": [
           {
            "colorbar": {
             "outlinewidth": 0,
             "ticks": ""
            },
            "colorscale": [
             [
              0,
              "#0d0887"
             ],
             [
              0.1111111111111111,
              "#46039f"
             ],
             [
              0.2222222222222222,
              "#7201a8"
             ],
             [
              0.3333333333333333,
              "#9c179e"
             ],
             [
              0.4444444444444444,
              "#bd3786"
             ],
             [
              0.5555555555555556,
              "#d8576b"
             ],
             [
              0.6666666666666666,
              "#ed7953"
             ],
             [
              0.7777777777777778,
              "#fb9f3a"
             ],
             [
              0.8888888888888888,
              "#fdca26"
             ],
             [
              1,
              "#f0f921"
             ]
            ],
            "type": "heatmap"
           }
          ],
          "heatmapgl": [
           {
            "colorbar": {
             "outlinewidth": 0,
             "ticks": ""
            },
            "colorscale": [
             [
              0,
              "#0d0887"
             ],
             [
              0.1111111111111111,
              "#46039f"
             ],
             [
              0.2222222222222222,
              "#7201a8"
             ],
             [
              0.3333333333333333,
              "#9c179e"
             ],
             [
              0.4444444444444444,
              "#bd3786"
             ],
             [
              0.5555555555555556,
              "#d8576b"
             ],
             [
              0.6666666666666666,
              "#ed7953"
             ],
             [
              0.7777777777777778,
              "#fb9f3a"
             ],
             [
              0.8888888888888888,
              "#fdca26"
             ],
             [
              1,
              "#f0f921"
             ]
            ],
            "type": "heatmapgl"
           }
          ],
          "histogram": [
           {
            "marker": {
             "pattern": {
              "fillmode": "overlay",
              "size": 10,
              "solidity": 0.2
             }
            },
            "type": "histogram"
           }
          ],
          "histogram2d": [
           {
            "colorbar": {
             "outlinewidth": 0,
             "ticks": ""
            },
            "colorscale": [
             [
              0,
              "#0d0887"
             ],
             [
              0.1111111111111111,
              "#46039f"
             ],
             [
              0.2222222222222222,
              "#7201a8"
             ],
             [
              0.3333333333333333,
              "#9c179e"
             ],
             [
              0.4444444444444444,
              "#bd3786"
             ],
             [
              0.5555555555555556,
              "#d8576b"
             ],
             [
              0.6666666666666666,
              "#ed7953"
             ],
             [
              0.7777777777777778,
              "#fb9f3a"
             ],
             [
              0.8888888888888888,
              "#fdca26"
             ],
             [
              1,
              "#f0f921"
             ]
            ],
            "type": "histogram2d"
           }
          ],
          "histogram2dcontour": [
           {
            "colorbar": {
             "outlinewidth": 0,
             "ticks": ""
            },
            "colorscale": [
             [
              0,
              "#0d0887"
             ],
             [
              0.1111111111111111,
              "#46039f"
             ],
             [
              0.2222222222222222,
              "#7201a8"
             ],
             [
              0.3333333333333333,
              "#9c179e"
             ],
             [
              0.4444444444444444,
              "#bd3786"
             ],
             [
              0.5555555555555556,
              "#d8576b"
             ],
             [
              0.6666666666666666,
              "#ed7953"
             ],
             [
              0.7777777777777778,
              "#fb9f3a"
             ],
             [
              0.8888888888888888,
              "#fdca26"
             ],
             [
              1,
              "#f0f921"
             ]
            ],
            "type": "histogram2dcontour"
           }
          ],
          "mesh3d": [
           {
            "colorbar": {
             "outlinewidth": 0,
             "ticks": ""
            },
            "type": "mesh3d"
           }
          ],
          "parcoords": [
           {
            "line": {
             "colorbar": {
              "outlinewidth": 0,
              "ticks": ""
             }
            },
            "type": "parcoords"
           }
          ],
          "pie": [
           {
            "automargin": true,
            "type": "pie"
           }
          ],
          "scatter": [
           {
            "fillpattern": {
             "fillmode": "overlay",
             "size": 10,
             "solidity": 0.2
            },
            "type": "scatter"
           }
          ],
          "scatter3d": [
           {
            "line": {
             "colorbar": {
              "outlinewidth": 0,
              "ticks": ""
             }
            },
            "marker": {
             "colorbar": {
              "outlinewidth": 0,
              "ticks": ""
             }
            },
            "type": "scatter3d"
           }
          ],
          "scattercarpet": [
           {
            "marker": {
             "colorbar": {
              "outlinewidth": 0,
              "ticks": ""
             }
            },
            "type": "scattercarpet"
           }
          ],
          "scattergeo": [
           {
            "marker": {
             "colorbar": {
              "outlinewidth": 0,
              "ticks": ""
             }
            },
            "type": "scattergeo"
           }
          ],
          "scattergl": [
           {
            "marker": {
             "colorbar": {
              "outlinewidth": 0,
              "ticks": ""
             }
            },
            "type": "scattergl"
           }
          ],
          "scattermapbox": [
           {
            "marker": {
             "colorbar": {
              "outlinewidth": 0,
              "ticks": ""
             }
            },
            "type": "scattermapbox"
           }
          ],
          "scatterpolar": [
           {
            "marker": {
             "colorbar": {
              "outlinewidth": 0,
              "ticks": ""
             }
            },
            "type": "scatterpolar"
           }
          ],
          "scatterpolargl": [
           {
            "marker": {
             "colorbar": {
              "outlinewidth": 0,
              "ticks": ""
             }
            },
            "type": "scatterpolargl"
           }
          ],
          "scatterternary": [
           {
            "marker": {
             "colorbar": {
              "outlinewidth": 0,
              "ticks": ""
             }
            },
            "type": "scatterternary"
           }
          ],
          "surface": [
           {
            "colorbar": {
             "outlinewidth": 0,
             "ticks": ""
            },
            "colorscale": [
             [
              0,
              "#0d0887"
             ],
             [
              0.1111111111111111,
              "#46039f"
             ],
             [
              0.2222222222222222,
              "#7201a8"
             ],
             [
              0.3333333333333333,
              "#9c179e"
             ],
             [
              0.4444444444444444,
              "#bd3786"
             ],
             [
              0.5555555555555556,
              "#d8576b"
             ],
             [
              0.6666666666666666,
              "#ed7953"
             ],
             [
              0.7777777777777778,
              "#fb9f3a"
             ],
             [
              0.8888888888888888,
              "#fdca26"
             ],
             [
              1,
              "#f0f921"
             ]
            ],
            "type": "surface"
           }
          ],
          "table": [
           {
            "cells": {
             "fill": {
              "color": "#EBF0F8"
             },
             "line": {
              "color": "white"
             }
            },
            "header": {
             "fill": {
              "color": "#C8D4E3"
             },
             "line": {
              "color": "white"
             }
            },
            "type": "table"
           }
          ]
         },
         "layout": {
          "annotationdefaults": {
           "arrowcolor": "#2a3f5f",
           "arrowhead": 0,
           "arrowwidth": 1
          },
          "autotypenumbers": "strict",
          "coloraxis": {
           "colorbar": {
            "outlinewidth": 0,
            "ticks": ""
           }
          },
          "colorscale": {
           "diverging": [
            [
             0,
             "#8e0152"
            ],
            [
             0.1,
             "#c51b7d"
            ],
            [
             0.2,
             "#de77ae"
            ],
            [
             0.3,
             "#f1b6da"
            ],
            [
             0.4,
             "#fde0ef"
            ],
            [
             0.5,
             "#f7f7f7"
            ],
            [
             0.6,
             "#e6f5d0"
            ],
            [
             0.7,
             "#b8e186"
            ],
            [
             0.8,
             "#7fbc41"
            ],
            [
             0.9,
             "#4d9221"
            ],
            [
             1,
             "#276419"
            ]
           ],
           "sequential": [
            [
             0,
             "#0d0887"
            ],
            [
             0.1111111111111111,
             "#46039f"
            ],
            [
             0.2222222222222222,
             "#7201a8"
            ],
            [
             0.3333333333333333,
             "#9c179e"
            ],
            [
             0.4444444444444444,
             "#bd3786"
            ],
            [
             0.5555555555555556,
             "#d8576b"
            ],
            [
             0.6666666666666666,
             "#ed7953"
            ],
            [
             0.7777777777777778,
             "#fb9f3a"
            ],
            [
             0.8888888888888888,
             "#fdca26"
            ],
            [
             1,
             "#f0f921"
            ]
           ],
           "sequentialminus": [
            [
             0,
             "#0d0887"
            ],
            [
             0.1111111111111111,
             "#46039f"
            ],
            [
             0.2222222222222222,
             "#7201a8"
            ],
            [
             0.3333333333333333,
             "#9c179e"
            ],
            [
             0.4444444444444444,
             "#bd3786"
            ],
            [
             0.5555555555555556,
             "#d8576b"
            ],
            [
             0.6666666666666666,
             "#ed7953"
            ],
            [
             0.7777777777777778,
             "#fb9f3a"
            ],
            [
             0.8888888888888888,
             "#fdca26"
            ],
            [
             1,
             "#f0f921"
            ]
           ]
          },
          "colorway": [
           "#636efa",
           "#EF553B",
           "#00cc96",
           "#ab63fa",
           "#FFA15A",
           "#19d3f3",
           "#FF6692",
           "#B6E880",
           "#FF97FF",
           "#FECB52"
          ],
          "font": {
           "color": "#2a3f5f"
          },
          "geo": {
           "bgcolor": "white",
           "lakecolor": "white",
           "landcolor": "#E5ECF6",
           "showlakes": true,
           "showland": true,
           "subunitcolor": "white"
          },
          "hoverlabel": {
           "align": "left"
          },
          "hovermode": "closest",
          "mapbox": {
           "style": "light"
          },
          "paper_bgcolor": "white",
          "plot_bgcolor": "#E5ECF6",
          "polar": {
           "angularaxis": {
            "gridcolor": "white",
            "linecolor": "white",
            "ticks": ""
           },
           "bgcolor": "#E5ECF6",
           "radialaxis": {
            "gridcolor": "white",
            "linecolor": "white",
            "ticks": ""
           }
          },
          "scene": {
           "xaxis": {
            "backgroundcolor": "#E5ECF6",
            "gridcolor": "white",
            "gridwidth": 2,
            "linecolor": "white",
            "showbackground": true,
            "ticks": "",
            "zerolinecolor": "white"
           },
           "yaxis": {
            "backgroundcolor": "#E5ECF6",
            "gridcolor": "white",
            "gridwidth": 2,
            "linecolor": "white",
            "showbackground": true,
            "ticks": "",
            "zerolinecolor": "white"
           },
           "zaxis": {
            "backgroundcolor": "#E5ECF6",
            "gridcolor": "white",
            "gridwidth": 2,
            "linecolor": "white",
            "showbackground": true,
            "ticks": "",
            "zerolinecolor": "white"
           }
          },
          "shapedefaults": {
           "line": {
            "color": "#2a3f5f"
           }
          },
          "ternary": {
           "aaxis": {
            "gridcolor": "white",
            "linecolor": "white",
            "ticks": ""
           },
           "baxis": {
            "gridcolor": "white",
            "linecolor": "white",
            "ticks": ""
           },
           "bgcolor": "#E5ECF6",
           "caxis": {
            "gridcolor": "white",
            "linecolor": "white",
            "ticks": ""
           }
          },
          "title": {
           "x": 0.05
          },
          "xaxis": {
           "automargin": true,
           "gridcolor": "white",
           "linecolor": "white",
           "ticks": "",
           "title": {
            "standoff": 15
           },
           "zerolinecolor": "white",
           "zerolinewidth": 2
          },
          "yaxis": {
           "automargin": true,
           "gridcolor": "white",
           "linecolor": "white",
           "ticks": "",
           "title": {
            "standoff": 15
           },
           "zerolinecolor": "white",
           "zerolinewidth": 2
          }
         }
        },
        "title": {
         "text": "Distribution Of 100000 ratings"
        },
        "xaxis": {
         "title": {
          "text": "Rating"
         }
        },
        "yaxis": {
         "title": {
          "text": "Count"
         }
        }
       }
      }
     },
     "metadata": {},
     "output_type": "display_data"
    }
   ],
   "source": [
    "from plotly.offline import iplot\n",
    "import plotly.graph_objs as go\n",
    "\n",
    "data = df['rating'].value_counts()#.sort_index(ascending=False)\n",
    "print(data)\n",
    "\n",
    "trace = go.Bar(x = data.index,\n",
    "               text = ['{:.1f} %'.format(val) for val in (data.values / df.shape[0] * 100)],\n",
    "               textposition = 'auto',\n",
    "               y = data.values,\n",
    "               )\n",
    "\n",
    "\n",
    "# Create layout\n",
    "layout = dict(title = 'Distribution Of {} ratings'.format(df.shape[0]),\n",
    "              xaxis = dict(title = 'Rating'),\n",
    "              yaxis = dict(title = 'Count'))\n",
    "# Create plot\n",
    "fig = go.Figure(data=[trace], layout=layout)\n",
    "iplot(fig)"
   ]
  },
  {
   "cell_type": "code",
   "execution_count": 6,
   "metadata": {},
   "outputs": [
    {
     "data": {
      "text/plain": [
       "itemID\n",
       "50      583\n",
       "258     509\n",
       "100     508\n",
       "181     507\n",
       "294     485\n",
       "       ... \n",
       "1576      1\n",
       "1577      1\n",
       "1348      1\n",
       "1579      1\n",
       "1682      1\n",
       "Name: rating, Length: 1682, dtype: int64"
      ]
     },
     "metadata": {},
     "output_type": "display_data"
    },
    {
     "data": {
      "application/vnd.plotly.v1+json": {
       "config": {
        "linkText": "Export to plot.ly",
        "plotlyServerURL": "https://plot.ly",
        "showLink": false
       },
       "data": [
        {
         "name": "Ratings",
         "type": "histogram",
         "x": [
          583,
          509,
          508,
          507,
          485,
          481,
          478,
          452,
          431,
          429,
          420,
          413,
          394,
          392,
          390,
          384,
          378,
          367,
          365,
          350,
          350,
          344,
          336,
          331,
          326,
          324,
          321,
          316,
          316,
          315,
          303,
          301,
          300,
          299,
          298,
          298,
          297,
          297,
          295,
          295,
          293,
          293,
          293,
          291,
          290,
          284,
          283,
          280,
          280,
          276,
          276,
          275,
          272,
          268,
          267,
          267,
          264,
          261,
          259,
          259,
          256,
          256,
          255,
          254,
          251,
          251,
          251,
          251,
          250,
          247,
          246,
          244,
          244,
          243,
          243,
          241,
          240,
          240,
          239,
          239,
          236,
          232,
          231,
          230,
          230,
          227,
          227,
          226,
          223,
          222,
          221,
          221,
          221,
          220,
          220,
          219,
          219,
          219,
          219,
          218,
          217,
          216,
          215,
          213,
          212,
          211,
          209,
          209,
          209,
          208,
          208,
          206,
          206,
          206,
          202,
          201,
          201,
          200,
          199,
          198,
          198,
          197,
          195,
          194,
          194,
          193,
          192,
          191,
          190,
          189,
          188,
          187,
          185,
          184,
          183,
          182,
          182,
          180,
          180,
          180,
          179,
          179,
          179,
          178,
          178,
          177,
          176,
          176,
          175,
          175,
          175,
          174,
          174,
          174,
          173,
          172,
          172,
          171,
          171,
          171,
          171,
          171,
          171,
          170,
          170,
          170,
          170,
          169,
          169,
          169,
          168,
          168,
          166,
          165,
          164,
          164,
          164,
          163,
          162,
          162,
          162,
          162,
          162,
          161,
          160,
          160,
          160,
          158,
          158,
          157,
          157,
          157,
          156,
          155,
          154,
          153,
          153,
          152,
          151,
          151,
          151,
          150,
          150,
          149,
          149,
          149,
          148,
          148,
          148,
          148,
          147,
          147,
          146,
          145,
          145,
          143,
          143,
          143,
          142,
          138,
          138,
          137,
          137,
          137,
          137,
          137,
          137,
          137,
          136,
          136,
          136,
          136,
          134,
          134,
          134,
          134,
          133,
          132,
          131,
          131,
          130,
          130,
          129,
          129,
          129,
          129,
          128,
          128,
          128,
          128,
          128,
          128,
          128,
          127,
          127,
          127,
          127,
          127,
          127,
          126,
          126,
          125,
          125,
          125,
          125,
          124,
          124,
          124,
          124,
          124,
          124,
          124,
          123,
          122,
          121,
          121,
          121,
          121,
          121,
          121,
          120,
          120,
          120,
          119,
          119,
          119,
          118,
          117,
          117,
          117,
          116,
          116,
          116,
          116,
          115,
          115,
          115,
          115,
          114,
          114,
          114,
          113,
          112,
          112,
          112,
          112,
          111,
          111,
          110,
          109,
          108,
          107,
          106,
          106,
          106,
          106,
          105,
          104,
          104,
          104,
          104,
          104,
          103,
          102,
          102,
          102,
          102,
          101,
          101,
          101,
          101,
          101,
          101,
          101,
          100,
          100,
          100,
          100,
          99,
          98,
          98,
          98,
          97,
          97,
          97,
          97,
          96,
          96,
          96,
          96,
          95,
          95,
          95,
          93,
          93,
          93,
          93,
          93,
          93,
          92,
          92,
          92,
          92,
          92,
          92,
          91,
          91,
          91,
          91,
          91,
          91,
          90,
          90,
          90,
          90,
          90,
          89,
          89,
          89,
          89,
          89,
          88,
          87,
          87,
          87,
          87,
          87,
          86,
          86,
          86,
          86,
          86,
          86,
          85,
          85,
          85,
          85,
          85,
          84,
          84,
          83,
          83,
          82,
          82,
          82,
          82,
          82,
          82,
          82,
          81,
          81,
          81,
          81,
          81,
          81,
          81,
          80,
          80,
          80,
          80,
          80,
          80,
          79,
          79,
          79,
          79,
          79,
          78,
          78,
          77,
          77,
          77,
          77,
          76,
          76,
          76,
          75,
          75,
          75,
          75,
          74,
          74,
          74,
          74,
          73,
          73,
          73,
          73,
          73,
          73,
          72,
          72,
          72,
          72,
          72,
          72,
          71,
          71,
          71,
          71,
          71,
          70,
          70,
          70,
          70,
          69,
          69,
          69,
          69,
          69,
          69,
          68,
          68,
          68,
          68,
          68,
          68,
          68,
          67,
          67,
          67,
          67,
          67,
          67,
          67,
          67,
          67,
          66,
          66,
          66,
          66,
          66,
          66,
          66,
          66,
          66,
          66,
          66,
          66,
          65,
          65,
          65,
          65,
          65,
          65,
          65,
          65,
          64,
          64,
          64,
          64,
          64,
          64,
          64,
          64,
          64,
          64,
          64,
          64,
          63,
          63,
          63,
          63,
          63,
          63,
          62,
          62,
          62,
          62,
          61,
          61,
          60,
          60,
          60,
          60,
          60,
          59,
          59,
          59,
          59,
          59,
          59,
          59,
          59,
          59,
          59,
          58,
          58,
          58,
          58,
          58,
          58,
          58,
          58,
          57,
          57,
          57,
          57,
          57,
          57,
          57,
          57,
          57,
          56,
          56,
          56,
          55,
          55,
          55,
          55,
          54,
          54,
          54,
          54,
          54,
          54,
          53,
          53,
          53,
          53,
          53,
          53,
          53,
          53,
          52,
          52,
          52,
          52,
          52,
          51,
          51,
          51,
          51,
          50,
          50,
          50,
          50,
          50,
          50,
          50,
          50,
          50,
          50,
          49,
          49,
          49,
          49,
          49,
          49,
          49,
          49,
          48,
          48,
          48,
          48,
          48,
          48,
          48,
          48,
          48,
          47,
          47,
          47,
          47,
          47,
          47,
          47,
          46,
          46,
          46,
          46,
          46,
          46,
          46,
          46,
          46,
          46,
          46,
          46,
          45,
          45,
          45,
          45,
          45,
          45,
          45,
          45,
          45,
          45,
          44,
          44,
          44,
          44,
          44,
          44,
          44,
          44,
          44,
          44,
          44,
          44,
          44,
          44,
          44,
          44,
          44,
          43,
          43,
          43,
          43,
          43,
          43,
          43,
          43,
          43,
          43,
          43,
          43,
          42,
          42,
          42,
          42,
          42,
          42,
          42,
          41,
          41,
          41,
          41,
          41,
          41,
          41,
          41,
          41,
          41,
          41,
          40,
          40,
          40,
          40,
          40,
          40,
          40,
          40,
          40,
          40,
          40,
          40,
          39,
          39,
          39,
          39,
          39,
          39,
          39,
          39,
          39,
          39,
          39,
          39,
          39,
          39,
          39,
          39,
          38,
          38,
          38,
          38,
          38,
          38,
          38,
          37,
          37,
          37,
          37,
          37,
          37,
          37,
          37,
          36,
          36,
          36,
          36,
          35,
          35,
          35,
          35,
          35,
          35,
          35,
          34,
          34,
          34,
          34,
          34,
          34,
          34,
          34,
          34,
          34,
          34,
          34,
          33,
          33,
          33,
          33,
          33,
          33,
          33,
          32,
          32,
          32,
          32,
          32,
          32,
          32,
          32,
          32,
          32,
          32,
          32,
          32,
          32,
          31,
          31,
          31,
          31,
          31,
          31,
          31,
          31,
          31,
          31,
          31,
          31,
          31,
          31,
          31,
          30,
          30,
          30,
          30,
          30,
          30,
          30,
          30,
          29,
          29,
          29,
          29,
          29,
          29,
          29,
          29,
          29,
          28,
          28,
          28,
          28,
          28,
          28,
          28,
          28,
          28,
          28,
          28,
          28,
          27,
          27,
          27,
          27,
          27,
          27,
          27,
          27,
          27,
          27,
          27,
          27,
          27,
          27,
          27,
          27,
          27,
          26,
          26,
          26,
          26,
          26,
          26,
          26,
          26,
          26,
          26,
          26,
          26,
          26,
          26,
          25,
          25,
          25,
          25,
          25,
          25,
          25,
          25,
          25,
          25,
          25,
          25,
          25,
          25,
          24,
          24,
          24,
          24,
          24,
          24,
          24,
          24,
          24,
          24,
          24,
          24,
          23,
          23,
          23,
          23,
          23,
          23,
          23,
          23,
          23,
          23,
          23,
          23,
          22,
          22,
          22,
          22,
          22,
          22,
          22,
          22,
          22,
          22,
          22,
          22,
          22,
          22,
          22,
          22,
          22,
          21,
          21,
          21,
          21,
          21,
          21,
          21,
          21,
          21,
          21,
          21,
          21,
          21,
          21,
          20,
          20,
          20,
          20,
          20,
          20,
          20,
          20,
          20,
          20,
          20,
          20,
          19,
          19,
          19,
          19,
          19,
          19,
          19,
          19,
          19,
          19,
          19,
          19,
          19,
          19,
          19,
          19,
          19,
          19,
          18,
          18,
          18,
          18,
          18,
          18,
          18,
          18,
          18,
          18,
          18,
          18,
          18,
          18,
          18,
          18,
          18,
          18,
          18,
          18,
          18,
          18,
          18,
          18,
          17,
          17,
          17,
          17,
          17,
          17,
          17,
          17,
          17,
          17,
          16,
          16,
          16,
          16,
          16,
          16,
          16,
          16,
          16,
          16,
          16,
          16,
          16,
          16,
          16,
          16,
          16,
          16,
          16,
          15,
          15,
          15,
          15,
          15,
          15,
          15,
          15,
          15,
          15,
          15,
          15,
          15,
          15,
          15,
          15,
          15,
          15,
          15,
          15,
          15,
          15,
          14,
          14,
          14,
          14,
          14,
          14,
          14,
          14,
          14,
          14,
          14,
          14,
          14,
          14,
          13,
          13,
          13,
          13,
          13,
          13,
          13,
          13,
          13,
          13,
          13,
          13,
          13,
          13,
          13,
          13,
          13,
          13,
          13,
          13,
          13,
          13,
          13,
          13,
          13,
          12,
          12,
          12,
          12,
          12,
          12,
          12,
          12,
          12,
          12,
          12,
          12,
          12,
          12,
          12,
          12,
          12,
          12,
          12,
          12,
          12,
          12,
          12,
          12,
          12,
          12,
          12,
          12,
          11,
          11,
          11,
          11,
          11,
          11,
          11,
          11,
          11,
          11,
          11,
          11,
          11,
          11,
          11,
          11,
          11,
          11,
          11,
          11,
          10,
          10,
          10,
          10,
          10,
          10,
          10,
          10,
          10,
          10,
          10,
          10,
          10,
          10,
          10,
          10,
          10,
          10,
          10,
          10,
          10,
          10,
          10,
          10,
          10,
          10,
          10,
          10,
          10,
          10,
          10,
          10,
          10,
          9,
          9,
          9,
          9,
          9,
          9,
          9,
          9,
          9,
          9,
          9,
          9,
          9,
          9,
          9,
          9,
          9,
          9,
          9,
          9,
          9,
          9,
          9,
          9,
          9,
          9,
          9,
          9,
          9,
          9,
          9,
          9,
          9,
          8,
          8,
          8,
          8,
          8,
          8,
          8,
          8,
          8,
          8,
          8,
          8,
          8,
          8,
          8,
          8,
          8,
          8,
          8,
          8,
          8,
          8,
          8,
          8,
          8,
          8,
          8,
          8,
          8,
          8,
          7,
          7,
          7,
          7,
          7,
          7,
          7,
          7,
          7,
          7,
          7,
          7,
          7,
          7,
          7,
          7,
          7,
          7,
          7,
          7,
          7,
          7,
          7,
          7,
          7,
          7,
          7,
          7,
          7,
          7,
          7,
          7,
          7,
          7,
          7,
          7,
          7,
          7,
          7,
          7,
          7,
          7,
          7,
          7,
          6,
          6,
          6,
          6,
          6,
          6,
          6,
          6,
          6,
          6,
          6,
          6,
          6,
          6,
          6,
          6,
          6,
          6,
          6,
          6,
          6,
          6,
          6,
          6,
          6,
          6,
          6,
          6,
          6,
          6,
          6,
          6,
          6,
          6,
          6,
          6,
          6,
          6,
          6,
          5,
          5,
          5,
          5,
          5,
          5,
          5,
          5,
          5,
          5,
          5,
          5,
          5,
          5,
          5,
          5,
          5,
          5,
          5,
          5,
          5,
          5,
          5,
          5,
          5,
          5,
          5,
          5,
          5,
          5,
          5,
          5,
          5,
          5,
          5,
          5,
          5,
          5,
          5,
          5,
          5,
          5,
          5,
          5,
          5,
          5,
          5,
          5,
          5,
          5,
          5,
          4,
          4,
          4,
          4,
          4,
          4,
          4,
          4,
          4,
          4,
          4,
          4,
          4,
          4,
          4,
          4,
          4,
          4,
          4,
          4,
          4,
          4,
          4,
          4,
          4,
          4,
          4,
          4,
          4,
          4,
          4,
          4,
          4,
          4,
          4,
          4,
          4,
          4,
          4,
          4,
          4,
          4,
          4,
          4,
          4,
          4,
          4,
          4,
          4,
          4,
          4,
          4,
          4,
          4,
          4,
          4,
          4,
          4,
          4,
          4,
          4,
          4,
          4,
          4,
          3,
          3,
          3,
          3,
          3,
          3,
          3,
          3,
          3,
          3,
          3,
          3,
          3,
          3,
          3,
          3,
          3,
          3,
          3,
          3,
          3,
          3,
          3,
          3,
          3,
          3,
          3,
          3,
          3,
          3,
          3,
          3,
          3,
          3,
          3,
          3,
          3,
          3,
          3,
          3,
          3,
          3,
          3,
          3,
          3,
          3,
          3,
          3,
          3,
          3,
          3,
          3,
          3,
          3,
          3,
          3,
          3,
          3,
          3,
          3,
          2,
          2,
          2,
          2,
          2,
          2,
          2,
          2,
          2,
          2,
          2,
          2,
          2,
          2,
          2,
          2,
          2,
          2,
          2,
          2,
          2,
          2,
          2,
          2,
          2,
          2,
          2,
          2,
          2,
          2,
          2,
          2,
          2,
          2,
          2,
          2,
          2,
          2,
          2,
          2,
          2,
          2,
          2,
          2,
          2,
          2,
          2,
          2,
          2,
          2,
          2,
          2,
          2,
          2,
          2,
          2,
          2,
          2,
          2,
          2,
          2,
          2,
          2,
          2,
          2,
          2,
          2,
          2,
          1,
          1,
          1,
          1,
          1,
          1,
          1,
          1,
          1,
          1,
          1,
          1,
          1,
          1,
          1,
          1,
          1,
          1,
          1,
          1,
          1,
          1,
          1,
          1,
          1,
          1,
          1,
          1,
          1,
          1,
          1,
          1,
          1,
          1,
          1,
          1,
          1,
          1,
          1,
          1,
          1,
          1,
          1,
          1,
          1,
          1,
          1,
          1,
          1,
          1,
          1,
          1,
          1,
          1,
          1,
          1,
          1,
          1,
          1,
          1,
          1,
          1,
          1,
          1,
          1,
          1,
          1,
          1,
          1,
          1,
          1,
          1,
          1,
          1,
          1,
          1,
          1,
          1,
          1,
          1,
          1,
          1,
          1,
          1,
          1,
          1,
          1,
          1,
          1,
          1,
          1,
          1,
          1,
          1,
          1,
          1,
          1,
          1,
          1,
          1,
          1,
          1,
          1,
          1,
          1,
          1,
          1,
          1,
          1,
          1,
          1,
          1,
          1,
          1,
          1,
          1,
          1,
          1,
          1,
          1,
          1,
          1,
          1,
          1,
          1,
          1,
          1,
          1,
          1,
          1,
          1,
          1,
          1,
          1,
          1,
          1,
          1,
          1,
          1,
          1,
          1
         ],
         "xbins": {
          "end": 600,
          "size": 20,
          "start": 0
         }
        }
       ],
       "layout": {
        "bargap": 0,
        "template": {
         "data": {
          "bar": [
           {
            "error_x": {
             "color": "#2a3f5f"
            },
            "error_y": {
             "color": "#2a3f5f"
            },
            "marker": {
             "line": {
              "color": "#E5ECF6",
              "width": 0.5
             },
             "pattern": {
              "fillmode": "overlay",
              "size": 10,
              "solidity": 0.2
             }
            },
            "type": "bar"
           }
          ],
          "barpolar": [
           {
            "marker": {
             "line": {
              "color": "#E5ECF6",
              "width": 0.5
             },
             "pattern": {
              "fillmode": "overlay",
              "size": 10,
              "solidity": 0.2
             }
            },
            "type": "barpolar"
           }
          ],
          "carpet": [
           {
            "aaxis": {
             "endlinecolor": "#2a3f5f",
             "gridcolor": "white",
             "linecolor": "white",
             "minorgridcolor": "white",
             "startlinecolor": "#2a3f5f"
            },
            "baxis": {
             "endlinecolor": "#2a3f5f",
             "gridcolor": "white",
             "linecolor": "white",
             "minorgridcolor": "white",
             "startlinecolor": "#2a3f5f"
            },
            "type": "carpet"
           }
          ],
          "choropleth": [
           {
            "colorbar": {
             "outlinewidth": 0,
             "ticks": ""
            },
            "type": "choropleth"
           }
          ],
          "contour": [
           {
            "colorbar": {
             "outlinewidth": 0,
             "ticks": ""
            },
            "colorscale": [
             [
              0,
              "#0d0887"
             ],
             [
              0.1111111111111111,
              "#46039f"
             ],
             [
              0.2222222222222222,
              "#7201a8"
             ],
             [
              0.3333333333333333,
              "#9c179e"
             ],
             [
              0.4444444444444444,
              "#bd3786"
             ],
             [
              0.5555555555555556,
              "#d8576b"
             ],
             [
              0.6666666666666666,
              "#ed7953"
             ],
             [
              0.7777777777777778,
              "#fb9f3a"
             ],
             [
              0.8888888888888888,
              "#fdca26"
             ],
             [
              1,
              "#f0f921"
             ]
            ],
            "type": "contour"
           }
          ],
          "contourcarpet": [
           {
            "colorbar": {
             "outlinewidth": 0,
             "ticks": ""
            },
            "type": "contourcarpet"
           }
          ],
          "heatmap": [
           {
            "colorbar": {
             "outlinewidth": 0,
             "ticks": ""
            },
            "colorscale": [
             [
              0,
              "#0d0887"
             ],
             [
              0.1111111111111111,
              "#46039f"
             ],
             [
              0.2222222222222222,
              "#7201a8"
             ],
             [
              0.3333333333333333,
              "#9c179e"
             ],
             [
              0.4444444444444444,
              "#bd3786"
             ],
             [
              0.5555555555555556,
              "#d8576b"
             ],
             [
              0.6666666666666666,
              "#ed7953"
             ],
             [
              0.7777777777777778,
              "#fb9f3a"
             ],
             [
              0.8888888888888888,
              "#fdca26"
             ],
             [
              1,
              "#f0f921"
             ]
            ],
            "type": "heatmap"
           }
          ],
          "heatmapgl": [
           {
            "colorbar": {
             "outlinewidth": 0,
             "ticks": ""
            },
            "colorscale": [
             [
              0,
              "#0d0887"
             ],
             [
              0.1111111111111111,
              "#46039f"
             ],
             [
              0.2222222222222222,
              "#7201a8"
             ],
             [
              0.3333333333333333,
              "#9c179e"
             ],
             [
              0.4444444444444444,
              "#bd3786"
             ],
             [
              0.5555555555555556,
              "#d8576b"
             ],
             [
              0.6666666666666666,
              "#ed7953"
             ],
             [
              0.7777777777777778,
              "#fb9f3a"
             ],
             [
              0.8888888888888888,
              "#fdca26"
             ],
             [
              1,
              "#f0f921"
             ]
            ],
            "type": "heatmapgl"
           }
          ],
          "histogram": [
           {
            "marker": {
             "pattern": {
              "fillmode": "overlay",
              "size": 10,
              "solidity": 0.2
             }
            },
            "type": "histogram"
           }
          ],
          "histogram2d": [
           {
            "colorbar": {
             "outlinewidth": 0,
             "ticks": ""
            },
            "colorscale": [
             [
              0,
              "#0d0887"
             ],
             [
              0.1111111111111111,
              "#46039f"
             ],
             [
              0.2222222222222222,
              "#7201a8"
             ],
             [
              0.3333333333333333,
              "#9c179e"
             ],
             [
              0.4444444444444444,
              "#bd3786"
             ],
             [
              0.5555555555555556,
              "#d8576b"
             ],
             [
              0.6666666666666666,
              "#ed7953"
             ],
             [
              0.7777777777777778,
              "#fb9f3a"
             ],
             [
              0.8888888888888888,
              "#fdca26"
             ],
             [
              1,
              "#f0f921"
             ]
            ],
            "type": "histogram2d"
           }
          ],
          "histogram2dcontour": [
           {
            "colorbar": {
             "outlinewidth": 0,
             "ticks": ""
            },
            "colorscale": [
             [
              0,
              "#0d0887"
             ],
             [
              0.1111111111111111,
              "#46039f"
             ],
             [
              0.2222222222222222,
              "#7201a8"
             ],
             [
              0.3333333333333333,
              "#9c179e"
             ],
             [
              0.4444444444444444,
              "#bd3786"
             ],
             [
              0.5555555555555556,
              "#d8576b"
             ],
             [
              0.6666666666666666,
              "#ed7953"
             ],
             [
              0.7777777777777778,
              "#fb9f3a"
             ],
             [
              0.8888888888888888,
              "#fdca26"
             ],
             [
              1,
              "#f0f921"
             ]
            ],
            "type": "histogram2dcontour"
           }
          ],
          "mesh3d": [
           {
            "colorbar": {
             "outlinewidth": 0,
             "ticks": ""
            },
            "type": "mesh3d"
           }
          ],
          "parcoords": [
           {
            "line": {
             "colorbar": {
              "outlinewidth": 0,
              "ticks": ""
             }
            },
            "type": "parcoords"
           }
          ],
          "pie": [
           {
            "automargin": true,
            "type": "pie"
           }
          ],
          "scatter": [
           {
            "fillpattern": {
             "fillmode": "overlay",
             "size": 10,
             "solidity": 0.2
            },
            "type": "scatter"
           }
          ],
          "scatter3d": [
           {
            "line": {
             "colorbar": {
              "outlinewidth": 0,
              "ticks": ""
             }
            },
            "marker": {
             "colorbar": {
              "outlinewidth": 0,
              "ticks": ""
             }
            },
            "type": "scatter3d"
           }
          ],
          "scattercarpet": [
           {
            "marker": {
             "colorbar": {
              "outlinewidth": 0,
              "ticks": ""
             }
            },
            "type": "scattercarpet"
           }
          ],
          "scattergeo": [
           {
            "marker": {
             "colorbar": {
              "outlinewidth": 0,
              "ticks": ""
             }
            },
            "type": "scattergeo"
           }
          ],
          "scattergl": [
           {
            "marker": {
             "colorbar": {
              "outlinewidth": 0,
              "ticks": ""
             }
            },
            "type": "scattergl"
           }
          ],
          "scattermapbox": [
           {
            "marker": {
             "colorbar": {
              "outlinewidth": 0,
              "ticks": ""
             }
            },
            "type": "scattermapbox"
           }
          ],
          "scatterpolar": [
           {
            "marker": {
             "colorbar": {
              "outlinewidth": 0,
              "ticks": ""
             }
            },
            "type": "scatterpolar"
           }
          ],
          "scatterpolargl": [
           {
            "marker": {
             "colorbar": {
              "outlinewidth": 0,
              "ticks": ""
             }
            },
            "type": "scatterpolargl"
           }
          ],
          "scatterternary": [
           {
            "marker": {
             "colorbar": {
              "outlinewidth": 0,
              "ticks": ""
             }
            },
            "type": "scatterternary"
           }
          ],
          "surface": [
           {
            "colorbar": {
             "outlinewidth": 0,
             "ticks": ""
            },
            "colorscale": [
             [
              0,
              "#0d0887"
             ],
             [
              0.1111111111111111,
              "#46039f"
             ],
             [
              0.2222222222222222,
              "#7201a8"
             ],
             [
              0.3333333333333333,
              "#9c179e"
             ],
             [
              0.4444444444444444,
              "#bd3786"
             ],
             [
              0.5555555555555556,
              "#d8576b"
             ],
             [
              0.6666666666666666,
              "#ed7953"
             ],
             [
              0.7777777777777778,
              "#fb9f3a"
             ],
             [
              0.8888888888888888,
              "#fdca26"
             ],
             [
              1,
              "#f0f921"
             ]
            ],
            "type": "surface"
           }
          ],
          "table": [
           {
            "cells": {
             "fill": {
              "color": "#EBF0F8"
             },
             "line": {
              "color": "white"
             }
            },
            "header": {
             "fill": {
              "color": "#C8D4E3"
             },
             "line": {
              "color": "white"
             }
            },
            "type": "table"
           }
          ]
         },
         "layout": {
          "annotationdefaults": {
           "arrowcolor": "#2a3f5f",
           "arrowhead": 0,
           "arrowwidth": 1
          },
          "autotypenumbers": "strict",
          "coloraxis": {
           "colorbar": {
            "outlinewidth": 0,
            "ticks": ""
           }
          },
          "colorscale": {
           "diverging": [
            [
             0,
             "#8e0152"
            ],
            [
             0.1,
             "#c51b7d"
            ],
            [
             0.2,
             "#de77ae"
            ],
            [
             0.3,
             "#f1b6da"
            ],
            [
             0.4,
             "#fde0ef"
            ],
            [
             0.5,
             "#f7f7f7"
            ],
            [
             0.6,
             "#e6f5d0"
            ],
            [
             0.7,
             "#b8e186"
            ],
            [
             0.8,
             "#7fbc41"
            ],
            [
             0.9,
             "#4d9221"
            ],
            [
             1,
             "#276419"
            ]
           ],
           "sequential": [
            [
             0,
             "#0d0887"
            ],
            [
             0.1111111111111111,
             "#46039f"
            ],
            [
             0.2222222222222222,
             "#7201a8"
            ],
            [
             0.3333333333333333,
             "#9c179e"
            ],
            [
             0.4444444444444444,
             "#bd3786"
            ],
            [
             0.5555555555555556,
             "#d8576b"
            ],
            [
             0.6666666666666666,
             "#ed7953"
            ],
            [
             0.7777777777777778,
             "#fb9f3a"
            ],
            [
             0.8888888888888888,
             "#fdca26"
            ],
            [
             1,
             "#f0f921"
            ]
           ],
           "sequentialminus": [
            [
             0,
             "#0d0887"
            ],
            [
             0.1111111111111111,
             "#46039f"
            ],
            [
             0.2222222222222222,
             "#7201a8"
            ],
            [
             0.3333333333333333,
             "#9c179e"
            ],
            [
             0.4444444444444444,
             "#bd3786"
            ],
            [
             0.5555555555555556,
             "#d8576b"
            ],
            [
             0.6666666666666666,
             "#ed7953"
            ],
            [
             0.7777777777777778,
             "#fb9f3a"
            ],
            [
             0.8888888888888888,
             "#fdca26"
            ],
            [
             1,
             "#f0f921"
            ]
           ]
          },
          "colorway": [
           "#636efa",
           "#EF553B",
           "#00cc96",
           "#ab63fa",
           "#FFA15A",
           "#19d3f3",
           "#FF6692",
           "#B6E880",
           "#FF97FF",
           "#FECB52"
          ],
          "font": {
           "color": "#2a3f5f"
          },
          "geo": {
           "bgcolor": "white",
           "lakecolor": "white",
           "landcolor": "#E5ECF6",
           "showlakes": true,
           "showland": true,
           "subunitcolor": "white"
          },
          "hoverlabel": {
           "align": "left"
          },
          "hovermode": "closest",
          "mapbox": {
           "style": "light"
          },
          "paper_bgcolor": "white",
          "plot_bgcolor": "#E5ECF6",
          "polar": {
           "angularaxis": {
            "gridcolor": "white",
            "linecolor": "white",
            "ticks": ""
           },
           "bgcolor": "#E5ECF6",
           "radialaxis": {
            "gridcolor": "white",
            "linecolor": "white",
            "ticks": ""
           }
          },
          "scene": {
           "xaxis": {
            "backgroundcolor": "#E5ECF6",
            "gridcolor": "white",
            "gridwidth": 2,
            "linecolor": "white",
            "showbackground": true,
            "ticks": "",
            "zerolinecolor": "white"
           },
           "yaxis": {
            "backgroundcolor": "#E5ECF6",
            "gridcolor": "white",
            "gridwidth": 2,
            "linecolor": "white",
            "showbackground": true,
            "ticks": "",
            "zerolinecolor": "white"
           },
           "zaxis": {
            "backgroundcolor": "#E5ECF6",
            "gridcolor": "white",
            "gridwidth": 2,
            "linecolor": "white",
            "showbackground": true,
            "ticks": "",
            "zerolinecolor": "white"
           }
          },
          "shapedefaults": {
           "line": {
            "color": "#2a3f5f"
           }
          },
          "ternary": {
           "aaxis": {
            "gridcolor": "white",
            "linecolor": "white",
            "ticks": ""
           },
           "baxis": {
            "gridcolor": "white",
            "linecolor": "white",
            "ticks": ""
           },
           "bgcolor": "#E5ECF6",
           "caxis": {
            "gridcolor": "white",
            "linecolor": "white",
            "ticks": ""
           }
          },
          "title": {
           "x": 0.05
          },
          "xaxis": {
           "automargin": true,
           "gridcolor": "white",
           "linecolor": "white",
           "ticks": "",
           "title": {
            "standoff": 15
           },
           "zerolinecolor": "white",
           "zerolinewidth": 2
          },
          "yaxis": {
           "automargin": true,
           "gridcolor": "white",
           "linecolor": "white",
           "ticks": "",
           "title": {
            "standoff": 15
           },
           "zerolinecolor": "white",
           "zerolinewidth": 2
          }
         }
        },
        "title": {
         "text": "Distribution Of Number of Ratings Per Item"
        },
        "xaxis": {
         "title": {
          "text": "Number of Ratings Per Item"
         }
        },
        "yaxis": {
         "title": {
          "text": "Count"
         }
        }
       }
      }
     },
     "metadata": {},
     "output_type": "display_data"
    }
   ],
   "source": [
    "# display(df.groupby('itemID')['rating'].count().reset_index().sort_values('rating', ascending=False).head(10))\n",
    "data = df.groupby('itemID')['rating'].count().clip().sort_values(ascending=False)\n",
    "display(data)\n",
    "\n",
    "# Create trace\n",
    "trace = go.Histogram(x = data.values,\n",
    "                     name = 'Ratings',\n",
    "                     xbins = dict(start = 0,\n",
    "                                  end = 600, #Max is 583\n",
    "                                  size = 20))\n",
    "# Create layout\n",
    "layout = go.Layout(title = 'Distribution Of Number of Ratings Per Item',\n",
    "                   xaxis = dict(title = 'Number of Ratings Per Item'),\n",
    "                   yaxis = dict(title = 'Count'),\n",
    "                   bargap = 0)\n",
    "\n",
    "# Create plot\n",
    "fig = go.Figure(data=[trace], layout=layout)\n",
    "iplot(fig)"
   ]
  },
  {
   "cell_type": "code",
   "execution_count": 7,
   "metadata": {},
   "outputs": [
    {
     "data": {
      "text/plain": [
       "itemID\n",
       "814     5.000\n",
       "1599    5.000\n",
       "1201    5.000\n",
       "1122    5.000\n",
       "1653    5.000\n",
       "1293    5.000\n",
       "1500    5.000\n",
       "1189    5.000\n",
       "1536    5.000\n",
       "1467    5.000\n",
       "1449    4.625\n",
       "119     4.500\n",
       "1398    4.500\n",
       "1642    4.500\n",
       "1594    4.500\n",
       "Name: rating, dtype: float64"
      ]
     },
     "metadata": {},
     "output_type": "display_data"
    },
    {
     "data": {
      "application/vnd.plotly.v1+json": {
       "config": {
        "linkText": "Export to plot.ly",
        "plotlyServerURL": "https://plot.ly",
        "showLink": false
       },
       "data": [
        {
         "name": "Ratings",
         "type": "histogram",
         "x": [
          5,
          5,
          5,
          5,
          5,
          5,
          5,
          5,
          5,
          5,
          4.625,
          4.5,
          4.5,
          4.5,
          4.5,
          4.491071428571429,
          4.466442953020135,
          4.466101694915254,
          4.45679012345679,
          4.447761194029851,
          4.445229681978798,
          4.3875598086124405,
          4.385767790262173,
          4.3584905660377355,
          4.344,
          4.333333333333333,
          4.333333333333333,
          4.333333333333333,
          4.292929292929293,
          4.2926829268292686,
          4.292237442922374,
          4.291666666666667,
          4.28974358974359,
          4.284916201117318,
          4.283292978208232,
          4.265432098765432,
          4.262626262626263,
          4.260869565217392,
          4.259541984732825,
          4.252577319587629,
          4.252380952380952,
          4.251396648044692,
          4.25,
          4.25,
          4.25,
          4.2457142857142856,
          4.23121387283237,
          4.212121212121212,
          4.2101449275362315,
          4.204359673024523,
          4.203980099502488,
          4.2,
          4.2,
          4.2,
          4.198529411764706,
          4.196428571428571,
          4.1923076923076925,
          4.186602870813397,
          4.184210526315789,
          4.175757575757576,
          4.1735537190082646,
          4.172839506172839,
          4.163043478260869,
          4.161616161616162,
          4.155511811023622,
          4.155172413793103,
          4.151515151515151,
          4.15,
          4.138181818181818,
          4.137096774193548,
          4.136054421768708,
          4.132231404958677,
          4.127659574468085,
          4.125,
          4.123809523809523,
          4.121212121212121,
          4.1208791208791204,
          4.120689655172414,
          4.120689655172414,
          4.115384615384615,
          4.115384615384615,
          4.111111111111111,
          4.109375,
          4.106060606060606,
          4.104838709677419,
          4.104602510460251,
          4.102941176470588,
          4.1022727272727275,
          4.100418410041841,
          4.1,
          4.1,
          4.1,
          4.1,
          4.1,
          4.094017094017094,
          4.078260869565217,
          4.0772357723577235,
          4.076023391812866,
          4.0664556962025316,
          4.064516129032258,
          4.0625,
          4.060913705583756,
          4.0602409638554215,
          4.058091286307054,
          4.057971014492754,
          4.053475935828877,
          4.0508474576271185,
          4.05,
          4.05,
          4.0476190476190474,
          4.045454545454546,
          4.045454545454546,
          4.045454545454546,
          4.04524886877828,
          4.044642857142857,
          4.037037037037037,
          4.034364261168385,
          4.029850746268656,
          4.028846153846154,
          4.027397260273973,
          4.025,
          4.023255813953488,
          4.021739130434782,
          4.02051282051282,
          4.02,
          4.015625,
          4.012345679012346,
          4.0111940298507465,
          4.011111111111111,
          4.007889546351085,
          4.0078740157480315,
          4.0067796610169495,
          4,
          4,
          4,
          4,
          4,
          4,
          4,
          4,
          4,
          4,
          4,
          4,
          4,
          4,
          4,
          4,
          4,
          4,
          4,
          4,
          4,
          4,
          4,
          4,
          4,
          4,
          4,
          4,
          4,
          4,
          4,
          4,
          4,
          4,
          4,
          4,
          4,
          4,
          4,
          4,
          4,
          4,
          4,
          4,
          3.9954337899543377,
          3.9939024390243905,
          3.9927007299270074,
          3.9926470588235294,
          3.9914529914529915,
          3.9864864864864864,
          3.985074626865672,
          3.984375,
          3.978494623655914,
          3.9782608695652173,
          3.9696969696969697,
          3.969111969111969,
          3.9682539682539684,
          3.967741935483871,
          3.9672131147540983,
          3.9655172413793105,
          3.96,
          3.9565217391304346,
          3.9516129032258065,
          3.9513274336283186,
          3.949074074074074,
          3.9479166666666665,
          3.9471830985915495,
          3.945945945945946,
          3.945,
          3.9444444444444446,
          3.9421487603305785,
          3.9411764705882355,
          3.94,
          3.9381443298969074,
          3.9375,
          3.9365079365079363,
          3.9358974358974357,
          3.935483870967742,
          3.9335548172757475,
          3.933333333333333,
          3.931159420289855,
          3.930513595166163,
          3.9285714285714284,
          3.926984126984127,
          3.925,
          3.923076923076923,
          3.9224806201550386,
          3.92,
          3.917197452229299,
          3.9166666666666665,
          3.9163346613545817,
          3.912621359223301,
          3.911764705882353,
          3.911764705882353,
          3.911111111111111,
          3.910344827586207,
          3.909502262443439,
          3.9057971014492754,
          3.905759162303665,
          3.9051724137931036,
          3.903225806451613,
          3.9005847953216373,
          3.9,
          3.896551724137931,
          3.8963210702341136,
          3.892857142857143,
          3.888888888888889,
          3.8857142857142857,
          3.884,
          3.881057268722467,
          3.8783185840707963,
          3.876923076923077,
          3.875,
          3.875,
          3.8724279835390947,
          3.871345029239766,
          3.8684210526315788,
          3.868131868131868,
          3.8666666666666667,
          3.8666666666666667,
          3.864406779661017,
          3.864406779661017,
          3.8634361233480177,
          3.8613138686131387,
          3.859154929577465,
          3.857142857142857,
          3.857142857142857,
          3.8555555555555556,
          3.8548387096774195,
          3.854014598540146,
          3.853582554517134,
          3.8512396694214877,
          3.847457627118644,
          3.8461538461538463,
          3.838235294117647,
          3.8366533864541834,
          3.8358208955223883,
          3.834285714285714,
          3.8333333333333335,
          3.8333333333333335,
          3.8333333333333335,
          3.8333333333333335,
          3.8333333333333335,
          3.831460674157303,
          3.8306451612903225,
          3.828025477707006,
          3.825242718446602,
          3.824,
          3.823529411764706,
          3.8217054263565893,
          3.819672131147541,
          3.8181818181818183,
          3.8181818181818183,
          3.8181818181818183,
          3.8173076923076925,
          3.816326530612245,
          3.816,
          3.8157894736842106,
          3.8155737704918034,
          3.814814814814815,
          3.8127853881278537,
          3.808641975308642,
          3.804123711340206,
          3.804054054054054,
          3.804054054054054,
          3.8035363457760316,
          3.802721088435374,
          3.8,
          3.8,
          3.8,
          3.8,
          3.798469387755102,
          3.796875,
          3.79296875,
          3.7928994082840237,
          3.792156862745098,
          3.792079207920792,
          3.7916666666666665,
          3.7916666666666665,
          3.791044776119403,
          3.7901234567901234,
          3.789473684210526,
          3.7857142857142856,
          3.785425101214575,
          3.7818181818181817,
          3.7781569965870307,
          3.7777777777777777,
          3.7761194029850746,
          3.775,
          3.772727272727273,
          3.772727272727273,
          3.7714285714285714,
          3.7714285714285714,
          3.77027027027027,
          3.7701149425287355,
          3.769230769230769,
          3.769230769230769,
          3.769230769230769,
          3.769230769230769,
          3.768041237113402,
          3.765765765765766,
          3.764705882352941,
          3.7642857142857142,
          3.761904761904762,
          3.75,
          3.75,
          3.75,
          3.75,
          3.75,
          3.75,
          3.75,
          3.75,
          3.75,
          3.7471264367816093,
          3.745874587458746,
          3.7450980392156863,
          3.7411764705882353,
          3.740740740740741,
          3.7333333333333334,
          3.72972972972973,
          3.727272727272727,
          3.727272727272727,
          3.7263157894736842,
          3.7247191011235956,
          3.7232142857142856,
          3.722772277227723,
          3.7222222222222223,
          3.7209302325581395,
          3.7203065134099615,
          3.7175141242937855,
          3.7142857142857144,
          3.7142857142857144,
          3.7142857142857144,
          3.712121212121212,
          3.7109375,
          3.7093023255813953,
          3.7083333333333335,
          3.7058823529411766,
          3.704697986577181,
          3.7045454545454546,
          3.7017543859649122,
          3.7,
          3.7,
          3.69811320754717,
          3.697986577181208,
          3.693121693121693,
          3.6929133858267718,
          3.6923076923076925,
          3.6904761904761907,
          3.6904761904761907,
          3.690058479532164,
          3.6875,
          3.6865671641791047,
          3.685344827586207,
          3.6823529411764704,
          3.6818181818181817,
          3.68,
          3.68,
          3.676470588235294,
          3.676470588235294,
          3.675,
          3.6732673267326734,
          3.6714285714285713,
          3.6666666666666665,
          3.6666666666666665,
          3.6666666666666665,
          3.6666666666666665,
          3.6666666666666665,
          3.6666666666666665,
          3.6666666666666665,
          3.6666666666666665,
          3.6666666666666665,
          3.6666666666666665,
          3.6666666666666665,
          3.6666666666666665,
          3.6666666666666665,
          3.6666666666666665,
          3.6666666666666665,
          3.6666666666666665,
          3.6638655462184873,
          3.6613545816733066,
          3.6610169491525424,
          3.6610169491525424,
          3.66027397260274,
          3.658536585365854,
          3.658536585365854,
          3.656964656964657,
          3.6545454545454548,
          3.6538461538461537,
          3.652173913043478,
          3.651685393258427,
          3.6511627906976742,
          3.65,
          3.6483516483516483,
          3.6478260869565218,
          3.645714285714286,
          3.644194756554307,
          3.6436781609195403,
          3.642857142857143,
          3.641025641025641,
          3.6341463414634148,
          3.6333333333333333,
          3.6319018404907975,
          3.6310904872389793,
          3.6298701298701297,
          3.6296296296296298,
          3.6280487804878048,
          3.625,
          3.625,
          3.6222222222222222,
          3.6218487394957983,
          3.6216216216216215,
          3.619047619047619,
          3.6176470588235294,
          3.6153846153846154,
          3.6153846153846154,
          3.6153846153846154,
          3.611111111111111,
          3.611111111111111,
          3.611111111111111,
          3.6108597285067874,
          3.609375,
          3.608695652173913,
          3.608695652173913,
          3.601503759398496,
          3.6011904761904763,
          3.601123595505618,
          3.6,
          3.6,
          3.6,
          3.6,
          3.6,
          3.6,
          3.5961538461538463,
          3.5955882352941178,
          3.5953488372093023,
          3.5945945945945947,
          3.5943396226415096,
          3.593625498007968,
          3.5925925925925926,
          3.58974358974359,
          3.589403973509934,
          3.5874125874125875,
          3.5873015873015874,
          3.5833333333333335,
          3.5813953488372094,
          3.5789473684210527,
          3.576923076923077,
          3.574468085106383,
          3.5714285714285716,
          3.5714285714285716,
          3.5714285714285716,
          3.5714285714285716,
          3.569832402234637,
          3.569620253164557,
          3.569506726457399,
          3.5652173913043477,
          3.5647058823529414,
          3.5625,
          3.5625,
          3.557377049180328,
          3.556603773584906,
          3.5555555555555554,
          3.5555555555555554,
          3.5555555555555554,
          3.5555555555555554,
          3.5555555555555554,
          3.5545454545454547,
          3.5543478260869565,
          3.5526315789473686,
          3.550239234449761,
          3.55,
          3.549382716049383,
          3.546875,
          3.5454545454545454,
          3.5454545454545454,
          3.5454545454545454,
          3.5443037974683542,
          3.5441176470588234,
          3.5434782608695654,
          3.5416666666666665,
          3.539906103286385,
          3.5398230088495577,
          3.5391304347826087,
          3.5384615384615383,
          3.5369127516778525,
          3.5359477124183005,
          3.5353535353535355,
          3.532258064516129,
          3.53,
          3.5294117647058822,
          3.5232558139534884,
          3.5168539325842696,
          3.515957446808511,
          3.515151515151515,
          3.514792899408284,
          3.513333333333333,
          3.510948905109489,
          3.5041322314049586,
          3.5,
          3.5,
          3.5,
          3.5,
          3.5,
          3.5,
          3.5,
          3.5,
          3.5,
          3.5,
          3.5,
          3.5,
          3.5,
          3.5,
          3.5,
          3.5,
          3.5,
          3.5,
          3.5,
          3.5,
          3.5,
          3.4959349593495936,
          3.490566037735849,
          3.488888888888889,
          3.4871794871794872,
          3.486842105263158,
          3.486111111111111,
          3.485294117647059,
          3.484375,
          3.4831460674157304,
          3.4827586206896552,
          3.481818181818182,
          3.4814814814814814,
          3.4771573604060912,
          3.4761904761904763,
          3.4761904761904763,
          3.4752475247524752,
          3.475,
          3.473684210526316,
          3.4702702702702704,
          3.46875,
          3.46875,
          3.466666666666667,
          3.465909090909091,
          3.464788732394366,
          3.4647058823529413,
          3.463768115942029,
          3.4615384615384617,
          3.4615384615384617,
          3.4615384615384617,
          3.4607843137254903,
          3.4603174603174605,
          3.46,
          3.45985401459854,
          3.458823529411765,
          3.4583333333333335,
          3.458064516129032,
          3.45679012345679,
          3.4565217391304346,
          3.4565217391304346,
          3.456140350877193,
          3.4545454545454546,
          3.4536082474226806,
          3.452054794520548,
          3.45,
          3.4482758620689653,
          3.4482758620689653,
          3.4472361809045227,
          3.4444444444444446,
          3.4444444444444446,
          3.4444444444444446,
          3.4444444444444446,
          3.4436860068259385,
          3.4414225941422596,
          3.438228438228438,
          3.4375,
          3.4310344827586206,
          3.4307692307692306,
          3.4285714285714284,
          3.4285714285714284,
          3.4285714285714284,
          3.4285714285714284,
          3.4285714285714284,
          3.427860696517413,
          3.4277777777777776,
          3.426829268292683,
          3.425,
          3.4242424242424243,
          3.4237288135593222,
          3.421875,
          3.4210526315789473,
          3.4184782608695654,
          3.417910447761194,
          3.4177215189873418,
          3.4166666666666665,
          3.4166666666666665,
          3.4166666666666665,
          3.413793103448276,
          3.4114583333333335,
          3.4081632653061225,
          3.4074074074074074,
          3.4054054054054053,
          3.4025974025974026,
          3.4,
          3.4,
          3.4,
          3.4,
          3.4,
          3.4,
          3.4,
          3.4,
          3.391304347826087,
          3.389261744966443,
          3.388235294117647,
          3.3859649122807016,
          3.3859649122807016,
          3.3846153846153846,
          3.3846153846153846,
          3.3846153846153846,
          3.381443298969072,
          3.38,
          3.3783783783783785,
          3.377952755905512,
          3.3771428571428572,
          3.375,
          3.375,
          3.375,
          3.375,
          3.37007874015748,
          3.3636363636363638,
          3.3636363636363638,
          3.3636363636363638,
          3.36046511627907,
          3.36,
          3.359375,
          3.358974358974359,
          3.357142857142857,
          3.356687898089172,
          3.355421686746988,
          3.3548387096774195,
          3.3508771929824563,
          3.347058823529412,
          3.34375,
          3.3417721518987342,
          3.341463414634146,
          3.3404255319148937,
          3.3380281690140845,
          3.3376623376623376,
          3.3376623376623376,
          3.336206896551724,
          3.3333333333333335,
          3.3333333333333335,
          3.3333333333333335,
          3.3333333333333335,
          3.3333333333333335,
          3.3333333333333335,
          3.3333333333333335,
          3.3333333333333335,
          3.3333333333333335,
          3.3333333333333335,
          3.3333333333333335,
          3.3333333333333335,
          3.3333333333333335,
          3.3333333333333335,
          3.3333333333333335,
          3.3333333333333335,
          3.3333333333333335,
          3.3333333333333335,
          3.3333333333333335,
          3.3292682926829267,
          3.323529411764706,
          3.323170731707317,
          3.3209876543209877,
          3.319327731092437,
          3.3181818181818183,
          3.3181818181818183,
          3.3181818181818183,
          3.3157894736842106,
          3.313953488372093,
          3.3125,
          3.3125,
          3.3076923076923075,
          3.3076923076923075,
          3.3043478260869565,
          3.303370786516854,
          3.302325581395349,
          3.3,
          3.3,
          3.3,
          3.2962962962962963,
          3.2941176470588234,
          3.2903225806451615,
          3.2903225806451615,
          3.2857142857142856,
          3.2857142857142856,
          3.2857142857142856,
          3.2857142857142856,
          3.2857142857142856,
          3.2857142857142856,
          3.2857142857142856,
          3.2857142857142856,
          3.2847682119205297,
          3.279503105590062,
          3.2781456953642385,
          3.2758620689655173,
          3.2738095238095237,
          3.272727272727273,
          3.272727272727273,
          3.272727272727273,
          3.2720588235294117,
          3.2666666666666666,
          3.264367816091954,
          3.26027397260274,
          3.2564102564102564,
          3.25531914893617,
          3.25531914893617,
          3.2551724137931033,
          3.25,
          3.25,
          3.25,
          3.25,
          3.25,
          3.25,
          3.25,
          3.25,
          3.25,
          3.25,
          3.25,
          3.246153846153846,
          3.2439024390243905,
          3.241758241758242,
          3.2403846153846154,
          3.24,
          3.24,
          3.24,
          3.235294117647059,
          3.234782608695652,
          3.2333333333333334,
          3.2322274881516586,
          3.232142857142857,
          3.230769230769231,
          3.230769230769231,
          3.230769230769231,
          3.230769230769231,
          3.230769230769231,
          3.227722772277228,
          3.2266666666666666,
          3.225806451612903,
          3.225,
          3.2241379310344827,
          3.2222222222222223,
          3.2222222222222223,
          3.2222222222222223,
          3.2222222222222223,
          3.2222222222222223,
          3.2203389830508473,
          3.2169811320754715,
          3.2150170648464163,
          3.2131147540983607,
          3.210526315789474,
          3.210526315789474,
          3.2083333333333335,
          3.2083333333333335,
          3.207920792079208,
          3.2061068702290076,
          3.2051282051282053,
          3.204081632653061,
          3.203125,
          3.2,
          3.2,
          3.2,
          3.2,
          3.2,
          3.2,
          3.2,
          3.2,
          3.2,
          3.2,
          3.193798449612403,
          3.193548387096774,
          3.1904761904761907,
          3.1882352941176473,
          3.1875,
          3.1824817518248176,
          3.1818181818181817,
          3.1818181818181817,
          3.1785714285714284,
          3.1777777777777776,
          3.176470588235294,
          3.1739130434782608,
          3.171875,
          3.171171171171171,
          3.169491525423729,
          3.1666666666666665,
          3.1666666666666665,
          3.1666666666666665,
          3.1666666666666665,
          3.1666666666666665,
          3.1666666666666665,
          3.1666666666666665,
          3.1666666666666665,
          3.1666666666666665,
          3.1666666666666665,
          3.1666666666666665,
          3.1666666666666665,
          3.1666666666666665,
          3.1641791044776117,
          3.1627906976744184,
          3.1625,
          3.161764705882353,
          3.161290322580645,
          3.160621761658031,
          3.159090909090909,
          3.158333333333333,
          3.156701030927835,
          3.1551724137931036,
          3.1549295774647885,
          3.1538461538461537,
          3.1538461538461537,
          3.1538461538461537,
          3.152173913043478,
          3.150485436893204,
          3.1494252873563218,
          3.1481481481481484,
          3.1475409836065573,
          3.1470588235294117,
          3.1463414634146343,
          3.143835616438356,
          3.142857142857143,
          3.142857142857143,
          3.142857142857143,
          3.142857142857143,
          3.142857142857143,
          3.142857142857143,
          3.142857142857143,
          3.141732283464567,
          3.1392405063291138,
          3.136,
          3.1333333333333333,
          3.1333333333333333,
          3.130434782608696,
          3.130434782608696,
          3.1301775147928996,
          3.1296296296296298,
          3.1296296296296298,
          3.126984126984127,
          3.125,
          3.125,
          3.1234177215189876,
          3.1222222222222222,
          3.119565217391304,
          3.1176470588235294,
          3.1153846153846154,
          3.1145833333333335,
          3.111111111111111,
          3.111111111111111,
          3.111111111111111,
          3.111111111111111,
          3.111111111111111,
          3.111111111111111,
          3.1083333333333334,
          3.1052631578947367,
          3.1052631578947367,
          3.1020408163265305,
          3.1,
          3.1,
          3.1,
          3.097560975609756,
          3.096774193548387,
          3.096774193548387,
          3.095890410958904,
          3.0952380952380953,
          3.09375,
          3.0930232558139537,
          3.090909090909091,
          3.090909090909091,
          3.0875912408759123,
          3.0871559633027523,
          3.0869565217391304,
          3.0833333333333335,
          3.0822784810126582,
          3.081081081081081,
          3.0784313725490198,
          3.076923076923077,
          3.076923076923077,
          3.0754716981132075,
          3.074074074074074,
          3.0701754385964914,
          3.0681818181818183,
          3.0677966101694913,
          3.0652173913043477,
          3.061224489795918,
          3.061224489795918,
          3.06,
          3.0555555555555554,
          3.0526315789473686,
          3.0526315789473686,
          3.051282051282051,
          3.0485436893203883,
          3.046728971962617,
          3.0454545454545454,
          3.0454545454545454,
          3.0416666666666665,
          3.0405405405405403,
          3.036144578313253,
          3.0344827586206895,
          3.034188034188034,
          3.033333333333333,
          3.031496062992126,
          3.03125,
          3.026315789473684,
          3.024390243902439,
          3.024390243902439,
          3.0232558139534884,
          3.022222222222222,
          3.021505376344086,
          3.018867924528302,
          3.01875,
          3.0136986301369864,
          3.0083333333333333,
          3,
          3,
          3,
          3,
          3,
          3,
          3,
          3,
          3,
          3,
          3,
          3,
          3,
          3,
          3,
          3,
          3,
          3,
          3,
          3,
          3,
          3,
          3,
          3,
          3,
          3,
          3,
          3,
          3,
          3,
          3,
          3,
          3,
          3,
          3,
          3,
          3,
          3,
          3,
          3,
          3,
          3,
          3,
          3,
          3,
          3,
          3,
          3,
          3,
          3,
          3,
          3,
          3,
          3,
          3,
          3,
          3,
          3,
          3,
          3,
          3,
          3,
          3,
          3,
          3,
          3,
          3,
          3,
          3,
          3,
          3,
          3,
          3,
          3,
          3,
          3,
          3,
          3,
          3,
          3,
          3,
          3,
          3,
          3,
          3,
          3,
          3,
          3,
          3,
          3,
          3,
          3,
          3,
          3,
          3,
          3,
          3,
          3,
          3,
          3,
          3,
          3,
          3,
          2.983050847457627,
          2.9806949806949805,
          2.9782608695652173,
          2.9767441860465116,
          2.966666666666667,
          2.966666666666667,
          2.962962962962963,
          2.961038961038961,
          2.955223880597015,
          2.953125,
          2.9430379746835444,
          2.9411764705882355,
          2.9393939393939394,
          2.9375,
          2.933333333333333,
          2.933333333333333,
          2.933333333333333,
          2.9318181818181817,
          2.9315068493150687,
          2.9310344827586206,
          2.9310344827586206,
          2.926829268292683,
          2.926470588235294,
          2.925,
          2.923076923076923,
          2.923076923076923,
          2.923076923076923,
          2.923076923076923,
          2.9166666666666665,
          2.914110429447853,
          2.909090909090909,
          2.909090909090909,
          2.909090909090909,
          2.908256880733945,
          2.9069767441860463,
          2.903225806451613,
          2.9,
          2.9,
          2.8984375,
          2.8974358974358974,
          2.8958333333333335,
          2.8947368421052633,
          2.888888888888889,
          2.888888888888889,
          2.887323943661972,
          2.8846153846153846,
          2.88,
          2.88,
          2.8780487804878048,
          2.877551020408163,
          2.875,
          2.875,
          2.875,
          2.875,
          2.875,
          2.871794871794872,
          2.869565217391304,
          2.8666666666666667,
          2.8636363636363638,
          2.8636363636363638,
          2.857142857142857,
          2.857142857142857,
          2.857142857142857,
          2.8536585365853657,
          2.85,
          2.847926267281106,
          2.8461538461538463,
          2.8461538461538463,
          2.84375,
          2.84375,
          2.84,
          2.838709677419355,
          2.838709677419355,
          2.8358208955223883,
          2.8333333333333335,
          2.8333333333333335,
          2.8333333333333335,
          2.8333333333333335,
          2.8333333333333335,
          2.8333333333333335,
          2.8333333333333335,
          2.83,
          2.8260869565217392,
          2.823529411764706,
          2.8214285714285716,
          2.8205128205128207,
          2.8205128205128207,
          2.817073170731707,
          2.8160919540229883,
          2.814814814814815,
          2.8125,
          2.8125,
          2.808219178082192,
          2.803921568627451,
          2.8026315789473686,
          2.8,
          2.8,
          2.8,
          2.8,
          2.8,
          2.8,
          2.8,
          2.8,
          2.8,
          2.8,
          2.8,
          2.8,
          2.7884615384615383,
          2.782608695652174,
          2.78125,
          2.78,
          2.7777777777777777,
          2.7777777777777777,
          2.774193548387097,
          2.772727272727273,
          2.772727272727273,
          2.7719298245614037,
          2.7714285714285714,
          2.769230769230769,
          2.764705882352941,
          2.761904761904762,
          2.761904761904762,
          2.76,
          2.7586206896551726,
          2.7586206896551726,
          2.7551020408163267,
          2.7547169811320753,
          2.75,
          2.75,
          2.75,
          2.75,
          2.75,
          2.75,
          2.75,
          2.75,
          2.75,
          2.75,
          2.75,
          2.75,
          2.75,
          2.75,
          2.75,
          2.75,
          2.75,
          2.75,
          2.7457627118644066,
          2.742574257425743,
          2.739130434782609,
          2.736842105263158,
          2.7358490566037736,
          2.7333333333333334,
          2.72972972972973,
          2.727272727272727,
          2.727272727272727,
          2.723404255319149,
          2.723076923076923,
          2.7222222222222223,
          2.7222222222222223,
          2.7209302325581395,
          2.717391304347826,
          2.7169811320754715,
          2.7142857142857144,
          2.7142857142857144,
          2.7142857142857144,
          2.7142857142857144,
          2.702970297029703,
          2.702127659574468,
          2.701492537313433,
          2.7,
          2.7,
          2.7,
          2.7,
          2.7,
          2.693877551020408,
          2.6923076923076925,
          2.6923076923076925,
          2.6875,
          2.685185185185185,
          2.6842105263157894,
          2.6842105263157894,
          2.683098591549296,
          2.6818181818181817,
          2.68,
          2.68,
          2.676470588235294,
          2.675675675675676,
          2.6666666666666665,
          2.6666666666666665,
          2.6666666666666665,
          2.6666666666666665,
          2.6666666666666665,
          2.6666666666666665,
          2.6666666666666665,
          2.6666666666666665,
          2.6666666666666665,
          2.6666666666666665,
          2.6666666666666665,
          2.6666666666666665,
          2.6666666666666665,
          2.6666666666666665,
          2.6666666666666665,
          2.6666666666666665,
          2.6666666666666665,
          2.6666666666666665,
          2.6666666666666665,
          2.6666666666666665,
          2.660377358490566,
          2.659340659340659,
          2.652173913043478,
          2.6470588235294117,
          2.642857142857143,
          2.642857142857143,
          2.6363636363636362,
          2.6363636363636362,
          2.6363636363636362,
          2.6341463414634148,
          2.6315789473684212,
          2.627906976744186,
          2.625,
          2.625,
          2.625,
          2.6206896551724137,
          2.6166666666666667,
          2.6153846153846154,
          2.606060606060606,
          2.6,
          2.6,
          2.6,
          2.6,
          2.6,
          2.6,
          2.6,
          2.6,
          2.5892857142857144,
          2.5833333333333335,
          2.5806451612903225,
          2.5789473684210527,
          2.575,
          2.574803149606299,
          2.5714285714285716,
          2.5714285714285716,
          2.5714285714285716,
          2.5714285714285716,
          2.5714285714285716,
          2.5675675675675675,
          2.5660377358490565,
          2.5652173913043477,
          2.5625,
          2.5588235294117645,
          2.558139534883721,
          2.5555555555555554,
          2.5483870967741935,
          2.546875,
          2.5454545454545454,
          2.5454545454545454,
          2.5384615384615383,
          2.533333333333333,
          2.5294117647058822,
          2.5217391304347827,
          2.52,
          2.5185185185185186,
          2.5185185185185186,
          2.5185185185185186,
          2.5161290322580645,
          2.515151515151515,
          2.511627906976744,
          2.511627906976744,
          2.5,
          2.5,
          2.5,
          2.5,
          2.5,
          2.5,
          2.5,
          2.5,
          2.5,
          2.5,
          2.5,
          2.5,
          2.5,
          2.5,
          2.5,
          2.5,
          2.5,
          2.5,
          2.5,
          2.5,
          2.5,
          2.5,
          2.5,
          2.5,
          2.5,
          2.5,
          2.5,
          2.5,
          2.5,
          2.5,
          2.5,
          2.5,
          2.5,
          2.5,
          2.4871794871794872,
          2.477272727272727,
          2.473684210526316,
          2.473684210526316,
          2.4705882352941178,
          2.4615384615384617,
          2.4583333333333335,
          2.4545454545454546,
          2.4545454545454546,
          2.4523809523809526,
          2.4516129032258065,
          2.45,
          2.4489795918367347,
          2.4461538461538463,
          2.4444444444444446,
          2.4444444444444446,
          2.4444444444444446,
          2.4444444444444446,
          2.4444444444444446,
          2.4393939393939394,
          2.4285714285714284,
          2.4285714285714284,
          2.4285714285714284,
          2.4285714285714284,
          2.4285714285714284,
          2.4285714285714284,
          2.4285714285714284,
          2.4285714285714284,
          2.4285714285714284,
          2.4285714285714284,
          2.4285714285714284,
          2.4285714285714284,
          2.4285714285714284,
          2.4285714285714284,
          2.4166666666666665,
          2.4166666666666665,
          2.413793103448276,
          2.413793103448276,
          2.4081632653061225,
          2.4054054054054053,
          2.4,
          2.4,
          2.4,
          2.4,
          2.4,
          2.4,
          2.4,
          2.4,
          2.4,
          2.4,
          2.3978494623655915,
          2.3968253968253967,
          2.392857142857143,
          2.375,
          2.375,
          2.34375,
          2.339622641509434,
          2.3333333333333335,
          2.3333333333333335,
          2.3333333333333335,
          2.3333333333333335,
          2.3333333333333335,
          2.3333333333333335,
          2.3333333333333335,
          2.3333333333333335,
          2.3333333333333335,
          2.3333333333333335,
          2.3333333333333335,
          2.3333333333333335,
          2.3333333333333335,
          2.3333333333333335,
          2.3333333333333335,
          2.3181818181818183,
          2.313953488372093,
          2.3125,
          2.3076923076923075,
          2.3043478260869565,
          2.2941176470588234,
          2.2941176470588234,
          2.289473684210526,
          2.2857142857142856,
          2.2857142857142856,
          2.2857142857142856,
          2.28,
          2.2777777777777777,
          2.272727272727273,
          2.272727272727273,
          2.260869565217391,
          2.25,
          2.25,
          2.25,
          2.25,
          2.25,
          2.25,
          2.25,
          2.25,
          2.25,
          2.25,
          2.25,
          2.25,
          2.2444444444444445,
          2.24,
          2.2388059701492535,
          2.230769230769231,
          2.230769230769231,
          2.2222222222222223,
          2.2195121951219514,
          2.210526315789474,
          2.2,
          2.2,
          2.2,
          2.2,
          2.2,
          2.2,
          2.1884057971014492,
          2.1818181818181817,
          2.1818181818181817,
          2.1818181818181817,
          2.1666666666666665,
          2.1666666666666665,
          2.1666666666666665,
          2.1666666666666665,
          2.1666666666666665,
          2.1666666666666665,
          2.1666666666666665,
          2.1578947368421053,
          2.1578947368421053,
          2.1538461538461537,
          2.1538461538461537,
          2.1538461538461537,
          2.142857142857143,
          2.142857142857143,
          2.142857142857143,
          2.1315789473684212,
          2.125,
          2.125,
          2.1153846153846154,
          2.111111111111111,
          2.111111111111111,
          2.111111111111111,
          2.076923076923077,
          2.064516129032258,
          2.037037037037037,
          2,
          2,
          2,
          2,
          2,
          2,
          2,
          2,
          2,
          2,
          2,
          2,
          2,
          2,
          2,
          2,
          2,
          2,
          2,
          2,
          2,
          2,
          2,
          2,
          2,
          2,
          2,
          2,
          2,
          2,
          2,
          2,
          2,
          2,
          2,
          2,
          2,
          2,
          2,
          2,
          2,
          2,
          2,
          2,
          2,
          2,
          2,
          2,
          2,
          2,
          2,
          2,
          2,
          2,
          2,
          1.9565217391304348,
          1.9534883720930232,
          1.9487179487179487,
          1.9375,
          1.9333333333333333,
          1.9166666666666667,
          1.903225806451613,
          1.894736842105263,
          1.875,
          1.8666666666666667,
          1.8571428571428572,
          1.8571428571428572,
          1.8409090909090908,
          1.8333333333333333,
          1.8333333333333333,
          1.8333333333333333,
          1.8333333333333333,
          1.8181818181818181,
          1.8,
          1.8,
          1.8,
          1.75,
          1.75,
          1.75,
          1.75,
          1.7407407407407407,
          1.7272727272727273,
          1.7142857142857142,
          1.7,
          1.6666666666666667,
          1.6666666666666667,
          1.6666666666666667,
          1.6666666666666667,
          1.6666666666666667,
          1.6666666666666667,
          1.6428571428571428,
          1.6153846153846154,
          1.6,
          1.6,
          1.5714285714285714,
          1.5,
          1.5,
          1.5,
          1.5,
          1.5,
          1.5,
          1.5,
          1.5,
          1.5,
          1.5,
          1.5,
          1.4,
          1.3333333333333333,
          1.3333333333333333,
          1.3333333333333333,
          1.3157894736842106,
          1.25,
          1.25,
          1.1666666666666667,
          1,
          1,
          1,
          1,
          1,
          1,
          1,
          1,
          1,
          1,
          1,
          1,
          1,
          1,
          1,
          1,
          1,
          1,
          1,
          1,
          1,
          1,
          1,
          1,
          1,
          1,
          1,
          1,
          1,
          1,
          1,
          1,
          1,
          1,
          1,
          1,
          1,
          1,
          1,
          1,
          1,
          1,
          1,
          1,
          1,
          1,
          1,
          1,
          1,
          1,
          1,
          1,
          1,
          1,
          1,
          1,
          1,
          1,
          1,
          1,
          1,
          1,
          1,
          1,
          1,
          1,
          1,
          1,
          1,
          1
         ],
         "xbins": {
          "size": 0.1
         }
        }
       ],
       "layout": {
        "bargap": 0.1,
        "template": {
         "data": {
          "bar": [
           {
            "error_x": {
             "color": "#2a3f5f"
            },
            "error_y": {
             "color": "#2a3f5f"
            },
            "marker": {
             "line": {
              "color": "#E5ECF6",
              "width": 0.5
             },
             "pattern": {
              "fillmode": "overlay",
              "size": 10,
              "solidity": 0.2
             }
            },
            "type": "bar"
           }
          ],
          "barpolar": [
           {
            "marker": {
             "line": {
              "color": "#E5ECF6",
              "width": 0.5
             },
             "pattern": {
              "fillmode": "overlay",
              "size": 10,
              "solidity": 0.2
             }
            },
            "type": "barpolar"
           }
          ],
          "carpet": [
           {
            "aaxis": {
             "endlinecolor": "#2a3f5f",
             "gridcolor": "white",
             "linecolor": "white",
             "minorgridcolor": "white",
             "startlinecolor": "#2a3f5f"
            },
            "baxis": {
             "endlinecolor": "#2a3f5f",
             "gridcolor": "white",
             "linecolor": "white",
             "minorgridcolor": "white",
             "startlinecolor": "#2a3f5f"
            },
            "type": "carpet"
           }
          ],
          "choropleth": [
           {
            "colorbar": {
             "outlinewidth": 0,
             "ticks": ""
            },
            "type": "choropleth"
           }
          ],
          "contour": [
           {
            "colorbar": {
             "outlinewidth": 0,
             "ticks": ""
            },
            "colorscale": [
             [
              0,
              "#0d0887"
             ],
             [
              0.1111111111111111,
              "#46039f"
             ],
             [
              0.2222222222222222,
              "#7201a8"
             ],
             [
              0.3333333333333333,
              "#9c179e"
             ],
             [
              0.4444444444444444,
              "#bd3786"
             ],
             [
              0.5555555555555556,
              "#d8576b"
             ],
             [
              0.6666666666666666,
              "#ed7953"
             ],
             [
              0.7777777777777778,
              "#fb9f3a"
             ],
             [
              0.8888888888888888,
              "#fdca26"
             ],
             [
              1,
              "#f0f921"
             ]
            ],
            "type": "contour"
           }
          ],
          "contourcarpet": [
           {
            "colorbar": {
             "outlinewidth": 0,
             "ticks": ""
            },
            "type": "contourcarpet"
           }
          ],
          "heatmap": [
           {
            "colorbar": {
             "outlinewidth": 0,
             "ticks": ""
            },
            "colorscale": [
             [
              0,
              "#0d0887"
             ],
             [
              0.1111111111111111,
              "#46039f"
             ],
             [
              0.2222222222222222,
              "#7201a8"
             ],
             [
              0.3333333333333333,
              "#9c179e"
             ],
             [
              0.4444444444444444,
              "#bd3786"
             ],
             [
              0.5555555555555556,
              "#d8576b"
             ],
             [
              0.6666666666666666,
              "#ed7953"
             ],
             [
              0.7777777777777778,
              "#fb9f3a"
             ],
             [
              0.8888888888888888,
              "#fdca26"
             ],
             [
              1,
              "#f0f921"
             ]
            ],
            "type": "heatmap"
           }
          ],
          "heatmapgl": [
           {
            "colorbar": {
             "outlinewidth": 0,
             "ticks": ""
            },
            "colorscale": [
             [
              0,
              "#0d0887"
             ],
             [
              0.1111111111111111,
              "#46039f"
             ],
             [
              0.2222222222222222,
              "#7201a8"
             ],
             [
              0.3333333333333333,
              "#9c179e"
             ],
             [
              0.4444444444444444,
              "#bd3786"
             ],
             [
              0.5555555555555556,
              "#d8576b"
             ],
             [
              0.6666666666666666,
              "#ed7953"
             ],
             [
              0.7777777777777778,
              "#fb9f3a"
             ],
             [
              0.8888888888888888,
              "#fdca26"
             ],
             [
              1,
              "#f0f921"
             ]
            ],
            "type": "heatmapgl"
           }
          ],
          "histogram": [
           {
            "marker": {
             "pattern": {
              "fillmode": "overlay",
              "size": 10,
              "solidity": 0.2
             }
            },
            "type": "histogram"
           }
          ],
          "histogram2d": [
           {
            "colorbar": {
             "outlinewidth": 0,
             "ticks": ""
            },
            "colorscale": [
             [
              0,
              "#0d0887"
             ],
             [
              0.1111111111111111,
              "#46039f"
             ],
             [
              0.2222222222222222,
              "#7201a8"
             ],
             [
              0.3333333333333333,
              "#9c179e"
             ],
             [
              0.4444444444444444,
              "#bd3786"
             ],
             [
              0.5555555555555556,
              "#d8576b"
             ],
             [
              0.6666666666666666,
              "#ed7953"
             ],
             [
              0.7777777777777778,
              "#fb9f3a"
             ],
             [
              0.8888888888888888,
              "#fdca26"
             ],
             [
              1,
              "#f0f921"
             ]
            ],
            "type": "histogram2d"
           }
          ],
          "histogram2dcontour": [
           {
            "colorbar": {
             "outlinewidth": 0,
             "ticks": ""
            },
            "colorscale": [
             [
              0,
              "#0d0887"
             ],
             [
              0.1111111111111111,
              "#46039f"
             ],
             [
              0.2222222222222222,
              "#7201a8"
             ],
             [
              0.3333333333333333,
              "#9c179e"
             ],
             [
              0.4444444444444444,
              "#bd3786"
             ],
             [
              0.5555555555555556,
              "#d8576b"
             ],
             [
              0.6666666666666666,
              "#ed7953"
             ],
             [
              0.7777777777777778,
              "#fb9f3a"
             ],
             [
              0.8888888888888888,
              "#fdca26"
             ],
             [
              1,
              "#f0f921"
             ]
            ],
            "type": "histogram2dcontour"
           }
          ],
          "mesh3d": [
           {
            "colorbar": {
             "outlinewidth": 0,
             "ticks": ""
            },
            "type": "mesh3d"
           }
          ],
          "parcoords": [
           {
            "line": {
             "colorbar": {
              "outlinewidth": 0,
              "ticks": ""
             }
            },
            "type": "parcoords"
           }
          ],
          "pie": [
           {
            "automargin": true,
            "type": "pie"
           }
          ],
          "scatter": [
           {
            "fillpattern": {
             "fillmode": "overlay",
             "size": 10,
             "solidity": 0.2
            },
            "type": "scatter"
           }
          ],
          "scatter3d": [
           {
            "line": {
             "colorbar": {
              "outlinewidth": 0,
              "ticks": ""
             }
            },
            "marker": {
             "colorbar": {
              "outlinewidth": 0,
              "ticks": ""
             }
            },
            "type": "scatter3d"
           }
          ],
          "scattercarpet": [
           {
            "marker": {
             "colorbar": {
              "outlinewidth": 0,
              "ticks": ""
             }
            },
            "type": "scattercarpet"
           }
          ],
          "scattergeo": [
           {
            "marker": {
             "colorbar": {
              "outlinewidth": 0,
              "ticks": ""
             }
            },
            "type": "scattergeo"
           }
          ],
          "scattergl": [
           {
            "marker": {
             "colorbar": {
              "outlinewidth": 0,
              "ticks": ""
             }
            },
            "type": "scattergl"
           }
          ],
          "scattermapbox": [
           {
            "marker": {
             "colorbar": {
              "outlinewidth": 0,
              "ticks": ""
             }
            },
            "type": "scattermapbox"
           }
          ],
          "scatterpolar": [
           {
            "marker": {
             "colorbar": {
              "outlinewidth": 0,
              "ticks": ""
             }
            },
            "type": "scatterpolar"
           }
          ],
          "scatterpolargl": [
           {
            "marker": {
             "colorbar": {
              "outlinewidth": 0,
              "ticks": ""
             }
            },
            "type": "scatterpolargl"
           }
          ],
          "scatterternary": [
           {
            "marker": {
             "colorbar": {
              "outlinewidth": 0,
              "ticks": ""
             }
            },
            "type": "scatterternary"
           }
          ],
          "surface": [
           {
            "colorbar": {
             "outlinewidth": 0,
             "ticks": ""
            },
            "colorscale": [
             [
              0,
              "#0d0887"
             ],
             [
              0.1111111111111111,
              "#46039f"
             ],
             [
              0.2222222222222222,
              "#7201a8"
             ],
             [
              0.3333333333333333,
              "#9c179e"
             ],
             [
              0.4444444444444444,
              "#bd3786"
             ],
             [
              0.5555555555555556,
              "#d8576b"
             ],
             [
              0.6666666666666666,
              "#ed7953"
             ],
             [
              0.7777777777777778,
              "#fb9f3a"
             ],
             [
              0.8888888888888888,
              "#fdca26"
             ],
             [
              1,
              "#f0f921"
             ]
            ],
            "type": "surface"
           }
          ],
          "table": [
           {
            "cells": {
             "fill": {
              "color": "#EBF0F8"
             },
             "line": {
              "color": "white"
             }
            },
            "header": {
             "fill": {
              "color": "#C8D4E3"
             },
             "line": {
              "color": "white"
             }
            },
            "type": "table"
           }
          ]
         },
         "layout": {
          "annotationdefaults": {
           "arrowcolor": "#2a3f5f",
           "arrowhead": 0,
           "arrowwidth": 1
          },
          "autotypenumbers": "strict",
          "coloraxis": {
           "colorbar": {
            "outlinewidth": 0,
            "ticks": ""
           }
          },
          "colorscale": {
           "diverging": [
            [
             0,
             "#8e0152"
            ],
            [
             0.1,
             "#c51b7d"
            ],
            [
             0.2,
             "#de77ae"
            ],
            [
             0.3,
             "#f1b6da"
            ],
            [
             0.4,
             "#fde0ef"
            ],
            [
             0.5,
             "#f7f7f7"
            ],
            [
             0.6,
             "#e6f5d0"
            ],
            [
             0.7,
             "#b8e186"
            ],
            [
             0.8,
             "#7fbc41"
            ],
            [
             0.9,
             "#4d9221"
            ],
            [
             1,
             "#276419"
            ]
           ],
           "sequential": [
            [
             0,
             "#0d0887"
            ],
            [
             0.1111111111111111,
             "#46039f"
            ],
            [
             0.2222222222222222,
             "#7201a8"
            ],
            [
             0.3333333333333333,
             "#9c179e"
            ],
            [
             0.4444444444444444,
             "#bd3786"
            ],
            [
             0.5555555555555556,
             "#d8576b"
            ],
            [
             0.6666666666666666,
             "#ed7953"
            ],
            [
             0.7777777777777778,
             "#fb9f3a"
            ],
            [
             0.8888888888888888,
             "#fdca26"
            ],
            [
             1,
             "#f0f921"
            ]
           ],
           "sequentialminus": [
            [
             0,
             "#0d0887"
            ],
            [
             0.1111111111111111,
             "#46039f"
            ],
            [
             0.2222222222222222,
             "#7201a8"
            ],
            [
             0.3333333333333333,
             "#9c179e"
            ],
            [
             0.4444444444444444,
             "#bd3786"
            ],
            [
             0.5555555555555556,
             "#d8576b"
            ],
            [
             0.6666666666666666,
             "#ed7953"
            ],
            [
             0.7777777777777778,
             "#fb9f3a"
            ],
            [
             0.8888888888888888,
             "#fdca26"
            ],
            [
             1,
             "#f0f921"
            ]
           ]
          },
          "colorway": [
           "#636efa",
           "#EF553B",
           "#00cc96",
           "#ab63fa",
           "#FFA15A",
           "#19d3f3",
           "#FF6692",
           "#B6E880",
           "#FF97FF",
           "#FECB52"
          ],
          "font": {
           "color": "#2a3f5f"
          },
          "geo": {
           "bgcolor": "white",
           "lakecolor": "white",
           "landcolor": "#E5ECF6",
           "showlakes": true,
           "showland": true,
           "subunitcolor": "white"
          },
          "hoverlabel": {
           "align": "left"
          },
          "hovermode": "closest",
          "mapbox": {
           "style": "light"
          },
          "paper_bgcolor": "white",
          "plot_bgcolor": "#E5ECF6",
          "polar": {
           "angularaxis": {
            "gridcolor": "white",
            "linecolor": "white",
            "ticks": ""
           },
           "bgcolor": "#E5ECF6",
           "radialaxis": {
            "gridcolor": "white",
            "linecolor": "white",
            "ticks": ""
           }
          },
          "scene": {
           "xaxis": {
            "backgroundcolor": "#E5ECF6",
            "gridcolor": "white",
            "gridwidth": 2,
            "linecolor": "white",
            "showbackground": true,
            "ticks": "",
            "zerolinecolor": "white"
           },
           "yaxis": {
            "backgroundcolor": "#E5ECF6",
            "gridcolor": "white",
            "gridwidth": 2,
            "linecolor": "white",
            "showbackground": true,
            "ticks": "",
            "zerolinecolor": "white"
           },
           "zaxis": {
            "backgroundcolor": "#E5ECF6",
            "gridcolor": "white",
            "gridwidth": 2,
            "linecolor": "white",
            "showbackground": true,
            "ticks": "",
            "zerolinecolor": "white"
           }
          },
          "shapedefaults": {
           "line": {
            "color": "#2a3f5f"
           }
          },
          "ternary": {
           "aaxis": {
            "gridcolor": "white",
            "linecolor": "white",
            "ticks": ""
           },
           "baxis": {
            "gridcolor": "white",
            "linecolor": "white",
            "ticks": ""
           },
           "bgcolor": "#E5ECF6",
           "caxis": {
            "gridcolor": "white",
            "linecolor": "white",
            "ticks": ""
           }
          },
          "title": {
           "x": 0.05
          },
          "xaxis": {
           "automargin": true,
           "gridcolor": "white",
           "linecolor": "white",
           "ticks": "",
           "title": {
            "standoff": 15
           },
           "zerolinecolor": "white",
           "zerolinewidth": 2
          },
          "yaxis": {
           "automargin": true,
           "gridcolor": "white",
           "linecolor": "white",
           "ticks": "",
           "title": {
            "standoff": 15
           },
           "zerolinecolor": "white",
           "zerolinewidth": 2
          }
         }
        },
        "title": {
         "text": "Distribution of average rating of items"
        },
        "xaxis": {
         "title": {
          "text": "Mean rating of item"
         }
        },
        "yaxis": {
         "title": {
          "text": "Count/number of items"
         }
        }
       }
      }
     },
     "metadata": {},
     "output_type": "display_data"
    }
   ],
   "source": [
    "data = df.groupby('itemID')['rating'].agg('mean').sort_values(ascending=False)\n",
    "display(data.head(15))\n",
    "\n",
    "# Create trace\n",
    "trace = go.Histogram(x = data.values,\n",
    "                     name = 'Ratings',\n",
    "                     xbins = dict(#start = 0.0,\n",
    "                                  #end = 5.0,\n",
    "                                  size = 0.1))\n",
    "# Create layout\n",
    "layout = go.Layout(title = 'Distribution of average rating of items',\n",
    "                   xaxis = dict(title = 'Mean rating of item'),\n",
    "                   yaxis = dict(title = 'Count/number of items'),\n",
    "                   bargap = 0.1)\n",
    "\n",
    "# Create plot\n",
    "fig = go.Figure(data=[trace], layout=layout)\n",
    "iplot(fig)"
   ]
  },
  {
   "cell_type": "code",
   "execution_count": 8,
   "metadata": {},
   "outputs": [
    {
     "data": {
      "text/plain": [
       "userID\n",
       "849    4.869565\n",
       "688    4.833333\n",
       "507    4.724138\n",
       "628    4.703704\n",
       "928    4.687500\n",
       "118    4.661972\n",
       "907    4.571429\n",
       "686    4.563380\n",
       "427    4.548387\n",
       "565    4.542857\n",
       "Name: rating, dtype: float64"
      ]
     },
     "metadata": {},
     "output_type": "display_data"
    },
    {
     "data": {
      "application/vnd.plotly.v1+json": {
       "config": {
        "linkText": "Export to plot.ly",
        "plotlyServerURL": "https://plot.ly",
        "showLink": false
       },
       "data": [
        {
         "name": "Ratings",
         "type": "histogram",
         "x": [
          4.869565217391305,
          4.833333333333333,
          4.724137931034483,
          4.703703703703703,
          4.6875,
          4.661971830985915,
          4.571428571428571,
          4.563380281690141,
          4.548387096774194,
          4.542857142857143,
          4.534883720930233,
          4.529411764705882,
          4.518518518518518,
          4.496598639455782,
          4.457142857142857,
          4.45,
          4.45,
          4.444444444444445,
          4.4324324324324325,
          4.428571428571429,
          4.423076923076923,
          4.393939393939394,
          4.392156862745098,
          4.381165919282512,
          4.380281690140845,
          4.363636363636363,
          4.363636363636363,
          4.36,
          4.348484848484849,
          4.346153846153846,
          4.345454545454546,
          4.3428571428571425,
          4.338709677419355,
          4.333333333333333,
          4.333333333333333,
          4.333333333333333,
          4.333333333333333,
          4.333333333333333,
          4.328571428571428,
          4.323529411764706,
          4.321428571428571,
          4.320754716981132,
          4.32,
          4.319148936170213,
          4.3076923076923075,
          4.303030303030303,
          4.3,
          4.296875,
          4.286666666666667,
          4.2745098039215685,
          4.2727272727272725,
          4.267857142857143,
          4.267857142857143,
          4.265822784810126,
          4.26530612244898,
          4.2631578947368425,
          4.260869565217392,
          4.239795918367347,
          4.23015873015873,
          4.229357798165138,
          4.228136882129277,
          4.225806451612903,
          4.223333333333334,
          4.21875,
          4.21875,
          4.216666666666667,
          4.213836477987422,
          4.212121212121212,
          4.209302325581396,
          4.206521739130435,
          4.204545454545454,
          4.2,
          4.2,
          4.191011235955056,
          4.190476190476191,
          4.1768707482993195,
          4.176470588235294,
          4.176470588235294,
          4.173076923076923,
          4.17,
          4.166666666666667,
          4.166666666666667,
          4.159090909090909,
          4.159090909090909,
          4.158730158730159,
          4.155172413793103,
          4.1530054644808745,
          4.1528662420382165,
          4.148648648648648,
          4.147058823529412,
          4.145833333333333,
          4.142857142857143,
          4.137055837563452,
          4.136363636363637,
          4.133333333333334,
          4.132075471698113,
          4.131578947368421,
          4.130434782608695,
          4.130434782608695,
          4.127659574468085,
          4.126984126984127,
          4.125,
          4.122448979591836,
          4.12043795620438,
          4.118279569892473,
          4.112903225806452,
          4.111111111111111,
          4.111111111111111,
          4.105590062111801,
          4.098039215686274,
          4.095238095238095,
          4.091836734693878,
          4.086956521739131,
          4.086538461538462,
          4.082644628099174,
          4.08256880733945,
          4.076923076923077,
          4.075,
          4.071428571428571,
          4.071428571428571,
          4.0625,
          4.0606060606060606,
          4.0606060606060606,
          4.056338028169014,
          4.055555555555555,
          4.054607508532423,
          4.051282051282051,
          4.0510948905109485,
          4.05,
          4.048780487804878,
          4.045454545454546,
          4.045045045045045,
          4.041666666666667,
          4.041666666666667,
          4.0394736842105265,
          4.038461538461538,
          4.037735849056604,
          4.035714285714286,
          4.035087719298246,
          4.032407407407407,
          4.031496062992126,
          4.025270758122744,
          4.019230769230769,
          4.01875,
          4.011494252873563,
          4.005405405405406,
          4.003937007874016,
          4,
          4,
          4,
          4,
          4,
          4,
          4,
          4,
          4,
          4,
          4,
          4,
          4,
          3.996742671009772,
          3.993006993006993,
          3.9928057553956835,
          3.9903381642512077,
          3.989795918367347,
          3.9873417721518987,
          3.9858356940509916,
          3.9836065573770494,
          3.982142857142857,
          3.982142857142857,
          3.979381443298969,
          3.978723404255319,
          3.978609625668449,
          3.972972972972973,
          3.9696969696969697,
          3.966804979253112,
          3.966666666666667,
          3.9661016949152543,
          3.965260545905707,
          3.962162162162162,
          3.9607843137254903,
          3.9607843137254903,
          3.959016393442623,
          3.9574468085106385,
          3.9548387096774196,
          3.9530516431924885,
          3.9523809523809526,
          3.9502762430939224,
          3.9411764705882355,
          3.9411764705882355,
          3.9375,
          3.9375,
          3.9365079365079363,
          3.9357798165137616,
          3.9351351351351354,
          3.9347826086956523,
          3.9345549738219896,
          3.9310344827586206,
          3.9272727272727272,
          3.925925925925926,
          3.925925925925926,
          3.925373134328358,
          3.9239766081871346,
          3.923076923076923,
          3.923076923076923,
          3.92,
          3.918918918918919,
          3.9186046511627906,
          3.9173553719008263,
          3.9166666666666665,
          3.9166666666666665,
          3.914285714285714,
          3.909090909090909,
          3.903225806451613,
          3.903225806451613,
          3.9,
          3.8984375,
          3.8983050847457625,
          3.8970588235294117,
          3.896551724137931,
          3.8947368421052633,
          3.893617021276596,
          3.892156862745098,
          3.888888888888889,
          3.8884758364312266,
          3.8877551020408165,
          3.8857142857142857,
          3.88086642599278,
          3.88,
          3.88,
          3.876750700280112,
          3.8727272727272726,
          3.872340425531915,
          3.871794871794872,
          3.871165644171779,
          3.869565217391304,
          3.869565217391304,
          3.8666666666666667,
          3.8648148148148147,
          3.8640776699029127,
          3.8627450980392157,
          3.86,
          3.8597285067873304,
          3.859060402684564,
          3.857142857142857,
          3.857142857142857,
          3.857142857142857,
          3.8548387096774195,
          3.8548387096774195,
          3.8529411764705883,
          3.8529411764705883,
          3.8518518518518516,
          3.8518518518518516,
          3.8496240601503757,
          3.8484848484848486,
          3.847826086956522,
          3.8461538461538463,
          3.8461538461538463,
          3.8461538461538463,
          3.8461538461538463,
          3.845841784989858,
          3.84375,
          3.8402061855670104,
          3.84,
          3.838709677419355,
          3.8378378378378377,
          3.8376623376623376,
          3.8333333333333335,
          3.8333333333333335,
          3.832116788321168,
          3.8316831683168315,
          3.8275862068965516,
          3.8275862068965516,
          3.827272727272727,
          3.8271604938271606,
          3.8260869565217392,
          3.823529411764706,
          3.82312925170068,
          3.8214285714285716,
          3.8175182481751824,
          3.813888888888889,
          3.811320754716981,
          3.811023622047244,
          3.8095238095238093,
          3.806122448979592,
          3.8048780487804876,
          3.8034682080924855,
          3.8031914893617023,
          3.802395209580838,
          3.801526717557252,
          3.8,
          3.8,
          3.8,
          3.8,
          3.7966101694915255,
          3.795918367346939,
          3.794642857142857,
          3.793103448275862,
          3.792207792207792,
          3.7916666666666665,
          3.7916666666666665,
          3.7914691943127963,
          3.7905759162303663,
          3.789473684210526,
          3.787878787878788,
          3.787878787878788,
          3.7872340425531914,
          3.7868852459016393,
          3.7857142857142856,
          3.7857142857142856,
          3.784313725490196,
          3.7829457364341086,
          3.78125,
          3.7777777777777777,
          3.7768595041322315,
          3.7758620689655173,
          3.774193548387097,
          3.772727272727273,
          3.772727272727273,
          3.772727272727273,
          3.772727272727273,
          3.769230769230769,
          3.768595041322314,
          3.767857142857143,
          3.7674418604651163,
          3.767123287671233,
          3.7666666666666666,
          3.7666666666666666,
          3.765625,
          3.765432098765432,
          3.7586206896551726,
          3.7581863979848866,
          3.7560975609756095,
          3.7555555555555555,
          3.7555555555555555,
          3.7547169811320753,
          3.7517241379310344,
          3.75,
          3.75,
          3.75,
          3.75,
          3.75,
          3.746987951807229,
          3.7466666666666666,
          3.7464788732394365,
          3.7452830188679247,
          3.7450980392156863,
          3.74468085106383,
          3.7431693989071038,
          3.742489270386266,
          3.7422222222222223,
          3.740740740740741,
          3.740740740740741,
          3.740740740740741,
          3.739130434782609,
          3.738095238095238,
          3.737864077669903,
          3.7375,
          3.736842105263158,
          3.736,
          3.7339055793991416,
          3.7333333333333334,
          3.7333333333333334,
          3.7333333333333334,
          3.7333333333333334,
          3.732394366197183,
          3.72972972972973,
          3.727272727272727,
          3.726775956284153,
          3.7254901960784315,
          3.7247706422018347,
          3.7222222222222223,
          3.721518987341772,
          3.721311475409836,
          3.7209302325581395,
          3.720779220779221,
          3.72,
          3.71900826446281,
          3.7169811320754715,
          3.7142857142857144,
          3.7142857142857144,
          3.7142857142857144,
          3.7142857142857144,
          3.7118055555555554,
          3.710526315789474,
          3.7104072398190047,
          3.7096774193548385,
          3.7096774193548385,
          3.7096774193548385,
          3.7096774193548385,
          3.7093023255813953,
          3.7083333333333335,
          3.706896551724138,
          3.7058823529411766,
          3.7058823529411766,
          3.7047970479704797,
          3.7045454545454546,
          3.7037037037037037,
          3.7011494252873565,
          3.7,
          3.6984126984126986,
          3.697674418604651,
          3.697674418604651,
          3.6956521739130435,
          3.693877551020408,
          3.6933333333333334,
          3.6923076923076925,
          3.6923076923076925,
          3.691666666666667,
          3.689655172413793,
          3.6885245901639343,
          3.688073394495413,
          3.687074829931973,
          3.685810810810811,
          3.6857142857142855,
          3.6818181818181817,
          3.681318681318681,
          3.68,
          3.68,
          3.6785714285714284,
          3.6775510204081634,
          3.675675675675676,
          3.675,
          3.6748466257668713,
          3.674757281553398,
          3.6735537190082646,
          3.670967741935484,
          3.668421052631579,
          3.6666666666666665,
          3.6666666666666665,
          3.6666666666666665,
          3.6656626506024095,
          3.6653061224489796,
          3.6630434782608696,
          3.6613545816733066,
          3.661290322580645,
          3.6610169491525424,
          3.66,
          3.658536585365854,
          3.6575,
          3.6547619047619047,
          3.652173913043478,
          3.652173913043478,
          3.6512605042016806,
          3.6491228070175437,
          3.6490066225165565,
          3.6470588235294117,
          3.646551724137931,
          3.645021645021645,
          3.643835616438356,
          3.642857142857143,
          3.642857142857143,
          3.6419753086419755,
          3.6417910447761193,
          3.641711229946524,
          3.641025641025641,
          3.64,
          3.64,
          3.636734693877551,
          3.6363636363636362,
          3.6363636363636362,
          3.6357615894039736,
          3.6350710900473935,
          3.6341463414634148,
          3.6296296296296298,
          3.627906976744186,
          3.6240601503759398,
          3.622950819672131,
          3.6226415094339623,
          3.6215139442231075,
          3.6206896551724137,
          3.6206896551724137,
          3.619047619047619,
          3.6179775280898876,
          3.617391304347826,
          3.617283950617284,
          3.6164383561643834,
          3.6153846153846154,
          3.613793103448276,
          3.611111111111111,
          3.610294117647059,
          3.609375,
          3.608974358974359,
          3.608108108108108,
          3.604651162790698,
          3.6041666666666665,
          3.6041666666666665,
          3.6037735849056602,
          3.600558659217877,
          3.6,
          3.6,
          3.6,
          3.597122302158273,
          3.5964912280701755,
          3.595419847328244,
          3.5952380952380953,
          3.5925925925925926,
          3.5918367346938775,
          3.5911330049261085,
          3.590909090909091,
          3.585,
          3.5844155844155843,
          3.5842696629213484,
          3.5833333333333335,
          3.58273381294964,
          3.5819209039548023,
          3.581749049429658,
          3.5806451612903225,
          3.5789473684210527,
          3.5789473684210527,
          3.578125,
          3.5775193798449614,
          3.576923076923077,
          3.576923076923077,
          3.5757575757575757,
          3.5728643216080402,
          3.572463768115942,
          3.5714285714285716,
          3.5701754385964914,
          3.5652173913043477,
          3.5652173913043477,
          3.5609756097560976,
          3.554054054054054,
          3.5538461538461537,
          3.5531914893617023,
          3.5531914893617023,
          3.551470588235294,
          3.55,
          3.55,
          3.5497076023391814,
          3.546875,
          3.5454545454545454,
          3.5454545454545454,
          3.5428571428571427,
          3.5416666666666665,
          3.5416666666666665,
          3.5416666666666665,
          3.5416666666666665,
          3.5416666666666665,
          3.5381944444444446,
          3.537313432835821,
          3.5357142857142856,
          3.533333333333333,
          3.532994923857868,
          3.5321637426900585,
          3.5319148936170213,
          3.5319148936170213,
          3.5316455696202533,
          3.5277777777777777,
          3.5272727272727273,
          3.5272727272727273,
          3.525925925925926,
          3.522727272727273,
          3.522727272727273,
          3.5217391304347827,
          3.5217391304347827,
          3.5217391304347827,
          3.5205479452054793,
          3.5195195195195197,
          3.5142857142857142,
          3.5121951219512195,
          3.5090909090909093,
          3.506172839506173,
          3.506172839506173,
          3.50561797752809,
          3.502645502645503,
          3.5,
          3.5,
          3.5,
          3.5,
          3.5,
          3.5,
          3.5,
          3.5,
          3.5,
          3.4957627118644066,
          3.4956521739130433,
          3.4934640522875817,
          3.493333333333333,
          3.488888888888889,
          3.488372093023256,
          3.4857142857142858,
          3.48,
          3.4788732394366195,
          3.4782608695652173,
          3.4761904761904763,
          3.4761904761904763,
          3.475806451612903,
          3.473684210526316,
          3.472972972972973,
          3.4716981132075473,
          3.4700460829493087,
          3.4693877551020407,
          3.4690265486725664,
          3.466666666666667,
          3.466666666666667,
          3.4656488549618323,
          3.4653465346534653,
          3.465250965250965,
          3.4642857142857144,
          3.4642857142857144,
          3.4640883977900554,
          3.463917525773196,
          3.4615384615384617,
          3.4615384615384617,
          3.45933014354067,
          3.457943925233645,
          3.456221198156682,
          3.453531598513011,
          3.4523809523809526,
          3.45,
          3.45,
          3.45,
          3.4489795918367347,
          3.4482758620689653,
          3.442953020134228,
          3.441860465116279,
          3.4401709401709404,
          3.4395604395604398,
          3.4378109452736316,
          3.4375,
          3.4375,
          3.4355828220858897,
          3.4347826086956523,
          3.4347826086956523,
          3.4339622641509435,
          3.431095406360424,
          3.4299065420560746,
          3.4299065420560746,
          3.4285714285714284,
          3.4285714285714284,
          3.4285714285714284,
          3.426630434782609,
          3.424,
          3.4237288135593222,
          3.423076923076923,
          3.423076923076923,
          3.4207920792079207,
          3.4193548387096775,
          3.4186046511627906,
          3.41726618705036,
          3.415929203539823,
          3.4130434782608696,
          3.412621359223301,
          3.411764705882353,
          3.411764705882353,
          3.4107142857142856,
          3.40990990990991,
          3.408450704225352,
          3.4074074074074074,
          3.4,
          3.4,
          3.396039603960396,
          3.393719806763285,
          3.391304347826087,
          3.3903508771929824,
          3.3870967741935485,
          3.3855421686746987,
          3.3846153846153846,
          3.3846153846153846,
          3.3832335329341316,
          3.3823529411764706,
          3.381818181818182,
          3.3813559322033897,
          3.380952380952381,
          3.380952380952381,
          3.380281690140845,
          3.38,
          3.3793103448275863,
          3.3768115942028984,
          3.375,
          3.375,
          3.3734939759036147,
          3.3703703703703702,
          3.3703703703703702,
          3.3703703703703702,
          3.37007874015748,
          3.3674698795180724,
          3.3660714285714284,
          3.365930599369085,
          3.365702479338843,
          3.3636363636363638,
          3.3625,
          3.361842105263158,
          3.361111111111111,
          3.36,
          3.36,
          3.36,
          3.357142857142857,
          3.354285714285714,
          3.3533333333333335,
          3.3515625,
          3.35,
          3.349514563106796,
          3.347985347985348,
          3.347826086956522,
          3.3422222222222224,
          3.3421052631578947,
          3.3413654618473894,
          3.3389830508474576,
          3.3370535714285716,
          3.3354430379746836,
          3.3333333333333335,
          3.3263598326359833,
          3.3262032085561497,
          3.325301204819277,
          3.324074074074074,
          3.3220338983050848,
          3.3207547169811322,
          3.3204633204633205,
          3.317073170731707,
          3.316622691292876,
          3.3137254901960786,
          3.313380281690141,
          3.310344827586207,
          3.310344827586207,
          3.31021897810219,
          3.3043478260869565,
          3.3017241379310347,
          3.3,
          3.2972972972972974,
          3.2962962962962963,
          3.2962962962962963,
          3.295373665480427,
          3.293103448275862,
          3.292817679558011,
          3.2916666666666665,
          3.290155440414508,
          3.289473684210526,
          3.2888888888888888,
          3.2885906040268456,
          3.2884615384615383,
          3.287037037037037,
          3.2857142857142856,
          3.2857142857142856,
          3.279503105590062,
          3.278481012658228,
          3.276243093922652,
          3.2758620689655173,
          3.275,
          3.275,
          3.274193548387097,
          3.272727272727273,
          3.272727272727273,
          3.272727272727273,
          3.272727272727273,
          3.2686567164179103,
          3.2685185185185186,
          3.2672811059907834,
          3.265625,
          3.264705882352941,
          3.260869565217391,
          3.259259259259259,
          3.25,
          3.25,
          3.25,
          3.2465753424657535,
          3.2448453608247423,
          3.2439024390243905,
          3.2413793103448274,
          3.2413793103448274,
          3.24,
          3.23943661971831,
          3.236842105263158,
          3.235294117647059,
          3.2333333333333334,
          3.230769230769231,
          3.2304347826086954,
          3.227272727272727,
          3.2266666666666666,
          3.2222222222222223,
          3.2119815668202767,
          3.2054794520547945,
          3.2,
          3.1979166666666665,
          3.197530864197531,
          3.1951219512195124,
          3.192982456140351,
          3.1926605504587156,
          3.1923076923076925,
          3.1923076923076925,
          3.189189189189189,
          3.188679245283019,
          3.185185185185185,
          3.1818181818181817,
          3.1792114695340503,
          3.16875,
          3.1666666666666665,
          3.165289256198347,
          3.1543408360128615,
          3.1538461538461537,
          3.1478260869565218,
          3.1476510067114094,
          3.142857142857143,
          3.1403508771929824,
          3.14,
          3.137844611528822,
          3.1363636363636362,
          3.1363636363636362,
          3.1320754716981134,
          3.129032258064516,
          3.128205128205128,
          3.127659574468085,
          3.125874125874126,
          3.125,
          3.122916666666667,
          3.121495327102804,
          3.12,
          3.118279569892473,
          3.1176470588235294,
          3.1157894736842104,
          3.1153846153846154,
          3.1153846153846154,
          3.108108108108108,
          3.1052631578947367,
          3.1044776119402986,
          3.1041666666666665,
          3.1,
          3.1,
          3.09748427672956,
          3.0952380952380953,
          3.090909090909091,
          3.090909090909091,
          3.0869565217391304,
          3.081081081081081,
          3.0714285714285716,
          3.0689655172413794,
          3.0677966101694913,
          3.056179775280899,
          3.054662379421222,
          3.0508474576271185,
          3.050314465408805,
          3.049095607235142,
          3.0476190476190474,
          3.0476190476190474,
          3.045112781954887,
          3.0434782608695654,
          3.0384615384615383,
          3.0372670807453415,
          3.0357142857142856,
          3.0357142857142856,
          3.0342465753424657,
          3.0310880829015545,
          3.0310077519379846,
          3.0309278350515463,
          3.0294117647058822,
          3.0285714285714285,
          3.02803738317757,
          3.0252100840336134,
          3.017316017316017,
          3.0092879256965945,
          3.006993006993007,
          3,
          3,
          3,
          3,
          3,
          3,
          3,
          2.99290780141844,
          2.9806629834254146,
          2.9788135593220337,
          2.975609756097561,
          2.9714285714285715,
          2.9693877551020407,
          2.9682539682539684,
          2.966666666666667,
          2.963934426229508,
          2.9615384615384617,
          2.960526315789474,
          2.96,
          2.9594594594594597,
          2.9565217391304346,
          2.9558823529411766,
          2.953846153846154,
          2.9523809523809526,
          2.951923076923077,
          2.95,
          2.9473684210526314,
          2.94392523364486,
          2.942073170731707,
          2.93730407523511,
          2.928205128205128,
          2.925925925925926,
          2.908029197080292,
          2.9,
          2.9,
          2.8955223880597014,
          2.888888888888889,
          2.8857142857142857,
          2.875,
          2.874285714285714,
          2.872340425531915,
          2.8653061224489798,
          2.8646616541353382,
          2.8636363636363638,
          2.857142857142857,
          2.8484848484848486,
          2.84251968503937,
          2.806451612903226,
          2.8,
          2.7962962962962963,
          2.793103448275862,
          2.789473684210526,
          2.788793103448276,
          2.7666666666666666,
          2.75,
          2.735294117647059,
          2.7346938775510203,
          2.7333333333333334,
          2.7,
          2.6925795053003534,
          2.683720930232558,
          2.6818181818181817,
          2.670391061452514,
          2.6666666666666665,
          2.6666666666666665,
          2.6538461538461537,
          2.6467391304347827,
          2.6363636363636362,
          2.6203703703703702,
          2.615740740740741,
          2.6,
          2.6,
          2.5848214285714284,
          2.5555555555555554,
          2.5517241379310347,
          2.5421686746987953,
          2.5416666666666665,
          2.515151515151515,
          2.4903846153846154,
          2.4516129032258065,
          2.4285714285714284,
          2.392857142857143,
          2.34375,
          2.287878787878788,
          2.171875,
          2.164705882352941,
          2.0580357142857144,
          2.05,
          1.9851851851851852,
          1.8344640434192674,
          1.4919540229885058
         ],
         "xbins": {
          "size": 0.1
         }
        }
       ],
       "layout": {
        "bargap": 0.1,
        "template": {
         "data": {
          "bar": [
           {
            "error_x": {
             "color": "#2a3f5f"
            },
            "error_y": {
             "color": "#2a3f5f"
            },
            "marker": {
             "line": {
              "color": "#E5ECF6",
              "width": 0.5
             },
             "pattern": {
              "fillmode": "overlay",
              "size": 10,
              "solidity": 0.2
             }
            },
            "type": "bar"
           }
          ],
          "barpolar": [
           {
            "marker": {
             "line": {
              "color": "#E5ECF6",
              "width": 0.5
             },
             "pattern": {
              "fillmode": "overlay",
              "size": 10,
              "solidity": 0.2
             }
            },
            "type": "barpolar"
           }
          ],
          "carpet": [
           {
            "aaxis": {
             "endlinecolor": "#2a3f5f",
             "gridcolor": "white",
             "linecolor": "white",
             "minorgridcolor": "white",
             "startlinecolor": "#2a3f5f"
            },
            "baxis": {
             "endlinecolor": "#2a3f5f",
             "gridcolor": "white",
             "linecolor": "white",
             "minorgridcolor": "white",
             "startlinecolor": "#2a3f5f"
            },
            "type": "carpet"
           }
          ],
          "choropleth": [
           {
            "colorbar": {
             "outlinewidth": 0,
             "ticks": ""
            },
            "type": "choropleth"
           }
          ],
          "contour": [
           {
            "colorbar": {
             "outlinewidth": 0,
             "ticks": ""
            },
            "colorscale": [
             [
              0,
              "#0d0887"
             ],
             [
              0.1111111111111111,
              "#46039f"
             ],
             [
              0.2222222222222222,
              "#7201a8"
             ],
             [
              0.3333333333333333,
              "#9c179e"
             ],
             [
              0.4444444444444444,
              "#bd3786"
             ],
             [
              0.5555555555555556,
              "#d8576b"
             ],
             [
              0.6666666666666666,
              "#ed7953"
             ],
             [
              0.7777777777777778,
              "#fb9f3a"
             ],
             [
              0.8888888888888888,
              "#fdca26"
             ],
             [
              1,
              "#f0f921"
             ]
            ],
            "type": "contour"
           }
          ],
          "contourcarpet": [
           {
            "colorbar": {
             "outlinewidth": 0,
             "ticks": ""
            },
            "type": "contourcarpet"
           }
          ],
          "heatmap": [
           {
            "colorbar": {
             "outlinewidth": 0,
             "ticks": ""
            },
            "colorscale": [
             [
              0,
              "#0d0887"
             ],
             [
              0.1111111111111111,
              "#46039f"
             ],
             [
              0.2222222222222222,
              "#7201a8"
             ],
             [
              0.3333333333333333,
              "#9c179e"
             ],
             [
              0.4444444444444444,
              "#bd3786"
             ],
             [
              0.5555555555555556,
              "#d8576b"
             ],
             [
              0.6666666666666666,
              "#ed7953"
             ],
             [
              0.7777777777777778,
              "#fb9f3a"
             ],
             [
              0.8888888888888888,
              "#fdca26"
             ],
             [
              1,
              "#f0f921"
             ]
            ],
            "type": "heatmap"
           }
          ],
          "heatmapgl": [
           {
            "colorbar": {
             "outlinewidth": 0,
             "ticks": ""
            },
            "colorscale": [
             [
              0,
              "#0d0887"
             ],
             [
              0.1111111111111111,
              "#46039f"
             ],
             [
              0.2222222222222222,
              "#7201a8"
             ],
             [
              0.3333333333333333,
              "#9c179e"
             ],
             [
              0.4444444444444444,
              "#bd3786"
             ],
             [
              0.5555555555555556,
              "#d8576b"
             ],
             [
              0.6666666666666666,
              "#ed7953"
             ],
             [
              0.7777777777777778,
              "#fb9f3a"
             ],
             [
              0.8888888888888888,
              "#fdca26"
             ],
             [
              1,
              "#f0f921"
             ]
            ],
            "type": "heatmapgl"
           }
          ],
          "histogram": [
           {
            "marker": {
             "pattern": {
              "fillmode": "overlay",
              "size": 10,
              "solidity": 0.2
             }
            },
            "type": "histogram"
           }
          ],
          "histogram2d": [
           {
            "colorbar": {
             "outlinewidth": 0,
             "ticks": ""
            },
            "colorscale": [
             [
              0,
              "#0d0887"
             ],
             [
              0.1111111111111111,
              "#46039f"
             ],
             [
              0.2222222222222222,
              "#7201a8"
             ],
             [
              0.3333333333333333,
              "#9c179e"
             ],
             [
              0.4444444444444444,
              "#bd3786"
             ],
             [
              0.5555555555555556,
              "#d8576b"
             ],
             [
              0.6666666666666666,
              "#ed7953"
             ],
             [
              0.7777777777777778,
              "#fb9f3a"
             ],
             [
              0.8888888888888888,
              "#fdca26"
             ],
             [
              1,
              "#f0f921"
             ]
            ],
            "type": "histogram2d"
           }
          ],
          "histogram2dcontour": [
           {
            "colorbar": {
             "outlinewidth": 0,
             "ticks": ""
            },
            "colorscale": [
             [
              0,
              "#0d0887"
             ],
             [
              0.1111111111111111,
              "#46039f"
             ],
             [
              0.2222222222222222,
              "#7201a8"
             ],
             [
              0.3333333333333333,
              "#9c179e"
             ],
             [
              0.4444444444444444,
              "#bd3786"
             ],
             [
              0.5555555555555556,
              "#d8576b"
             ],
             [
              0.6666666666666666,
              "#ed7953"
             ],
             [
              0.7777777777777778,
              "#fb9f3a"
             ],
             [
              0.8888888888888888,
              "#fdca26"
             ],
             [
              1,
              "#f0f921"
             ]
            ],
            "type": "histogram2dcontour"
           }
          ],
          "mesh3d": [
           {
            "colorbar": {
             "outlinewidth": 0,
             "ticks": ""
            },
            "type": "mesh3d"
           }
          ],
          "parcoords": [
           {
            "line": {
             "colorbar": {
              "outlinewidth": 0,
              "ticks": ""
             }
            },
            "type": "parcoords"
           }
          ],
          "pie": [
           {
            "automargin": true,
            "type": "pie"
           }
          ],
          "scatter": [
           {
            "fillpattern": {
             "fillmode": "overlay",
             "size": 10,
             "solidity": 0.2
            },
            "type": "scatter"
           }
          ],
          "scatter3d": [
           {
            "line": {
             "colorbar": {
              "outlinewidth": 0,
              "ticks": ""
             }
            },
            "marker": {
             "colorbar": {
              "outlinewidth": 0,
              "ticks": ""
             }
            },
            "type": "scatter3d"
           }
          ],
          "scattercarpet": [
           {
            "marker": {
             "colorbar": {
              "outlinewidth": 0,
              "ticks": ""
             }
            },
            "type": "scattercarpet"
           }
          ],
          "scattergeo": [
           {
            "marker": {
             "colorbar": {
              "outlinewidth": 0,
              "ticks": ""
             }
            },
            "type": "scattergeo"
           }
          ],
          "scattergl": [
           {
            "marker": {
             "colorbar": {
              "outlinewidth": 0,
              "ticks": ""
             }
            },
            "type": "scattergl"
           }
          ],
          "scattermapbox": [
           {
            "marker": {
             "colorbar": {
              "outlinewidth": 0,
              "ticks": ""
             }
            },
            "type": "scattermapbox"
           }
          ],
          "scatterpolar": [
           {
            "marker": {
             "colorbar": {
              "outlinewidth": 0,
              "ticks": ""
             }
            },
            "type": "scatterpolar"
           }
          ],
          "scatterpolargl": [
           {
            "marker": {
             "colorbar": {
              "outlinewidth": 0,
              "ticks": ""
             }
            },
            "type": "scatterpolargl"
           }
          ],
          "scatterternary": [
           {
            "marker": {
             "colorbar": {
              "outlinewidth": 0,
              "ticks": ""
             }
            },
            "type": "scatterternary"
           }
          ],
          "surface": [
           {
            "colorbar": {
             "outlinewidth": 0,
             "ticks": ""
            },
            "colorscale": [
             [
              0,
              "#0d0887"
             ],
             [
              0.1111111111111111,
              "#46039f"
             ],
             [
              0.2222222222222222,
              "#7201a8"
             ],
             [
              0.3333333333333333,
              "#9c179e"
             ],
             [
              0.4444444444444444,
              "#bd3786"
             ],
             [
              0.5555555555555556,
              "#d8576b"
             ],
             [
              0.6666666666666666,
              "#ed7953"
             ],
             [
              0.7777777777777778,
              "#fb9f3a"
             ],
             [
              0.8888888888888888,
              "#fdca26"
             ],
             [
              1,
              "#f0f921"
             ]
            ],
            "type": "surface"
           }
          ],
          "table": [
           {
            "cells": {
             "fill": {
              "color": "#EBF0F8"
             },
             "line": {
              "color": "white"
             }
            },
            "header": {
             "fill": {
              "color": "#C8D4E3"
             },
             "line": {
              "color": "white"
             }
            },
            "type": "table"
           }
          ]
         },
         "layout": {
          "annotationdefaults": {
           "arrowcolor": "#2a3f5f",
           "arrowhead": 0,
           "arrowwidth": 1
          },
          "autotypenumbers": "strict",
          "coloraxis": {
           "colorbar": {
            "outlinewidth": 0,
            "ticks": ""
           }
          },
          "colorscale": {
           "diverging": [
            [
             0,
             "#8e0152"
            ],
            [
             0.1,
             "#c51b7d"
            ],
            [
             0.2,
             "#de77ae"
            ],
            [
             0.3,
             "#f1b6da"
            ],
            [
             0.4,
             "#fde0ef"
            ],
            [
             0.5,
             "#f7f7f7"
            ],
            [
             0.6,
             "#e6f5d0"
            ],
            [
             0.7,
             "#b8e186"
            ],
            [
             0.8,
             "#7fbc41"
            ],
            [
             0.9,
             "#4d9221"
            ],
            [
             1,
             "#276419"
            ]
           ],
           "sequential": [
            [
             0,
             "#0d0887"
            ],
            [
             0.1111111111111111,
             "#46039f"
            ],
            [
             0.2222222222222222,
             "#7201a8"
            ],
            [
             0.3333333333333333,
             "#9c179e"
            ],
            [
             0.4444444444444444,
             "#bd3786"
            ],
            [
             0.5555555555555556,
             "#d8576b"
            ],
            [
             0.6666666666666666,
             "#ed7953"
            ],
            [
             0.7777777777777778,
             "#fb9f3a"
            ],
            [
             0.8888888888888888,
             "#fdca26"
            ],
            [
             1,
             "#f0f921"
            ]
           ],
           "sequentialminus": [
            [
             0,
             "#0d0887"
            ],
            [
             0.1111111111111111,
             "#46039f"
            ],
            [
             0.2222222222222222,
             "#7201a8"
            ],
            [
             0.3333333333333333,
             "#9c179e"
            ],
            [
             0.4444444444444444,
             "#bd3786"
            ],
            [
             0.5555555555555556,
             "#d8576b"
            ],
            [
             0.6666666666666666,
             "#ed7953"
            ],
            [
             0.7777777777777778,
             "#fb9f3a"
            ],
            [
             0.8888888888888888,
             "#fdca26"
            ],
            [
             1,
             "#f0f921"
            ]
           ]
          },
          "colorway": [
           "#636efa",
           "#EF553B",
           "#00cc96",
           "#ab63fa",
           "#FFA15A",
           "#19d3f3",
           "#FF6692",
           "#B6E880",
           "#FF97FF",
           "#FECB52"
          ],
          "font": {
           "color": "#2a3f5f"
          },
          "geo": {
           "bgcolor": "white",
           "lakecolor": "white",
           "landcolor": "#E5ECF6",
           "showlakes": true,
           "showland": true,
           "subunitcolor": "white"
          },
          "hoverlabel": {
           "align": "left"
          },
          "hovermode": "closest",
          "mapbox": {
           "style": "light"
          },
          "paper_bgcolor": "white",
          "plot_bgcolor": "#E5ECF6",
          "polar": {
           "angularaxis": {
            "gridcolor": "white",
            "linecolor": "white",
            "ticks": ""
           },
           "bgcolor": "#E5ECF6",
           "radialaxis": {
            "gridcolor": "white",
            "linecolor": "white",
            "ticks": ""
           }
          },
          "scene": {
           "xaxis": {
            "backgroundcolor": "#E5ECF6",
            "gridcolor": "white",
            "gridwidth": 2,
            "linecolor": "white",
            "showbackground": true,
            "ticks": "",
            "zerolinecolor": "white"
           },
           "yaxis": {
            "backgroundcolor": "#E5ECF6",
            "gridcolor": "white",
            "gridwidth": 2,
            "linecolor": "white",
            "showbackground": true,
            "ticks": "",
            "zerolinecolor": "white"
           },
           "zaxis": {
            "backgroundcolor": "#E5ECF6",
            "gridcolor": "white",
            "gridwidth": 2,
            "linecolor": "white",
            "showbackground": true,
            "ticks": "",
            "zerolinecolor": "white"
           }
          },
          "shapedefaults": {
           "line": {
            "color": "#2a3f5f"
           }
          },
          "ternary": {
           "aaxis": {
            "gridcolor": "white",
            "linecolor": "white",
            "ticks": ""
           },
           "baxis": {
            "gridcolor": "white",
            "linecolor": "white",
            "ticks": ""
           },
           "bgcolor": "#E5ECF6",
           "caxis": {
            "gridcolor": "white",
            "linecolor": "white",
            "ticks": ""
           }
          },
          "title": {
           "x": 0.05
          },
          "xaxis": {
           "automargin": true,
           "gridcolor": "white",
           "linecolor": "white",
           "ticks": "",
           "title": {
            "standoff": 15
           },
           "zerolinecolor": "white",
           "zerolinewidth": 2
          },
          "yaxis": {
           "automargin": true,
           "gridcolor": "white",
           "linecolor": "white",
           "ticks": "",
           "title": {
            "standoff": 15
           },
           "zerolinecolor": "white",
           "zerolinewidth": 2
          }
         }
        },
        "title": {
         "text": "Distribution of average rating by users"
        },
        "xaxis": {
         "title": {
          "text": "Mean rating by user"
         }
        },
        "yaxis": {
         "title": {
          "text": "Count/number of users"
         }
        }
       }
      }
     },
     "metadata": {},
     "output_type": "display_data"
    }
   ],
   "source": [
    "data = df.groupby('userID')['rating'].agg('mean').sort_values(ascending=False)\n",
    "display(data.head(10))\n",
    "\n",
    "# Create trace\n",
    "trace = go.Histogram(x = data.values,\n",
    "                     name = 'Ratings',\n",
    "                     xbins = dict(#start = 0.0,\n",
    "                                  #end = 5.0,\n",
    "                                  size = 0.1))\n",
    "# Create layout\n",
    "layout = go.Layout(title = 'Distribution of average rating by users',\n",
    "                   xaxis = dict(title = 'Mean rating by user'),\n",
    "                   yaxis = dict(title = 'Count/number of users'),\n",
    "                   bargap = 0.1)\n",
    "\n",
    "# Create plot\n",
    "fig = go.Figure(data=[trace], layout=layout)\n",
    "iplot(fig)"
   ]
  },
  {
   "cell_type": "code",
   "execution_count": 9,
   "metadata": {},
   "outputs": [
    {
     "data": {
      "text/html": [
       "<div>\n",
       "<style scoped>\n",
       "    .dataframe tbody tr th:only-of-type {\n",
       "        vertical-align: middle;\n",
       "    }\n",
       "\n",
       "    .dataframe tbody tr th {\n",
       "        vertical-align: top;\n",
       "    }\n",
       "\n",
       "    .dataframe thead th {\n",
       "        text-align: right;\n",
       "    }\n",
       "</style>\n",
       "<table border=\"1\" class=\"dataframe\">\n",
       "  <thead>\n",
       "    <tr style=\"text-align: right;\">\n",
       "      <th></th>\n",
       "      <th>userID</th>\n",
       "      <th>rating</th>\n",
       "    </tr>\n",
       "  </thead>\n",
       "  <tbody>\n",
       "    <tr>\n",
       "      <th>404</th>\n",
       "      <td>405</td>\n",
       "      <td>737</td>\n",
       "    </tr>\n",
       "    <tr>\n",
       "      <th>654</th>\n",
       "      <td>655</td>\n",
       "      <td>685</td>\n",
       "    </tr>\n",
       "    <tr>\n",
       "      <th>12</th>\n",
       "      <td>13</td>\n",
       "      <td>636</td>\n",
       "    </tr>\n",
       "    <tr>\n",
       "      <th>449</th>\n",
       "      <td>450</td>\n",
       "      <td>540</td>\n",
       "    </tr>\n",
       "    <tr>\n",
       "      <th>275</th>\n",
       "      <td>276</td>\n",
       "      <td>518</td>\n",
       "    </tr>\n",
       "    <tr>\n",
       "      <th>...</th>\n",
       "      <td>...</td>\n",
       "      <td>...</td>\n",
       "    </tr>\n",
       "    <tr>\n",
       "      <th>684</th>\n",
       "      <td>685</td>\n",
       "      <td>20</td>\n",
       "    </tr>\n",
       "    <tr>\n",
       "      <th>474</th>\n",
       "      <td>475</td>\n",
       "      <td>20</td>\n",
       "    </tr>\n",
       "    <tr>\n",
       "      <th>35</th>\n",
       "      <td>36</td>\n",
       "      <td>20</td>\n",
       "    </tr>\n",
       "    <tr>\n",
       "      <th>731</th>\n",
       "      <td>732</td>\n",
       "      <td>20</td>\n",
       "    </tr>\n",
       "    <tr>\n",
       "      <th>595</th>\n",
       "      <td>596</td>\n",
       "      <td>20</td>\n",
       "    </tr>\n",
       "  </tbody>\n",
       "</table>\n",
       "<p>943 rows × 2 columns</p>\n",
       "</div>"
      ],
      "text/plain": [
       "     userID  rating\n",
       "404     405     737\n",
       "654     655     685\n",
       "12       13     636\n",
       "449     450     540\n",
       "275     276     518\n",
       "..      ...     ...\n",
       "684     685      20\n",
       "474     475      20\n",
       "35       36      20\n",
       "731     732      20\n",
       "595     596      20\n",
       "\n",
       "[943 rows x 2 columns]"
      ]
     },
     "metadata": {},
     "output_type": "display_data"
    }
   ],
   "source": [
    "display(df.groupby('userID')['rating'].count().reset_index().sort_values('rating', ascending=False))"
   ]
  },
  {
   "attachments": {},
   "cell_type": "markdown",
   "metadata": {},
   "source": [
    "Analysis based on the EDA can be found in the report.\n",
    "\n",
    "# Creating a model using suprise\n",
    "\n",
    "For this the Suprise library is used. Suprise is a python scikit made specifically for recommender systems, and it includes a variety of prediction algorithms (using collaborative methods). First, we will test the different algorithms (by cross-validating) and find the one who gives the least Root-Mean-Square-Error (RMSE)."
   ]
  },
  {
   "cell_type": "code",
   "execution_count": 10,
   "metadata": {},
   "outputs": [
    {
     "name": "stdout",
     "output_type": "stream",
     "text": [
      "Estimating biases using als...\n",
      "Computing the msd similarity matrix...\n",
      "Done computing similarity matrix.\n",
      "Estimating biases using als...\n",
      "Computing the msd similarity matrix...\n",
      "Done computing similarity matrix.\n",
      "Estimating biases using als...\n",
      "Computing the msd similarity matrix...\n",
      "Done computing similarity matrix.\n",
      "Computing the msd similarity matrix...\n",
      "Done computing similarity matrix.\n",
      "Computing the msd similarity matrix...\n",
      "Done computing similarity matrix.\n",
      "Computing the msd similarity matrix...\n",
      "Done computing similarity matrix.\n",
      "Computing the msd similarity matrix...\n",
      "Done computing similarity matrix.\n",
      "Computing the msd similarity matrix...\n",
      "Done computing similarity matrix.\n",
      "Computing the msd similarity matrix...\n",
      "Done computing similarity matrix.\n",
      "Computing the msd similarity matrix...\n",
      "Done computing similarity matrix.\n",
      "Computing the msd similarity matrix...\n",
      "Done computing similarity matrix.\n",
      "Computing the msd similarity matrix...\n",
      "Done computing similarity matrix.\n",
      "Estimating biases using als...\n",
      "Estimating biases using als...\n",
      "Estimating biases using als...\n"
     ]
    },
    {
     "data": {
      "text/html": [
       "<div>\n",
       "<style scoped>\n",
       "    .dataframe tbody tr th:only-of-type {\n",
       "        vertical-align: middle;\n",
       "    }\n",
       "\n",
       "    .dataframe tbody tr th {\n",
       "        vertical-align: top;\n",
       "    }\n",
       "\n",
       "    .dataframe thead th {\n",
       "        text-align: right;\n",
       "    }\n",
       "</style>\n",
       "<table border=\"1\" class=\"dataframe\">\n",
       "  <thead>\n",
       "    <tr style=\"text-align: right;\">\n",
       "      <th></th>\n",
       "      <th>test_rmse</th>\n",
       "      <th>fit_time</th>\n",
       "      <th>test_time</th>\n",
       "    </tr>\n",
       "    <tr>\n",
       "      <th>Algorithm</th>\n",
       "      <th></th>\n",
       "      <th></th>\n",
       "      <th></th>\n",
       "    </tr>\n",
       "  </thead>\n",
       "  <tbody>\n",
       "    <tr>\n",
       "      <th>SVDpp</th>\n",
       "      <td>0.926785</td>\n",
       "      <td>17.159596</td>\n",
       "      <td>6.733058</td>\n",
       "    </tr>\n",
       "    <tr>\n",
       "      <th>KNNBaseline</th>\n",
       "      <td>0.936582</td>\n",
       "      <td>0.387339</td>\n",
       "      <td>6.667382</td>\n",
       "    </tr>\n",
       "    <tr>\n",
       "      <th>SVD</th>\n",
       "      <td>0.944588</td>\n",
       "      <td>1.722145</td>\n",
       "      <td>0.540839</td>\n",
       "    </tr>\n",
       "    <tr>\n",
       "      <th>BaselineOnly</th>\n",
       "      <td>0.947630</td>\n",
       "      <td>0.102988</td>\n",
       "      <td>0.274377</td>\n",
       "    </tr>\n",
       "    <tr>\n",
       "      <th>SlopeOne</th>\n",
       "      <td>0.948573</td>\n",
       "      <td>0.436195</td>\n",
       "      <td>4.273286</td>\n",
       "    </tr>\n",
       "    <tr>\n",
       "      <th>KNNWithMeans</th>\n",
       "      <td>0.956960</td>\n",
       "      <td>0.333620</td>\n",
       "      <td>5.844114</td>\n",
       "    </tr>\n",
       "    <tr>\n",
       "      <th>KNNWithZScore</th>\n",
       "      <td>0.956965</td>\n",
       "      <td>0.366060</td>\n",
       "      <td>6.451483</td>\n",
       "    </tr>\n",
       "    <tr>\n",
       "      <th>NMF</th>\n",
       "      <td>0.977316</td>\n",
       "      <td>1.703451</td>\n",
       "      <td>0.315504</td>\n",
       "    </tr>\n",
       "    <tr>\n",
       "      <th>KNNBasic</th>\n",
       "      <td>0.988572</td>\n",
       "      <td>0.314251</td>\n",
       "      <td>5.483605</td>\n",
       "    </tr>\n",
       "    <tr>\n",
       "      <th>NormalPredictor</th>\n",
       "      <td>1.516615</td>\n",
       "      <td>0.128374</td>\n",
       "      <td>0.261235</td>\n",
       "    </tr>\n",
       "  </tbody>\n",
       "</table>\n",
       "</div>"
      ],
      "text/plain": [
       "                 test_rmse   fit_time  test_time\n",
       "Algorithm                                       \n",
       "SVDpp             0.926785  17.159596   6.733058\n",
       "KNNBaseline       0.936582   0.387339   6.667382\n",
       "SVD               0.944588   1.722145   0.540839\n",
       "BaselineOnly      0.947630   0.102988   0.274377\n",
       "SlopeOne          0.948573   0.436195   4.273286\n",
       "KNNWithMeans      0.956960   0.333620   5.844114\n",
       "KNNWithZScore     0.956965   0.366060   6.451483\n",
       "NMF               0.977316   1.703451   0.315504\n",
       "KNNBasic          0.988572   0.314251   5.483605\n",
       "NormalPredictor   1.516615   0.128374   0.261235"
      ]
     },
     "execution_count": 10,
     "metadata": {},
     "output_type": "execute_result"
    }
   ],
   "source": [
    "from surprise import NormalPredictor, SVD, KNNBasic, NMF\n",
    "from surprise import Dataset, Reader\n",
    "from surprise import accuracy\n",
    "from surprise.model_selection import cross_validate, KFold\n",
    "\n",
    "\n",
    "from surprise import NormalPredictor\n",
    "from surprise import KNNBasic\n",
    "from surprise import KNNWithMeans\n",
    "from surprise import KNNWithZScore\n",
    "from surprise import KNNBaseline\n",
    "from surprise import BaselineOnly\n",
    "from surprise import SVD\n",
    "from surprise import SVDpp\n",
    "from surprise import NMF\n",
    "from surprise import SlopeOne\n",
    "from surprise.model_selection import train_test_split\n",
    "\n",
    "reader = Reader(line_format='user item rating timestamp', sep='\\t')\n",
    "reader = Reader(rating_scale=(1.0, 5.0))\n",
    "\n",
    "data = Dataset.load_from_df(df[['userID', 'itemID', 'rating']], reader)\n",
    "\n",
    "benchmark = []\n",
    "# Iterate over all algorithms\n",
    "for algorithm in [SVD(), SVDpp(), SlopeOne(), NMF(), NormalPredictor(), KNNBaseline(), KNNBasic(), KNNWithMeans(), KNNWithZScore(), BaselineOnly()]:\n",
    "    # Perform cross validation\n",
    "    results = cross_validate(algorithm, data, measures=['RMSE'], cv=3, verbose=False)\n",
    "    \n",
    "    # Get results & append algorithm name\n",
    "    tmp = pd.DataFrame.from_dict(results).mean(axis=0)\n",
    "    tmp = tmp.append(pd.Series([str(algorithm).split(' ')[0].split('.')[-1]],index=['Algorithm']))\n",
    "    benchmark.append(tmp)\n",
    "\n",
    "surprise_results = pd.DataFrame(benchmark).set_index('Algorithm').sort_values('test_rmse')\n",
    "surprise_results"
   ]
  },
  {
   "attachments": {},
   "cell_type": "markdown",
   "metadata": {},
   "source": [
    "We see that SVDpp provides the best RMSE values, therefore we will continue with that. Though it does have a long fit and test time, it is not significant to chose another algorithm."
   ]
  },
  {
   "cell_type": "code",
   "execution_count": 21,
   "metadata": {},
   "outputs": [
    {
     "name": "stdout",
     "output_type": "stream",
     "text": [
      "RMSE: 0.9257\n",
      "0.9257303251983675\n"
     ]
    }
   ],
   "source": [
    "trainset, testset = train_test_split(data, test_size=0.2)\n",
    "algo = SVDpp()\n",
    "\n",
    "\n",
    "predictions = algo.fit(trainset).test(testset)\n",
    "print(accuracy.rmse(predictions))"
   ]
  },
  {
   "cell_type": "code",
   "execution_count": 33,
   "metadata": {},
   "outputs": [],
   "source": [
    "def get_Iu(uid):\n",
    "    \"\"\" return the number of items rated by given user\n",
    "    args: \n",
    "      uid: the id of the user\n",
    "    returns: \n",
    "      the number of items rated by the user\n",
    "    \"\"\"\n",
    "    try:\n",
    "        return len(trainset.ur[trainset.to_inner_uid(uid)])\n",
    "    except ValueError: # user was not part of the trainset\n",
    "        return 0\n",
    "    \n",
    "def get_Ui(iid):\n",
    "    \"\"\" return number of users that have rated given item\n",
    "    args:\n",
    "      iid: the raw id of the item\n",
    "    returns:\n",
    "      the number of users that have rated the item.\n",
    "    \"\"\"\n",
    "    try: \n",
    "        return len(trainset.ir[trainset.to_inner_iid(iid)])\n",
    "    except ValueError:\n",
    "        return 0\n",
    "    \n",
    "df_predictions = pd.DataFrame(predictions, columns=['uid', 'iid', 'rui', 'est', 'details'])\n",
    "df_predictions['Iu'] = df_predictions.uid.apply(get_Iu)\n",
    "df_predictions['Ui'] = df_predictions.iid.apply(get_Ui)\n",
    "df_predictions['err'] = abs(df_predictions.est - df_predictions.rui)\n",
    "# df_predictions1.head()\n",
    "best_predictions = df_predictions.sort_values(by='err')[:10]\n",
    "worst_predictions = df_predictions.sort_values(by='err')[-10:]"
   ]
  },
  {
   "cell_type": "code",
   "execution_count": 25,
   "metadata": {},
   "outputs": [
    {
     "data": {
      "text/html": [
       "<div>\n",
       "<style scoped>\n",
       "    .dataframe tbody tr th:only-of-type {\n",
       "        vertical-align: middle;\n",
       "    }\n",
       "\n",
       "    .dataframe tbody tr th {\n",
       "        vertical-align: top;\n",
       "    }\n",
       "\n",
       "    .dataframe thead th {\n",
       "        text-align: right;\n",
       "    }\n",
       "</style>\n",
       "<table border=\"1\" class=\"dataframe\">\n",
       "  <thead>\n",
       "    <tr style=\"text-align: right;\">\n",
       "      <th></th>\n",
       "      <th>uid</th>\n",
       "      <th>iid</th>\n",
       "      <th>rui</th>\n",
       "      <th>est</th>\n",
       "      <th>details</th>\n",
       "      <th>Iu</th>\n",
       "      <th>Ui</th>\n",
       "      <th>err</th>\n",
       "    </tr>\n",
       "  </thead>\n",
       "  <tbody>\n",
       "    <tr>\n",
       "      <th>19384</th>\n",
       "      <td>628</td>\n",
       "      <td>300</td>\n",
       "      <td>5.0</td>\n",
       "      <td>5.0</td>\n",
       "      <td>{'was_impossible': False}</td>\n",
       "      <td>18</td>\n",
       "      <td>335</td>\n",
       "      <td>0.0</td>\n",
       "    </tr>\n",
       "    <tr>\n",
       "      <th>16802</th>\n",
       "      <td>416</td>\n",
       "      <td>144</td>\n",
       "      <td>5.0</td>\n",
       "      <td>5.0</td>\n",
       "      <td>{'was_impossible': False}</td>\n",
       "      <td>404</td>\n",
       "      <td>195</td>\n",
       "      <td>0.0</td>\n",
       "    </tr>\n",
       "    <tr>\n",
       "      <th>12135</th>\n",
       "      <td>592</td>\n",
       "      <td>238</td>\n",
       "      <td>5.0</td>\n",
       "      <td>5.0</td>\n",
       "      <td>{'was_impossible': False}</td>\n",
       "      <td>288</td>\n",
       "      <td>209</td>\n",
       "      <td>0.0</td>\n",
       "    </tr>\n",
       "    <tr>\n",
       "      <th>11996</th>\n",
       "      <td>264</td>\n",
       "      <td>56</td>\n",
       "      <td>5.0</td>\n",
       "      <td>5.0</td>\n",
       "      <td>{'was_impossible': False}</td>\n",
       "      <td>96</td>\n",
       "      <td>322</td>\n",
       "      <td>0.0</td>\n",
       "    </tr>\n",
       "    <tr>\n",
       "      <th>18649</th>\n",
       "      <td>348</td>\n",
       "      <td>313</td>\n",
       "      <td>5.0</td>\n",
       "      <td>5.0</td>\n",
       "      <td>{'was_impossible': False}</td>\n",
       "      <td>42</td>\n",
       "      <td>285</td>\n",
       "      <td>0.0</td>\n",
       "    </tr>\n",
       "    <tr>\n",
       "      <th>11903</th>\n",
       "      <td>537</td>\n",
       "      <td>539</td>\n",
       "      <td>1.0</td>\n",
       "      <td>1.0</td>\n",
       "      <td>{'was_impossible': False}</td>\n",
       "      <td>385</td>\n",
       "      <td>33</td>\n",
       "      <td>0.0</td>\n",
       "    </tr>\n",
       "    <tr>\n",
       "      <th>8394</th>\n",
       "      <td>851</td>\n",
       "      <td>172</td>\n",
       "      <td>5.0</td>\n",
       "      <td>5.0</td>\n",
       "      <td>{'was_impossible': False}</td>\n",
       "      <td>164</td>\n",
       "      <td>305</td>\n",
       "      <td>0.0</td>\n",
       "    </tr>\n",
       "    <tr>\n",
       "      <th>18662</th>\n",
       "      <td>774</td>\n",
       "      <td>758</td>\n",
       "      <td>1.0</td>\n",
       "      <td>1.0</td>\n",
       "      <td>{'was_impossible': False}</td>\n",
       "      <td>179</td>\n",
       "      <td>15</td>\n",
       "      <td>0.0</td>\n",
       "    </tr>\n",
       "    <tr>\n",
       "      <th>17761</th>\n",
       "      <td>405</td>\n",
       "      <td>669</td>\n",
       "      <td>1.0</td>\n",
       "      <td>1.0</td>\n",
       "      <td>{'was_impossible': False}</td>\n",
       "      <td>599</td>\n",
       "      <td>9</td>\n",
       "      <td>0.0</td>\n",
       "    </tr>\n",
       "    <tr>\n",
       "      <th>11842</th>\n",
       "      <td>200</td>\n",
       "      <td>50</td>\n",
       "      <td>5.0</td>\n",
       "      <td>5.0</td>\n",
       "      <td>{'was_impossible': False}</td>\n",
       "      <td>165</td>\n",
       "      <td>458</td>\n",
       "      <td>0.0</td>\n",
       "    </tr>\n",
       "  </tbody>\n",
       "</table>\n",
       "</div>"
      ],
      "text/plain": [
       "       uid  iid  rui  est                    details   Iu   Ui  err\n",
       "19384  628  300  5.0  5.0  {'was_impossible': False}   18  335  0.0\n",
       "16802  416  144  5.0  5.0  {'was_impossible': False}  404  195  0.0\n",
       "12135  592  238  5.0  5.0  {'was_impossible': False}  288  209  0.0\n",
       "11996  264   56  5.0  5.0  {'was_impossible': False}   96  322  0.0\n",
       "18649  348  313  5.0  5.0  {'was_impossible': False}   42  285  0.0\n",
       "11903  537  539  1.0  1.0  {'was_impossible': False}  385   33  0.0\n",
       "8394   851  172  5.0  5.0  {'was_impossible': False}  164  305  0.0\n",
       "18662  774  758  1.0  1.0  {'was_impossible': False}  179   15  0.0\n",
       "17761  405  669  1.0  1.0  {'was_impossible': False}  599    9  0.0\n",
       "11842  200   50  5.0  5.0  {'was_impossible': False}  165  458  0.0"
      ]
     },
     "execution_count": 25,
     "metadata": {},
     "output_type": "execute_result"
    }
   ],
   "source": [
    "best_predictions"
   ]
  },
  {
   "cell_type": "code",
   "execution_count": 26,
   "metadata": {},
   "outputs": [
    {
     "data": {
      "text/html": [
       "<div>\n",
       "<style scoped>\n",
       "    .dataframe tbody tr th:only-of-type {\n",
       "        vertical-align: middle;\n",
       "    }\n",
       "\n",
       "    .dataframe tbody tr th {\n",
       "        vertical-align: top;\n",
       "    }\n",
       "\n",
       "    .dataframe thead th {\n",
       "        text-align: right;\n",
       "    }\n",
       "</style>\n",
       "<table border=\"1\" class=\"dataframe\">\n",
       "  <thead>\n",
       "    <tr style=\"text-align: right;\">\n",
       "      <th></th>\n",
       "      <th>uid</th>\n",
       "      <th>iid</th>\n",
       "      <th>rui</th>\n",
       "      <th>est</th>\n",
       "      <th>details</th>\n",
       "      <th>Iu</th>\n",
       "      <th>Ui</th>\n",
       "      <th>err</th>\n",
       "    </tr>\n",
       "  </thead>\n",
       "  <tbody>\n",
       "    <tr>\n",
       "      <th>8831</th>\n",
       "      <td>314</td>\n",
       "      <td>70</td>\n",
       "      <td>1.0</td>\n",
       "      <td>4.399133</td>\n",
       "      <td>{'was_impossible': False}</td>\n",
       "      <td>198</td>\n",
       "      <td>203</td>\n",
       "      <td>3.399133</td>\n",
       "    </tr>\n",
       "    <tr>\n",
       "      <th>19801</th>\n",
       "      <td>167</td>\n",
       "      <td>169</td>\n",
       "      <td>1.0</td>\n",
       "      <td>4.407055</td>\n",
       "      <td>{'was_impossible': False}</td>\n",
       "      <td>59</td>\n",
       "      <td>90</td>\n",
       "      <td>3.407055</td>\n",
       "    </tr>\n",
       "    <tr>\n",
       "      <th>15963</th>\n",
       "      <td>295</td>\n",
       "      <td>96</td>\n",
       "      <td>1.0</td>\n",
       "      <td>4.464123</td>\n",
       "      <td>{'was_impossible': False}</td>\n",
       "      <td>150</td>\n",
       "      <td>231</td>\n",
       "      <td>3.464123</td>\n",
       "    </tr>\n",
       "    <tr>\n",
       "      <th>4897</th>\n",
       "      <td>777</td>\n",
       "      <td>100</td>\n",
       "      <td>1.0</td>\n",
       "      <td>4.464446</td>\n",
       "      <td>{'was_impossible': False}</td>\n",
       "      <td>27</td>\n",
       "      <td>387</td>\n",
       "      <td>3.464446</td>\n",
       "    </tr>\n",
       "    <tr>\n",
       "      <th>16173</th>\n",
       "      <td>239</td>\n",
       "      <td>318</td>\n",
       "      <td>1.0</td>\n",
       "      <td>4.478511</td>\n",
       "      <td>{'was_impossible': False}</td>\n",
       "      <td>131</td>\n",
       "      <td>249</td>\n",
       "      <td>3.478511</td>\n",
       "    </tr>\n",
       "    <tr>\n",
       "      <th>6585</th>\n",
       "      <td>934</td>\n",
       "      <td>216</td>\n",
       "      <td>1.0</td>\n",
       "      <td>4.484552</td>\n",
       "      <td>{'was_impossible': False}</td>\n",
       "      <td>141</td>\n",
       "      <td>245</td>\n",
       "      <td>3.484552</td>\n",
       "    </tr>\n",
       "    <tr>\n",
       "      <th>7307</th>\n",
       "      <td>405</td>\n",
       "      <td>238</td>\n",
       "      <td>5.0</td>\n",
       "      <td>1.494252</td>\n",
       "      <td>{'was_impossible': False}</td>\n",
       "      <td>599</td>\n",
       "      <td>209</td>\n",
       "      <td>3.505748</td>\n",
       "    </tr>\n",
       "    <tr>\n",
       "      <th>4157</th>\n",
       "      <td>286</td>\n",
       "      <td>421</td>\n",
       "      <td>1.0</td>\n",
       "      <td>4.587740</td>\n",
       "      <td>{'was_impossible': False}</td>\n",
       "      <td>233</td>\n",
       "      <td>85</td>\n",
       "      <td>3.587740</td>\n",
       "    </tr>\n",
       "    <tr>\n",
       "      <th>3658</th>\n",
       "      <td>314</td>\n",
       "      <td>173</td>\n",
       "      <td>1.0</td>\n",
       "      <td>4.704296</td>\n",
       "      <td>{'was_impossible': False}</td>\n",
       "      <td>198</td>\n",
       "      <td>254</td>\n",
       "      <td>3.704296</td>\n",
       "    </tr>\n",
       "    <tr>\n",
       "      <th>7980</th>\n",
       "      <td>405</td>\n",
       "      <td>376</td>\n",
       "      <td>5.0</td>\n",
       "      <td>1.000000</td>\n",
       "      <td>{'was_impossible': False}</td>\n",
       "      <td>599</td>\n",
       "      <td>19</td>\n",
       "      <td>4.000000</td>\n",
       "    </tr>\n",
       "  </tbody>\n",
       "</table>\n",
       "</div>"
      ],
      "text/plain": [
       "       uid  iid  rui       est                    details   Iu   Ui       err\n",
       "8831   314   70  1.0  4.399133  {'was_impossible': False}  198  203  3.399133\n",
       "19801  167  169  1.0  4.407055  {'was_impossible': False}   59   90  3.407055\n",
       "15963  295   96  1.0  4.464123  {'was_impossible': False}  150  231  3.464123\n",
       "4897   777  100  1.0  4.464446  {'was_impossible': False}   27  387  3.464446\n",
       "16173  239  318  1.0  4.478511  {'was_impossible': False}  131  249  3.478511\n",
       "6585   934  216  1.0  4.484552  {'was_impossible': False}  141  245  3.484552\n",
       "7307   405  238  5.0  1.494252  {'was_impossible': False}  599  209  3.505748\n",
       "4157   286  421  1.0  4.587740  {'was_impossible': False}  233   85  3.587740\n",
       "3658   314  173  1.0  4.704296  {'was_impossible': False}  198  254  3.704296\n",
       "7980   405  376  5.0  1.000000  {'was_impossible': False}  599   19  4.000000"
      ]
     },
     "execution_count": 26,
     "metadata": {},
     "output_type": "execute_result"
    }
   ],
   "source": [
    "worst_predictions"
   ]
  },
  {
   "attachments": {},
   "cell_type": "markdown",
   "metadata": {},
   "source": [
    "The best predictions seems well off (and not lucky guesses, as many users have rated the given movies, as indicated by the Ui column), but some of the worst predictions will need more investigation."
   ]
  },
  {
   "cell_type": "code",
   "execution_count": 31,
   "metadata": {},
   "outputs": [
    {
     "data": {
      "image/png": "[encoded data removed]",
      "text/plain": [
       "<Figure size 640x480 with 1 Axes>"
      ]
     },
     "metadata": {},
     "output_type": "display_data"
    }
   ],
   "source": [
    "import matplotlib.pyplot as plt\n",
    "df.loc[df['itemID'] == 376]['rating'].hist()\n",
    "plt.xlabel('rating')\n",
    "plt.ylabel('Number of ratings')\n",
    "plt.title('Number of ratings movie 190 has received')\n",
    "plt.show()"
   ]
  },
  {
   "attachments": {},
   "cell_type": "markdown",
   "metadata": {},
   "source": [
    "It seems as if the user, who rated the movie a 5, is a bit of an outlier. With this in mind, it makes sense that our model predicted a score of 1. Let's check the next worst prediction"
   ]
  },
  {
   "cell_type": "code",
   "execution_count": 91,
   "metadata": {},
   "outputs": [
    {
     "data": {
      "image/png": "[encoded data removed]",
      "text/plain": [
       "<Figure size 640x480 with 1 Axes>"
      ]
     },
     "metadata": {},
     "output_type": "display_data"
    }
   ],
   "source": [
    "import matplotlib.pyplot as plt\n",
    "df.loc[df['itemID'] == 173]['rating'].hist()\n",
    "plt.xlabel('rating')\n",
    "plt.ylabel('Number of ratings')\n",
    "plt.title('Number of ratings movie 190 has received')\n",
    "plt.show()"
   ]
  },
  {
   "attachments": {},
   "cell_type": "markdown",
   "metadata": {},
   "source": [
    "Once again, it seems as if the user's score is an outlier (most rated it highly, except for user 314, which rated it very low). With these two examples in mind, as well as the model having RMSE of 0.9257, we're content with the result of the model. Now we're ready to recommend some movies!"
   ]
  },
  {
   "cell_type": "code",
   "execution_count": 105,
   "metadata": {},
   "outputs": [
    {
     "data": {
      "text/plain": [
       "[{'movie_id': 267, 'movie_title': 'unknown', 'release_date': nan},\n",
       " {'movie_id': 22,\n",
       "  'movie_title': 'Braveheart (1995)',\n",
       "  'release_date': '16-Feb-1996',\n",
       "  'Action': 1,\n",
       "  'Drama': 1,\n",
       "  'War': 1},\n",
       " {'movie_id': 223,\n",
       "  'movie_title': 'Sling Blade (1996)',\n",
       "  'release_date': '22-Nov-1996',\n",
       "  'Drama': 1,\n",
       "  'Thriller': 1},\n",
       " {'movie_id': 1251,\n",
       "  'movie_title': 'A Chef in Love (1996)',\n",
       "  'release_date': '25-Apr-1997',\n",
       "  'Comedy': 1},\n",
       " {'movie_id': 182,\n",
       "  'movie_title': 'GoodFellas (1990)',\n",
       "  'release_date': '01-Jan-1990',\n",
       "  'Crime': 1,\n",
       "  'Drama': 1}]"
      ]
     },
     "execution_count": 105,
     "metadata": {},
     "output_type": "execute_result"
    }
   ],
   "source": [
    "import difflib\n",
    "import random\n",
    "\n",
    "def get_movie_id(movie_title, metadata):\n",
    "    existing_titles = list(metadata['movie_title'].values)\n",
    "    closest_titles = difflib.get_close_matches(movie_title, existing_titles)\n",
    "    movie_id = metadata[metadata['movie_title'] == closest_titles[0]]['movie_id'].values[0]\n",
    "    return movie_id\n",
    "\n",
    "def get_movie_info(movie_id, metadata):\n",
    "    movie_info = metadata[metadata['movie_id'] == movie_id]\n",
    "    movie_info = movie_info.loc[:, (movie_info != 0).any(axis=0)]\n",
    "    return movie_info.to_dict(orient='records')[0]\n",
    "\n",
    "def predict_review(user_id, movie_title, model, metadata):\n",
    "    \n",
    "    movie_id = get_movie_id(movie_title, metadata)\n",
    "    review_prediction = model.predict(uid=user_id, iid=movie_id)\n",
    "    return review_prediction.est\n",
    "\n",
    "def generate_recommendation(user_id, model, metadata, thresh=4):\n",
    "    \n",
    "    movie_titles = list(metadata['movie_title'].values)\n",
    "    random.shuffle(movie_titles)\n",
    "    movie_list = []\n",
    "\n",
    "    for movie_title in movie_titles:\n",
    "        rating = predict_review(user_id, movie_title, model, metadata)\n",
    "        if rating >= thresh:\n",
    "            movie_id = get_movie_id(movie_title, metadata)\n",
    "            movie_list.append(get_movie_info(movie_id, metadata))\n",
    "        if(len(movie_list) == 5):\n",
    "            return movie_list\n",
    "\n",
    "reccomendation = generate_recommendation(200, algo, movies, thresh=4)\n",
    "reccomendation"
   ]
  },
  {
   "attachments": {},
   "cell_type": "markdown",
   "metadata": {},
   "source": [
    "Finally, check if these movies are in the same genres as the ones the user usually watches."
   ]
  },
  {
   "cell_type": "code",
   "execution_count": 104,
   "metadata": {},
   "outputs": [
    {
     "data": {
      "text/html": [
       "<div>\n",
       "<style scoped>\n",
       "    .dataframe tbody tr th:only-of-type {\n",
       "        vertical-align: middle;\n",
       "    }\n",
       "\n",
       "    .dataframe tbody tr th {\n",
       "        vertical-align: top;\n",
       "    }\n",
       "\n",
       "    .dataframe thead th {\n",
       "        text-align: right;\n",
       "    }\n",
       "</style>\n",
       "<table border=\"1\" class=\"dataframe\">\n",
       "  <thead>\n",
       "    <tr style=\"text-align: right;\">\n",
       "      <th></th>\n",
       "      <th>userID</th>\n",
       "      <th>itemID</th>\n",
       "      <th>rating</th>\n",
       "      <th>timestand</th>\n",
       "    </tr>\n",
       "  </thead>\n",
       "  <tbody>\n",
       "    <tr>\n",
       "      <th>12</th>\n",
       "      <td>200</td>\n",
       "      <td>222</td>\n",
       "      <td>5</td>\n",
       "      <td>876042340</td>\n",
       "    </tr>\n",
       "    <tr>\n",
       "      <th>41852</th>\n",
       "      <td>200</td>\n",
       "      <td>385</td>\n",
       "      <td>5</td>\n",
       "      <td>884129696</td>\n",
       "    </tr>\n",
       "    <tr>\n",
       "      <th>14772</th>\n",
       "      <td>200</td>\n",
       "      <td>228</td>\n",
       "      <td>5</td>\n",
       "      <td>884128372</td>\n",
       "    </tr>\n",
       "    <tr>\n",
       "      <th>34329</th>\n",
       "      <td>200</td>\n",
       "      <td>568</td>\n",
       "      <td>5</td>\n",
       "      <td>884128372</td>\n",
       "    </tr>\n",
       "    <tr>\n",
       "      <th>36065</th>\n",
       "      <td>200</td>\n",
       "      <td>423</td>\n",
       "      <td>5</td>\n",
       "      <td>884129275</td>\n",
       "    </tr>\n",
       "    <tr>\n",
       "      <th>...</th>\n",
       "      <td>...</td>\n",
       "      <td>...</td>\n",
       "      <td>...</td>\n",
       "      <td>...</td>\n",
       "    </tr>\n",
       "    <tr>\n",
       "      <th>39472</th>\n",
       "      <td>200</td>\n",
       "      <td>48</td>\n",
       "      <td>2</td>\n",
       "      <td>884129029</td>\n",
       "    </tr>\n",
       "    <tr>\n",
       "      <th>31396</th>\n",
       "      <td>200</td>\n",
       "      <td>401</td>\n",
       "      <td>2</td>\n",
       "      <td>884130085</td>\n",
       "    </tr>\n",
       "    <tr>\n",
       "      <th>3684</th>\n",
       "      <td>200</td>\n",
       "      <td>409</td>\n",
       "      <td>2</td>\n",
       "      <td>884127431</td>\n",
       "    </tr>\n",
       "    <tr>\n",
       "      <th>27523</th>\n",
       "      <td>200</td>\n",
       "      <td>982</td>\n",
       "      <td>2</td>\n",
       "      <td>891825589</td>\n",
       "    </tr>\n",
       "    <tr>\n",
       "      <th>3970</th>\n",
       "      <td>200</td>\n",
       "      <td>103</td>\n",
       "      <td>2</td>\n",
       "      <td>891825521</td>\n",
       "    </tr>\n",
       "  </tbody>\n",
       "</table>\n",
       "<p>216 rows × 4 columns</p>\n",
       "</div>"
      ],
      "text/plain": [
       "       userID  itemID  rating  timestand\n",
       "12        200     222       5  876042340\n",
       "41852     200     385       5  884129696\n",
       "14772     200     228       5  884128372\n",
       "34329     200     568       5  884128372\n",
       "36065     200     423       5  884129275\n",
       "...       ...     ...     ...        ...\n",
       "39472     200      48       2  884129029\n",
       "31396     200     401       2  884130085\n",
       "3684      200     409       2  884127431\n",
       "27523     200     982       2  891825589\n",
       "3970      200     103       2  891825521\n",
       "\n",
       "[216 rows x 4 columns]"
      ]
     },
     "metadata": {},
     "output_type": "display_data"
    },
    {
     "data": {
      "text/html": [
       "<div>\n",
       "<style scoped>\n",
       "    .dataframe tbody tr th:only-of-type {\n",
       "        vertical-align: middle;\n",
       "    }\n",
       "\n",
       "    .dataframe tbody tr th {\n",
       "        vertical-align: top;\n",
       "    }\n",
       "\n",
       "    .dataframe thead th {\n",
       "        text-align: right;\n",
       "    }\n",
       "</style>\n",
       "<table border=\"1\" class=\"dataframe\">\n",
       "  <thead>\n",
       "    <tr style=\"text-align: right;\">\n",
       "      <th></th>\n",
       "      <th>movie_id</th>\n",
       "      <th>movie_title</th>\n",
       "      <th>release_date</th>\n",
       "      <th>Action</th>\n",
       "      <th>Adventure</th>\n",
       "      <th>Animation</th>\n",
       "      <th>Children's</th>\n",
       "      <th>Comedy</th>\n",
       "      <th>Drama</th>\n",
       "      <th>Sci-Fi</th>\n",
       "      <th>Thriller</th>\n",
       "    </tr>\n",
       "  </thead>\n",
       "  <tbody>\n",
       "    <tr>\n",
       "      <th>0</th>\n",
       "      <td>1</td>\n",
       "      <td>Toy Story (1995)</td>\n",
       "      <td>01-Jan-1995</td>\n",
       "      <td>0</td>\n",
       "      <td>0</td>\n",
       "      <td>1</td>\n",
       "      <td>1</td>\n",
       "      <td>1</td>\n",
       "      <td>0</td>\n",
       "      <td>0</td>\n",
       "      <td>0</td>\n",
       "    </tr>\n",
       "    <tr>\n",
       "      <th>1</th>\n",
       "      <td>2</td>\n",
       "      <td>GoldenEye (1995)</td>\n",
       "      <td>01-Jan-1995</td>\n",
       "      <td>1</td>\n",
       "      <td>1</td>\n",
       "      <td>0</td>\n",
       "      <td>0</td>\n",
       "      <td>0</td>\n",
       "      <td>0</td>\n",
       "      <td>0</td>\n",
       "      <td>1</td>\n",
       "    </tr>\n",
       "    <tr>\n",
       "      <th>6</th>\n",
       "      <td>7</td>\n",
       "      <td>Twelve Monkeys (1995)</td>\n",
       "      <td>01-Jan-1995</td>\n",
       "      <td>0</td>\n",
       "      <td>0</td>\n",
       "      <td>0</td>\n",
       "      <td>0</td>\n",
       "      <td>0</td>\n",
       "      <td>1</td>\n",
       "      <td>1</td>\n",
       "      <td>0</td>\n",
       "    </tr>\n",
       "    <tr>\n",
       "      <th>7</th>\n",
       "      <td>8</td>\n",
       "      <td>Babe (1995)</td>\n",
       "      <td>01-Jan-1995</td>\n",
       "      <td>0</td>\n",
       "      <td>0</td>\n",
       "      <td>0</td>\n",
       "      <td>1</td>\n",
       "      <td>1</td>\n",
       "      <td>1</td>\n",
       "      <td>0</td>\n",
       "      <td>0</td>\n",
       "    </tr>\n",
       "    <tr>\n",
       "      <th>8</th>\n",
       "      <td>9</td>\n",
       "      <td>Dead Man Walking (1995)</td>\n",
       "      <td>01-Jan-1995</td>\n",
       "      <td>0</td>\n",
       "      <td>0</td>\n",
       "      <td>0</td>\n",
       "      <td>0</td>\n",
       "      <td>0</td>\n",
       "      <td>1</td>\n",
       "      <td>0</td>\n",
       "      <td>0</td>\n",
       "    </tr>\n",
       "  </tbody>\n",
       "</table>\n",
       "</div>"
      ],
      "text/plain": [
       "   movie_id              movie_title release_date  Action  Adventure  \\\n",
       "0         1         Toy Story (1995)  01-Jan-1995       0          0   \n",
       "1         2         GoldenEye (1995)  01-Jan-1995       1          1   \n",
       "6         7    Twelve Monkeys (1995)  01-Jan-1995       0          0   \n",
       "7         8              Babe (1995)  01-Jan-1995       0          0   \n",
       "8         9  Dead Man Walking (1995)  01-Jan-1995       0          0   \n",
       "\n",
       "   Animation  Children's  Comedy  Drama  Sci-Fi  Thriller  \n",
       "0          1           1       1      0       0         0  \n",
       "1          0           0       0      0       0         1  \n",
       "6          0           0       0      1       1         0  \n",
       "7          0           1       1      1       0         0  \n",
       "8          0           0       0      1       0         0  "
      ]
     },
     "execution_count": 104,
     "metadata": {},
     "output_type": "execute_result"
    }
   ],
   "source": [
    "user_200_ratings = df[df['userID'] == 200].sort_values(by='rating', ascending=False)\n",
    "display(user_200_ratings)\n",
    "user_200_ratings_ids = user_200_ratings['itemID']\n",
    "\n",
    "user_200_movies = movies[movies['movie_id'].isin(user_200_ratings_ids)][:5]\n",
    "user_200_movies.loc[:, (user_200_movies != 0).any(axis=0)]"
   ]
  }
 ],
 "metadata": {
  "kernelspec": {
   "display_name": "base",
   "language": "python",
   "name": "python3"
  },
  "language_info": {
   "codemirror_mode": {
    "name": "ipython",
    "version": 3
   },
   "file_extension": ".py",
   "mimetype": "text/x-python",
   "name": "python",
   "nbconvert_exporter": "python",
   "pygments_lexer": "ipython3",
   "version": "3.9.16"
  },
  "orig_nbformat": 4,
  "vscode": {
   "interpreter": {
    "hash": "ccf95cdb2ed328e99c522ea98c5a191fdc39d5c45652473dc67115aa8cdc79ee"
   }
  }
 },
 "nbformat": 4,
 "nbformat_minor": 2
}
