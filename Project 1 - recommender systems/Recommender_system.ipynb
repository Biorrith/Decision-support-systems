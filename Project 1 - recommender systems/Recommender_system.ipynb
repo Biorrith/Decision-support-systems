{
 "cells": [
  {
   "attachments": {},
   "cell_type": "markdown",
   "metadata": {},
   "source": [
    "Links:\n",
    "\n",
    "- https://surprise.readthedocs.io/en/stable/getting_started.html\n",
    "- https://surpriselib.com/\n",
    "\n",
    "Inspiration:\n",
    "- https://towardsdatascience.com/building-and-testing-recommender-systems-with-surprise-step-by-step-d4ba702ef80b\n",
    "- https://github.com/rposhala/Recommender-System-on-MovieLens-dataset\n",
    "- https://github.com/divensambhwani/MovieLens-100K_Recommender-System/blob/master/MovieLens-100K-Recommeder%20System-SVD.ipynb\n",
    "- https://www.kaggle.com/code/sunyuanxi/surprise\n",
    "- https://surprise.readthedocs.io/en/stable/FAQ.html\n",
    "- https://surprise.readthedocs.io/en/stable/predictions_module.html\n",
    "- https://github.com/rposhala/Recommender-System-on-MovieLens-dataset\n",
    "- https://nbviewer.org/github/NicolasHug/Surprise/blob/master/examples/notebooks/KNNBasic_analysis.ipynb\n",
    "- https://towardsdatascience.com/how-you-can-build-simple-recommender-systems-with-surprise-b0d32a8e4802\n",
    "- https://surprise.readthedocs.io/en/stable/matrix_factorization.html\n",
    "\n",
    "\n",
    "State of the art:\n",
    "- https://paperswithcode.com/sota/collaborative-filtering-on-movielens-100k"
   ]
  },
  {
   "cell_type": "code",
   "execution_count": 11,
   "metadata": {},
   "outputs": [],
   "source": [
    "#import the two datafiles, the ratings and the movie information (for later inspection)\n",
    "\n",
    "import pandas as pd\n",
    "\n",
    "RATINGS_DATA_FILE = './ml-100k/u.data'\n",
    "\n",
    "ratings = pd.read_csv(RATINGS_DATA_FILE, sep='\\t', header=None, names=['user_id', 'item_id', 'rating', 'timestamp'])\n",
    "movies = pd.read_csv('ml-100k/u.item', \n",
    "                    sep='|', \n",
    "                    header=None, \n",
    "                    encoding='ISO-8859-1',\n",
    "                    names=['movie_id', 'movie_title', 'release_date', 'video_release_date', 'IMDb_URL', 'unknown', 'Action', 'Adventure', \n",
    "                    'Animation', 'Children\\'s', 'Comedy', 'Crime', 'Documentary', 'Drama', 'Fantasy', 'Film-Noir', 'Horror', 'Musical', \n",
    "                    'Mystery', 'Romance', 'Sci-Fi', 'Thriller', 'War', 'Western'])\n",
    "del movies['video_release_date']\n",
    "del movies['unknown']\n",
    "del movies['IMDb_URL']"
   ]
  },
  {
   "cell_type": "code",
   "execution_count": 12,
   "metadata": {},
   "outputs": [
    {
     "name": "stdout",
     "output_type": "stream",
     "text": [
      "(100000, 4)\n"
     ]
    },
    {
     "data": {
      "text/html": [
       "<div>\n",
       "<style scoped>\n",
       "    .dataframe tbody tr th:only-of-type {\n",
       "        vertical-align: middle;\n",
       "    }\n",
       "\n",
       "    .dataframe tbody tr th {\n",
       "        vertical-align: top;\n",
       "    }\n",
       "\n",
       "    .dataframe thead th {\n",
       "        text-align: right;\n",
       "    }\n",
       "</style>\n",
       "<table border=\"1\" class=\"dataframe\">\n",
       "  <thead>\n",
       "    <tr style=\"text-align: right;\">\n",
       "      <th></th>\n",
       "      <th>userID</th>\n",
       "      <th>itemID</th>\n",
       "      <th>rating</th>\n",
       "      <th>timestand</th>\n",
       "    </tr>\n",
       "  </thead>\n",
       "  <tbody>\n",
       "    <tr>\n",
       "      <th>0</th>\n",
       "      <td>196</td>\n",
       "      <td>242</td>\n",
       "      <td>3</td>\n",
       "      <td>881250949</td>\n",
       "    </tr>\n",
       "    <tr>\n",
       "      <th>1</th>\n",
       "      <td>186</td>\n",
       "      <td>302</td>\n",
       "      <td>3</td>\n",
       "      <td>891717742</td>\n",
       "    </tr>\n",
       "    <tr>\n",
       "      <th>2</th>\n",
       "      <td>22</td>\n",
       "      <td>377</td>\n",
       "      <td>1</td>\n",
       "      <td>878887116</td>\n",
       "    </tr>\n",
       "    <tr>\n",
       "      <th>3</th>\n",
       "      <td>244</td>\n",
       "      <td>51</td>\n",
       "      <td>2</td>\n",
       "      <td>880606923</td>\n",
       "    </tr>\n",
       "    <tr>\n",
       "      <th>4</th>\n",
       "      <td>166</td>\n",
       "      <td>346</td>\n",
       "      <td>1</td>\n",
       "      <td>886397596</td>\n",
       "    </tr>\n",
       "    <tr>\n",
       "      <th>...</th>\n",
       "      <td>...</td>\n",
       "      <td>...</td>\n",
       "      <td>...</td>\n",
       "      <td>...</td>\n",
       "    </tr>\n",
       "    <tr>\n",
       "      <th>99995</th>\n",
       "      <td>880</td>\n",
       "      <td>476</td>\n",
       "      <td>3</td>\n",
       "      <td>880175444</td>\n",
       "    </tr>\n",
       "    <tr>\n",
       "      <th>99996</th>\n",
       "      <td>716</td>\n",
       "      <td>204</td>\n",
       "      <td>5</td>\n",
       "      <td>879795543</td>\n",
       "    </tr>\n",
       "    <tr>\n",
       "      <th>99997</th>\n",
       "      <td>276</td>\n",
       "      <td>1090</td>\n",
       "      <td>1</td>\n",
       "      <td>874795795</td>\n",
       "    </tr>\n",
       "    <tr>\n",
       "      <th>99998</th>\n",
       "      <td>13</td>\n",
       "      <td>225</td>\n",
       "      <td>2</td>\n",
       "      <td>882399156</td>\n",
       "    </tr>\n",
       "    <tr>\n",
       "      <th>99999</th>\n",
       "      <td>12</td>\n",
       "      <td>203</td>\n",
       "      <td>3</td>\n",
       "      <td>879959583</td>\n",
       "    </tr>\n",
       "  </tbody>\n",
       "</table>\n",
       "<p>100000 rows × 4 columns</p>\n",
       "</div>"
      ],
      "text/plain": [
       "       userID  itemID  rating  timestand\n",
       "0         196     242       3  881250949\n",
       "1         186     302       3  891717742\n",
       "2          22     377       1  878887116\n",
       "3         244      51       2  880606923\n",
       "4         166     346       1  886397596\n",
       "...       ...     ...     ...        ...\n",
       "99995     880     476       3  880175444\n",
       "99996     716     204       5  879795543\n",
       "99997     276    1090       1  874795795\n",
       "99998      13     225       2  882399156\n",
       "99999      12     203       3  879959583\n",
       "\n",
       "[100000 rows x 4 columns]"
      ]
     },
     "metadata": {},
     "output_type": "display_data"
    }
   ],
   "source": [
    "#Create a pandas dataframe to work from. Will be used a lot later on.\n",
    "\n",
    "ratings_dict = {'userID': list(ratings.user_id),\n",
    "                'itemID': list(ratings.item_id),\n",
    "                'rating': list(ratings.rating),\n",
    "                'timestand' : list(ratings.timestamp)}\n",
    "\n",
    "df = pd.DataFrame(ratings_dict)\n",
    "print(df.shape)\n",
    "display(df)"
   ]
  },
  {
   "attachments": {},
   "cell_type": "markdown",
   "metadata": {},
   "source": [
    "# Exploratory Data Analysis (EDA)\n",
    "\n",
    "As to better understand the data we're working with, EDA will be performed. This will include distribution of the ratings and the user's ratings."
   ]
  },
  {
   "cell_type": "code",
   "execution_count": 13,
   "metadata": {},
   "outputs": [
    {
     "name": "stdout",
     "output_type": "stream",
     "text": [
      "4    34174\n",
      "3    27145\n",
      "5    21201\n",
      "2    11370\n",
      "1     6110\n",
      "Name: rating, dtype: int64\n"
     ]
    },
    {
     "data": {
      "application/vnd.plotly.v1+json": {
       "config": {
        "linkText": "Export to plot.ly",
        "plotlyServerURL": "https://plot.ly",
        "showLink": false
       },
       "data": [
        {
         "text": [
          "34.2 %",
          "27.1 %",
          "21.2 %",
          "11.4 %",
          "6.1 %"
         ],
         "textposition": "auto",
         "type": "bar",
         "x": [
          4,
          3,
          5,
          2,
          1
         ],
         "y": [
          34174,
          27145,
          21201,
          11370,
          6110
         ]
        }
       ],
       "layout": {
        "template": {
         "data": {
          "bar": [
           {
            "error_x": {
             "color": "#2a3f5f"
            },
            "error_y": {
             "color": "#2a3f5f"
            },
            "marker": {
             "line": {
              "color": "#E5ECF6",
              "width": 0.5
             },
             "pattern": {
              "fillmode": "overlay",
              "size": 10,
              "solidity": 0.2
             }
            },
            "type": "bar"
           }
          ],
          "barpolar": [
           {
            "marker": {
             "line": {
              "color": "#E5ECF6",
              "width": 0.5
             },
             "pattern": {
              "fillmode": "overlay",
              "size": 10,
              "solidity": 0.2
             }
            },
            "type": "barpolar"
           }
          ],
          "carpet": [
           {
            "aaxis": {
             "endlinecolor": "#2a3f5f",
             "gridcolor": "white",
             "linecolor": "white",
             "minorgridcolor": "white",
             "startlinecolor": "#2a3f5f"
            },
            "baxis": {
             "endlinecolor": "#2a3f5f",
             "gridcolor": "white",
             "linecolor": "white",
             "minorgridcolor": "white",
             "startlinecolor": "#2a3f5f"
            },
            "type": "carpet"
           }
          ],
          "choropleth": [
           {
            "colorbar": {
             "outlinewidth": 0,
             "ticks": ""
            },
            "type": "choropleth"
           }
          ],
          "contour": [
           {
            "colorbar": {
             "outlinewidth": 0,
             "ticks": ""
            },
            "colorscale": [
             [
              0,
              "#0d0887"
             ],
             [
              0.1111111111111111,
              "#46039f"
             ],
             [
              0.2222222222222222,
              "#7201a8"
             ],
             [
              0.3333333333333333,
              "#9c179e"
             ],
             [
              0.4444444444444444,
              "#bd3786"
             ],
             [
              0.5555555555555556,
              "#d8576b"
             ],
             [
              0.6666666666666666,
              "#ed7953"
             ],
             [
              0.7777777777777778,
              "#fb9f3a"
             ],
             [
              0.8888888888888888,
              "#fdca26"
             ],
             [
              1,
              "#f0f921"
             ]
            ],
            "type": "contour"
           }
          ],
          "contourcarpet": [
           {
            "colorbar": {
             "outlinewidth": 0,
             "ticks": ""
            },
            "type": "contourcarpet"
           }
          ],
          "heatmap": [
           {
            "colorbar": {
             "outlinewidth": 0,
             "ticks": ""
            },
            "colorscale": [
             [
              0,
              "#0d0887"
             ],
             [
              0.1111111111111111,
              "#46039f"
             ],
             [
              0.2222222222222222,
              "#7201a8"
             ],
             [
              0.3333333333333333,
              "#9c179e"
             ],
             [
              0.4444444444444444,
              "#bd3786"
             ],
             [
              0.5555555555555556,
              "#d8576b"
             ],
             [
              0.6666666666666666,
              "#ed7953"
             ],
             [
              0.7777777777777778,
              "#fb9f3a"
             ],
             [
              0.8888888888888888,
              "#fdca26"
             ],
             [
              1,
              "#f0f921"
             ]
            ],
            "type": "heatmap"
           }
          ],
          "heatmapgl": [
           {
            "colorbar": {
             "outlinewidth": 0,
             "ticks": ""
            },
            "colorscale": [
             [
              0,
              "#0d0887"
             ],
             [
              0.1111111111111111,
              "#46039f"
             ],
             [
              0.2222222222222222,
              "#7201a8"
             ],
             [
              0.3333333333333333,
              "#9c179e"
             ],
             [
              0.4444444444444444,
              "#bd3786"
             ],
             [
              0.5555555555555556,
              "#d8576b"
             ],
             [
              0.6666666666666666,
              "#ed7953"
             ],
             [
              0.7777777777777778,
              "#fb9f3a"
             ],
             [
              0.8888888888888888,
              "#fdca26"
             ],
             [
              1,
              "#f0f921"
             ]
            ],
            "type": "heatmapgl"
           }
          ],
          "histogram": [
           {
            "marker": {
             "pattern": {
              "fillmode": "overlay",
              "size": 10,
              "solidity": 0.2
             }
            },
            "type": "histogram"
           }
          ],
          "histogram2d": [
           {
            "colorbar": {
             "outlinewidth": 0,
             "ticks": ""
            },
            "colorscale": [
             [
              0,
              "#0d0887"
             ],
             [
              0.1111111111111111,
              "#46039f"
             ],
             [
              0.2222222222222222,
              "#7201a8"
             ],
             [
              0.3333333333333333,
              "#9c179e"
             ],
             [
              0.4444444444444444,
              "#bd3786"
             ],
             [
              0.5555555555555556,
              "#d8576b"
             ],
             [
              0.6666666666666666,
              "#ed7953"
             ],
             [
              0.7777777777777778,
              "#fb9f3a"
             ],
             [
              0.8888888888888888,
              "#fdca26"
             ],
             [
              1,
              "#f0f921"
             ]
            ],
            "type": "histogram2d"
           }
          ],
          "histogram2dcontour": [
           {
            "colorbar": {
             "outlinewidth": 0,
             "ticks": ""
            },
            "colorscale": [
             [
              0,
              "#0d0887"
             ],
             [
              0.1111111111111111,
              "#46039f"
             ],
             [
              0.2222222222222222,
              "#7201a8"
             ],
             [
              0.3333333333333333,
              "#9c179e"
             ],
             [
              0.4444444444444444,
              "#bd3786"
             ],
             [
              0.5555555555555556,
              "#d8576b"
             ],
             [
              0.6666666666666666,
              "#ed7953"
             ],
             [
              0.7777777777777778,
              "#fb9f3a"
             ],
             [
              0.8888888888888888,
              "#fdca26"
             ],
             [
              1,
              "#f0f921"
             ]
            ],
            "type": "histogram2dcontour"
           }
          ],
          "mesh3d": [
           {
            "colorbar": {
             "outlinewidth": 0,
             "ticks": ""
            },
            "type": "mesh3d"
           }
          ],
          "parcoords": [
           {
            "line": {
             "colorbar": {
              "outlinewidth": 0,
              "ticks": ""
             }
            },
            "type": "parcoords"
           }
          ],
          "pie": [
           {
            "automargin": true,
            "type": "pie"
           }
          ],
          "scatter": [
           {
            "fillpattern": {
             "fillmode": "overlay",
             "size": 10,
             "solidity": 0.2
            },
            "type": "scatter"
           }
          ],
          "scatter3d": [
           {
            "line": {
             "colorbar": {
              "outlinewidth": 0,
              "ticks": ""
             }
            },
            "marker": {
             "colorbar": {
              "outlinewidth": 0,
              "ticks": ""
             }
            },
            "type": "scatter3d"
           }
          ],
          "scattercarpet": [
           {
            "marker": {
             "colorbar": {
              "outlinewidth": 0,
              "ticks": ""
             }
            },
            "type": "scattercarpet"
           }
          ],
          "scattergeo": [
           {
            "marker": {
             "colorbar": {
              "outlinewidth": 0,
              "ticks": ""
             }
            },
            "type": "scattergeo"
           }
          ],
          "scattergl": [
           {
            "marker": {
             "colorbar": {
              "outlinewidth": 0,
              "ticks": ""
             }
            },
            "type": "scattergl"
           }
          ],
          "scattermapbox": [
           {
            "marker": {
             "colorbar": {
              "outlinewidth": 0,
              "ticks": ""
             }
            },
            "type": "scattermapbox"
           }
          ],
          "scatterpolar": [
           {
            "marker": {
             "colorbar": {
              "outlinewidth": 0,
              "ticks": ""
             }
            },
            "type": "scatterpolar"
           }
          ],
          "scatterpolargl": [
           {
            "marker": {
             "colorbar": {
              "outlinewidth": 0,
              "ticks": ""
             }
            },
            "type": "scatterpolargl"
           }
          ],
          "scatterternary": [
           {
            "marker": {
             "colorbar": {
              "outlinewidth": 0,
              "ticks": ""
             }
            },
            "type": "scatterternary"
           }
          ],
          "surface": [
           {
            "colorbar": {
             "outlinewidth": 0,
             "ticks": ""
            },
            "colorscale": [
             [
              0,
              "#0d0887"
             ],
             [
              0.1111111111111111,
              "#46039f"
             ],
             [
              0.2222222222222222,
              "#7201a8"
             ],
             [
              0.3333333333333333,
              "#9c179e"
             ],
             [
              0.4444444444444444,
              "#bd3786"
             ],
             [
              0.5555555555555556,
              "#d8576b"
             ],
             [
              0.6666666666666666,
              "#ed7953"
             ],
             [
              0.7777777777777778,
              "#fb9f3a"
             ],
             [
              0.8888888888888888,
              "#fdca26"
             ],
             [
              1,
              "#f0f921"
             ]
            ],
            "type": "surface"
           }
          ],
          "table": [
           {
            "cells": {
             "fill": {
              "color": "#EBF0F8"
             },
             "line": {
              "color": "white"
             }
            },
            "header": {
             "fill": {
              "color": "#C8D4E3"
             },
             "line": {
              "color": "white"
             }
            },
            "type": "table"
           }
          ]
         },
         "layout": {
          "annotationdefaults": {
           "arrowcolor": "#2a3f5f",
           "arrowhead": 0,
           "arrowwidth": 1
          },
          "autotypenumbers": "strict",
          "coloraxis": {
           "colorbar": {
            "outlinewidth": 0,
            "ticks": ""
           }
          },
          "colorscale": {
           "diverging": [
            [
             0,
             "#8e0152"
            ],
            [
             0.1,
             "#c51b7d"
            ],
            [
             0.2,
             "#de77ae"
            ],
            [
             0.3,
             "#f1b6da"
            ],
            [
             0.4,
             "#fde0ef"
            ],
            [
             0.5,
             "#f7f7f7"
            ],
            [
             0.6,
             "#e6f5d0"
            ],
            [
             0.7,
             "#b8e186"
            ],
            [
             0.8,
             "#7fbc41"
            ],
            [
             0.9,
             "#4d9221"
            ],
            [
             1,
             "#276419"
            ]
           ],
           "sequential": [
            [
             0,
             "#0d0887"
            ],
            [
             0.1111111111111111,
             "#46039f"
            ],
            [
             0.2222222222222222,
             "#7201a8"
            ],
            [
             0.3333333333333333,
             "#9c179e"
            ],
            [
             0.4444444444444444,
             "#bd3786"
            ],
            [
             0.5555555555555556,
             "#d8576b"
            ],
            [
             0.6666666666666666,
             "#ed7953"
            ],
            [
             0.7777777777777778,
             "#fb9f3a"
            ],
            [
             0.8888888888888888,
             "#fdca26"
            ],
            [
             1,
             "#f0f921"
            ]
           ],
           "sequentialminus": [
            [
             0,
             "#0d0887"
            ],
            [
             0.1111111111111111,
             "#46039f"
            ],
            [
             0.2222222222222222,
             "#7201a8"
            ],
            [
             0.3333333333333333,
             "#9c179e"
            ],
            [
             0.4444444444444444,
             "#bd3786"
            ],
            [
             0.5555555555555556,
             "#d8576b"
            ],
            [
             0.6666666666666666,
             "#ed7953"
            ],
            [
             0.7777777777777778,
             "#fb9f3a"
            ],
            [
             0.8888888888888888,
             "#fdca26"
            ],
            [
             1,
             "#f0f921"
            ]
           ]
          },
          "colorway": [
           "#636efa",
           "#EF553B",
           "#00cc96",
           "#ab63fa",
           "#FFA15A",
           "#19d3f3",
           "#FF6692",
           "#B6E880",
           "#FF97FF",
           "#FECB52"
          ],
          "font": {
           "color": "#2a3f5f"
          },
          "geo": {
           "bgcolor": "white",
           "lakecolor": "white",
           "landcolor": "#E5ECF6",
           "showlakes": true,
           "showland": true,
           "subunitcolor": "white"
          },
          "hoverlabel": {
           "align": "left"
          },
          "hovermode": "closest",
          "mapbox": {
           "style": "light"
          },
          "paper_bgcolor": "white",
          "plot_bgcolor": "#E5ECF6",
          "polar": {
           "angularaxis": {
            "gridcolor": "white",
            "linecolor": "white",
            "ticks": ""
           },
           "bgcolor": "#E5ECF6",
           "radialaxis": {
            "gridcolor": "white",
            "linecolor": "white",
            "ticks": ""
           }
          },
          "scene": {
           "xaxis": {
            "backgroundcolor": "#E5ECF6",
            "gridcolor": "white",
            "gridwidth": 2,
            "linecolor": "white",
            "showbackground": true,
            "ticks": "",
            "zerolinecolor": "white"
           },
           "yaxis": {
            "backgroundcolor": "#E5ECF6",
            "gridcolor": "white",
            "gridwidth": 2,
            "linecolor": "white",
            "showbackground": true,
            "ticks": "",
            "zerolinecolor": "white"
           },
           "zaxis": {
            "backgroundcolor": "#E5ECF6",
            "gridcolor": "white",
            "gridwidth": 2,
            "linecolor": "white",
            "showbackground": true,
            "ticks": "",
            "zerolinecolor": "white"
           }
          },
          "shapedefaults": {
           "line": {
            "color": "#2a3f5f"
           }
          },
          "ternary": {
           "aaxis": {
            "gridcolor": "white",
            "linecolor": "white",
            "ticks": ""
           },
           "baxis": {
            "gridcolor": "white",
            "linecolor": "white",
            "ticks": ""
           },
           "bgcolor": "#E5ECF6",
           "caxis": {
            "gridcolor": "white",
            "linecolor": "white",
            "ticks": ""
           }
          },
          "title": {
           "x": 0.05
          },
          "xaxis": {
           "automargin": true,
           "gridcolor": "white",
           "linecolor": "white",
           "ticks": "",
           "title": {
            "standoff": 15
           },
           "zerolinecolor": "white",
           "zerolinewidth": 2
          },
          "yaxis": {
           "automargin": true,
           "gridcolor": "white",
           "linecolor": "white",
           "ticks": "",
           "title": {
            "standoff": 15
           },
           "zerolinecolor": "white",
           "zerolinewidth": 2
          }
         }
        },
        "title": {
         "text": "Distribution of the 100000 ratings in the MovieLens dataset"
        },
        "xaxis": {
         "title": {
          "text": "Rating"
         }
        },
        "yaxis": {
         "title": {
          "text": "Count"
         }
        }
       }
      }
     },
     "metadata": {},
     "output_type": "display_data"
    }
   ],
   "source": [
    "#Much of the plottings that follows it borrowed and modified from:\n",
    "#https://github.com/divensambhwani/MovieLens-100K_Recommender-System/blob/master/MovieLens-100K-Recommeder%20System-SVD.ipynb\n",
    "\n",
    "#Plot the distribution of the ratings in the dataset\n",
    "from plotly.offline import iplot\n",
    "import plotly.graph_objs as go\n",
    "\n",
    "data = df['rating'].value_counts()#.sort_index(ascending=False)\n",
    "print(data)\n",
    "\n",
    "trace = go.Bar(x = data.index,\n",
    "               text = ['{:.1f} %'.format(val) for val in (data.values / df.shape[0] * 100)],\n",
    "               textposition = 'auto',\n",
    "               y = data.values,\n",
    "               )\n",
    "\n",
    "\n",
    "# Create layout\n",
    "layout = dict(title = 'Distribution of the {} ratings in the MovieLens dataset'.format(df.shape[0]),\n",
    "              xaxis = dict(title = 'Rating'),\n",
    "              yaxis = dict(title = 'Count'))\n",
    "# Create plot\n",
    "fig = go.Figure(data=[trace], layout=layout)\n",
    "iplot(fig)"
   ]
  },
  {
   "cell_type": "code",
   "execution_count": 14,
   "metadata": {},
   "outputs": [
    {
     "data": {
      "application/vnd.plotly.v1+json": {
       "config": {
        "linkText": "Export to plot.ly",
        "plotlyServerURL": "https://plot.ly",
        "showLink": false
       },
       "data": [
        {
         "name": "Ratings",
         "type": "histogram",
         "x": [
          583,
          509,
          508,
          507,
          485,
          481,
          478,
          452,
          431,
          429,
          420,
          413,
          394,
          392,
          390,
          384,
          378,
          367,
          365,
          350,
          350,
          344,
          336,
          331,
          326,
          324,
          321,
          316,
          316,
          315,
          303,
          301,
          300,
          299,
          298,
          298,
          297,
          297,
          295,
          295,
          293,
          293,
          293,
          291,
          290,
          284,
          283,
          280,
          280,
          276,
          276,
          275,
          272,
          268,
          267,
          267,
          264,
          261,
          259,
          259,
          256,
          256,
          255,
          254,
          251,
          251,
          251,
          251,
          250,
          247,
          246,
          244,
          244,
          243,
          243,
          241,
          240,
          240,
          239,
          239,
          236,
          232,
          231,
          230,
          230,
          227,
          227,
          226,
          223,
          222,
          221,
          221,
          221,
          220,
          220,
          219,
          219,
          219,
          219,
          218,
          217,
          216,
          215,
          213,
          212,
          211,
          209,
          209,
          209,
          208,
          208,
          206,
          206,
          206,
          202,
          201,
          201,
          200,
          199,
          198,
          198,
          197,
          195,
          194,
          194,
          193,
          192,
          191,
          190,
          189,
          188,
          187,
          185,
          184,
          183,
          182,
          182,
          180,
          180,
          180,
          179,
          179,
          179,
          178,
          178,
          177,
          176,
          176,
          175,
          175,
          175,
          174,
          174,
          174,
          173,
          172,
          172,
          171,
          171,
          171,
          171,
          171,
          171,
          170,
          170,
          170,
          170,
          169,
          169,
          169,
          168,
          168,
          166,
          165,
          164,
          164,
          164,
          163,
          162,
          162,
          162,
          162,
          162,
          161,
          160,
          160,
          160,
          158,
          158,
          157,
          157,
          157,
          156,
          155,
          154,
          153,
          153,
          152,
          151,
          151,
          151,
          150,
          150,
          149,
          149,
          149,
          148,
          148,
          148,
          148,
          147,
          147,
          146,
          145,
          145,
          143,
          143,
          143,
          142,
          138,
          138,
          137,
          137,
          137,
          137,
          137,
          137,
          137,
          136,
          136,
          136,
          136,
          134,
          134,
          134,
          134,
          133,
          132,
          131,
          131,
          130,
          130,
          129,
          129,
          129,
          129,
          128,
          128,
          128,
          128,
          128,
          128,
          128,
          127,
          127,
          127,
          127,
          127,
          127,
          126,
          126,
          125,
          125,
          125,
          125,
          124,
          124,
          124,
          124,
          124,
          124,
          124,
          123,
          122,
          121,
          121,
          121,
          121,
          121,
          121,
          120,
          120,
          120,
          119,
          119,
          119,
          118,
          117,
          117,
          117,
          116,
          116,
          116,
          116,
          115,
          115,
          115,
          115,
          114,
          114,
          114,
          113,
          112,
          112,
          112,
          112,
          111,
          111,
          110,
          109,
          108,
          107,
          106,
          106,
          106,
          106,
          105,
          104,
          104,
          104,
          104,
          104,
          103,
          102,
          102,
          102,
          102,
          101,
          101,
          101,
          101,
          101,
          101,
          101,
          100,
          100,
          100,
          100,
          99,
          98,
          98,
          98,
          97,
          97,
          97,
          97,
          96,
          96,
          96,
          96,
          95,
          95,
          95,
          93,
          93,
          93,
          93,
          93,
          93,
          92,
          92,
          92,
          92,
          92,
          92,
          91,
          91,
          91,
          91,
          91,
          91,
          90,
          90,
          90,
          90,
          90,
          89,
          89,
          89,
          89,
          89,
          88,
          87,
          87,
          87,
          87,
          87,
          86,
          86,
          86,
          86,
          86,
          86,
          85,
          85,
          85,
          85,
          85,
          84,
          84,
          83,
          83,
          82,
          82,
          82,
          82,
          82,
          82,
          82,
          81,
          81,
          81,
          81,
          81,
          81,
          81,
          80,
          80,
          80,
          80,
          80,
          80,
          79,
          79,
          79,
          79,
          79,
          78,
          78,
          77,
          77,
          77,
          77,
          76,
          76,
          76,
          75,
          75,
          75,
          75,
          74,
          74,
          74,
          74,
          73,
          73,
          73,
          73,
          73,
          73,
          72,
          72,
          72,
          72,
          72,
          72,
          71,
          71,
          71,
          71,
          71,
          70,
          70,
          70,
          70,
          69,
          69,
          69,
          69,
          69,
          69,
          68,
          68,
          68,
          68,
          68,
          68,
          68,
          67,
          67,
          67,
          67,
          67,
          67,
          67,
          67,
          67,
          66,
          66,
          66,
          66,
          66,
          66,
          66,
          66,
          66,
          66,
          66,
          66,
          65,
          65,
          65,
          65,
          65,
          65,
          65,
          65,
          64,
          64,
          64,
          64,
          64,
          64,
          64,
          64,
          64,
          64,
          64,
          64,
          63,
          63,
          63,
          63,
          63,
          63,
          62,
          62,
          62,
          62,
          61,
          61,
          60,
          60,
          60,
          60,
          60,
          59,
          59,
          59,
          59,
          59,
          59,
          59,
          59,
          59,
          59,
          58,
          58,
          58,
          58,
          58,
          58,
          58,
          58,
          57,
          57,
          57,
          57,
          57,
          57,
          57,
          57,
          57,
          56,
          56,
          56,
          55,
          55,
          55,
          55,
          54,
          54,
          54,
          54,
          54,
          54,
          53,
          53,
          53,
          53,
          53,
          53,
          53,
          53,
          52,
          52,
          52,
          52,
          52,
          51,
          51,
          51,
          51,
          50,
          50,
          50,
          50,
          50,
          50,
          50,
          50,
          50,
          50,
          49,
          49,
          49,
          49,
          49,
          49,
          49,
          49,
          48,
          48,
          48,
          48,
          48,
          48,
          48,
          48,
          48,
          47,
          47,
          47,
          47,
          47,
          47,
          47,
          46,
          46,
          46,
          46,
          46,
          46,
          46,
          46,
          46,
          46,
          46,
          46,
          45,
          45,
          45,
          45,
          45,
          45,
          45,
          45,
          45,
          45,
          44,
          44,
          44,
          44,
          44,
          44,
          44,
          44,
          44,
          44,
          44,
          44,
          44,
          44,
          44,
          44,
          44,
          43,
          43,
          43,
          43,
          43,
          43,
          43,
          43,
          43,
          43,
          43,
          43,
          42,
          42,
          42,
          42,
          42,
          42,
          42,
          41,
          41,
          41,
          41,
          41,
          41,
          41,
          41,
          41,
          41,
          41,
          40,
          40,
          40,
          40,
          40,
          40,
          40,
          40,
          40,
          40,
          40,
          40,
          39,
          39,
          39,
          39,
          39,
          39,
          39,
          39,
          39,
          39,
          39,
          39,
          39,
          39,
          39,
          39,
          38,
          38,
          38,
          38,
          38,
          38,
          38,
          37,
          37,
          37,
          37,
          37,
          37,
          37,
          37,
          36,
          36,
          36,
          36,
          35,
          35,
          35,
          35,
          35,
          35,
          35,
          34,
          34,
          34,
          34,
          34,
          34,
          34,
          34,
          34,
          34,
          34,
          34,
          33,
          33,
          33,
          33,
          33,
          33,
          33,
          32,
          32,
          32,
          32,
          32,
          32,
          32,
          32,
          32,
          32,
          32,
          32,
          32,
          32,
          31,
          31,
          31,
          31,
          31,
          31,
          31,
          31,
          31,
          31,
          31,
          31,
          31,
          31,
          31,
          30,
          30,
          30,
          30,
          30,
          30,
          30,
          30,
          29,
          29,
          29,
          29,
          29,
          29,
          29,
          29,
          29,
          28,
          28,
          28,
          28,
          28,
          28,
          28,
          28,
          28,
          28,
          28,
          28,
          27,
          27,
          27,
          27,
          27,
          27,
          27,
          27,
          27,
          27,
          27,
          27,
          27,
          27,
          27,
          27,
          27,
          26,
          26,
          26,
          26,
          26,
          26,
          26,
          26,
          26,
          26,
          26,
          26,
          26,
          26,
          25,
          25,
          25,
          25,
          25,
          25,
          25,
          25,
          25,
          25,
          25,
          25,
          25,
          25,
          24,
          24,
          24,
          24,
          24,
          24,
          24,
          24,
          24,
          24,
          24,
          24,
          23,
          23,
          23,
          23,
          23,
          23,
          23,
          23,
          23,
          23,
          23,
          23,
          22,
          22,
          22,
          22,
          22,
          22,
          22,
          22,
          22,
          22,
          22,
          22,
          22,
          22,
          22,
          22,
          22,
          21,
          21,
          21,
          21,
          21,
          21,
          21,
          21,
          21,
          21,
          21,
          21,
          21,
          21,
          20,
          20,
          20,
          20,
          20,
          20,
          20,
          20,
          20,
          20,
          20,
          20,
          19,
          19,
          19,
          19,
          19,
          19,
          19,
          19,
          19,
          19,
          19,
          19,
          19,
          19,
          19,
          19,
          19,
          19,
          18,
          18,
          18,
          18,
          18,
          18,
          18,
          18,
          18,
          18,
          18,
          18,
          18,
          18,
          18,
          18,
          18,
          18,
          18,
          18,
          18,
          18,
          18,
          18,
          17,
          17,
          17,
          17,
          17,
          17,
          17,
          17,
          17,
          17,
          16,
          16,
          16,
          16,
          16,
          16,
          16,
          16,
          16,
          16,
          16,
          16,
          16,
          16,
          16,
          16,
          16,
          16,
          16,
          15,
          15,
          15,
          15,
          15,
          15,
          15,
          15,
          15,
          15,
          15,
          15,
          15,
          15,
          15,
          15,
          15,
          15,
          15,
          15,
          15,
          15,
          14,
          14,
          14,
          14,
          14,
          14,
          14,
          14,
          14,
          14,
          14,
          14,
          14,
          14,
          13,
          13,
          13,
          13,
          13,
          13,
          13,
          13,
          13,
          13,
          13,
          13,
          13,
          13,
          13,
          13,
          13,
          13,
          13,
          13,
          13,
          13,
          13,
          13,
          13,
          12,
          12,
          12,
          12,
          12,
          12,
          12,
          12,
          12,
          12,
          12,
          12,
          12,
          12,
          12,
          12,
          12,
          12,
          12,
          12,
          12,
          12,
          12,
          12,
          12,
          12,
          12,
          12,
          11,
          11,
          11,
          11,
          11,
          11,
          11,
          11,
          11,
          11,
          11,
          11,
          11,
          11,
          11,
          11,
          11,
          11,
          11,
          11,
          10,
          10,
          10,
          10,
          10,
          10,
          10,
          10,
          10,
          10,
          10,
          10,
          10,
          10,
          10,
          10,
          10,
          10,
          10,
          10,
          10,
          10,
          10,
          10,
          10,
          10,
          10,
          10,
          10,
          10,
          10,
          10,
          10,
          9,
          9,
          9,
          9,
          9,
          9,
          9,
          9,
          9,
          9,
          9,
          9,
          9,
          9,
          9,
          9,
          9,
          9,
          9,
          9,
          9,
          9,
          9,
          9,
          9,
          9,
          9,
          9,
          9,
          9,
          9,
          9,
          9,
          8,
          8,
          8,
          8,
          8,
          8,
          8,
          8,
          8,
          8,
          8,
          8,
          8,
          8,
          8,
          8,
          8,
          8,
          8,
          8,
          8,
          8,
          8,
          8,
          8,
          8,
          8,
          8,
          8,
          8,
          7,
          7,
          7,
          7,
          7,
          7,
          7,
          7,
          7,
          7,
          7,
          7,
          7,
          7,
          7,
          7,
          7,
          7,
          7,
          7,
          7,
          7,
          7,
          7,
          7,
          7,
          7,
          7,
          7,
          7,
          7,
          7,
          7,
          7,
          7,
          7,
          7,
          7,
          7,
          7,
          7,
          7,
          7,
          7,
          6,
          6,
          6,
          6,
          6,
          6,
          6,
          6,
          6,
          6,
          6,
          6,
          6,
          6,
          6,
          6,
          6,
          6,
          6,
          6,
          6,
          6,
          6,
          6,
          6,
          6,
          6,
          6,
          6,
          6,
          6,
          6,
          6,
          6,
          6,
          6,
          6,
          6,
          6,
          5,
          5,
          5,
          5,
          5,
          5,
          5,
          5,
          5,
          5,
          5,
          5,
          5,
          5,
          5,
          5,
          5,
          5,
          5,
          5,
          5,
          5,
          5,
          5,
          5,
          5,
          5,
          5,
          5,
          5,
          5,
          5,
          5,
          5,
          5,
          5,
          5,
          5,
          5,
          5,
          5,
          5,
          5,
          5,
          5,
          5,
          5,
          5,
          5,
          5,
          5,
          4,
          4,
          4,
          4,
          4,
          4,
          4,
          4,
          4,
          4,
          4,
          4,
          4,
          4,
          4,
          4,
          4,
          4,
          4,
          4,
          4,
          4,
          4,
          4,
          4,
          4,
          4,
          4,
          4,
          4,
          4,
          4,
          4,
          4,
          4,
          4,
          4,
          4,
          4,
          4,
          4,
          4,
          4,
          4,
          4,
          4,
          4,
          4,
          4,
          4,
          4,
          4,
          4,
          4,
          4,
          4,
          4,
          4,
          4,
          4,
          4,
          4,
          4,
          4,
          3,
          3,
          3,
          3,
          3,
          3,
          3,
          3,
          3,
          3,
          3,
          3,
          3,
          3,
          3,
          3,
          3,
          3,
          3,
          3,
          3,
          3,
          3,
          3,
          3,
          3,
          3,
          3,
          3,
          3,
          3,
          3,
          3,
          3,
          3,
          3,
          3,
          3,
          3,
          3,
          3,
          3,
          3,
          3,
          3,
          3,
          3,
          3,
          3,
          3,
          3,
          3,
          3,
          3,
          3,
          3,
          3,
          3,
          3,
          3,
          2,
          2,
          2,
          2,
          2,
          2,
          2,
          2,
          2,
          2,
          2,
          2,
          2,
          2,
          2,
          2,
          2,
          2,
          2,
          2,
          2,
          2,
          2,
          2,
          2,
          2,
          2,
          2,
          2,
          2,
          2,
          2,
          2,
          2,
          2,
          2,
          2,
          2,
          2,
          2,
          2,
          2,
          2,
          2,
          2,
          2,
          2,
          2,
          2,
          2,
          2,
          2,
          2,
          2,
          2,
          2,
          2,
          2,
          2,
          2,
          2,
          2,
          2,
          2,
          2,
          2,
          2,
          2,
          1,
          1,
          1,
          1,
          1,
          1,
          1,
          1,
          1,
          1,
          1,
          1,
          1,
          1,
          1,
          1,
          1,
          1,
          1,
          1,
          1,
          1,
          1,
          1,
          1,
          1,
          1,
          1,
          1,
          1,
          1,
          1,
          1,
          1,
          1,
          1,
          1,
          1,
          1,
          1,
          1,
          1,
          1,
          1,
          1,
          1,
          1,
          1,
          1,
          1,
          1,
          1,
          1,
          1,
          1,
          1,
          1,
          1,
          1,
          1,
          1,
          1,
          1,
          1,
          1,
          1,
          1,
          1,
          1,
          1,
          1,
          1,
          1,
          1,
          1,
          1,
          1,
          1,
          1,
          1,
          1,
          1,
          1,
          1,
          1,
          1,
          1,
          1,
          1,
          1,
          1,
          1,
          1,
          1,
          1,
          1,
          1,
          1,
          1,
          1,
          1,
          1,
          1,
          1,
          1,
          1,
          1,
          1,
          1,
          1,
          1,
          1,
          1,
          1,
          1,
          1,
          1,
          1,
          1,
          1,
          1,
          1,
          1,
          1,
          1,
          1,
          1,
          1,
          1,
          1,
          1,
          1,
          1,
          1,
          1,
          1,
          1,
          1,
          1,
          1,
          1
         ],
         "xbins": {
          "end": 600,
          "size": 20,
          "start": 0
         }
        }
       ],
       "layout": {
        "bargap": 0,
        "template": {
         "data": {
          "bar": [
           {
            "error_x": {
             "color": "#2a3f5f"
            },
            "error_y": {
             "color": "#2a3f5f"
            },
            "marker": {
             "line": {
              "color": "#E5ECF6",
              "width": 0.5
             },
             "pattern": {
              "fillmode": "overlay",
              "size": 10,
              "solidity": 0.2
             }
            },
            "type": "bar"
           }
          ],
          "barpolar": [
           {
            "marker": {
             "line": {
              "color": "#E5ECF6",
              "width": 0.5
             },
             "pattern": {
              "fillmode": "overlay",
              "size": 10,
              "solidity": 0.2
             }
            },
            "type": "barpolar"
           }
          ],
          "carpet": [
           {
            "aaxis": {
             "endlinecolor": "#2a3f5f",
             "gridcolor": "white",
             "linecolor": "white",
             "minorgridcolor": "white",
             "startlinecolor": "#2a3f5f"
            },
            "baxis": {
             "endlinecolor": "#2a3f5f",
             "gridcolor": "white",
             "linecolor": "white",
             "minorgridcolor": "white",
             "startlinecolor": "#2a3f5f"
            },
            "type": "carpet"
           }
          ],
          "choropleth": [
           {
            "colorbar": {
             "outlinewidth": 0,
             "ticks": ""
            },
            "type": "choropleth"
           }
          ],
          "contour": [
           {
            "colorbar": {
             "outlinewidth": 0,
             "ticks": ""
            },
            "colorscale": [
             [
              0,
              "#0d0887"
             ],
             [
              0.1111111111111111,
              "#46039f"
             ],
             [
              0.2222222222222222,
              "#7201a8"
             ],
             [
              0.3333333333333333,
              "#9c179e"
             ],
             [
              0.4444444444444444,
              "#bd3786"
             ],
             [
              0.5555555555555556,
              "#d8576b"
             ],
             [
              0.6666666666666666,
              "#ed7953"
             ],
             [
              0.7777777777777778,
              "#fb9f3a"
             ],
             [
              0.8888888888888888,
              "#fdca26"
             ],
             [
              1,
              "#f0f921"
             ]
            ],
            "type": "contour"
           }
          ],
          "contourcarpet": [
           {
            "colorbar": {
             "outlinewidth": 0,
             "ticks": ""
            },
            "type": "contourcarpet"
           }
          ],
          "heatmap": [
           {
            "colorbar": {
             "outlinewidth": 0,
             "ticks": ""
            },
            "colorscale": [
             [
              0,
              "#0d0887"
             ],
             [
              0.1111111111111111,
              "#46039f"
             ],
             [
              0.2222222222222222,
              "#7201a8"
             ],
             [
              0.3333333333333333,
              "#9c179e"
             ],
             [
              0.4444444444444444,
              "#bd3786"
             ],
             [
              0.5555555555555556,
              "#d8576b"
             ],
             [
              0.6666666666666666,
              "#ed7953"
             ],
             [
              0.7777777777777778,
              "#fb9f3a"
             ],
             [
              0.8888888888888888,
              "#fdca26"
             ],
             [
              1,
              "#f0f921"
             ]
            ],
            "type": "heatmap"
           }
          ],
          "heatmapgl": [
           {
            "colorbar": {
             "outlinewidth": 0,
             "ticks": ""
            },
            "colorscale": [
             [
              0,
              "#0d0887"
             ],
             [
              0.1111111111111111,
              "#46039f"
             ],
             [
              0.2222222222222222,
              "#7201a8"
             ],
             [
              0.3333333333333333,
              "#9c179e"
             ],
             [
              0.4444444444444444,
              "#bd3786"
             ],
             [
              0.5555555555555556,
              "#d8576b"
             ],
             [
              0.6666666666666666,
              "#ed7953"
             ],
             [
              0.7777777777777778,
              "#fb9f3a"
             ],
             [
              0.8888888888888888,
              "#fdca26"
             ],
             [
              1,
              "#f0f921"
             ]
            ],
            "type": "heatmapgl"
           }
          ],
          "histogram": [
           {
            "marker": {
             "pattern": {
              "fillmode": "overlay",
              "size": 10,
              "solidity": 0.2
             }
            },
            "type": "histogram"
           }
          ],
          "histogram2d": [
           {
            "colorbar": {
             "outlinewidth": 0,
             "ticks": ""
            },
            "colorscale": [
             [
              0,
              "#0d0887"
             ],
             [
              0.1111111111111111,
              "#46039f"
             ],
             [
              0.2222222222222222,
              "#7201a8"
             ],
             [
              0.3333333333333333,
              "#9c179e"
             ],
             [
              0.4444444444444444,
              "#bd3786"
             ],
             [
              0.5555555555555556,
              "#d8576b"
             ],
             [
              0.6666666666666666,
              "#ed7953"
             ],
             [
              0.7777777777777778,
              "#fb9f3a"
             ],
             [
              0.8888888888888888,
              "#fdca26"
             ],
             [
              1,
              "#f0f921"
             ]
            ],
            "type": "histogram2d"
           }
          ],
          "histogram2dcontour": [
           {
            "colorbar": {
             "outlinewidth": 0,
             "ticks": ""
            },
            "colorscale": [
             [
              0,
              "#0d0887"
             ],
             [
              0.1111111111111111,
              "#46039f"
             ],
             [
              0.2222222222222222,
              "#7201a8"
             ],
             [
              0.3333333333333333,
              "#9c179e"
             ],
             [
              0.4444444444444444,
              "#bd3786"
             ],
             [
              0.5555555555555556,
              "#d8576b"
             ],
             [
              0.6666666666666666,
              "#ed7953"
             ],
             [
              0.7777777777777778,
              "#fb9f3a"
             ],
             [
              0.8888888888888888,
              "#fdca26"
             ],
             [
              1,
              "#f0f921"
             ]
            ],
            "type": "histogram2dcontour"
           }
          ],
          "mesh3d": [
           {
            "colorbar": {
             "outlinewidth": 0,
             "ticks": ""
            },
            "type": "mesh3d"
           }
          ],
          "parcoords": [
           {
            "line": {
             "colorbar": {
              "outlinewidth": 0,
              "ticks": ""
             }
            },
            "type": "parcoords"
           }
          ],
          "pie": [
           {
            "automargin": true,
            "type": "pie"
           }
          ],
          "scatter": [
           {
            "fillpattern": {
             "fillmode": "overlay",
             "size": 10,
             "solidity": 0.2
            },
            "type": "scatter"
           }
          ],
          "scatter3d": [
           {
            "line": {
             "colorbar": {
              "outlinewidth": 0,
              "ticks": ""
             }
            },
            "marker": {
             "colorbar": {
              "outlinewidth": 0,
              "ticks": ""
             }
            },
            "type": "scatter3d"
           }
          ],
          "scattercarpet": [
           {
            "marker": {
             "colorbar": {
              "outlinewidth": 0,
              "ticks": ""
             }
            },
            "type": "scattercarpet"
           }
          ],
          "scattergeo": [
           {
            "marker": {
             "colorbar": {
              "outlinewidth": 0,
              "ticks": ""
             }
            },
            "type": "scattergeo"
           }
          ],
          "scattergl": [
           {
            "marker": {
             "colorbar": {
              "outlinewidth": 0,
              "ticks": ""
             }
            },
            "type": "scattergl"
           }
          ],
          "scattermapbox": [
           {
            "marker": {
             "colorbar": {
              "outlinewidth": 0,
              "ticks": ""
             }
            },
            "type": "scattermapbox"
           }
          ],
          "scatterpolar": [
           {
            "marker": {
             "colorbar": {
              "outlinewidth": 0,
              "ticks": ""
             }
            },
            "type": "scatterpolar"
           }
          ],
          "scatterpolargl": [
           {
            "marker": {
             "colorbar": {
              "outlinewidth": 0,
              "ticks": ""
             }
            },
            "type": "scatterpolargl"
           }
          ],
          "scatterternary": [
           {
            "marker": {
             "colorbar": {
              "outlinewidth": 0,
              "ticks": ""
             }
            },
            "type": "scatterternary"
           }
          ],
          "surface": [
           {
            "colorbar": {
             "outlinewidth": 0,
             "ticks": ""
            },
            "colorscale": [
             [
              0,
              "#0d0887"
             ],
             [
              0.1111111111111111,
              "#46039f"
             ],
             [
              0.2222222222222222,
              "#7201a8"
             ],
             [
              0.3333333333333333,
              "#9c179e"
             ],
             [
              0.4444444444444444,
              "#bd3786"
             ],
             [
              0.5555555555555556,
              "#d8576b"
             ],
             [
              0.6666666666666666,
              "#ed7953"
             ],
             [
              0.7777777777777778,
              "#fb9f3a"
             ],
             [
              0.8888888888888888,
              "#fdca26"
             ],
             [
              1,
              "#f0f921"
             ]
            ],
            "type": "surface"
           }
          ],
          "table": [
           {
            "cells": {
             "fill": {
              "color": "#EBF0F8"
             },
             "line": {
              "color": "white"
             }
            },
            "header": {
             "fill": {
              "color": "#C8D4E3"
             },
             "line": {
              "color": "white"
             }
            },
            "type": "table"
           }
          ]
         },
         "layout": {
          "annotationdefaults": {
           "arrowcolor": "#2a3f5f",
           "arrowhead": 0,
           "arrowwidth": 1
          },
          "autotypenumbers": "strict",
          "coloraxis": {
           "colorbar": {
            "outlinewidth": 0,
            "ticks": ""
           }
          },
          "colorscale": {
           "diverging": [
            [
             0,
             "#8e0152"
            ],
            [
             0.1,
             "#c51b7d"
            ],
            [
             0.2,
             "#de77ae"
            ],
            [
             0.3,
             "#f1b6da"
            ],
            [
             0.4,
             "#fde0ef"
            ],
            [
             0.5,
             "#f7f7f7"
            ],
            [
             0.6,
             "#e6f5d0"
            ],
            [
             0.7,
             "#b8e186"
            ],
            [
             0.8,
             "#7fbc41"
            ],
            [
             0.9,
             "#4d9221"
            ],
            [
             1,
             "#276419"
            ]
           ],
           "sequential": [
            [
             0,
             "#0d0887"
            ],
            [
             0.1111111111111111,
             "#46039f"
            ],
            [
             0.2222222222222222,
             "#7201a8"
            ],
            [
             0.3333333333333333,
             "#9c179e"
            ],
            [
             0.4444444444444444,
             "#bd3786"
            ],
            [
             0.5555555555555556,
             "#d8576b"
            ],
            [
             0.6666666666666666,
             "#ed7953"
            ],
            [
             0.7777777777777778,
             "#fb9f3a"
            ],
            [
             0.8888888888888888,
             "#fdca26"
            ],
            [
             1,
             "#f0f921"
            ]
           ],
           "sequentialminus": [
            [
             0,
             "#0d0887"
            ],
            [
             0.1111111111111111,
             "#46039f"
            ],
            [
             0.2222222222222222,
             "#7201a8"
            ],
            [
             0.3333333333333333,
             "#9c179e"
            ],
            [
             0.4444444444444444,
             "#bd3786"
            ],
            [
             0.5555555555555556,
             "#d8576b"
            ],
            [
             0.6666666666666666,
             "#ed7953"
            ],
            [
             0.7777777777777778,
             "#fb9f3a"
            ],
            [
             0.8888888888888888,
             "#fdca26"
            ],
            [
             1,
             "#f0f921"
            ]
           ]
          },
          "colorway": [
           "#636efa",
           "#EF553B",
           "#00cc96",
           "#ab63fa",
           "#FFA15A",
           "#19d3f3",
           "#FF6692",
           "#B6E880",
           "#FF97FF",
           "#FECB52"
          ],
          "font": {
           "color": "#2a3f5f"
          },
          "geo": {
           "bgcolor": "white",
           "lakecolor": "white",
           "landcolor": "#E5ECF6",
           "showlakes": true,
           "showland": true,
           "subunitcolor": "white"
          },
          "hoverlabel": {
           "align": "left"
          },
          "hovermode": "closest",
          "mapbox": {
           "style": "light"
          },
          "paper_bgcolor": "white",
          "plot_bgcolor": "#E5ECF6",
          "polar": {
           "angularaxis": {
            "gridcolor": "white",
            "linecolor": "white",
            "ticks": ""
           },
           "bgcolor": "#E5ECF6",
           "radialaxis": {
            "gridcolor": "white",
            "linecolor": "white",
            "ticks": ""
           }
          },
          "scene": {
           "xaxis": {
            "backgroundcolor": "#E5ECF6",
            "gridcolor": "white",
            "gridwidth": 2,
            "linecolor": "white",
            "showbackground": true,
            "ticks": "",
            "zerolinecolor": "white"
           },
           "yaxis": {
            "backgroundcolor": "#E5ECF6",
            "gridcolor": "white",
            "gridwidth": 2,
            "linecolor": "white",
            "showbackground": true,
            "ticks": "",
            "zerolinecolor": "white"
           },
           "zaxis": {
            "backgroundcolor": "#E5ECF6",
            "gridcolor": "white",
            "gridwidth": 2,
            "linecolor": "white",
            "showbackground": true,
            "ticks": "",
            "zerolinecolor": "white"
           }
          },
          "shapedefaults": {
           "line": {
            "color": "#2a3f5f"
           }
          },
          "ternary": {
           "aaxis": {
            "gridcolor": "white",
            "linecolor": "white",
            "ticks": ""
           },
           "baxis": {
            "gridcolor": "white",
            "linecolor": "white",
            "ticks": ""
           },
           "bgcolor": "#E5ECF6",
           "caxis": {
            "gridcolor": "white",
            "linecolor": "white",
            "ticks": ""
           }
          },
          "title": {
           "x": 0.05
          },
          "xaxis": {
           "automargin": true,
           "gridcolor": "white",
           "linecolor": "white",
           "ticks": "",
           "title": {
            "standoff": 15
           },
           "zerolinecolor": "white",
           "zerolinewidth": 2
          },
          "yaxis": {
           "automargin": true,
           "gridcolor": "white",
           "linecolor": "white",
           "ticks": "",
           "title": {
            "standoff": 15
           },
           "zerolinecolor": "white",
           "zerolinewidth": 2
          }
         }
        },
        "title": {
         "text": "Distribution Of Number of Ratings Per Item"
        },
        "xaxis": {
         "title": {
          "text": "Number of Ratings Per Item"
         }
        },
        "yaxis": {
         "title": {
          "text": "Count"
         }
        }
       }
      }
     },
     "metadata": {},
     "output_type": "display_data"
    }
   ],
   "source": [
    "data = df.groupby('itemID')['rating'].count().clip().sort_values(ascending=False)\n",
    "\n",
    "# Create trace\n",
    "trace = go.Histogram(x = data.values,\n",
    "                     name = 'Ratings',\n",
    "                     xbins = dict(start = 0,\n",
    "                                  end = 600, #Max is 583\n",
    "                                  size = 20))\n",
    "# Create layout\n",
    "layout = go.Layout(title = 'Distribution Of Number of Ratings Per Item',\n",
    "                   xaxis = dict(title = 'Number of Ratings Per Item'),\n",
    "                   yaxis = dict(title = 'Count'),\n",
    "                   bargap = 0)\n",
    "\n",
    "# Create plot\n",
    "fig = go.Figure(data=[trace], layout=layout)\n",
    "iplot(fig)"
   ]
  },
  {
   "cell_type": "code",
   "execution_count": 15,
   "metadata": {},
   "outputs": [
    {
     "data": {
      "text/plain": [
       "itemID\n",
       "814     5.000\n",
       "1599    5.000\n",
       "1201    5.000\n",
       "1122    5.000\n",
       "1653    5.000\n",
       "1293    5.000\n",
       "1500    5.000\n",
       "1189    5.000\n",
       "1536    5.000\n",
       "1467    5.000\n",
       "1449    4.625\n",
       "119     4.500\n",
       "1398    4.500\n",
       "1642    4.500\n",
       "1594    4.500\n",
       "Name: rating, dtype: float64"
      ]
     },
     "metadata": {},
     "output_type": "display_data"
    },
    {
     "data": {
      "application/vnd.plotly.v1+json": {
       "config": {
        "linkText": "Export to plot.ly",
        "plotlyServerURL": "https://plot.ly",
        "showLink": false
       },
       "data": [
        {
         "name": "Ratings",
         "type": "histogram",
         "x": [
          5,
          5,
          5,
          5,
          5,
          5,
          5,
          5,
          5,
          5,
          4.625,
          4.5,
          4.5,
          4.5,
          4.5,
          4.491071428571429,
          4.466442953020135,
          4.466101694915254,
          4.45679012345679,
          4.447761194029851,
          4.445229681978798,
          4.3875598086124405,
          4.385767790262173,
          4.3584905660377355,
          4.344,
          4.333333333333333,
          4.333333333333333,
          4.333333333333333,
          4.292929292929293,
          4.2926829268292686,
          4.292237442922374,
          4.291666666666667,
          4.28974358974359,
          4.284916201117318,
          4.283292978208232,
          4.265432098765432,
          4.262626262626263,
          4.260869565217392,
          4.259541984732825,
          4.252577319587629,
          4.252380952380952,
          4.251396648044692,
          4.25,
          4.25,
          4.25,
          4.2457142857142856,
          4.23121387283237,
          4.212121212121212,
          4.2101449275362315,
          4.204359673024523,
          4.203980099502488,
          4.2,
          4.2,
          4.2,
          4.198529411764706,
          4.196428571428571,
          4.1923076923076925,
          4.186602870813397,
          4.184210526315789,
          4.175757575757576,
          4.1735537190082646,
          4.172839506172839,
          4.163043478260869,
          4.161616161616162,
          4.155511811023622,
          4.155172413793103,
          4.151515151515151,
          4.15,
          4.138181818181818,
          4.137096774193548,
          4.136054421768708,
          4.132231404958677,
          4.127659574468085,
          4.125,
          4.123809523809523,
          4.121212121212121,
          4.1208791208791204,
          4.120689655172414,
          4.120689655172414,
          4.115384615384615,
          4.115384615384615,
          4.111111111111111,
          4.109375,
          4.106060606060606,
          4.104838709677419,
          4.104602510460251,
          4.102941176470588,
          4.1022727272727275,
          4.100418410041841,
          4.1,
          4.1,
          4.1,
          4.1,
          4.1,
          4.094017094017094,
          4.078260869565217,
          4.0772357723577235,
          4.076023391812866,
          4.0664556962025316,
          4.064516129032258,
          4.0625,
          4.060913705583756,
          4.0602409638554215,
          4.058091286307054,
          4.057971014492754,
          4.053475935828877,
          4.0508474576271185,
          4.05,
          4.05,
          4.0476190476190474,
          4.045454545454546,
          4.045454545454546,
          4.045454545454546,
          4.04524886877828,
          4.044642857142857,
          4.037037037037037,
          4.034364261168385,
          4.029850746268656,
          4.028846153846154,
          4.027397260273973,
          4.025,
          4.023255813953488,
          4.021739130434782,
          4.02051282051282,
          4.02,
          4.015625,
          4.012345679012346,
          4.0111940298507465,
          4.011111111111111,
          4.007889546351085,
          4.0078740157480315,
          4.0067796610169495,
          4,
          4,
          4,
          4,
          4,
          4,
          4,
          4,
          4,
          4,
          4,
          4,
          4,
          4,
          4,
          4,
          4,
          4,
          4,
          4,
          4,
          4,
          4,
          4,
          4,
          4,
          4,
          4,
          4,
          4,
          4,
          4,
          4,
          4,
          4,
          4,
          4,
          4,
          4,
          4,
          4,
          4,
          4,
          4,
          3.9954337899543377,
          3.9939024390243905,
          3.9927007299270074,
          3.9926470588235294,
          3.9914529914529915,
          3.9864864864864864,
          3.985074626865672,
          3.984375,
          3.978494623655914,
          3.9782608695652173,
          3.9696969696969697,
          3.969111969111969,
          3.9682539682539684,
          3.967741935483871,
          3.9672131147540983,
          3.9655172413793105,
          3.96,
          3.9565217391304346,
          3.9516129032258065,
          3.9513274336283186,
          3.949074074074074,
          3.9479166666666665,
          3.9471830985915495,
          3.945945945945946,
          3.945,
          3.9444444444444446,
          3.9421487603305785,
          3.9411764705882355,
          3.94,
          3.9381443298969074,
          3.9375,
          3.9365079365079363,
          3.9358974358974357,
          3.935483870967742,
          3.9335548172757475,
          3.933333333333333,
          3.931159420289855,
          3.930513595166163,
          3.9285714285714284,
          3.926984126984127,
          3.925,
          3.923076923076923,
          3.9224806201550386,
          3.92,
          3.917197452229299,
          3.9166666666666665,
          3.9163346613545817,
          3.912621359223301,
          3.911764705882353,
          3.911764705882353,
          3.911111111111111,
          3.910344827586207,
          3.909502262443439,
          3.9057971014492754,
          3.905759162303665,
          3.9051724137931036,
          3.903225806451613,
          3.9005847953216373,
          3.9,
          3.896551724137931,
          3.8963210702341136,
          3.892857142857143,
          3.888888888888889,
          3.8857142857142857,
          3.884,
          3.881057268722467,
          3.8783185840707963,
          3.876923076923077,
          3.875,
          3.875,
          3.8724279835390947,
          3.871345029239766,
          3.8684210526315788,
          3.868131868131868,
          3.8666666666666667,
          3.8666666666666667,
          3.864406779661017,
          3.864406779661017,
          3.8634361233480177,
          3.8613138686131387,
          3.859154929577465,
          3.857142857142857,
          3.857142857142857,
          3.8555555555555556,
          3.8548387096774195,
          3.854014598540146,
          3.853582554517134,
          3.8512396694214877,
          3.847457627118644,
          3.8461538461538463,
          3.838235294117647,
          3.8366533864541834,
          3.8358208955223883,
          3.834285714285714,
          3.8333333333333335,
          3.8333333333333335,
          3.8333333333333335,
          3.8333333333333335,
          3.8333333333333335,
          3.831460674157303,
          3.8306451612903225,
          3.828025477707006,
          3.825242718446602,
          3.824,
          3.823529411764706,
          3.8217054263565893,
          3.819672131147541,
          3.8181818181818183,
          3.8181818181818183,
          3.8181818181818183,
          3.8173076923076925,
          3.816326530612245,
          3.816,
          3.8157894736842106,
          3.8155737704918034,
          3.814814814814815,
          3.8127853881278537,
          3.808641975308642,
          3.804123711340206,
          3.804054054054054,
          3.804054054054054,
          3.8035363457760316,
          3.802721088435374,
          3.8,
          3.8,
          3.8,
          3.8,
          3.798469387755102,
          3.796875,
          3.79296875,
          3.7928994082840237,
          3.792156862745098,
          3.792079207920792,
          3.7916666666666665,
          3.7916666666666665,
          3.791044776119403,
          3.7901234567901234,
          3.789473684210526,
          3.7857142857142856,
          3.785425101214575,
          3.7818181818181817,
          3.7781569965870307,
          3.7777777777777777,
          3.7761194029850746,
          3.775,
          3.772727272727273,
          3.772727272727273,
          3.7714285714285714,
          3.7714285714285714,
          3.77027027027027,
          3.7701149425287355,
          3.769230769230769,
          3.769230769230769,
          3.769230769230769,
          3.769230769230769,
          3.768041237113402,
          3.765765765765766,
          3.764705882352941,
          3.7642857142857142,
          3.761904761904762,
          3.75,
          3.75,
          3.75,
          3.75,
          3.75,
          3.75,
          3.75,
          3.75,
          3.75,
          3.7471264367816093,
          3.745874587458746,
          3.7450980392156863,
          3.7411764705882353,
          3.740740740740741,
          3.7333333333333334,
          3.72972972972973,
          3.727272727272727,
          3.727272727272727,
          3.7263157894736842,
          3.7247191011235956,
          3.7232142857142856,
          3.722772277227723,
          3.7222222222222223,
          3.7209302325581395,
          3.7203065134099615,
          3.7175141242937855,
          3.7142857142857144,
          3.7142857142857144,
          3.7142857142857144,
          3.712121212121212,
          3.7109375,
          3.7093023255813953,
          3.7083333333333335,
          3.7058823529411766,
          3.704697986577181,
          3.7045454545454546,
          3.7017543859649122,
          3.7,
          3.7,
          3.69811320754717,
          3.697986577181208,
          3.693121693121693,
          3.6929133858267718,
          3.6923076923076925,
          3.6904761904761907,
          3.6904761904761907,
          3.690058479532164,
          3.6875,
          3.6865671641791047,
          3.685344827586207,
          3.6823529411764704,
          3.6818181818181817,
          3.68,
          3.68,
          3.676470588235294,
          3.676470588235294,
          3.675,
          3.6732673267326734,
          3.6714285714285713,
          3.6666666666666665,
          3.6666666666666665,
          3.6666666666666665,
          3.6666666666666665,
          3.6666666666666665,
          3.6666666666666665,
          3.6666666666666665,
          3.6666666666666665,
          3.6666666666666665,
          3.6666666666666665,
          3.6666666666666665,
          3.6666666666666665,
          3.6666666666666665,
          3.6666666666666665,
          3.6666666666666665,
          3.6666666666666665,
          3.6638655462184873,
          3.6613545816733066,
          3.6610169491525424,
          3.6610169491525424,
          3.66027397260274,
          3.658536585365854,
          3.658536585365854,
          3.656964656964657,
          3.6545454545454548,
          3.6538461538461537,
          3.652173913043478,
          3.651685393258427,
          3.6511627906976742,
          3.65,
          3.6483516483516483,
          3.6478260869565218,
          3.645714285714286,
          3.644194756554307,
          3.6436781609195403,
          3.642857142857143,
          3.641025641025641,
          3.6341463414634148,
          3.6333333333333333,
          3.6319018404907975,
          3.6310904872389793,
          3.6298701298701297,
          3.6296296296296298,
          3.6280487804878048,
          3.625,
          3.625,
          3.6222222222222222,
          3.6218487394957983,
          3.6216216216216215,
          3.619047619047619,
          3.6176470588235294,
          3.6153846153846154,
          3.6153846153846154,
          3.6153846153846154,
          3.611111111111111,
          3.611111111111111,
          3.611111111111111,
          3.6108597285067874,
          3.609375,
          3.608695652173913,
          3.608695652173913,
          3.601503759398496,
          3.6011904761904763,
          3.601123595505618,
          3.6,
          3.6,
          3.6,
          3.6,
          3.6,
          3.6,
          3.5961538461538463,
          3.5955882352941178,
          3.5953488372093023,
          3.5945945945945947,
          3.5943396226415096,
          3.593625498007968,
          3.5925925925925926,
          3.58974358974359,
          3.589403973509934,
          3.5874125874125875,
          3.5873015873015874,
          3.5833333333333335,
          3.5813953488372094,
          3.5789473684210527,
          3.576923076923077,
          3.574468085106383,
          3.5714285714285716,
          3.5714285714285716,
          3.5714285714285716,
          3.5714285714285716,
          3.569832402234637,
          3.569620253164557,
          3.569506726457399,
          3.5652173913043477,
          3.5647058823529414,
          3.5625,
          3.5625,
          3.557377049180328,
          3.556603773584906,
          3.5555555555555554,
          3.5555555555555554,
          3.5555555555555554,
          3.5555555555555554,
          3.5555555555555554,
          3.5545454545454547,
          3.5543478260869565,
          3.5526315789473686,
          3.550239234449761,
          3.55,
          3.549382716049383,
          3.546875,
          3.5454545454545454,
          3.5454545454545454,
          3.5454545454545454,
          3.5443037974683542,
          3.5441176470588234,
          3.5434782608695654,
          3.5416666666666665,
          3.539906103286385,
          3.5398230088495577,
          3.5391304347826087,
          3.5384615384615383,
          3.5369127516778525,
          3.5359477124183005,
          3.5353535353535355,
          3.532258064516129,
          3.53,
          3.5294117647058822,
          3.5232558139534884,
          3.5168539325842696,
          3.515957446808511,
          3.515151515151515,
          3.514792899408284,
          3.513333333333333,
          3.510948905109489,
          3.5041322314049586,
          3.5,
          3.5,
          3.5,
          3.5,
          3.5,
          3.5,
          3.5,
          3.5,
          3.5,
          3.5,
          3.5,
          3.5,
          3.5,
          3.5,
          3.5,
          3.5,
          3.5,
          3.5,
          3.5,
          3.5,
          3.5,
          3.4959349593495936,
          3.490566037735849,
          3.488888888888889,
          3.4871794871794872,
          3.486842105263158,
          3.486111111111111,
          3.485294117647059,
          3.484375,
          3.4831460674157304,
          3.4827586206896552,
          3.481818181818182,
          3.4814814814814814,
          3.4771573604060912,
          3.4761904761904763,
          3.4761904761904763,
          3.4752475247524752,
          3.475,
          3.473684210526316,
          3.4702702702702704,
          3.46875,
          3.46875,
          3.466666666666667,
          3.465909090909091,
          3.464788732394366,
          3.4647058823529413,
          3.463768115942029,
          3.4615384615384617,
          3.4615384615384617,
          3.4615384615384617,
          3.4607843137254903,
          3.4603174603174605,
          3.46,
          3.45985401459854,
          3.458823529411765,
          3.4583333333333335,
          3.458064516129032,
          3.45679012345679,
          3.4565217391304346,
          3.4565217391304346,
          3.456140350877193,
          3.4545454545454546,
          3.4536082474226806,
          3.452054794520548,
          3.45,
          3.4482758620689653,
          3.4482758620689653,
          3.4472361809045227,
          3.4444444444444446,
          3.4444444444444446,
          3.4444444444444446,
          3.4444444444444446,
          3.4436860068259385,
          3.4414225941422596,
          3.438228438228438,
          3.4375,
          3.4310344827586206,
          3.4307692307692306,
          3.4285714285714284,
          3.4285714285714284,
          3.4285714285714284,
          3.4285714285714284,
          3.4285714285714284,
          3.427860696517413,
          3.4277777777777776,
          3.426829268292683,
          3.425,
          3.4242424242424243,
          3.4237288135593222,
          3.421875,
          3.4210526315789473,
          3.4184782608695654,
          3.417910447761194,
          3.4177215189873418,
          3.4166666666666665,
          3.4166666666666665,
          3.4166666666666665,
          3.413793103448276,
          3.4114583333333335,
          3.4081632653061225,
          3.4074074074074074,
          3.4054054054054053,
          3.4025974025974026,
          3.4,
          3.4,
          3.4,
          3.4,
          3.4,
          3.4,
          3.4,
          3.4,
          3.391304347826087,
          3.389261744966443,
          3.388235294117647,
          3.3859649122807016,
          3.3859649122807016,
          3.3846153846153846,
          3.3846153846153846,
          3.3846153846153846,
          3.381443298969072,
          3.38,
          3.3783783783783785,
          3.377952755905512,
          3.3771428571428572,
          3.375,
          3.375,
          3.375,
          3.375,
          3.37007874015748,
          3.3636363636363638,
          3.3636363636363638,
          3.3636363636363638,
          3.36046511627907,
          3.36,
          3.359375,
          3.358974358974359,
          3.357142857142857,
          3.356687898089172,
          3.355421686746988,
          3.3548387096774195,
          3.3508771929824563,
          3.347058823529412,
          3.34375,
          3.3417721518987342,
          3.341463414634146,
          3.3404255319148937,
          3.3380281690140845,
          3.3376623376623376,
          3.3376623376623376,
          3.336206896551724,
          3.3333333333333335,
          3.3333333333333335,
          3.3333333333333335,
          3.3333333333333335,
          3.3333333333333335,
          3.3333333333333335,
          3.3333333333333335,
          3.3333333333333335,
          3.3333333333333335,
          3.3333333333333335,
          3.3333333333333335,
          3.3333333333333335,
          3.3333333333333335,
          3.3333333333333335,
          3.3333333333333335,
          3.3333333333333335,
          3.3333333333333335,
          3.3333333333333335,
          3.3333333333333335,
          3.3292682926829267,
          3.323529411764706,
          3.323170731707317,
          3.3209876543209877,
          3.319327731092437,
          3.3181818181818183,
          3.3181818181818183,
          3.3181818181818183,
          3.3157894736842106,
          3.313953488372093,
          3.3125,
          3.3125,
          3.3076923076923075,
          3.3076923076923075,
          3.3043478260869565,
          3.303370786516854,
          3.302325581395349,
          3.3,
          3.3,
          3.3,
          3.2962962962962963,
          3.2941176470588234,
          3.2903225806451615,
          3.2903225806451615,
          3.2857142857142856,
          3.2857142857142856,
          3.2857142857142856,
          3.2857142857142856,
          3.2857142857142856,
          3.2857142857142856,
          3.2857142857142856,
          3.2857142857142856,
          3.2847682119205297,
          3.279503105590062,
          3.2781456953642385,
          3.2758620689655173,
          3.2738095238095237,
          3.272727272727273,
          3.272727272727273,
          3.272727272727273,
          3.2720588235294117,
          3.2666666666666666,
          3.264367816091954,
          3.26027397260274,
          3.2564102564102564,
          3.25531914893617,
          3.25531914893617,
          3.2551724137931033,
          3.25,
          3.25,
          3.25,
          3.25,
          3.25,
          3.25,
          3.25,
          3.25,
          3.25,
          3.25,
          3.25,
          3.246153846153846,
          3.2439024390243905,
          3.241758241758242,
          3.2403846153846154,
          3.24,
          3.24,
          3.24,
          3.235294117647059,
          3.234782608695652,
          3.2333333333333334,
          3.2322274881516586,
          3.232142857142857,
          3.230769230769231,
          3.230769230769231,
          3.230769230769231,
          3.230769230769231,
          3.230769230769231,
          3.227722772277228,
          3.2266666666666666,
          3.225806451612903,
          3.225,
          3.2241379310344827,
          3.2222222222222223,
          3.2222222222222223,
          3.2222222222222223,
          3.2222222222222223,
          3.2222222222222223,
          3.2203389830508473,
          3.2169811320754715,
          3.2150170648464163,
          3.2131147540983607,
          3.210526315789474,
          3.210526315789474,
          3.2083333333333335,
          3.2083333333333335,
          3.207920792079208,
          3.2061068702290076,
          3.2051282051282053,
          3.204081632653061,
          3.203125,
          3.2,
          3.2,
          3.2,
          3.2,
          3.2,
          3.2,
          3.2,
          3.2,
          3.2,
          3.2,
          3.193798449612403,
          3.193548387096774,
          3.1904761904761907,
          3.1882352941176473,
          3.1875,
          3.1824817518248176,
          3.1818181818181817,
          3.1818181818181817,
          3.1785714285714284,
          3.1777777777777776,
          3.176470588235294,
          3.1739130434782608,
          3.171875,
          3.171171171171171,
          3.169491525423729,
          3.1666666666666665,
          3.1666666666666665,
          3.1666666666666665,
          3.1666666666666665,
          3.1666666666666665,
          3.1666666666666665,
          3.1666666666666665,
          3.1666666666666665,
          3.1666666666666665,
          3.1666666666666665,
          3.1666666666666665,
          3.1666666666666665,
          3.1666666666666665,
          3.1641791044776117,
          3.1627906976744184,
          3.1625,
          3.161764705882353,
          3.161290322580645,
          3.160621761658031,
          3.159090909090909,
          3.158333333333333,
          3.156701030927835,
          3.1551724137931036,
          3.1549295774647885,
          3.1538461538461537,
          3.1538461538461537,
          3.1538461538461537,
          3.152173913043478,
          3.150485436893204,
          3.1494252873563218,
          3.1481481481481484,
          3.1475409836065573,
          3.1470588235294117,
          3.1463414634146343,
          3.143835616438356,
          3.142857142857143,
          3.142857142857143,
          3.142857142857143,
          3.142857142857143,
          3.142857142857143,
          3.142857142857143,
          3.142857142857143,
          3.141732283464567,
          3.1392405063291138,
          3.136,
          3.1333333333333333,
          3.1333333333333333,
          3.130434782608696,
          3.130434782608696,
          3.1301775147928996,
          3.1296296296296298,
          3.1296296296296298,
          3.126984126984127,
          3.125,
          3.125,
          3.1234177215189876,
          3.1222222222222222,
          3.119565217391304,
          3.1176470588235294,
          3.1153846153846154,
          3.1145833333333335,
          3.111111111111111,
          3.111111111111111,
          3.111111111111111,
          3.111111111111111,
          3.111111111111111,
          3.111111111111111,
          3.1083333333333334,
          3.1052631578947367,
          3.1052631578947367,
          3.1020408163265305,
          3.1,
          3.1,
          3.1,
          3.097560975609756,
          3.096774193548387,
          3.096774193548387,
          3.095890410958904,
          3.0952380952380953,
          3.09375,
          3.0930232558139537,
          3.090909090909091,
          3.090909090909091,
          3.0875912408759123,
          3.0871559633027523,
          3.0869565217391304,
          3.0833333333333335,
          3.0822784810126582,
          3.081081081081081,
          3.0784313725490198,
          3.076923076923077,
          3.076923076923077,
          3.0754716981132075,
          3.074074074074074,
          3.0701754385964914,
          3.0681818181818183,
          3.0677966101694913,
          3.0652173913043477,
          3.061224489795918,
          3.061224489795918,
          3.06,
          3.0555555555555554,
          3.0526315789473686,
          3.0526315789473686,
          3.051282051282051,
          3.0485436893203883,
          3.046728971962617,
          3.0454545454545454,
          3.0454545454545454,
          3.0416666666666665,
          3.0405405405405403,
          3.036144578313253,
          3.0344827586206895,
          3.034188034188034,
          3.033333333333333,
          3.031496062992126,
          3.03125,
          3.026315789473684,
          3.024390243902439,
          3.024390243902439,
          3.0232558139534884,
          3.022222222222222,
          3.021505376344086,
          3.018867924528302,
          3.01875,
          3.0136986301369864,
          3.0083333333333333,
          3,
          3,
          3,
          3,
          3,
          3,
          3,
          3,
          3,
          3,
          3,
          3,
          3,
          3,
          3,
          3,
          3,
          3,
          3,
          3,
          3,
          3,
          3,
          3,
          3,
          3,
          3,
          3,
          3,
          3,
          3,
          3,
          3,
          3,
          3,
          3,
          3,
          3,
          3,
          3,
          3,
          3,
          3,
          3,
          3,
          3,
          3,
          3,
          3,
          3,
          3,
          3,
          3,
          3,
          3,
          3,
          3,
          3,
          3,
          3,
          3,
          3,
          3,
          3,
          3,
          3,
          3,
          3,
          3,
          3,
          3,
          3,
          3,
          3,
          3,
          3,
          3,
          3,
          3,
          3,
          3,
          3,
          3,
          3,
          3,
          3,
          3,
          3,
          3,
          3,
          3,
          3,
          3,
          3,
          3,
          3,
          3,
          3,
          3,
          3,
          3,
          3,
          3,
          2.983050847457627,
          2.9806949806949805,
          2.9782608695652173,
          2.9767441860465116,
          2.966666666666667,
          2.966666666666667,
          2.962962962962963,
          2.961038961038961,
          2.955223880597015,
          2.953125,
          2.9430379746835444,
          2.9411764705882355,
          2.9393939393939394,
          2.9375,
          2.933333333333333,
          2.933333333333333,
          2.933333333333333,
          2.9318181818181817,
          2.9315068493150687,
          2.9310344827586206,
          2.9310344827586206,
          2.926829268292683,
          2.926470588235294,
          2.925,
          2.923076923076923,
          2.923076923076923,
          2.923076923076923,
          2.923076923076923,
          2.9166666666666665,
          2.914110429447853,
          2.909090909090909,
          2.909090909090909,
          2.909090909090909,
          2.908256880733945,
          2.9069767441860463,
          2.903225806451613,
          2.9,
          2.9,
          2.8984375,
          2.8974358974358974,
          2.8958333333333335,
          2.8947368421052633,
          2.888888888888889,
          2.888888888888889,
          2.887323943661972,
          2.8846153846153846,
          2.88,
          2.88,
          2.8780487804878048,
          2.877551020408163,
          2.875,
          2.875,
          2.875,
          2.875,
          2.875,
          2.871794871794872,
          2.869565217391304,
          2.8666666666666667,
          2.8636363636363638,
          2.8636363636363638,
          2.857142857142857,
          2.857142857142857,
          2.857142857142857,
          2.8536585365853657,
          2.85,
          2.847926267281106,
          2.8461538461538463,
          2.8461538461538463,
          2.84375,
          2.84375,
          2.84,
          2.838709677419355,
          2.838709677419355,
          2.8358208955223883,
          2.8333333333333335,
          2.8333333333333335,
          2.8333333333333335,
          2.8333333333333335,
          2.8333333333333335,
          2.8333333333333335,
          2.8333333333333335,
          2.83,
          2.8260869565217392,
          2.823529411764706,
          2.8214285714285716,
          2.8205128205128207,
          2.8205128205128207,
          2.817073170731707,
          2.8160919540229883,
          2.814814814814815,
          2.8125,
          2.8125,
          2.808219178082192,
          2.803921568627451,
          2.8026315789473686,
          2.8,
          2.8,
          2.8,
          2.8,
          2.8,
          2.8,
          2.8,
          2.8,
          2.8,
          2.8,
          2.8,
          2.8,
          2.7884615384615383,
          2.782608695652174,
          2.78125,
          2.78,
          2.7777777777777777,
          2.7777777777777777,
          2.774193548387097,
          2.772727272727273,
          2.772727272727273,
          2.7719298245614037,
          2.7714285714285714,
          2.769230769230769,
          2.764705882352941,
          2.761904761904762,
          2.761904761904762,
          2.76,
          2.7586206896551726,
          2.7586206896551726,
          2.7551020408163267,
          2.7547169811320753,
          2.75,
          2.75,
          2.75,
          2.75,
          2.75,
          2.75,
          2.75,
          2.75,
          2.75,
          2.75,
          2.75,
          2.75,
          2.75,
          2.75,
          2.75,
          2.75,
          2.75,
          2.75,
          2.7457627118644066,
          2.742574257425743,
          2.739130434782609,
          2.736842105263158,
          2.7358490566037736,
          2.7333333333333334,
          2.72972972972973,
          2.727272727272727,
          2.727272727272727,
          2.723404255319149,
          2.723076923076923,
          2.7222222222222223,
          2.7222222222222223,
          2.7209302325581395,
          2.717391304347826,
          2.7169811320754715,
          2.7142857142857144,
          2.7142857142857144,
          2.7142857142857144,
          2.7142857142857144,
          2.702970297029703,
          2.702127659574468,
          2.701492537313433,
          2.7,
          2.7,
          2.7,
          2.7,
          2.7,
          2.693877551020408,
          2.6923076923076925,
          2.6923076923076925,
          2.6875,
          2.685185185185185,
          2.6842105263157894,
          2.6842105263157894,
          2.683098591549296,
          2.6818181818181817,
          2.68,
          2.68,
          2.676470588235294,
          2.675675675675676,
          2.6666666666666665,
          2.6666666666666665,
          2.6666666666666665,
          2.6666666666666665,
          2.6666666666666665,
          2.6666666666666665,
          2.6666666666666665,
          2.6666666666666665,
          2.6666666666666665,
          2.6666666666666665,
          2.6666666666666665,
          2.6666666666666665,
          2.6666666666666665,
          2.6666666666666665,
          2.6666666666666665,
          2.6666666666666665,
          2.6666666666666665,
          2.6666666666666665,
          2.6666666666666665,
          2.6666666666666665,
          2.660377358490566,
          2.659340659340659,
          2.652173913043478,
          2.6470588235294117,
          2.642857142857143,
          2.642857142857143,
          2.6363636363636362,
          2.6363636363636362,
          2.6363636363636362,
          2.6341463414634148,
          2.6315789473684212,
          2.627906976744186,
          2.625,
          2.625,
          2.625,
          2.6206896551724137,
          2.6166666666666667,
          2.6153846153846154,
          2.606060606060606,
          2.6,
          2.6,
          2.6,
          2.6,
          2.6,
          2.6,
          2.6,
          2.6,
          2.5892857142857144,
          2.5833333333333335,
          2.5806451612903225,
          2.5789473684210527,
          2.575,
          2.574803149606299,
          2.5714285714285716,
          2.5714285714285716,
          2.5714285714285716,
          2.5714285714285716,
          2.5714285714285716,
          2.5675675675675675,
          2.5660377358490565,
          2.5652173913043477,
          2.5625,
          2.5588235294117645,
          2.558139534883721,
          2.5555555555555554,
          2.5483870967741935,
          2.546875,
          2.5454545454545454,
          2.5454545454545454,
          2.5384615384615383,
          2.533333333333333,
          2.5294117647058822,
          2.5217391304347827,
          2.52,
          2.5185185185185186,
          2.5185185185185186,
          2.5185185185185186,
          2.5161290322580645,
          2.515151515151515,
          2.511627906976744,
          2.511627906976744,
          2.5,
          2.5,
          2.5,
          2.5,
          2.5,
          2.5,
          2.5,
          2.5,
          2.5,
          2.5,
          2.5,
          2.5,
          2.5,
          2.5,
          2.5,
          2.5,
          2.5,
          2.5,
          2.5,
          2.5,
          2.5,
          2.5,
          2.5,
          2.5,
          2.5,
          2.5,
          2.5,
          2.5,
          2.5,
          2.5,
          2.5,
          2.5,
          2.5,
          2.5,
          2.4871794871794872,
          2.477272727272727,
          2.473684210526316,
          2.473684210526316,
          2.4705882352941178,
          2.4615384615384617,
          2.4583333333333335,
          2.4545454545454546,
          2.4545454545454546,
          2.4523809523809526,
          2.4516129032258065,
          2.45,
          2.4489795918367347,
          2.4461538461538463,
          2.4444444444444446,
          2.4444444444444446,
          2.4444444444444446,
          2.4444444444444446,
          2.4444444444444446,
          2.4393939393939394,
          2.4285714285714284,
          2.4285714285714284,
          2.4285714285714284,
          2.4285714285714284,
          2.4285714285714284,
          2.4285714285714284,
          2.4285714285714284,
          2.4285714285714284,
          2.4285714285714284,
          2.4285714285714284,
          2.4285714285714284,
          2.4285714285714284,
          2.4285714285714284,
          2.4285714285714284,
          2.4166666666666665,
          2.4166666666666665,
          2.413793103448276,
          2.413793103448276,
          2.4081632653061225,
          2.4054054054054053,
          2.4,
          2.4,
          2.4,
          2.4,
          2.4,
          2.4,
          2.4,
          2.4,
          2.4,
          2.4,
          2.3978494623655915,
          2.3968253968253967,
          2.392857142857143,
          2.375,
          2.375,
          2.34375,
          2.339622641509434,
          2.3333333333333335,
          2.3333333333333335,
          2.3333333333333335,
          2.3333333333333335,
          2.3333333333333335,
          2.3333333333333335,
          2.3333333333333335,
          2.3333333333333335,
          2.3333333333333335,
          2.3333333333333335,
          2.3333333333333335,
          2.3333333333333335,
          2.3333333333333335,
          2.3333333333333335,
          2.3333333333333335,
          2.3181818181818183,
          2.313953488372093,
          2.3125,
          2.3076923076923075,
          2.3043478260869565,
          2.2941176470588234,
          2.2941176470588234,
          2.289473684210526,
          2.2857142857142856,
          2.2857142857142856,
          2.2857142857142856,
          2.28,
          2.2777777777777777,
          2.272727272727273,
          2.272727272727273,
          2.260869565217391,
          2.25,
          2.25,
          2.25,
          2.25,
          2.25,
          2.25,
          2.25,
          2.25,
          2.25,
          2.25,
          2.25,
          2.25,
          2.2444444444444445,
          2.24,
          2.2388059701492535,
          2.230769230769231,
          2.230769230769231,
          2.2222222222222223,
          2.2195121951219514,
          2.210526315789474,
          2.2,
          2.2,
          2.2,
          2.2,
          2.2,
          2.2,
          2.1884057971014492,
          2.1818181818181817,
          2.1818181818181817,
          2.1818181818181817,
          2.1666666666666665,
          2.1666666666666665,
          2.1666666666666665,
          2.1666666666666665,
          2.1666666666666665,
          2.1666666666666665,
          2.1666666666666665,
          2.1578947368421053,
          2.1578947368421053,
          2.1538461538461537,
          2.1538461538461537,
          2.1538461538461537,
          2.142857142857143,
          2.142857142857143,
          2.142857142857143,
          2.1315789473684212,
          2.125,
          2.125,
          2.1153846153846154,
          2.111111111111111,
          2.111111111111111,
          2.111111111111111,
          2.076923076923077,
          2.064516129032258,
          2.037037037037037,
          2,
          2,
          2,
          2,
          2,
          2,
          2,
          2,
          2,
          2,
          2,
          2,
          2,
          2,
          2,
          2,
          2,
          2,
          2,
          2,
          2,
          2,
          2,
          2,
          2,
          2,
          2,
          2,
          2,
          2,
          2,
          2,
          2,
          2,
          2,
          2,
          2,
          2,
          2,
          2,
          2,
          2,
          2,
          2,
          2,
          2,
          2,
          2,
          2,
          2,
          2,
          2,
          2,
          2,
          2,
          1.9565217391304348,
          1.9534883720930232,
          1.9487179487179487,
          1.9375,
          1.9333333333333333,
          1.9166666666666667,
          1.903225806451613,
          1.894736842105263,
          1.875,
          1.8666666666666667,
          1.8571428571428572,
          1.8571428571428572,
          1.8409090909090908,
          1.8333333333333333,
          1.8333333333333333,
          1.8333333333333333,
          1.8333333333333333,
          1.8181818181818181,
          1.8,
          1.8,
          1.8,
          1.75,
          1.75,
          1.75,
          1.75,
          1.7407407407407407,
          1.7272727272727273,
          1.7142857142857142,
          1.7,
          1.6666666666666667,
          1.6666666666666667,
          1.6666666666666667,
          1.6666666666666667,
          1.6666666666666667,
          1.6666666666666667,
          1.6428571428571428,
          1.6153846153846154,
          1.6,
          1.6,
          1.5714285714285714,
          1.5,
          1.5,
          1.5,
          1.5,
          1.5,
          1.5,
          1.5,
          1.5,
          1.5,
          1.5,
          1.5,
          1.4,
          1.3333333333333333,
          1.3333333333333333,
          1.3333333333333333,
          1.3157894736842106,
          1.25,
          1.25,
          1.1666666666666667,
          1,
          1,
          1,
          1,
          1,
          1,
          1,
          1,
          1,
          1,
          1,
          1,
          1,
          1,
          1,
          1,
          1,
          1,
          1,
          1,
          1,
          1,
          1,
          1,
          1,
          1,
          1,
          1,
          1,
          1,
          1,
          1,
          1,
          1,
          1,
          1,
          1,
          1,
          1,
          1,
          1,
          1,
          1,
          1,
          1,
          1,
          1,
          1,
          1,
          1,
          1,
          1,
          1,
          1,
          1,
          1,
          1,
          1,
          1,
          1,
          1,
          1,
          1,
          1,
          1,
          1,
          1,
          1,
          1,
          1
         ],
         "xbins": {
          "size": 0.1
         }
        }
       ],
       "layout": {
        "bargap": 0.1,
        "template": {
         "data": {
          "bar": [
           {
            "error_x": {
             "color": "#2a3f5f"
            },
            "error_y": {
             "color": "#2a3f5f"
            },
            "marker": {
             "line": {
              "color": "#E5ECF6",
              "width": 0.5
             },
             "pattern": {
              "fillmode": "overlay",
              "size": 10,
              "solidity": 0.2
             }
            },
            "type": "bar"
           }
          ],
          "barpolar": [
           {
            "marker": {
             "line": {
              "color": "#E5ECF6",
              "width": 0.5
             },
             "pattern": {
              "fillmode": "overlay",
              "size": 10,
              "solidity": 0.2
             }
            },
            "type": "barpolar"
           }
          ],
          "carpet": [
           {
            "aaxis": {
             "endlinecolor": "#2a3f5f",
             "gridcolor": "white",
             "linecolor": "white",
             "minorgridcolor": "white",
             "startlinecolor": "#2a3f5f"
            },
            "baxis": {
             "endlinecolor": "#2a3f5f",
             "gridcolor": "white",
             "linecolor": "white",
             "minorgridcolor": "white",
             "startlinecolor": "#2a3f5f"
            },
            "type": "carpet"
           }
          ],
          "choropleth": [
           {
            "colorbar": {
             "outlinewidth": 0,
             "ticks": ""
            },
            "type": "choropleth"
           }
          ],
          "contour": [
           {
            "colorbar": {
             "outlinewidth": 0,
             "ticks": ""
            },
            "colorscale": [
             [
              0,
              "#0d0887"
             ],
             [
              0.1111111111111111,
              "#46039f"
             ],
             [
              0.2222222222222222,
              "#7201a8"
             ],
             [
              0.3333333333333333,
              "#9c179e"
             ],
             [
              0.4444444444444444,
              "#bd3786"
             ],
             [
              0.5555555555555556,
              "#d8576b"
             ],
             [
              0.6666666666666666,
              "#ed7953"
             ],
             [
              0.7777777777777778,
              "#fb9f3a"
             ],
             [
              0.8888888888888888,
              "#fdca26"
             ],
             [
              1,
              "#f0f921"
             ]
            ],
            "type": "contour"
           }
          ],
          "contourcarpet": [
           {
            "colorbar": {
             "outlinewidth": 0,
             "ticks": ""
            },
            "type": "contourcarpet"
           }
          ],
          "heatmap": [
           {
            "colorbar": {
             "outlinewidth": 0,
             "ticks": ""
            },
            "colorscale": [
             [
              0,
              "#0d0887"
             ],
             [
              0.1111111111111111,
              "#46039f"
             ],
             [
              0.2222222222222222,
              "#7201a8"
             ],
             [
              0.3333333333333333,
              "#9c179e"
             ],
             [
              0.4444444444444444,
              "#bd3786"
             ],
             [
              0.5555555555555556,
              "#d8576b"
             ],
             [
              0.6666666666666666,
              "#ed7953"
             ],
             [
              0.7777777777777778,
              "#fb9f3a"
             ],
             [
              0.8888888888888888,
              "#fdca26"
             ],
             [
              1,
              "#f0f921"
             ]
            ],
            "type": "heatmap"
           }
          ],
          "heatmapgl": [
           {
            "colorbar": {
             "outlinewidth": 0,
             "ticks": ""
            },
            "colorscale": [
             [
              0,
              "#0d0887"
             ],
             [
              0.1111111111111111,
              "#46039f"
             ],
             [
              0.2222222222222222,
              "#7201a8"
             ],
             [
              0.3333333333333333,
              "#9c179e"
             ],
             [
              0.4444444444444444,
              "#bd3786"
             ],
             [
              0.5555555555555556,
              "#d8576b"
             ],
             [
              0.6666666666666666,
              "#ed7953"
             ],
             [
              0.7777777777777778,
              "#fb9f3a"
             ],
             [
              0.8888888888888888,
              "#fdca26"
             ],
             [
              1,
              "#f0f921"
             ]
            ],
            "type": "heatmapgl"
           }
          ],
          "histogram": [
           {
            "marker": {
             "pattern": {
              "fillmode": "overlay",
              "size": 10,
              "solidity": 0.2
             }
            },
            "type": "histogram"
           }
          ],
          "histogram2d": [
           {
            "colorbar": {
             "outlinewidth": 0,
             "ticks": ""
            },
            "colorscale": [
             [
              0,
              "#0d0887"
             ],
             [
              0.1111111111111111,
              "#46039f"
             ],
             [
              0.2222222222222222,
              "#7201a8"
             ],
             [
              0.3333333333333333,
              "#9c179e"
             ],
             [
              0.4444444444444444,
              "#bd3786"
             ],
             [
              0.5555555555555556,
              "#d8576b"
             ],
             [
              0.6666666666666666,
              "#ed7953"
             ],
             [
              0.7777777777777778,
              "#fb9f3a"
             ],
             [
              0.8888888888888888,
              "#fdca26"
             ],
             [
              1,
              "#f0f921"
             ]
            ],
            "type": "histogram2d"
           }
          ],
          "histogram2dcontour": [
           {
            "colorbar": {
             "outlinewidth": 0,
             "ticks": ""
            },
            "colorscale": [
             [
              0,
              "#0d0887"
             ],
             [
              0.1111111111111111,
              "#46039f"
             ],
             [
              0.2222222222222222,
              "#7201a8"
             ],
             [
              0.3333333333333333,
              "#9c179e"
             ],
             [
              0.4444444444444444,
              "#bd3786"
             ],
             [
              0.5555555555555556,
              "#d8576b"
             ],
             [
              0.6666666666666666,
              "#ed7953"
             ],
             [
              0.7777777777777778,
              "#fb9f3a"
             ],
             [
              0.8888888888888888,
              "#fdca26"
             ],
             [
              1,
              "#f0f921"
             ]
            ],
            "type": "histogram2dcontour"
           }
          ],
          "mesh3d": [
           {
            "colorbar": {
             "outlinewidth": 0,
             "ticks": ""
            },
            "type": "mesh3d"
           }
          ],
          "parcoords": [
           {
            "line": {
             "colorbar": {
              "outlinewidth": 0,
              "ticks": ""
             }
            },
            "type": "parcoords"
           }
          ],
          "pie": [
           {
            "automargin": true,
            "type": "pie"
           }
          ],
          "scatter": [
           {
            "fillpattern": {
             "fillmode": "overlay",
             "size": 10,
             "solidity": 0.2
            },
            "type": "scatter"
           }
          ],
          "scatter3d": [
           {
            "line": {
             "colorbar": {
              "outlinewidth": 0,
              "ticks": ""
             }
            },
            "marker": {
             "colorbar": {
              "outlinewidth": 0,
              "ticks": ""
             }
            },
            "type": "scatter3d"
           }
          ],
          "scattercarpet": [
           {
            "marker": {
             "colorbar": {
              "outlinewidth": 0,
              "ticks": ""
             }
            },
            "type": "scattercarpet"
           }
          ],
          "scattergeo": [
           {
            "marker": {
             "colorbar": {
              "outlinewidth": 0,
              "ticks": ""
             }
            },
            "type": "scattergeo"
           }
          ],
          "scattergl": [
           {
            "marker": {
             "colorbar": {
              "outlinewidth": 0,
              "ticks": ""
             }
            },
            "type": "scattergl"
           }
          ],
          "scattermapbox": [
           {
            "marker": {
             "colorbar": {
              "outlinewidth": 0,
              "ticks": ""
             }
            },
            "type": "scattermapbox"
           }
          ],
          "scatterpolar": [
           {
            "marker": {
             "colorbar": {
              "outlinewidth": 0,
              "ticks": ""
             }
            },
            "type": "scatterpolar"
           }
          ],
          "scatterpolargl": [
           {
            "marker": {
             "colorbar": {
              "outlinewidth": 0,
              "ticks": ""
             }
            },
            "type": "scatterpolargl"
           }
          ],
          "scatterternary": [
           {
            "marker": {
             "colorbar": {
              "outlinewidth": 0,
              "ticks": ""
             }
            },
            "type": "scatterternary"
           }
          ],
          "surface": [
           {
            "colorbar": {
             "outlinewidth": 0,
             "ticks": ""
            },
            "colorscale": [
             [
              0,
              "#0d0887"
             ],
             [
              0.1111111111111111,
              "#46039f"
             ],
             [
              0.2222222222222222,
              "#7201a8"
             ],
             [
              0.3333333333333333,
              "#9c179e"
             ],
             [
              0.4444444444444444,
              "#bd3786"
             ],
             [
              0.5555555555555556,
              "#d8576b"
             ],
             [
              0.6666666666666666,
              "#ed7953"
             ],
             [
              0.7777777777777778,
              "#fb9f3a"
             ],
             [
              0.8888888888888888,
              "#fdca26"
             ],
             [
              1,
              "#f0f921"
             ]
            ],
            "type": "surface"
           }
          ],
          "table": [
           {
            "cells": {
             "fill": {
              "color": "#EBF0F8"
             },
             "line": {
              "color": "white"
             }
            },
            "header": {
             "fill": {
              "color": "#C8D4E3"
             },
             "line": {
              "color": "white"
             }
            },
            "type": "table"
           }
          ]
         },
         "layout": {
          "annotationdefaults": {
           "arrowcolor": "#2a3f5f",
           "arrowhead": 0,
           "arrowwidth": 1
          },
          "autotypenumbers": "strict",
          "coloraxis": {
           "colorbar": {
            "outlinewidth": 0,
            "ticks": ""
           }
          },
          "colorscale": {
           "diverging": [
            [
             0,
             "#8e0152"
            ],
            [
             0.1,
             "#c51b7d"
            ],
            [
             0.2,
             "#de77ae"
            ],
            [
             0.3,
             "#f1b6da"
            ],
            [
             0.4,
             "#fde0ef"
            ],
            [
             0.5,
             "#f7f7f7"
            ],
            [
             0.6,
             "#e6f5d0"
            ],
            [
             0.7,
             "#b8e186"
            ],
            [
             0.8,
             "#7fbc41"
            ],
            [
             0.9,
             "#4d9221"
            ],
            [
             1,
             "#276419"
            ]
           ],
           "sequential": [
            [
             0,
             "#0d0887"
            ],
            [
             0.1111111111111111,
             "#46039f"
            ],
            [
             0.2222222222222222,
             "#7201a8"
            ],
            [
             0.3333333333333333,
             "#9c179e"
            ],
            [
             0.4444444444444444,
             "#bd3786"
            ],
            [
             0.5555555555555556,
             "#d8576b"
            ],
            [
             0.6666666666666666,
             "#ed7953"
            ],
            [
             0.7777777777777778,
             "#fb9f3a"
            ],
            [
             0.8888888888888888,
             "#fdca26"
            ],
            [
             1,
             "#f0f921"
            ]
           ],
           "sequentialminus": [
            [
             0,
             "#0d0887"
            ],
            [
             0.1111111111111111,
             "#46039f"
            ],
            [
             0.2222222222222222,
             "#7201a8"
            ],
            [
             0.3333333333333333,
             "#9c179e"
            ],
            [
             0.4444444444444444,
             "#bd3786"
            ],
            [
             0.5555555555555556,
             "#d8576b"
            ],
            [
             0.6666666666666666,
             "#ed7953"
            ],
            [
             0.7777777777777778,
             "#fb9f3a"
            ],
            [
             0.8888888888888888,
             "#fdca26"
            ],
            [
             1,
             "#f0f921"
            ]
           ]
          },
          "colorway": [
           "#636efa",
           "#EF553B",
           "#00cc96",
           "#ab63fa",
           "#FFA15A",
           "#19d3f3",
           "#FF6692",
           "#B6E880",
           "#FF97FF",
           "#FECB52"
          ],
          "font": {
           "color": "#2a3f5f"
          },
          "geo": {
           "bgcolor": "white",
           "lakecolor": "white",
           "landcolor": "#E5ECF6",
           "showlakes": true,
           "showland": true,
           "subunitcolor": "white"
          },
          "hoverlabel": {
           "align": "left"
          },
          "hovermode": "closest",
          "mapbox": {
           "style": "light"
          },
          "paper_bgcolor": "white",
          "plot_bgcolor": "#E5ECF6",
          "polar": {
           "angularaxis": {
            "gridcolor": "white",
            "linecolor": "white",
            "ticks": ""
           },
           "bgcolor": "#E5ECF6",
           "radialaxis": {
            "gridcolor": "white",
            "linecolor": "white",
            "ticks": ""
           }
          },
          "scene": {
           "xaxis": {
            "backgroundcolor": "#E5ECF6",
            "gridcolor": "white",
            "gridwidth": 2,
            "linecolor": "white",
            "showbackground": true,
            "ticks": "",
            "zerolinecolor": "white"
           },
           "yaxis": {
            "backgroundcolor": "#E5ECF6",
            "gridcolor": "white",
            "gridwidth": 2,
            "linecolor": "white",
            "showbackground": true,
            "ticks": "",
            "zerolinecolor": "white"
           },
           "zaxis": {
            "backgroundcolor": "#E5ECF6",
            "gridcolor": "white",
            "gridwidth": 2,
            "linecolor": "white",
            "showbackground": true,
            "ticks": "",
            "zerolinecolor": "white"
           }
          },
          "shapedefaults": {
           "line": {
            "color": "#2a3f5f"
           }
          },
          "ternary": {
           "aaxis": {
            "gridcolor": "white",
            "linecolor": "white",
            "ticks": ""
           },
           "baxis": {
            "gridcolor": "white",
            "linecolor": "white",
            "ticks": ""
           },
           "bgcolor": "#E5ECF6",
           "caxis": {
            "gridcolor": "white",
            "linecolor": "white",
            "ticks": ""
           }
          },
          "title": {
           "x": 0.05
          },
          "xaxis": {
           "automargin": true,
           "gridcolor": "white",
           "linecolor": "white",
           "ticks": "",
           "title": {
            "standoff": 15
           },
           "zerolinecolor": "white",
           "zerolinewidth": 2
          },
          "yaxis": {
           "automargin": true,
           "gridcolor": "white",
           "linecolor": "white",
           "ticks": "",
           "title": {
            "standoff": 15
           },
           "zerolinecolor": "white",
           "zerolinewidth": 2
          }
         }
        },
        "title": {
         "text": "Distribution of average rating of items"
        },
        "xaxis": {
         "title": {
          "text": "Mean rating of item"
         }
        },
        "yaxis": {
         "title": {
          "text": "Count/number of items"
         }
        }
       }
      }
     },
     "metadata": {},
     "output_type": "display_data"
    }
   ],
   "source": [
    "data = df.groupby('itemID')['rating'].agg('mean').sort_values(ascending=False)\n",
    "display(data.head(15))\n",
    "\n",
    "# Create trace\n",
    "trace = go.Histogram(x = data.values,\n",
    "                     name = 'Ratings',\n",
    "                     xbins = dict(#start = 0.0,\n",
    "                                  #end = 5.0,\n",
    "                                  size = 0.1))\n",
    "# Create layout\n",
    "layout = go.Layout(title = 'Distribution of average rating of items',\n",
    "                   xaxis = dict(title = 'Mean rating of item'),\n",
    "                   yaxis = dict(title = 'Count/number of items'),\n",
    "                   bargap = 0.1)\n",
    "\n",
    "# Create plot\n",
    "fig = go.Figure(data=[trace], layout=layout)\n",
    "iplot(fig)"
   ]
  },
  {
   "cell_type": "code",
   "execution_count": 16,
   "metadata": {},
   "outputs": [
    {
     "data": {
      "application/vnd.plotly.v1+json": {
       "config": {
        "linkText": "Export to plot.ly",
        "plotlyServerURL": "https://plot.ly",
        "showLink": false
       },
       "data": [
        {
         "name": "Ratings",
         "type": "histogram",
         "x": [
          4.869565217391305,
          4.833333333333333,
          4.724137931034483,
          4.703703703703703,
          4.6875,
          4.661971830985915,
          4.571428571428571,
          4.563380281690141,
          4.548387096774194,
          4.542857142857143,
          4.534883720930233,
          4.529411764705882,
          4.518518518518518,
          4.496598639455782,
          4.457142857142857,
          4.45,
          4.45,
          4.444444444444445,
          4.4324324324324325,
          4.428571428571429,
          4.423076923076923,
          4.393939393939394,
          4.392156862745098,
          4.381165919282512,
          4.380281690140845,
          4.363636363636363,
          4.363636363636363,
          4.36,
          4.348484848484849,
          4.346153846153846,
          4.345454545454546,
          4.3428571428571425,
          4.338709677419355,
          4.333333333333333,
          4.333333333333333,
          4.333333333333333,
          4.333333333333333,
          4.333333333333333,
          4.328571428571428,
          4.323529411764706,
          4.321428571428571,
          4.320754716981132,
          4.32,
          4.319148936170213,
          4.3076923076923075,
          4.303030303030303,
          4.3,
          4.296875,
          4.286666666666667,
          4.2745098039215685,
          4.2727272727272725,
          4.267857142857143,
          4.267857142857143,
          4.265822784810126,
          4.26530612244898,
          4.2631578947368425,
          4.260869565217392,
          4.239795918367347,
          4.23015873015873,
          4.229357798165138,
          4.228136882129277,
          4.225806451612903,
          4.223333333333334,
          4.21875,
          4.21875,
          4.216666666666667,
          4.213836477987422,
          4.212121212121212,
          4.209302325581396,
          4.206521739130435,
          4.204545454545454,
          4.2,
          4.2,
          4.191011235955056,
          4.190476190476191,
          4.1768707482993195,
          4.176470588235294,
          4.176470588235294,
          4.173076923076923,
          4.17,
          4.166666666666667,
          4.166666666666667,
          4.159090909090909,
          4.159090909090909,
          4.158730158730159,
          4.155172413793103,
          4.1530054644808745,
          4.1528662420382165,
          4.148648648648648,
          4.147058823529412,
          4.145833333333333,
          4.142857142857143,
          4.137055837563452,
          4.136363636363637,
          4.133333333333334,
          4.132075471698113,
          4.131578947368421,
          4.130434782608695,
          4.130434782608695,
          4.127659574468085,
          4.126984126984127,
          4.125,
          4.122448979591836,
          4.12043795620438,
          4.118279569892473,
          4.112903225806452,
          4.111111111111111,
          4.111111111111111,
          4.105590062111801,
          4.098039215686274,
          4.095238095238095,
          4.091836734693878,
          4.086956521739131,
          4.086538461538462,
          4.082644628099174,
          4.08256880733945,
          4.076923076923077,
          4.075,
          4.071428571428571,
          4.071428571428571,
          4.0625,
          4.0606060606060606,
          4.0606060606060606,
          4.056338028169014,
          4.055555555555555,
          4.054607508532423,
          4.051282051282051,
          4.0510948905109485,
          4.05,
          4.048780487804878,
          4.045454545454546,
          4.045045045045045,
          4.041666666666667,
          4.041666666666667,
          4.0394736842105265,
          4.038461538461538,
          4.037735849056604,
          4.035714285714286,
          4.035087719298246,
          4.032407407407407,
          4.031496062992126,
          4.025270758122744,
          4.019230769230769,
          4.01875,
          4.011494252873563,
          4.005405405405406,
          4.003937007874016,
          4,
          4,
          4,
          4,
          4,
          4,
          4,
          4,
          4,
          4,
          4,
          4,
          4,
          3.996742671009772,
          3.993006993006993,
          3.9928057553956835,
          3.9903381642512077,
          3.989795918367347,
          3.9873417721518987,
          3.9858356940509916,
          3.9836065573770494,
          3.982142857142857,
          3.982142857142857,
          3.979381443298969,
          3.978723404255319,
          3.978609625668449,
          3.972972972972973,
          3.9696969696969697,
          3.966804979253112,
          3.966666666666667,
          3.9661016949152543,
          3.965260545905707,
          3.962162162162162,
          3.9607843137254903,
          3.9607843137254903,
          3.959016393442623,
          3.9574468085106385,
          3.9548387096774196,
          3.9530516431924885,
          3.9523809523809526,
          3.9502762430939224,
          3.9411764705882355,
          3.9411764705882355,
          3.9375,
          3.9375,
          3.9365079365079363,
          3.9357798165137616,
          3.9351351351351354,
          3.9347826086956523,
          3.9345549738219896,
          3.9310344827586206,
          3.9272727272727272,
          3.925925925925926,
          3.925925925925926,
          3.925373134328358,
          3.9239766081871346,
          3.923076923076923,
          3.923076923076923,
          3.92,
          3.918918918918919,
          3.9186046511627906,
          3.9173553719008263,
          3.9166666666666665,
          3.9166666666666665,
          3.914285714285714,
          3.909090909090909,
          3.903225806451613,
          3.903225806451613,
          3.9,
          3.8984375,
          3.8983050847457625,
          3.8970588235294117,
          3.896551724137931,
          3.8947368421052633,
          3.893617021276596,
          3.892156862745098,
          3.888888888888889,
          3.8884758364312266,
          3.8877551020408165,
          3.8857142857142857,
          3.88086642599278,
          3.88,
          3.88,
          3.876750700280112,
          3.8727272727272726,
          3.872340425531915,
          3.871794871794872,
          3.871165644171779,
          3.869565217391304,
          3.869565217391304,
          3.8666666666666667,
          3.8648148148148147,
          3.8640776699029127,
          3.8627450980392157,
          3.86,
          3.8597285067873304,
          3.859060402684564,
          3.857142857142857,
          3.857142857142857,
          3.857142857142857,
          3.8548387096774195,
          3.8548387096774195,
          3.8529411764705883,
          3.8529411764705883,
          3.8518518518518516,
          3.8518518518518516,
          3.8496240601503757,
          3.8484848484848486,
          3.847826086956522,
          3.8461538461538463,
          3.8461538461538463,
          3.8461538461538463,
          3.8461538461538463,
          3.845841784989858,
          3.84375,
          3.8402061855670104,
          3.84,
          3.838709677419355,
          3.8378378378378377,
          3.8376623376623376,
          3.8333333333333335,
          3.8333333333333335,
          3.832116788321168,
          3.8316831683168315,
          3.8275862068965516,
          3.8275862068965516,
          3.827272727272727,
          3.8271604938271606,
          3.8260869565217392,
          3.823529411764706,
          3.82312925170068,
          3.8214285714285716,
          3.8175182481751824,
          3.813888888888889,
          3.811320754716981,
          3.811023622047244,
          3.8095238095238093,
          3.806122448979592,
          3.8048780487804876,
          3.8034682080924855,
          3.8031914893617023,
          3.802395209580838,
          3.801526717557252,
          3.8,
          3.8,
          3.8,
          3.8,
          3.7966101694915255,
          3.795918367346939,
          3.794642857142857,
          3.793103448275862,
          3.792207792207792,
          3.7916666666666665,
          3.7916666666666665,
          3.7914691943127963,
          3.7905759162303663,
          3.789473684210526,
          3.787878787878788,
          3.787878787878788,
          3.7872340425531914,
          3.7868852459016393,
          3.7857142857142856,
          3.7857142857142856,
          3.784313725490196,
          3.7829457364341086,
          3.78125,
          3.7777777777777777,
          3.7768595041322315,
          3.7758620689655173,
          3.774193548387097,
          3.772727272727273,
          3.772727272727273,
          3.772727272727273,
          3.772727272727273,
          3.769230769230769,
          3.768595041322314,
          3.767857142857143,
          3.7674418604651163,
          3.767123287671233,
          3.7666666666666666,
          3.7666666666666666,
          3.765625,
          3.765432098765432,
          3.7586206896551726,
          3.7581863979848866,
          3.7560975609756095,
          3.7555555555555555,
          3.7555555555555555,
          3.7547169811320753,
          3.7517241379310344,
          3.75,
          3.75,
          3.75,
          3.75,
          3.75,
          3.746987951807229,
          3.7466666666666666,
          3.7464788732394365,
          3.7452830188679247,
          3.7450980392156863,
          3.74468085106383,
          3.7431693989071038,
          3.742489270386266,
          3.7422222222222223,
          3.740740740740741,
          3.740740740740741,
          3.740740740740741,
          3.739130434782609,
          3.738095238095238,
          3.737864077669903,
          3.7375,
          3.736842105263158,
          3.736,
          3.7339055793991416,
          3.7333333333333334,
          3.7333333333333334,
          3.7333333333333334,
          3.7333333333333334,
          3.732394366197183,
          3.72972972972973,
          3.727272727272727,
          3.726775956284153,
          3.7254901960784315,
          3.7247706422018347,
          3.7222222222222223,
          3.721518987341772,
          3.721311475409836,
          3.7209302325581395,
          3.720779220779221,
          3.72,
          3.71900826446281,
          3.7169811320754715,
          3.7142857142857144,
          3.7142857142857144,
          3.7142857142857144,
          3.7142857142857144,
          3.7118055555555554,
          3.710526315789474,
          3.7104072398190047,
          3.7096774193548385,
          3.7096774193548385,
          3.7096774193548385,
          3.7096774193548385,
          3.7093023255813953,
          3.7083333333333335,
          3.706896551724138,
          3.7058823529411766,
          3.7058823529411766,
          3.7047970479704797,
          3.7045454545454546,
          3.7037037037037037,
          3.7011494252873565,
          3.7,
          3.6984126984126986,
          3.697674418604651,
          3.697674418604651,
          3.6956521739130435,
          3.693877551020408,
          3.6933333333333334,
          3.6923076923076925,
          3.6923076923076925,
          3.691666666666667,
          3.689655172413793,
          3.6885245901639343,
          3.688073394495413,
          3.687074829931973,
          3.685810810810811,
          3.6857142857142855,
          3.6818181818181817,
          3.681318681318681,
          3.68,
          3.68,
          3.6785714285714284,
          3.6775510204081634,
          3.675675675675676,
          3.675,
          3.6748466257668713,
          3.674757281553398,
          3.6735537190082646,
          3.670967741935484,
          3.668421052631579,
          3.6666666666666665,
          3.6666666666666665,
          3.6666666666666665,
          3.6656626506024095,
          3.6653061224489796,
          3.6630434782608696,
          3.6613545816733066,
          3.661290322580645,
          3.6610169491525424,
          3.66,
          3.658536585365854,
          3.6575,
          3.6547619047619047,
          3.652173913043478,
          3.652173913043478,
          3.6512605042016806,
          3.6491228070175437,
          3.6490066225165565,
          3.6470588235294117,
          3.646551724137931,
          3.645021645021645,
          3.643835616438356,
          3.642857142857143,
          3.642857142857143,
          3.6419753086419755,
          3.6417910447761193,
          3.641711229946524,
          3.641025641025641,
          3.64,
          3.64,
          3.636734693877551,
          3.6363636363636362,
          3.6363636363636362,
          3.6357615894039736,
          3.6350710900473935,
          3.6341463414634148,
          3.6296296296296298,
          3.627906976744186,
          3.6240601503759398,
          3.622950819672131,
          3.6226415094339623,
          3.6215139442231075,
          3.6206896551724137,
          3.6206896551724137,
          3.619047619047619,
          3.6179775280898876,
          3.617391304347826,
          3.617283950617284,
          3.6164383561643834,
          3.6153846153846154,
          3.613793103448276,
          3.611111111111111,
          3.610294117647059,
          3.609375,
          3.608974358974359,
          3.608108108108108,
          3.604651162790698,
          3.6041666666666665,
          3.6041666666666665,
          3.6037735849056602,
          3.600558659217877,
          3.6,
          3.6,
          3.6,
          3.597122302158273,
          3.5964912280701755,
          3.595419847328244,
          3.5952380952380953,
          3.5925925925925926,
          3.5918367346938775,
          3.5911330049261085,
          3.590909090909091,
          3.585,
          3.5844155844155843,
          3.5842696629213484,
          3.5833333333333335,
          3.58273381294964,
          3.5819209039548023,
          3.581749049429658,
          3.5806451612903225,
          3.5789473684210527,
          3.5789473684210527,
          3.578125,
          3.5775193798449614,
          3.576923076923077,
          3.576923076923077,
          3.5757575757575757,
          3.5728643216080402,
          3.572463768115942,
          3.5714285714285716,
          3.5701754385964914,
          3.5652173913043477,
          3.5652173913043477,
          3.5609756097560976,
          3.554054054054054,
          3.5538461538461537,
          3.5531914893617023,
          3.5531914893617023,
          3.551470588235294,
          3.55,
          3.55,
          3.5497076023391814,
          3.546875,
          3.5454545454545454,
          3.5454545454545454,
          3.5428571428571427,
          3.5416666666666665,
          3.5416666666666665,
          3.5416666666666665,
          3.5416666666666665,
          3.5416666666666665,
          3.5381944444444446,
          3.537313432835821,
          3.5357142857142856,
          3.533333333333333,
          3.532994923857868,
          3.5321637426900585,
          3.5319148936170213,
          3.5319148936170213,
          3.5316455696202533,
          3.5277777777777777,
          3.5272727272727273,
          3.5272727272727273,
          3.525925925925926,
          3.522727272727273,
          3.522727272727273,
          3.5217391304347827,
          3.5217391304347827,
          3.5217391304347827,
          3.5205479452054793,
          3.5195195195195197,
          3.5142857142857142,
          3.5121951219512195,
          3.5090909090909093,
          3.506172839506173,
          3.506172839506173,
          3.50561797752809,
          3.502645502645503,
          3.5,
          3.5,
          3.5,
          3.5,
          3.5,
          3.5,
          3.5,
          3.5,
          3.5,
          3.4957627118644066,
          3.4956521739130433,
          3.4934640522875817,
          3.493333333333333,
          3.488888888888889,
          3.488372093023256,
          3.4857142857142858,
          3.48,
          3.4788732394366195,
          3.4782608695652173,
          3.4761904761904763,
          3.4761904761904763,
          3.475806451612903,
          3.473684210526316,
          3.472972972972973,
          3.4716981132075473,
          3.4700460829493087,
          3.4693877551020407,
          3.4690265486725664,
          3.466666666666667,
          3.466666666666667,
          3.4656488549618323,
          3.4653465346534653,
          3.465250965250965,
          3.4642857142857144,
          3.4642857142857144,
          3.4640883977900554,
          3.463917525773196,
          3.4615384615384617,
          3.4615384615384617,
          3.45933014354067,
          3.457943925233645,
          3.456221198156682,
          3.453531598513011,
          3.4523809523809526,
          3.45,
          3.45,
          3.45,
          3.4489795918367347,
          3.4482758620689653,
          3.442953020134228,
          3.441860465116279,
          3.4401709401709404,
          3.4395604395604398,
          3.4378109452736316,
          3.4375,
          3.4375,
          3.4355828220858897,
          3.4347826086956523,
          3.4347826086956523,
          3.4339622641509435,
          3.431095406360424,
          3.4299065420560746,
          3.4299065420560746,
          3.4285714285714284,
          3.4285714285714284,
          3.4285714285714284,
          3.426630434782609,
          3.424,
          3.4237288135593222,
          3.423076923076923,
          3.423076923076923,
          3.4207920792079207,
          3.4193548387096775,
          3.4186046511627906,
          3.41726618705036,
          3.415929203539823,
          3.4130434782608696,
          3.412621359223301,
          3.411764705882353,
          3.411764705882353,
          3.4107142857142856,
          3.40990990990991,
          3.408450704225352,
          3.4074074074074074,
          3.4,
          3.4,
          3.396039603960396,
          3.393719806763285,
          3.391304347826087,
          3.3903508771929824,
          3.3870967741935485,
          3.3855421686746987,
          3.3846153846153846,
          3.3846153846153846,
          3.3832335329341316,
          3.3823529411764706,
          3.381818181818182,
          3.3813559322033897,
          3.380952380952381,
          3.380952380952381,
          3.380281690140845,
          3.38,
          3.3793103448275863,
          3.3768115942028984,
          3.375,
          3.375,
          3.3734939759036147,
          3.3703703703703702,
          3.3703703703703702,
          3.3703703703703702,
          3.37007874015748,
          3.3674698795180724,
          3.3660714285714284,
          3.365930599369085,
          3.365702479338843,
          3.3636363636363638,
          3.3625,
          3.361842105263158,
          3.361111111111111,
          3.36,
          3.36,
          3.36,
          3.357142857142857,
          3.354285714285714,
          3.3533333333333335,
          3.3515625,
          3.35,
          3.349514563106796,
          3.347985347985348,
          3.347826086956522,
          3.3422222222222224,
          3.3421052631578947,
          3.3413654618473894,
          3.3389830508474576,
          3.3370535714285716,
          3.3354430379746836,
          3.3333333333333335,
          3.3263598326359833,
          3.3262032085561497,
          3.325301204819277,
          3.324074074074074,
          3.3220338983050848,
          3.3207547169811322,
          3.3204633204633205,
          3.317073170731707,
          3.316622691292876,
          3.3137254901960786,
          3.313380281690141,
          3.310344827586207,
          3.310344827586207,
          3.31021897810219,
          3.3043478260869565,
          3.3017241379310347,
          3.3,
          3.2972972972972974,
          3.2962962962962963,
          3.2962962962962963,
          3.295373665480427,
          3.293103448275862,
          3.292817679558011,
          3.2916666666666665,
          3.290155440414508,
          3.289473684210526,
          3.2888888888888888,
          3.2885906040268456,
          3.2884615384615383,
          3.287037037037037,
          3.2857142857142856,
          3.2857142857142856,
          3.279503105590062,
          3.278481012658228,
          3.276243093922652,
          3.2758620689655173,
          3.275,
          3.275,
          3.274193548387097,
          3.272727272727273,
          3.272727272727273,
          3.272727272727273,
          3.272727272727273,
          3.2686567164179103,
          3.2685185185185186,
          3.2672811059907834,
          3.265625,
          3.264705882352941,
          3.260869565217391,
          3.259259259259259,
          3.25,
          3.25,
          3.25,
          3.2465753424657535,
          3.2448453608247423,
          3.2439024390243905,
          3.2413793103448274,
          3.2413793103448274,
          3.24,
          3.23943661971831,
          3.236842105263158,
          3.235294117647059,
          3.2333333333333334,
          3.230769230769231,
          3.2304347826086954,
          3.227272727272727,
          3.2266666666666666,
          3.2222222222222223,
          3.2119815668202767,
          3.2054794520547945,
          3.2,
          3.1979166666666665,
          3.197530864197531,
          3.1951219512195124,
          3.192982456140351,
          3.1926605504587156,
          3.1923076923076925,
          3.1923076923076925,
          3.189189189189189,
          3.188679245283019,
          3.185185185185185,
          3.1818181818181817,
          3.1792114695340503,
          3.16875,
          3.1666666666666665,
          3.165289256198347,
          3.1543408360128615,
          3.1538461538461537,
          3.1478260869565218,
          3.1476510067114094,
          3.142857142857143,
          3.1403508771929824,
          3.14,
          3.137844611528822,
          3.1363636363636362,
          3.1363636363636362,
          3.1320754716981134,
          3.129032258064516,
          3.128205128205128,
          3.127659574468085,
          3.125874125874126,
          3.125,
          3.122916666666667,
          3.121495327102804,
          3.12,
          3.118279569892473,
          3.1176470588235294,
          3.1157894736842104,
          3.1153846153846154,
          3.1153846153846154,
          3.108108108108108,
          3.1052631578947367,
          3.1044776119402986,
          3.1041666666666665,
          3.1,
          3.1,
          3.09748427672956,
          3.0952380952380953,
          3.090909090909091,
          3.090909090909091,
          3.0869565217391304,
          3.081081081081081,
          3.0714285714285716,
          3.0689655172413794,
          3.0677966101694913,
          3.056179775280899,
          3.054662379421222,
          3.0508474576271185,
          3.050314465408805,
          3.049095607235142,
          3.0476190476190474,
          3.0476190476190474,
          3.045112781954887,
          3.0434782608695654,
          3.0384615384615383,
          3.0372670807453415,
          3.0357142857142856,
          3.0357142857142856,
          3.0342465753424657,
          3.0310880829015545,
          3.0310077519379846,
          3.0309278350515463,
          3.0294117647058822,
          3.0285714285714285,
          3.02803738317757,
          3.0252100840336134,
          3.017316017316017,
          3.0092879256965945,
          3.006993006993007,
          3,
          3,
          3,
          3,
          3,
          3,
          3,
          2.99290780141844,
          2.9806629834254146,
          2.9788135593220337,
          2.975609756097561,
          2.9714285714285715,
          2.9693877551020407,
          2.9682539682539684,
          2.966666666666667,
          2.963934426229508,
          2.9615384615384617,
          2.960526315789474,
          2.96,
          2.9594594594594597,
          2.9565217391304346,
          2.9558823529411766,
          2.953846153846154,
          2.9523809523809526,
          2.951923076923077,
          2.95,
          2.9473684210526314,
          2.94392523364486,
          2.942073170731707,
          2.93730407523511,
          2.928205128205128,
          2.925925925925926,
          2.908029197080292,
          2.9,
          2.9,
          2.8955223880597014,
          2.888888888888889,
          2.8857142857142857,
          2.875,
          2.874285714285714,
          2.872340425531915,
          2.8653061224489798,
          2.8646616541353382,
          2.8636363636363638,
          2.857142857142857,
          2.8484848484848486,
          2.84251968503937,
          2.806451612903226,
          2.8,
          2.7962962962962963,
          2.793103448275862,
          2.789473684210526,
          2.788793103448276,
          2.7666666666666666,
          2.75,
          2.735294117647059,
          2.7346938775510203,
          2.7333333333333334,
          2.7,
          2.6925795053003534,
          2.683720930232558,
          2.6818181818181817,
          2.670391061452514,
          2.6666666666666665,
          2.6666666666666665,
          2.6538461538461537,
          2.6467391304347827,
          2.6363636363636362,
          2.6203703703703702,
          2.615740740740741,
          2.6,
          2.6,
          2.5848214285714284,
          2.5555555555555554,
          2.5517241379310347,
          2.5421686746987953,
          2.5416666666666665,
          2.515151515151515,
          2.4903846153846154,
          2.4516129032258065,
          2.4285714285714284,
          2.392857142857143,
          2.34375,
          2.287878787878788,
          2.171875,
          2.164705882352941,
          2.0580357142857144,
          2.05,
          1.9851851851851852,
          1.8344640434192674,
          1.4919540229885058
         ],
         "xbins": {
          "size": 0.1
         }
        }
       ],
       "layout": {
        "bargap": 0.1,
        "template": {
         "data": {
          "bar": [
           {
            "error_x": {
             "color": "#2a3f5f"
            },
            "error_y": {
             "color": "#2a3f5f"
            },
            "marker": {
             "line": {
              "color": "#E5ECF6",
              "width": 0.5
             },
             "pattern": {
              "fillmode": "overlay",
              "size": 10,
              "solidity": 0.2
             }
            },
            "type": "bar"
           }
          ],
          "barpolar": [
           {
            "marker": {
             "line": {
              "color": "#E5ECF6",
              "width": 0.5
             },
             "pattern": {
              "fillmode": "overlay",
              "size": 10,
              "solidity": 0.2
             }
            },
            "type": "barpolar"
           }
          ],
          "carpet": [
           {
            "aaxis": {
             "endlinecolor": "#2a3f5f",
             "gridcolor": "white",
             "linecolor": "white",
             "minorgridcolor": "white",
             "startlinecolor": "#2a3f5f"
            },
            "baxis": {
             "endlinecolor": "#2a3f5f",
             "gridcolor": "white",
             "linecolor": "white",
             "minorgridcolor": "white",
             "startlinecolor": "#2a3f5f"
            },
            "type": "carpet"
           }
          ],
          "choropleth": [
           {
            "colorbar": {
             "outlinewidth": 0,
             "ticks": ""
            },
            "type": "choropleth"
           }
          ],
          "contour": [
           {
            "colorbar": {
             "outlinewidth": 0,
             "ticks": ""
            },
            "colorscale": [
             [
              0,
              "#0d0887"
             ],
             [
              0.1111111111111111,
              "#46039f"
             ],
             [
              0.2222222222222222,
              "#7201a8"
             ],
             [
              0.3333333333333333,
              "#9c179e"
             ],
             [
              0.4444444444444444,
              "#bd3786"
             ],
             [
              0.5555555555555556,
              "#d8576b"
             ],
             [
              0.6666666666666666,
              "#ed7953"
             ],
             [
              0.7777777777777778,
              "#fb9f3a"
             ],
             [
              0.8888888888888888,
              "#fdca26"
             ],
             [
              1,
              "#f0f921"
             ]
            ],
            "type": "contour"
           }
          ],
          "contourcarpet": [
           {
            "colorbar": {
             "outlinewidth": 0,
             "ticks": ""
            },
            "type": "contourcarpet"
           }
          ],
          "heatmap": [
           {
            "colorbar": {
             "outlinewidth": 0,
             "ticks": ""
            },
            "colorscale": [
             [
              0,
              "#0d0887"
             ],
             [
              0.1111111111111111,
              "#46039f"
             ],
             [
              0.2222222222222222,
              "#7201a8"
             ],
             [
              0.3333333333333333,
              "#9c179e"
             ],
             [
              0.4444444444444444,
              "#bd3786"
             ],
             [
              0.5555555555555556,
              "#d8576b"
             ],
             [
              0.6666666666666666,
              "#ed7953"
             ],
             [
              0.7777777777777778,
              "#fb9f3a"
             ],
             [
              0.8888888888888888,
              "#fdca26"
             ],
             [
              1,
              "#f0f921"
             ]
            ],
            "type": "heatmap"
           }
          ],
          "heatmapgl": [
           {
            "colorbar": {
             "outlinewidth": 0,
             "ticks": ""
            },
            "colorscale": [
             [
              0,
              "#0d0887"
             ],
             [
              0.1111111111111111,
              "#46039f"
             ],
             [
              0.2222222222222222,
              "#7201a8"
             ],
             [
              0.3333333333333333,
              "#9c179e"
             ],
             [
              0.4444444444444444,
              "#bd3786"
             ],
             [
              0.5555555555555556,
              "#d8576b"
             ],
             [
              0.6666666666666666,
              "#ed7953"
             ],
             [
              0.7777777777777778,
              "#fb9f3a"
             ],
             [
              0.8888888888888888,
              "#fdca26"
             ],
             [
              1,
              "#f0f921"
             ]
            ],
            "type": "heatmapgl"
           }
          ],
          "histogram": [
           {
            "marker": {
             "pattern": {
              "fillmode": "overlay",
              "size": 10,
              "solidity": 0.2
             }
            },
            "type": "histogram"
           }
          ],
          "histogram2d": [
           {
            "colorbar": {
             "outlinewidth": 0,
             "ticks": ""
            },
            "colorscale": [
             [
              0,
              "#0d0887"
             ],
             [
              0.1111111111111111,
              "#46039f"
             ],
             [
              0.2222222222222222,
              "#7201a8"
             ],
             [
              0.3333333333333333,
              "#9c179e"
             ],
             [
              0.4444444444444444,
              "#bd3786"
             ],
             [
              0.5555555555555556,
              "#d8576b"
             ],
             [
              0.6666666666666666,
              "#ed7953"
             ],
             [
              0.7777777777777778,
              "#fb9f3a"
             ],
             [
              0.8888888888888888,
              "#fdca26"
             ],
             [
              1,
              "#f0f921"
             ]
            ],
            "type": "histogram2d"
           }
          ],
          "histogram2dcontour": [
           {
            "colorbar": {
             "outlinewidth": 0,
             "ticks": ""
            },
            "colorscale": [
             [
              0,
              "#0d0887"
             ],
             [
              0.1111111111111111,
              "#46039f"
             ],
             [
              0.2222222222222222,
              "#7201a8"
             ],
             [
              0.3333333333333333,
              "#9c179e"
             ],
             [
              0.4444444444444444,
              "#bd3786"
             ],
             [
              0.5555555555555556,
              "#d8576b"
             ],
             [
              0.6666666666666666,
              "#ed7953"
             ],
             [
              0.7777777777777778,
              "#fb9f3a"
             ],
             [
              0.8888888888888888,
              "#fdca26"
             ],
             [
              1,
              "#f0f921"
             ]
            ],
            "type": "histogram2dcontour"
           }
          ],
          "mesh3d": [
           {
            "colorbar": {
             "outlinewidth": 0,
             "ticks": ""
            },
            "type": "mesh3d"
           }
          ],
          "parcoords": [
           {
            "line": {
             "colorbar": {
              "outlinewidth": 0,
              "ticks": ""
             }
            },
            "type": "parcoords"
           }
          ],
          "pie": [
           {
            "automargin": true,
            "type": "pie"
           }
          ],
          "scatter": [
           {
            "fillpattern": {
             "fillmode": "overlay",
             "size": 10,
             "solidity": 0.2
            },
            "type": "scatter"
           }
          ],
          "scatter3d": [
           {
            "line": {
             "colorbar": {
              "outlinewidth": 0,
              "ticks": ""
             }
            },
            "marker": {
             "colorbar": {
              "outlinewidth": 0,
              "ticks": ""
             }
            },
            "type": "scatter3d"
           }
          ],
          "scattercarpet": [
           {
            "marker": {
             "colorbar": {
              "outlinewidth": 0,
              "ticks": ""
             }
            },
            "type": "scattercarpet"
           }
          ],
          "scattergeo": [
           {
            "marker": {
             "colorbar": {
              "outlinewidth": 0,
              "ticks": ""
             }
            },
            "type": "scattergeo"
           }
          ],
          "scattergl": [
           {
            "marker": {
             "colorbar": {
              "outlinewidth": 0,
              "ticks": ""
             }
            },
            "type": "scattergl"
           }
          ],
          "scattermapbox": [
           {
            "marker": {
             "colorbar": {
              "outlinewidth": 0,
              "ticks": ""
             }
            },
            "type": "scattermapbox"
           }
          ],
          "scatterpolar": [
           {
            "marker": {
             "colorbar": {
              "outlinewidth": 0,
              "ticks": ""
             }
            },
            "type": "scatterpolar"
           }
          ],
          "scatterpolargl": [
           {
            "marker": {
             "colorbar": {
              "outlinewidth": 0,
              "ticks": ""
             }
            },
            "type": "scatterpolargl"
           }
          ],
          "scatterternary": [
           {
            "marker": {
             "colorbar": {
              "outlinewidth": 0,
              "ticks": ""
             }
            },
            "type": "scatterternary"
           }
          ],
          "surface": [
           {
            "colorbar": {
             "outlinewidth": 0,
             "ticks": ""
            },
            "colorscale": [
             [
              0,
              "#0d0887"
             ],
             [
              0.1111111111111111,
              "#46039f"
             ],
             [
              0.2222222222222222,
              "#7201a8"
             ],
             [
              0.3333333333333333,
              "#9c179e"
             ],
             [
              0.4444444444444444,
              "#bd3786"
             ],
             [
              0.5555555555555556,
              "#d8576b"
             ],
             [
              0.6666666666666666,
              "#ed7953"
             ],
             [
              0.7777777777777778,
              "#fb9f3a"
             ],
             [
              0.8888888888888888,
              "#fdca26"
             ],
             [
              1,
              "#f0f921"
             ]
            ],
            "type": "surface"
           }
          ],
          "table": [
           {
            "cells": {
             "fill": {
              "color": "#EBF0F8"
             },
             "line": {
              "color": "white"
             }
            },
            "header": {
             "fill": {
              "color": "#C8D4E3"
             },
             "line": {
              "color": "white"
             }
            },
            "type": "table"
           }
          ]
         },
         "layout": {
          "annotationdefaults": {
           "arrowcolor": "#2a3f5f",
           "arrowhead": 0,
           "arrowwidth": 1
          },
          "autotypenumbers": "strict",
          "coloraxis": {
           "colorbar": {
            "outlinewidth": 0,
            "ticks": ""
           }
          },
          "colorscale": {
           "diverging": [
            [
             0,
             "#8e0152"
            ],
            [
             0.1,
             "#c51b7d"
            ],
            [
             0.2,
             "#de77ae"
            ],
            [
             0.3,
             "#f1b6da"
            ],
            [
             0.4,
             "#fde0ef"
            ],
            [
             0.5,
             "#f7f7f7"
            ],
            [
             0.6,
             "#e6f5d0"
            ],
            [
             0.7,
             "#b8e186"
            ],
            [
             0.8,
             "#7fbc41"
            ],
            [
             0.9,
             "#4d9221"
            ],
            [
             1,
             "#276419"
            ]
           ],
           "sequential": [
            [
             0,
             "#0d0887"
            ],
            [
             0.1111111111111111,
             "#46039f"
            ],
            [
             0.2222222222222222,
             "#7201a8"
            ],
            [
             0.3333333333333333,
             "#9c179e"
            ],
            [
             0.4444444444444444,
             "#bd3786"
            ],
            [
             0.5555555555555556,
             "#d8576b"
            ],
            [
             0.6666666666666666,
             "#ed7953"
            ],
            [
             0.7777777777777778,
             "#fb9f3a"
            ],
            [
             0.8888888888888888,
             "#fdca26"
            ],
            [
             1,
             "#f0f921"
            ]
           ],
           "sequentialminus": [
            [
             0,
             "#0d0887"
            ],
            [
             0.1111111111111111,
             "#46039f"
            ],
            [
             0.2222222222222222,
             "#7201a8"
            ],
            [
             0.3333333333333333,
             "#9c179e"
            ],
            [
             0.4444444444444444,
             "#bd3786"
            ],
            [
             0.5555555555555556,
             "#d8576b"
            ],
            [
             0.6666666666666666,
             "#ed7953"
            ],
            [
             0.7777777777777778,
             "#fb9f3a"
            ],
            [
             0.8888888888888888,
             "#fdca26"
            ],
            [
             1,
             "#f0f921"
            ]
           ]
          },
          "colorway": [
           "#636efa",
           "#EF553B",
           "#00cc96",
           "#ab63fa",
           "#FFA15A",
           "#19d3f3",
           "#FF6692",
           "#B6E880",
           "#FF97FF",
           "#FECB52"
          ],
          "font": {
           "color": "#2a3f5f"
          },
          "geo": {
           "bgcolor": "white",
           "lakecolor": "white",
           "landcolor": "#E5ECF6",
           "showlakes": true,
           "showland": true,
           "subunitcolor": "white"
          },
          "hoverlabel": {
           "align": "left"
          },
          "hovermode": "closest",
          "mapbox": {
           "style": "light"
          },
          "paper_bgcolor": "white",
          "plot_bgcolor": "#E5ECF6",
          "polar": {
           "angularaxis": {
            "gridcolor": "white",
            "linecolor": "white",
            "ticks": ""
           },
           "bgcolor": "#E5ECF6",
           "radialaxis": {
            "gridcolor": "white",
            "linecolor": "white",
            "ticks": ""
           }
          },
          "scene": {
           "xaxis": {
            "backgroundcolor": "#E5ECF6",
            "gridcolor": "white",
            "gridwidth": 2,
            "linecolor": "white",
            "showbackground": true,
            "ticks": "",
            "zerolinecolor": "white"
           },
           "yaxis": {
            "backgroundcolor": "#E5ECF6",
            "gridcolor": "white",
            "gridwidth": 2,
            "linecolor": "white",
            "showbackground": true,
            "ticks": "",
            "zerolinecolor": "white"
           },
           "zaxis": {
            "backgroundcolor": "#E5ECF6",
            "gridcolor": "white",
            "gridwidth": 2,
            "linecolor": "white",
            "showbackground": true,
            "ticks": "",
            "zerolinecolor": "white"
           }
          },
          "shapedefaults": {
           "line": {
            "color": "#2a3f5f"
           }
          },
          "ternary": {
           "aaxis": {
            "gridcolor": "white",
            "linecolor": "white",
            "ticks": ""
           },
           "baxis": {
            "gridcolor": "white",
            "linecolor": "white",
            "ticks": ""
           },
           "bgcolor": "#E5ECF6",
           "caxis": {
            "gridcolor": "white",
            "linecolor": "white",
            "ticks": ""
           }
          },
          "title": {
           "x": 0.05
          },
          "xaxis": {
           "automargin": true,
           "gridcolor": "white",
           "linecolor": "white",
           "ticks": "",
           "title": {
            "standoff": 15
           },
           "zerolinecolor": "white",
           "zerolinewidth": 2
          },
          "yaxis": {
           "automargin": true,
           "gridcolor": "white",
           "linecolor": "white",
           "ticks": "",
           "title": {
            "standoff": 15
           },
           "zerolinecolor": "white",
           "zerolinewidth": 2
          }
         }
        },
        "title": {
         "text": "Distribution of average rating by users"
        },
        "xaxis": {
         "title": {
          "text": "Mean rating by user"
         }
        },
        "yaxis": {
         "title": {
          "text": "Count/number of users"
         }
        }
       }
      }
     },
     "metadata": {},
     "output_type": "display_data"
    }
   ],
   "source": [
    "data = df.groupby('userID')['rating'].agg('mean').sort_values(ascending=False)\n",
    "# display(data.head(10))\n",
    "\n",
    "# Create trace\n",
    "trace = go.Histogram(x = data.values,\n",
    "                     name = 'Ratings',\n",
    "                     xbins = dict(#start = 0.0,\n",
    "                                  #end = 5.0,\n",
    "                                  size = 0.1))\n",
    "# Create layout\n",
    "layout = go.Layout(title = 'Distribution of average rating by users',\n",
    "                   xaxis = dict(title = 'Mean rating by user'),\n",
    "                   yaxis = dict(title = 'Count/number of users'),\n",
    "                   bargap = 0.1)\n",
    "\n",
    "# Create plot\n",
    "fig = go.Figure(data=[trace], layout=layout)\n",
    "iplot(fig)"
   ]
  },
  {
   "cell_type": "code",
   "execution_count": 17,
   "metadata": {},
   "outputs": [
    {
     "data": {
      "text/html": [
       "<div>\n",
       "<style scoped>\n",
       "    .dataframe tbody tr th:only-of-type {\n",
       "        vertical-align: middle;\n",
       "    }\n",
       "\n",
       "    .dataframe tbody tr th {\n",
       "        vertical-align: top;\n",
       "    }\n",
       "\n",
       "    .dataframe thead th {\n",
       "        text-align: right;\n",
       "    }\n",
       "</style>\n",
       "<table border=\"1\" class=\"dataframe\">\n",
       "  <thead>\n",
       "    <tr style=\"text-align: right;\">\n",
       "      <th></th>\n",
       "      <th>userID</th>\n",
       "      <th>rating</th>\n",
       "    </tr>\n",
       "  </thead>\n",
       "  <tbody>\n",
       "    <tr>\n",
       "      <th>404</th>\n",
       "      <td>405</td>\n",
       "      <td>737</td>\n",
       "    </tr>\n",
       "    <tr>\n",
       "      <th>654</th>\n",
       "      <td>655</td>\n",
       "      <td>685</td>\n",
       "    </tr>\n",
       "    <tr>\n",
       "      <th>12</th>\n",
       "      <td>13</td>\n",
       "      <td>636</td>\n",
       "    </tr>\n",
       "    <tr>\n",
       "      <th>449</th>\n",
       "      <td>450</td>\n",
       "      <td>540</td>\n",
       "    </tr>\n",
       "    <tr>\n",
       "      <th>275</th>\n",
       "      <td>276</td>\n",
       "      <td>518</td>\n",
       "    </tr>\n",
       "    <tr>\n",
       "      <th>...</th>\n",
       "      <td>...</td>\n",
       "      <td>...</td>\n",
       "    </tr>\n",
       "    <tr>\n",
       "      <th>684</th>\n",
       "      <td>685</td>\n",
       "      <td>20</td>\n",
       "    </tr>\n",
       "    <tr>\n",
       "      <th>474</th>\n",
       "      <td>475</td>\n",
       "      <td>20</td>\n",
       "    </tr>\n",
       "    <tr>\n",
       "      <th>35</th>\n",
       "      <td>36</td>\n",
       "      <td>20</td>\n",
       "    </tr>\n",
       "    <tr>\n",
       "      <th>731</th>\n",
       "      <td>732</td>\n",
       "      <td>20</td>\n",
       "    </tr>\n",
       "    <tr>\n",
       "      <th>595</th>\n",
       "      <td>596</td>\n",
       "      <td>20</td>\n",
       "    </tr>\n",
       "  </tbody>\n",
       "</table>\n",
       "<p>943 rows × 2 columns</p>\n",
       "</div>"
      ],
      "text/plain": [
       "     userID  rating\n",
       "404     405     737\n",
       "654     655     685\n",
       "12       13     636\n",
       "449     450     540\n",
       "275     276     518\n",
       "..      ...     ...\n",
       "684     685      20\n",
       "474     475      20\n",
       "35       36      20\n",
       "731     732      20\n",
       "595     596      20\n",
       "\n",
       "[943 rows x 2 columns]"
      ]
     },
     "metadata": {},
     "output_type": "display_data"
    },
    {
     "data": {
      "text/html": [
       "<div>\n",
       "<style scoped>\n",
       "    .dataframe tbody tr th:only-of-type {\n",
       "        vertical-align: middle;\n",
       "    }\n",
       "\n",
       "    .dataframe tbody tr th {\n",
       "        vertical-align: top;\n",
       "    }\n",
       "\n",
       "    .dataframe thead th {\n",
       "        text-align: right;\n",
       "    }\n",
       "</style>\n",
       "<table border=\"1\" class=\"dataframe\">\n",
       "  <thead>\n",
       "    <tr style=\"text-align: right;\">\n",
       "      <th></th>\n",
       "      <th>itemID</th>\n",
       "      <th>rating</th>\n",
       "    </tr>\n",
       "  </thead>\n",
       "  <tbody>\n",
       "    <tr>\n",
       "      <th>49</th>\n",
       "      <td>50</td>\n",
       "      <td>583</td>\n",
       "    </tr>\n",
       "    <tr>\n",
       "      <th>257</th>\n",
       "      <td>258</td>\n",
       "      <td>509</td>\n",
       "    </tr>\n",
       "    <tr>\n",
       "      <th>99</th>\n",
       "      <td>100</td>\n",
       "      <td>508</td>\n",
       "    </tr>\n",
       "    <tr>\n",
       "      <th>180</th>\n",
       "      <td>181</td>\n",
       "      <td>507</td>\n",
       "    </tr>\n",
       "    <tr>\n",
       "      <th>293</th>\n",
       "      <td>294</td>\n",
       "      <td>485</td>\n",
       "    </tr>\n",
       "    <tr>\n",
       "      <th>...</th>\n",
       "      <td>...</td>\n",
       "      <td>...</td>\n",
       "    </tr>\n",
       "    <tr>\n",
       "      <th>1575</th>\n",
       "      <td>1576</td>\n",
       "      <td>1</td>\n",
       "    </tr>\n",
       "    <tr>\n",
       "      <th>1576</th>\n",
       "      <td>1577</td>\n",
       "      <td>1</td>\n",
       "    </tr>\n",
       "    <tr>\n",
       "      <th>1347</th>\n",
       "      <td>1348</td>\n",
       "      <td>1</td>\n",
       "    </tr>\n",
       "    <tr>\n",
       "      <th>1578</th>\n",
       "      <td>1579</td>\n",
       "      <td>1</td>\n",
       "    </tr>\n",
       "    <tr>\n",
       "      <th>1681</th>\n",
       "      <td>1682</td>\n",
       "      <td>1</td>\n",
       "    </tr>\n",
       "  </tbody>\n",
       "</table>\n",
       "<p>1682 rows × 2 columns</p>\n",
       "</div>"
      ],
      "text/plain": [
       "      itemID  rating\n",
       "49        50     583\n",
       "257      258     509\n",
       "99       100     508\n",
       "180      181     507\n",
       "293      294     485\n",
       "...      ...     ...\n",
       "1575    1576       1\n",
       "1576    1577       1\n",
       "1347    1348       1\n",
       "1578    1579       1\n",
       "1681    1682       1\n",
       "\n",
       "[1682 rows x 2 columns]"
      ]
     },
     "metadata": {},
     "output_type": "display_data"
    }
   ],
   "source": [
    "#See number of ratings per user\n",
    "display(df.groupby('userID')['rating'].count().reset_index().sort_values('rating', ascending=False))\n",
    "\n",
    "#See number of ratings per item\n",
    "display(df.groupby('itemID')['rating'].count().reset_index().sort_values('rating', ascending=False))"
   ]
  },
  {
   "attachments": {},
   "cell_type": "markdown",
   "metadata": {},
   "source": [
    "A lot of movies have only one rating, which might be a problem and introduce randomness in later stages. Therefore, they're filtered out. Every movie has to have at least 20 ratings:"
   ]
  },
  {
   "cell_type": "code",
   "execution_count": 18,
   "metadata": {},
   "outputs": [
    {
     "data": {
      "text/html": [
       "<div>\n",
       "<style scoped>\n",
       "    .dataframe tbody tr th:only-of-type {\n",
       "        vertical-align: middle;\n",
       "    }\n",
       "\n",
       "    .dataframe tbody tr th {\n",
       "        vertical-align: top;\n",
       "    }\n",
       "\n",
       "    .dataframe thead th {\n",
       "        text-align: right;\n",
       "    }\n",
       "</style>\n",
       "<table border=\"1\" class=\"dataframe\">\n",
       "  <thead>\n",
       "    <tr style=\"text-align: right;\">\n",
       "      <th></th>\n",
       "      <th>itemID</th>\n",
       "      <th>rating</th>\n",
       "    </tr>\n",
       "  </thead>\n",
       "  <tbody>\n",
       "    <tr>\n",
       "      <th>47</th>\n",
       "      <td>50</td>\n",
       "      <td>583</td>\n",
       "    </tr>\n",
       "    <tr>\n",
       "      <th>249</th>\n",
       "      <td>258</td>\n",
       "      <td>509</td>\n",
       "    </tr>\n",
       "    <tr>\n",
       "      <th>95</th>\n",
       "      <td>100</td>\n",
       "      <td>508</td>\n",
       "    </tr>\n",
       "    <tr>\n",
       "      <th>173</th>\n",
       "      <td>181</td>\n",
       "      <td>507</td>\n",
       "    </tr>\n",
       "    <tr>\n",
       "      <th>284</th>\n",
       "      <td>294</td>\n",
       "      <td>485</td>\n",
       "    </tr>\n",
       "    <tr>\n",
       "      <th>...</th>\n",
       "      <td>...</td>\n",
       "      <td>...</td>\n",
       "    </tr>\n",
       "    <tr>\n",
       "      <th>1109</th>\n",
       "      <td>1269</td>\n",
       "      <td>10</td>\n",
       "    </tr>\n",
       "    <tr>\n",
       "      <th>348</th>\n",
       "      <td>360</td>\n",
       "      <td>10</td>\n",
       "    </tr>\n",
       "    <tr>\n",
       "      <th>674</th>\n",
       "      <td>701</td>\n",
       "      <td>10</td>\n",
       "    </tr>\n",
       "    <tr>\n",
       "      <th>349</th>\n",
       "      <td>361</td>\n",
       "      <td>10</td>\n",
       "    </tr>\n",
       "    <tr>\n",
       "      <th>1151</th>\n",
       "      <td>1615</td>\n",
       "      <td>10</td>\n",
       "    </tr>\n",
       "  </tbody>\n",
       "</table>\n",
       "<p>1152 rows × 2 columns</p>\n",
       "</div>"
      ],
      "text/plain": [
       "      itemID  rating\n",
       "47        50     583\n",
       "249      258     509\n",
       "95       100     508\n",
       "173      181     507\n",
       "284      294     485\n",
       "...      ...     ...\n",
       "1109    1269      10\n",
       "348      360      10\n",
       "674      701      10\n",
       "349      361      10\n",
       "1151    1615      10\n",
       "\n",
       "[1152 rows x 2 columns]"
      ]
     },
     "metadata": {},
     "output_type": "display_data"
    },
    {
     "data": {
      "text/plain": [
       "(97953, 4)"
      ]
     },
     "metadata": {},
     "output_type": "display_data"
    }
   ],
   "source": [
    "#Filter out movies with under 20 ratings\n",
    "df = df.groupby(\"itemID\").filter(lambda x: len(x) >= 10)\n",
    "#Number of rows is the unique number of movies\n",
    "display(df.groupby('itemID')['rating'].count().reset_index().sort_values('rating', ascending=False))\n",
    "\n",
    "#To see number of ratings and movies left\n",
    "display(df.shape)"
   ]
  },
  {
   "cell_type": "code",
   "execution_count": 19,
   "metadata": {},
   "outputs": [
    {
     "data": {
      "application/vnd.plotly.v1+json": {
       "config": {
        "linkText": "Export to plot.ly",
        "plotlyServerURL": "https://plot.ly",
        "showLink": false
       },
       "data": [
        {
         "name": "Ratings",
         "type": "histogram",
         "x": [
          583,
          509,
          508,
          507,
          485,
          481,
          478,
          452,
          431,
          429,
          420,
          413,
          394,
          392,
          390,
          384,
          378,
          367,
          365,
          350,
          350,
          344,
          336,
          331,
          326,
          324,
          321,
          316,
          316,
          315,
          303,
          301,
          300,
          299,
          298,
          298,
          297,
          297,
          295,
          295,
          293,
          293,
          293,
          291,
          290,
          284,
          283,
          280,
          280,
          276,
          276,
          275,
          272,
          268,
          267,
          267,
          264,
          261,
          259,
          259,
          256,
          256,
          255,
          254,
          251,
          251,
          251,
          251,
          250,
          247,
          246,
          244,
          244,
          243,
          243,
          241,
          240,
          240,
          239,
          239,
          236,
          232,
          231,
          230,
          230,
          227,
          227,
          226,
          223,
          222,
          221,
          221,
          221,
          220,
          220,
          219,
          219,
          219,
          219,
          218,
          217,
          216,
          215,
          213,
          212,
          211,
          209,
          209,
          209,
          208,
          208,
          206,
          206,
          206,
          202,
          201,
          201,
          200,
          199,
          198,
          198,
          197,
          195,
          194,
          194,
          193,
          192,
          191,
          190,
          189,
          188,
          187,
          185,
          184,
          183,
          182,
          182,
          180,
          180,
          180,
          179,
          179,
          179,
          178,
          178,
          177,
          176,
          176,
          175,
          175,
          175,
          174,
          174,
          174,
          173,
          172,
          172,
          171,
          171,
          171,
          171,
          171,
          171,
          170,
          170,
          170,
          170,
          169,
          169,
          169,
          168,
          168,
          166,
          165,
          164,
          164,
          164,
          163,
          162,
          162,
          162,
          162,
          162,
          161,
          160,
          160,
          160,
          158,
          158,
          157,
          157,
          157,
          156,
          155,
          154,
          153,
          153,
          152,
          151,
          151,
          151,
          150,
          150,
          149,
          149,
          149,
          148,
          148,
          148,
          148,
          147,
          147,
          146,
          145,
          145,
          143,
          143,
          143,
          142,
          138,
          138,
          137,
          137,
          137,
          137,
          137,
          137,
          137,
          136,
          136,
          136,
          136,
          134,
          134,
          134,
          134,
          133,
          132,
          131,
          131,
          130,
          130,
          129,
          129,
          129,
          129,
          128,
          128,
          128,
          128,
          128,
          128,
          128,
          127,
          127,
          127,
          127,
          127,
          127,
          126,
          126,
          125,
          125,
          125,
          125,
          124,
          124,
          124,
          124,
          124,
          124,
          124,
          123,
          122,
          121,
          121,
          121,
          121,
          121,
          121,
          120,
          120,
          120,
          119,
          119,
          119,
          118,
          117,
          117,
          117,
          116,
          116,
          116,
          116,
          115,
          115,
          115,
          115,
          114,
          114,
          114,
          113,
          112,
          112,
          112,
          112,
          111,
          111,
          110,
          109,
          108,
          107,
          106,
          106,
          106,
          106,
          105,
          104,
          104,
          104,
          104,
          104,
          103,
          102,
          102,
          102,
          102,
          101,
          101,
          101,
          101,
          101,
          101,
          101,
          100,
          100,
          100,
          100,
          99,
          98,
          98,
          98,
          97,
          97,
          97,
          97,
          96,
          96,
          96,
          96,
          95,
          95,
          95,
          93,
          93,
          93,
          93,
          93,
          93,
          92,
          92,
          92,
          92,
          92,
          92,
          91,
          91,
          91,
          91,
          91,
          91,
          90,
          90,
          90,
          90,
          90,
          89,
          89,
          89,
          89,
          89,
          88,
          87,
          87,
          87,
          87,
          87,
          86,
          86,
          86,
          86,
          86,
          86,
          85,
          85,
          85,
          85,
          85,
          84,
          84,
          83,
          83,
          82,
          82,
          82,
          82,
          82,
          82,
          82,
          81,
          81,
          81,
          81,
          81,
          81,
          81,
          80,
          80,
          80,
          80,
          80,
          80,
          79,
          79,
          79,
          79,
          79,
          78,
          78,
          77,
          77,
          77,
          77,
          76,
          76,
          76,
          75,
          75,
          75,
          75,
          74,
          74,
          74,
          74,
          73,
          73,
          73,
          73,
          73,
          73,
          72,
          72,
          72,
          72,
          72,
          72,
          71,
          71,
          71,
          71,
          71,
          70,
          70,
          70,
          70,
          69,
          69,
          69,
          69,
          69,
          69,
          68,
          68,
          68,
          68,
          68,
          68,
          68,
          67,
          67,
          67,
          67,
          67,
          67,
          67,
          67,
          67,
          66,
          66,
          66,
          66,
          66,
          66,
          66,
          66,
          66,
          66,
          66,
          66,
          65,
          65,
          65,
          65,
          65,
          65,
          65,
          65,
          64,
          64,
          64,
          64,
          64,
          64,
          64,
          64,
          64,
          64,
          64,
          64,
          63,
          63,
          63,
          63,
          63,
          63,
          62,
          62,
          62,
          62,
          61,
          61,
          60,
          60,
          60,
          60,
          60,
          59,
          59,
          59,
          59,
          59,
          59,
          59,
          59,
          59,
          59,
          58,
          58,
          58,
          58,
          58,
          58,
          58,
          58,
          57,
          57,
          57,
          57,
          57,
          57,
          57,
          57,
          57,
          56,
          56,
          56,
          55,
          55,
          55,
          55,
          54,
          54,
          54,
          54,
          54,
          54,
          53,
          53,
          53,
          53,
          53,
          53,
          53,
          53,
          52,
          52,
          52,
          52,
          52,
          51,
          51,
          51,
          51,
          50,
          50,
          50,
          50,
          50,
          50,
          50,
          50,
          50,
          50,
          49,
          49,
          49,
          49,
          49,
          49,
          49,
          49,
          48,
          48,
          48,
          48,
          48,
          48,
          48,
          48,
          48,
          47,
          47,
          47,
          47,
          47,
          47,
          47,
          46,
          46,
          46,
          46,
          46,
          46,
          46,
          46,
          46,
          46,
          46,
          46,
          45,
          45,
          45,
          45,
          45,
          45,
          45,
          45,
          45,
          45,
          44,
          44,
          44,
          44,
          44,
          44,
          44,
          44,
          44,
          44,
          44,
          44,
          44,
          44,
          44,
          44,
          44,
          43,
          43,
          43,
          43,
          43,
          43,
          43,
          43,
          43,
          43,
          43,
          43,
          42,
          42,
          42,
          42,
          42,
          42,
          42,
          41,
          41,
          41,
          41,
          41,
          41,
          41,
          41,
          41,
          41,
          41,
          40,
          40,
          40,
          40,
          40,
          40,
          40,
          40,
          40,
          40,
          40,
          40,
          39,
          39,
          39,
          39,
          39,
          39,
          39,
          39,
          39,
          39,
          39,
          39,
          39,
          39,
          39,
          39,
          38,
          38,
          38,
          38,
          38,
          38,
          38,
          37,
          37,
          37,
          37,
          37,
          37,
          37,
          37,
          36,
          36,
          36,
          36,
          35,
          35,
          35,
          35,
          35,
          35,
          35,
          34,
          34,
          34,
          34,
          34,
          34,
          34,
          34,
          34,
          34,
          34,
          34,
          33,
          33,
          33,
          33,
          33,
          33,
          33,
          32,
          32,
          32,
          32,
          32,
          32,
          32,
          32,
          32,
          32,
          32,
          32,
          32,
          32,
          31,
          31,
          31,
          31,
          31,
          31,
          31,
          31,
          31,
          31,
          31,
          31,
          31,
          31,
          31,
          30,
          30,
          30,
          30,
          30,
          30,
          30,
          30,
          29,
          29,
          29,
          29,
          29,
          29,
          29,
          29,
          29,
          28,
          28,
          28,
          28,
          28,
          28,
          28,
          28,
          28,
          28,
          28,
          28,
          27,
          27,
          27,
          27,
          27,
          27,
          27,
          27,
          27,
          27,
          27,
          27,
          27,
          27,
          27,
          27,
          27,
          26,
          26,
          26,
          26,
          26,
          26,
          26,
          26,
          26,
          26,
          26,
          26,
          26,
          26,
          25,
          25,
          25,
          25,
          25,
          25,
          25,
          25,
          25,
          25,
          25,
          25,
          25,
          25,
          24,
          24,
          24,
          24,
          24,
          24,
          24,
          24,
          24,
          24,
          24,
          24,
          23,
          23,
          23,
          23,
          23,
          23,
          23,
          23,
          23,
          23,
          23,
          23,
          22,
          22,
          22,
          22,
          22,
          22,
          22,
          22,
          22,
          22,
          22,
          22,
          22,
          22,
          22,
          22,
          22,
          21,
          21,
          21,
          21,
          21,
          21,
          21,
          21,
          21,
          21,
          21,
          21,
          21,
          21,
          20,
          20,
          20,
          20,
          20,
          20,
          20,
          20,
          20,
          20,
          20,
          20,
          19,
          19,
          19,
          19,
          19,
          19,
          19,
          19,
          19,
          19,
          19,
          19,
          19,
          19,
          19,
          19,
          19,
          19,
          18,
          18,
          18,
          18,
          18,
          18,
          18,
          18,
          18,
          18,
          18,
          18,
          18,
          18,
          18,
          18,
          18,
          18,
          18,
          18,
          18,
          18,
          18,
          18,
          17,
          17,
          17,
          17,
          17,
          17,
          17,
          17,
          17,
          17,
          16,
          16,
          16,
          16,
          16,
          16,
          16,
          16,
          16,
          16,
          16,
          16,
          16,
          16,
          16,
          16,
          16,
          16,
          16,
          15,
          15,
          15,
          15,
          15,
          15,
          15,
          15,
          15,
          15,
          15,
          15,
          15,
          15,
          15,
          15,
          15,
          15,
          15,
          15,
          15,
          15,
          14,
          14,
          14,
          14,
          14,
          14,
          14,
          14,
          14,
          14,
          14,
          14,
          14,
          14,
          13,
          13,
          13,
          13,
          13,
          13,
          13,
          13,
          13,
          13,
          13,
          13,
          13,
          13,
          13,
          13,
          13,
          13,
          13,
          13,
          13,
          13,
          13,
          13,
          13,
          12,
          12,
          12,
          12,
          12,
          12,
          12,
          12,
          12,
          12,
          12,
          12,
          12,
          12,
          12,
          12,
          12,
          12,
          12,
          12,
          12,
          12,
          12,
          12,
          12,
          12,
          12,
          12,
          11,
          11,
          11,
          11,
          11,
          11,
          11,
          11,
          11,
          11,
          11,
          11,
          11,
          11,
          11,
          11,
          11,
          11,
          11,
          11,
          10,
          10,
          10,
          10,
          10,
          10,
          10,
          10,
          10,
          10,
          10,
          10,
          10,
          10,
          10,
          10,
          10,
          10,
          10,
          10,
          10,
          10,
          10,
          10,
          10,
          10,
          10,
          10,
          10,
          10,
          10,
          10,
          10
         ],
         "xbins": {
          "end": 600,
          "size": 20,
          "start": 20
         }
        }
       ],
       "layout": {
        "bargap": 0,
        "template": {
         "data": {
          "bar": [
           {
            "error_x": {
             "color": "#2a3f5f"
            },
            "error_y": {
             "color": "#2a3f5f"
            },
            "marker": {
             "line": {
              "color": "#E5ECF6",
              "width": 0.5
             },
             "pattern": {
              "fillmode": "overlay",
              "size": 10,
              "solidity": 0.2
             }
            },
            "type": "bar"
           }
          ],
          "barpolar": [
           {
            "marker": {
             "line": {
              "color": "#E5ECF6",
              "width": 0.5
             },
             "pattern": {
              "fillmode": "overlay",
              "size": 10,
              "solidity": 0.2
             }
            },
            "type": "barpolar"
           }
          ],
          "carpet": [
           {
            "aaxis": {
             "endlinecolor": "#2a3f5f",
             "gridcolor": "white",
             "linecolor": "white",
             "minorgridcolor": "white",
             "startlinecolor": "#2a3f5f"
            },
            "baxis": {
             "endlinecolor": "#2a3f5f",
             "gridcolor": "white",
             "linecolor": "white",
             "minorgridcolor": "white",
             "startlinecolor": "#2a3f5f"
            },
            "type": "carpet"
           }
          ],
          "choropleth": [
           {
            "colorbar": {
             "outlinewidth": 0,
             "ticks": ""
            },
            "type": "choropleth"
           }
          ],
          "contour": [
           {
            "colorbar": {
             "outlinewidth": 0,
             "ticks": ""
            },
            "colorscale": [
             [
              0,
              "#0d0887"
             ],
             [
              0.1111111111111111,
              "#46039f"
             ],
             [
              0.2222222222222222,
              "#7201a8"
             ],
             [
              0.3333333333333333,
              "#9c179e"
             ],
             [
              0.4444444444444444,
              "#bd3786"
             ],
             [
              0.5555555555555556,
              "#d8576b"
             ],
             [
              0.6666666666666666,
              "#ed7953"
             ],
             [
              0.7777777777777778,
              "#fb9f3a"
             ],
             [
              0.8888888888888888,
              "#fdca26"
             ],
             [
              1,
              "#f0f921"
             ]
            ],
            "type": "contour"
           }
          ],
          "contourcarpet": [
           {
            "colorbar": {
             "outlinewidth": 0,
             "ticks": ""
            },
            "type": "contourcarpet"
           }
          ],
          "heatmap": [
           {
            "colorbar": {
             "outlinewidth": 0,
             "ticks": ""
            },
            "colorscale": [
             [
              0,
              "#0d0887"
             ],
             [
              0.1111111111111111,
              "#46039f"
             ],
             [
              0.2222222222222222,
              "#7201a8"
             ],
             [
              0.3333333333333333,
              "#9c179e"
             ],
             [
              0.4444444444444444,
              "#bd3786"
             ],
             [
              0.5555555555555556,
              "#d8576b"
             ],
             [
              0.6666666666666666,
              "#ed7953"
             ],
             [
              0.7777777777777778,
              "#fb9f3a"
             ],
             [
              0.8888888888888888,
              "#fdca26"
             ],
             [
              1,
              "#f0f921"
             ]
            ],
            "type": "heatmap"
           }
          ],
          "heatmapgl": [
           {
            "colorbar": {
             "outlinewidth": 0,
             "ticks": ""
            },
            "colorscale": [
             [
              0,
              "#0d0887"
             ],
             [
              0.1111111111111111,
              "#46039f"
             ],
             [
              0.2222222222222222,
              "#7201a8"
             ],
             [
              0.3333333333333333,
              "#9c179e"
             ],
             [
              0.4444444444444444,
              "#bd3786"
             ],
             [
              0.5555555555555556,
              "#d8576b"
             ],
             [
              0.6666666666666666,
              "#ed7953"
             ],
             [
              0.7777777777777778,
              "#fb9f3a"
             ],
             [
              0.8888888888888888,
              "#fdca26"
             ],
             [
              1,
              "#f0f921"
             ]
            ],
            "type": "heatmapgl"
           }
          ],
          "histogram": [
           {
            "marker": {
             "pattern": {
              "fillmode": "overlay",
              "size": 10,
              "solidity": 0.2
             }
            },
            "type": "histogram"
           }
          ],
          "histogram2d": [
           {
            "colorbar": {
             "outlinewidth": 0,
             "ticks": ""
            },
            "colorscale": [
             [
              0,
              "#0d0887"
             ],
             [
              0.1111111111111111,
              "#46039f"
             ],
             [
              0.2222222222222222,
              "#7201a8"
             ],
             [
              0.3333333333333333,
              "#9c179e"
             ],
             [
              0.4444444444444444,
              "#bd3786"
             ],
             [
              0.5555555555555556,
              "#d8576b"
             ],
             [
              0.6666666666666666,
              "#ed7953"
             ],
             [
              0.7777777777777778,
              "#fb9f3a"
             ],
             [
              0.8888888888888888,
              "#fdca26"
             ],
             [
              1,
              "#f0f921"
             ]
            ],
            "type": "histogram2d"
           }
          ],
          "histogram2dcontour": [
           {
            "colorbar": {
             "outlinewidth": 0,
             "ticks": ""
            },
            "colorscale": [
             [
              0,
              "#0d0887"
             ],
             [
              0.1111111111111111,
              "#46039f"
             ],
             [
              0.2222222222222222,
              "#7201a8"
             ],
             [
              0.3333333333333333,
              "#9c179e"
             ],
             [
              0.4444444444444444,
              "#bd3786"
             ],
             [
              0.5555555555555556,
              "#d8576b"
             ],
             [
              0.6666666666666666,
              "#ed7953"
             ],
             [
              0.7777777777777778,
              "#fb9f3a"
             ],
             [
              0.8888888888888888,
              "#fdca26"
             ],
             [
              1,
              "#f0f921"
             ]
            ],
            "type": "histogram2dcontour"
           }
          ],
          "mesh3d": [
           {
            "colorbar": {
             "outlinewidth": 0,
             "ticks": ""
            },
            "type": "mesh3d"
           }
          ],
          "parcoords": [
           {
            "line": {
             "colorbar": {
              "outlinewidth": 0,
              "ticks": ""
             }
            },
            "type": "parcoords"
           }
          ],
          "pie": [
           {
            "automargin": true,
            "type": "pie"
           }
          ],
          "scatter": [
           {
            "fillpattern": {
             "fillmode": "overlay",
             "size": 10,
             "solidity": 0.2
            },
            "type": "scatter"
           }
          ],
          "scatter3d": [
           {
            "line": {
             "colorbar": {
              "outlinewidth": 0,
              "ticks": ""
             }
            },
            "marker": {
             "colorbar": {
              "outlinewidth": 0,
              "ticks": ""
             }
            },
            "type": "scatter3d"
           }
          ],
          "scattercarpet": [
           {
            "marker": {
             "colorbar": {
              "outlinewidth": 0,
              "ticks": ""
             }
            },
            "type": "scattercarpet"
           }
          ],
          "scattergeo": [
           {
            "marker": {
             "colorbar": {
              "outlinewidth": 0,
              "ticks": ""
             }
            },
            "type": "scattergeo"
           }
          ],
          "scattergl": [
           {
            "marker": {
             "colorbar": {
              "outlinewidth": 0,
              "ticks": ""
             }
            },
            "type": "scattergl"
           }
          ],
          "scattermapbox": [
           {
            "marker": {
             "colorbar": {
              "outlinewidth": 0,
              "ticks": ""
             }
            },
            "type": "scattermapbox"
           }
          ],
          "scatterpolar": [
           {
            "marker": {
             "colorbar": {
              "outlinewidth": 0,
              "ticks": ""
             }
            },
            "type": "scatterpolar"
           }
          ],
          "scatterpolargl": [
           {
            "marker": {
             "colorbar": {
              "outlinewidth": 0,
              "ticks": ""
             }
            },
            "type": "scatterpolargl"
           }
          ],
          "scatterternary": [
           {
            "marker": {
             "colorbar": {
              "outlinewidth": 0,
              "ticks": ""
             }
            },
            "type": "scatterternary"
           }
          ],
          "surface": [
           {
            "colorbar": {
             "outlinewidth": 0,
             "ticks": ""
            },
            "colorscale": [
             [
              0,
              "#0d0887"
             ],
             [
              0.1111111111111111,
              "#46039f"
             ],
             [
              0.2222222222222222,
              "#7201a8"
             ],
             [
              0.3333333333333333,
              "#9c179e"
             ],
             [
              0.4444444444444444,
              "#bd3786"
             ],
             [
              0.5555555555555556,
              "#d8576b"
             ],
             [
              0.6666666666666666,
              "#ed7953"
             ],
             [
              0.7777777777777778,
              "#fb9f3a"
             ],
             [
              0.8888888888888888,
              "#fdca26"
             ],
             [
              1,
              "#f0f921"
             ]
            ],
            "type": "surface"
           }
          ],
          "table": [
           {
            "cells": {
             "fill": {
              "color": "#EBF0F8"
             },
             "line": {
              "color": "white"
             }
            },
            "header": {
             "fill": {
              "color": "#C8D4E3"
             },
             "line": {
              "color": "white"
             }
            },
            "type": "table"
           }
          ]
         },
         "layout": {
          "annotationdefaults": {
           "arrowcolor": "#2a3f5f",
           "arrowhead": 0,
           "arrowwidth": 1
          },
          "autotypenumbers": "strict",
          "coloraxis": {
           "colorbar": {
            "outlinewidth": 0,
            "ticks": ""
           }
          },
          "colorscale": {
           "diverging": [
            [
             0,
             "#8e0152"
            ],
            [
             0.1,
             "#c51b7d"
            ],
            [
             0.2,
             "#de77ae"
            ],
            [
             0.3,
             "#f1b6da"
            ],
            [
             0.4,
             "#fde0ef"
            ],
            [
             0.5,
             "#f7f7f7"
            ],
            [
             0.6,
             "#e6f5d0"
            ],
            [
             0.7,
             "#b8e186"
            ],
            [
             0.8,
             "#7fbc41"
            ],
            [
             0.9,
             "#4d9221"
            ],
            [
             1,
             "#276419"
            ]
           ],
           "sequential": [
            [
             0,
             "#0d0887"
            ],
            [
             0.1111111111111111,
             "#46039f"
            ],
            [
             0.2222222222222222,
             "#7201a8"
            ],
            [
             0.3333333333333333,
             "#9c179e"
            ],
            [
             0.4444444444444444,
             "#bd3786"
            ],
            [
             0.5555555555555556,
             "#d8576b"
            ],
            [
             0.6666666666666666,
             "#ed7953"
            ],
            [
             0.7777777777777778,
             "#fb9f3a"
            ],
            [
             0.8888888888888888,
             "#fdca26"
            ],
            [
             1,
             "#f0f921"
            ]
           ],
           "sequentialminus": [
            [
             0,
             "#0d0887"
            ],
            [
             0.1111111111111111,
             "#46039f"
            ],
            [
             0.2222222222222222,
             "#7201a8"
            ],
            [
             0.3333333333333333,
             "#9c179e"
            ],
            [
             0.4444444444444444,
             "#bd3786"
            ],
            [
             0.5555555555555556,
             "#d8576b"
            ],
            [
             0.6666666666666666,
             "#ed7953"
            ],
            [
             0.7777777777777778,
             "#fb9f3a"
            ],
            [
             0.8888888888888888,
             "#fdca26"
            ],
            [
             1,
             "#f0f921"
            ]
           ]
          },
          "colorway": [
           "#636efa",
           "#EF553B",
           "#00cc96",
           "#ab63fa",
           "#FFA15A",
           "#19d3f3",
           "#FF6692",
           "#B6E880",
           "#FF97FF",
           "#FECB52"
          ],
          "font": {
           "color": "#2a3f5f"
          },
          "geo": {
           "bgcolor": "white",
           "lakecolor": "white",
           "landcolor": "#E5ECF6",
           "showlakes": true,
           "showland": true,
           "subunitcolor": "white"
          },
          "hoverlabel": {
           "align": "left"
          },
          "hovermode": "closest",
          "mapbox": {
           "style": "light"
          },
          "paper_bgcolor": "white",
          "plot_bgcolor": "#E5ECF6",
          "polar": {
           "angularaxis": {
            "gridcolor": "white",
            "linecolor": "white",
            "ticks": ""
           },
           "bgcolor": "#E5ECF6",
           "radialaxis": {
            "gridcolor": "white",
            "linecolor": "white",
            "ticks": ""
           }
          },
          "scene": {
           "xaxis": {
            "backgroundcolor": "#E5ECF6",
            "gridcolor": "white",
            "gridwidth": 2,
            "linecolor": "white",
            "showbackground": true,
            "ticks": "",
            "zerolinecolor": "white"
           },
           "yaxis": {
            "backgroundcolor": "#E5ECF6",
            "gridcolor": "white",
            "gridwidth": 2,
            "linecolor": "white",
            "showbackground": true,
            "ticks": "",
            "zerolinecolor": "white"
           },
           "zaxis": {
            "backgroundcolor": "#E5ECF6",
            "gridcolor": "white",
            "gridwidth": 2,
            "linecolor": "white",
            "showbackground": true,
            "ticks": "",
            "zerolinecolor": "white"
           }
          },
          "shapedefaults": {
           "line": {
            "color": "#2a3f5f"
           }
          },
          "ternary": {
           "aaxis": {
            "gridcolor": "white",
            "linecolor": "white",
            "ticks": ""
           },
           "baxis": {
            "gridcolor": "white",
            "linecolor": "white",
            "ticks": ""
           },
           "bgcolor": "#E5ECF6",
           "caxis": {
            "gridcolor": "white",
            "linecolor": "white",
            "ticks": ""
           }
          },
          "title": {
           "x": 0.05
          },
          "xaxis": {
           "automargin": true,
           "gridcolor": "white",
           "linecolor": "white",
           "ticks": "",
           "title": {
            "standoff": 15
           },
           "zerolinecolor": "white",
           "zerolinewidth": 2
          },
          "yaxis": {
           "automargin": true,
           "gridcolor": "white",
           "linecolor": "white",
           "ticks": "",
           "title": {
            "standoff": 15
           },
           "zerolinecolor": "white",
           "zerolinewidth": 2
          }
         }
        },
        "title": {
         "text": "Distribution Of Number of Ratings Per Item"
        },
        "xaxis": {
         "title": {
          "text": "Number of Ratings Per Item"
         }
        },
        "yaxis": {
         "title": {
          "text": "Count"
         }
        }
       }
      }
     },
     "metadata": {},
     "output_type": "display_data"
    }
   ],
   "source": [
    "data = df.groupby('itemID')['rating'].count().clip().sort_values(ascending=False)\n",
    "\n",
    "# Create trace\n",
    "trace = go.Histogram(x = data.values,\n",
    "                     name = 'Ratings',\n",
    "                     xbins = dict(start = 20,\n",
    "                                  end = 600, #Max is 583\n",
    "                                  size = 20))\n",
    "# Create layout\n",
    "layout = go.Layout(title = 'Distribution Of Number of Ratings Per Item',\n",
    "                   xaxis = dict(title = 'Number of Ratings Per Item'),\n",
    "                   yaxis = dict(title = 'Count'),\n",
    "                   bargap = 0)\n",
    "\n",
    "# Create plot\n",
    "fig = go.Figure(data=[trace], layout=layout)\n",
    "iplot(fig)"
   ]
  },
  {
   "attachments": {},
   "cell_type": "markdown",
   "metadata": {},
   "source": [
    "More details regarding the EDA can be found in the report.\n",
    "\n",
    "# Creating a model using suprise\n",
    "\n",
    "For this the Suprise library is used. Suprise is a python scikit made specifically for recommender systems, and it includes a variety of prediction algorithms (using collaborative methods). First, we will test the different algorithms (by cross-validating) and find the one who gives the least Root-Mean-Square-Error (RMSE)."
   ]
  },
  {
   "cell_type": "code",
   "execution_count": 20,
   "metadata": {},
   "outputs": [
    {
     "name": "stdout",
     "output_type": "stream",
     "text": [
      "Estimating biases using als...\n",
      "Computing the msd similarity matrix...\n",
      "Done computing similarity matrix.\n",
      "Estimating biases using als...\n",
      "Computing the msd similarity matrix...\n",
      "Done computing similarity matrix.\n",
      "Estimating biases using als...\n",
      "Computing the msd similarity matrix...\n",
      "Done computing similarity matrix.\n",
      "Computing the msd similarity matrix...\n",
      "Done computing similarity matrix.\n",
      "Computing the msd similarity matrix...\n",
      "Done computing similarity matrix.\n",
      "Computing the msd similarity matrix...\n",
      "Done computing similarity matrix.\n",
      "Computing the msd similarity matrix...\n",
      "Done computing similarity matrix.\n",
      "Computing the msd similarity matrix...\n",
      "Done computing similarity matrix.\n",
      "Computing the msd similarity matrix...\n",
      "Done computing similarity matrix.\n",
      "Computing the msd similarity matrix...\n",
      "Done computing similarity matrix.\n",
      "Computing the msd similarity matrix...\n",
      "Done computing similarity matrix.\n",
      "Computing the msd similarity matrix...\n",
      "Done computing similarity matrix.\n",
      "Estimating biases using als...\n",
      "Estimating biases using als...\n",
      "Estimating biases using als...\n"
     ]
    },
    {
     "data": {
      "text/html": [
       "<div>\n",
       "<style scoped>\n",
       "    .dataframe tbody tr th:only-of-type {\n",
       "        vertical-align: middle;\n",
       "    }\n",
       "\n",
       "    .dataframe tbody tr th {\n",
       "        vertical-align: top;\n",
       "    }\n",
       "\n",
       "    .dataframe thead th {\n",
       "        text-align: right;\n",
       "    }\n",
       "</style>\n",
       "<table border=\"1\" class=\"dataframe\">\n",
       "  <thead>\n",
       "    <tr style=\"text-align: right;\">\n",
       "      <th></th>\n",
       "      <th>test_rmse</th>\n",
       "      <th>fit_time</th>\n",
       "      <th>test_time</th>\n",
       "    </tr>\n",
       "    <tr>\n",
       "      <th>Algorithm</th>\n",
       "      <th></th>\n",
       "      <th></th>\n",
       "      <th></th>\n",
       "    </tr>\n",
       "  </thead>\n",
       "  <tbody>\n",
       "    <tr>\n",
       "      <th>SVDpp</th>\n",
       "      <td>0.923934</td>\n",
       "      <td>19.410043</td>\n",
       "      <td>6.082500</td>\n",
       "    </tr>\n",
       "    <tr>\n",
       "      <th>KNNBaseline</th>\n",
       "      <td>0.932252</td>\n",
       "      <td>0.481544</td>\n",
       "      <td>7.852613</td>\n",
       "    </tr>\n",
       "    <tr>\n",
       "      <th>SVD</th>\n",
       "      <td>0.940993</td>\n",
       "      <td>1.147877</td>\n",
       "      <td>0.379371</td>\n",
       "    </tr>\n",
       "    <tr>\n",
       "      <th>SlopeOne</th>\n",
       "      <td>0.943364</td>\n",
       "      <td>0.444592</td>\n",
       "      <td>4.677959</td>\n",
       "    </tr>\n",
       "    <tr>\n",
       "      <th>BaselineOnly</th>\n",
       "      <td>0.944355</td>\n",
       "      <td>0.160358</td>\n",
       "      <td>0.228237</td>\n",
       "    </tr>\n",
       "    <tr>\n",
       "      <th>KNNWithMeans</th>\n",
       "      <td>0.950333</td>\n",
       "      <td>0.346930</td>\n",
       "      <td>6.817237</td>\n",
       "    </tr>\n",
       "    <tr>\n",
       "      <th>KNNWithZScore</th>\n",
       "      <td>0.950504</td>\n",
       "      <td>0.471791</td>\n",
       "      <td>7.145859</td>\n",
       "    </tr>\n",
       "    <tr>\n",
       "      <th>NMF</th>\n",
       "      <td>0.963093</td>\n",
       "      <td>2.080452</td>\n",
       "      <td>0.353538</td>\n",
       "    </tr>\n",
       "    <tr>\n",
       "      <th>KNNBasic</th>\n",
       "      <td>0.978021</td>\n",
       "      <td>0.302148</td>\n",
       "      <td>6.419905</td>\n",
       "    </tr>\n",
       "    <tr>\n",
       "      <th>NormalPredictor</th>\n",
       "      <td>1.509235</td>\n",
       "      <td>0.140020</td>\n",
       "      <td>0.271536</td>\n",
       "    </tr>\n",
       "  </tbody>\n",
       "</table>\n",
       "</div>"
      ],
      "text/plain": [
       "                 test_rmse   fit_time  test_time\n",
       "Algorithm                                       \n",
       "SVDpp             0.923934  19.410043   6.082500\n",
       "KNNBaseline       0.932252   0.481544   7.852613\n",
       "SVD               0.940993   1.147877   0.379371\n",
       "SlopeOne          0.943364   0.444592   4.677959\n",
       "BaselineOnly      0.944355   0.160358   0.228237\n",
       "KNNWithMeans      0.950333   0.346930   6.817237\n",
       "KNNWithZScore     0.950504   0.471791   7.145859\n",
       "NMF               0.963093   2.080452   0.353538\n",
       "KNNBasic          0.978021   0.302148   6.419905\n",
       "NormalPredictor   1.509235   0.140020   0.271536"
      ]
     },
     "execution_count": 20,
     "metadata": {},
     "output_type": "execute_result"
    }
   ],
   "source": [
    "from surprise import NormalPredictor, SVD, KNNBasic, NMF\n",
    "from surprise import Dataset, Reader\n",
    "from surprise import accuracy\n",
    "from surprise.model_selection import cross_validate, KFold\n",
    "\n",
    "\n",
    "from surprise import NormalPredictor\n",
    "from surprise import KNNBasic\n",
    "from surprise import KNNWithMeans\n",
    "from surprise import KNNWithZScore\n",
    "from surprise import KNNBaseline\n",
    "from surprise import BaselineOnly\n",
    "from surprise import SVD\n",
    "from surprise import SVDpp\n",
    "from surprise import NMF\n",
    "from surprise import SlopeOne\n",
    "from surprise.model_selection import train_test_split\n",
    "\n",
    "reader = Reader(line_format='user item rating timestamp', sep='\\t')\n",
    "reader = Reader(rating_scale=(1.0, 5.0))\n",
    "\n",
    "data = Dataset.load_from_df(df[['userID', 'itemID', 'rating']], reader)\n",
    "\n",
    "benchmark = []\n",
    "# Iterate over all algorithms\n",
    "for algorithm in [SVD(), SVDpp(), SlopeOne(), NMF(), NormalPredictor(), KNNBaseline(), KNNBasic(), KNNWithMeans(), KNNWithZScore(), BaselineOnly()]:\n",
    "    # Perform cross validation\n",
    "    results = cross_validate(algorithm, data, measures=['RMSE'], cv=3, verbose=False)\n",
    "    \n",
    "    # Get results & append algorithm name\n",
    "    tmp = pd.DataFrame.from_dict(results).mean(axis=0)\n",
    "    tmp = tmp.append(pd.Series([str(algorithm).split(' ')[0].split('.')[-1]],index=['Algorithm']))\n",
    "    benchmark.append(tmp)\n",
    "\n",
    "surprise_results = pd.DataFrame(benchmark).set_index('Algorithm').sort_values('test_rmse')\n",
    "surprise_results"
   ]
  },
  {
   "attachments": {},
   "cell_type": "markdown",
   "metadata": {},
   "source": [
    "We see that SVDpp provides the best RMSE values, therefore we will continue with that. Though it does have a long fit and test time, it is not significant to chose another algorithm."
   ]
  },
  {
   "cell_type": "code",
   "execution_count": 21,
   "metadata": {},
   "outputs": [
    {
     "name": "stdout",
     "output_type": "stream",
     "text": [
      "RMSE: 0.9140\n",
      "0.9140043279132679\n"
     ]
    }
   ],
   "source": [
    "trainset, testset = train_test_split(data, test_size=0.2)\n",
    "algo = SVDpp()\n",
    "\n",
    "predictions = algo.fit(trainset).test(testset)\n",
    "print(accuracy.rmse(predictions))"
   ]
  },
  {
   "cell_type": "code",
   "execution_count": 35,
   "metadata": {},
   "outputs": [],
   "source": [
    "def get_Iu(uid):\n",
    "    \"\"\" return the number of items rated by given user\n",
    "    args: \n",
    "      uid: the id of the user\n",
    "    returns: \n",
    "      the number of items rated by the user\n",
    "    \"\"\"\n",
    "    try:\n",
    "        return len(trainset.ur[trainset.to_inner_uid(uid)])\n",
    "    except ValueError: # user was not part of the trainset\n",
    "        return 0\n",
    "    \n",
    "def get_Ui(iid):\n",
    "    \"\"\" return number of users that have rated given item\n",
    "    args:\n",
    "      iid: the raw id of the item\n",
    "    returns:\n",
    "      the number of users that have rated the item.\n",
    "    \"\"\"\n",
    "    try: \n",
    "        return len(trainset.ir[trainset.to_inner_iid(iid)])\n",
    "    except ValueError:\n",
    "        return 0\n",
    "    \n",
    "df_predictions = pd.DataFrame(predictions, columns=['uid', 'iid', 'rui', 'est', 'details'])\n",
    "df_predictions['Iu'] = df_predictions.uid.apply(get_Iu)\n",
    "df_predictions['Ui'] = df_predictions.iid.apply(get_Ui)\n",
    "df_predictions['err'] = abs(df_predictions.est - df_predictions.rui)\n",
    "# df_predictions1.head()\n",
    "best_predictions = df_predictions.sort_values(by='err')[:10]\n",
    "worst_predictions = df_predictions.sort_values(by='err')[-10:]"
   ]
  },
  {
   "cell_type": "code",
   "execution_count": 36,
   "metadata": {},
   "outputs": [
    {
     "data": {
      "text/html": [
       "<div>\n",
       "<style scoped>\n",
       "    .dataframe tbody tr th:only-of-type {\n",
       "        vertical-align: middle;\n",
       "    }\n",
       "\n",
       "    .dataframe tbody tr th {\n",
       "        vertical-align: top;\n",
       "    }\n",
       "\n",
       "    .dataframe thead th {\n",
       "        text-align: right;\n",
       "    }\n",
       "</style>\n",
       "<table border=\"1\" class=\"dataframe\">\n",
       "  <thead>\n",
       "    <tr style=\"text-align: right;\">\n",
       "      <th></th>\n",
       "      <th>uid</th>\n",
       "      <th>iid</th>\n",
       "      <th>rui</th>\n",
       "      <th>est</th>\n",
       "      <th>details</th>\n",
       "      <th>Iu</th>\n",
       "      <th>Ui</th>\n",
       "      <th>err</th>\n",
       "    </tr>\n",
       "  </thead>\n",
       "  <tbody>\n",
       "    <tr>\n",
       "      <th>8991</th>\n",
       "      <td>457</td>\n",
       "      <td>173</td>\n",
       "      <td>5.0</td>\n",
       "      <td>5.0</td>\n",
       "      <td>{'was_impossible': False}</td>\n",
       "      <td>214</td>\n",
       "      <td>250</td>\n",
       "      <td>0.0</td>\n",
       "    </tr>\n",
       "    <tr>\n",
       "      <th>17635</th>\n",
       "      <td>468</td>\n",
       "      <td>50</td>\n",
       "      <td>5.0</td>\n",
       "      <td>5.0</td>\n",
       "      <td>{'was_impossible': False}</td>\n",
       "      <td>108</td>\n",
       "      <td>466</td>\n",
       "      <td>0.0</td>\n",
       "    </tr>\n",
       "    <tr>\n",
       "      <th>3232</th>\n",
       "      <td>640</td>\n",
       "      <td>169</td>\n",
       "      <td>5.0</td>\n",
       "      <td>5.0</td>\n",
       "      <td>{'was_impossible': False}</td>\n",
       "      <td>80</td>\n",
       "      <td>95</td>\n",
       "      <td>0.0</td>\n",
       "    </tr>\n",
       "    <tr>\n",
       "      <th>6077</th>\n",
       "      <td>405</td>\n",
       "      <td>400</td>\n",
       "      <td>1.0</td>\n",
       "      <td>1.0</td>\n",
       "      <td>{'was_impossible': False}</td>\n",
       "      <td>469</td>\n",
       "      <td>14</td>\n",
       "      <td>0.0</td>\n",
       "    </tr>\n",
       "    <tr>\n",
       "      <th>5923</th>\n",
       "      <td>332</td>\n",
       "      <td>98</td>\n",
       "      <td>5.0</td>\n",
       "      <td>5.0</td>\n",
       "      <td>{'was_impossible': False}</td>\n",
       "      <td>140</td>\n",
       "      <td>301</td>\n",
       "      <td>0.0</td>\n",
       "    </tr>\n",
       "    <tr>\n",
       "      <th>11166</th>\n",
       "      <td>507</td>\n",
       "      <td>121</td>\n",
       "      <td>5.0</td>\n",
       "      <td>5.0</td>\n",
       "      <td>{'was_impossible': False}</td>\n",
       "      <td>41</td>\n",
       "      <td>338</td>\n",
       "      <td>0.0</td>\n",
       "    </tr>\n",
       "    <tr>\n",
       "      <th>10242</th>\n",
       "      <td>267</td>\n",
       "      <td>114</td>\n",
       "      <td>5.0</td>\n",
       "      <td>5.0</td>\n",
       "      <td>{'was_impossible': False}</td>\n",
       "      <td>148</td>\n",
       "      <td>54</td>\n",
       "      <td>0.0</td>\n",
       "    </tr>\n",
       "    <tr>\n",
       "      <th>6138</th>\n",
       "      <td>592</td>\n",
       "      <td>318</td>\n",
       "      <td>5.0</td>\n",
       "      <td>5.0</td>\n",
       "      <td>{'was_impossible': False}</td>\n",
       "      <td>271</td>\n",
       "      <td>238</td>\n",
       "      <td>0.0</td>\n",
       "    </tr>\n",
       "    <tr>\n",
       "      <th>11161</th>\n",
       "      <td>416</td>\n",
       "      <td>64</td>\n",
       "      <td>5.0</td>\n",
       "      <td>5.0</td>\n",
       "      <td>{'was_impossible': False}</td>\n",
       "      <td>379</td>\n",
       "      <td>221</td>\n",
       "      <td>0.0</td>\n",
       "    </tr>\n",
       "    <tr>\n",
       "      <th>14758</th>\n",
       "      <td>69</td>\n",
       "      <td>197</td>\n",
       "      <td>5.0</td>\n",
       "      <td>5.0</td>\n",
       "      <td>{'was_impossible': False}</td>\n",
       "      <td>46</td>\n",
       "      <td>188</td>\n",
       "      <td>0.0</td>\n",
       "    </tr>\n",
       "  </tbody>\n",
       "</table>\n",
       "</div>"
      ],
      "text/plain": [
       "       uid  iid  rui  est                    details   Iu   Ui  err\n",
       "8991   457  173  5.0  5.0  {'was_impossible': False}  214  250  0.0\n",
       "17635  468   50  5.0  5.0  {'was_impossible': False}  108  466  0.0\n",
       "3232   640  169  5.0  5.0  {'was_impossible': False}   80   95  0.0\n",
       "6077   405  400  1.0  1.0  {'was_impossible': False}  469   14  0.0\n",
       "5923   332   98  5.0  5.0  {'was_impossible': False}  140  301  0.0\n",
       "11166  507  121  5.0  5.0  {'was_impossible': False}   41  338  0.0\n",
       "10242  267  114  5.0  5.0  {'was_impossible': False}  148   54  0.0\n",
       "6138   592  318  5.0  5.0  {'was_impossible': False}  271  238  0.0\n",
       "11161  416   64  5.0  5.0  {'was_impossible': False}  379  221  0.0\n",
       "14758   69  197  5.0  5.0  {'was_impossible': False}   46  188  0.0"
      ]
     },
     "execution_count": 36,
     "metadata": {},
     "output_type": "execute_result"
    }
   ],
   "source": [
    "best_predictions"
   ]
  },
  {
   "cell_type": "code",
   "execution_count": 37,
   "metadata": {},
   "outputs": [
    {
     "data": {
      "text/html": [
       "<div>\n",
       "<style scoped>\n",
       "    .dataframe tbody tr th:only-of-type {\n",
       "        vertical-align: middle;\n",
       "    }\n",
       "\n",
       "    .dataframe tbody tr th {\n",
       "        vertical-align: top;\n",
       "    }\n",
       "\n",
       "    .dataframe thead th {\n",
       "        text-align: right;\n",
       "    }\n",
       "</style>\n",
       "<table border=\"1\" class=\"dataframe\">\n",
       "  <thead>\n",
       "    <tr style=\"text-align: right;\">\n",
       "      <th></th>\n",
       "      <th>uid</th>\n",
       "      <th>iid</th>\n",
       "      <th>rui</th>\n",
       "      <th>est</th>\n",
       "      <th>details</th>\n",
       "      <th>Iu</th>\n",
       "      <th>Ui</th>\n",
       "      <th>err</th>\n",
       "    </tr>\n",
       "  </thead>\n",
       "  <tbody>\n",
       "    <tr>\n",
       "      <th>16110</th>\n",
       "      <td>145</td>\n",
       "      <td>59</td>\n",
       "      <td>1.0</td>\n",
       "      <td>4.485921</td>\n",
       "      <td>{'was_impossible': False}</td>\n",
       "      <td>252</td>\n",
       "      <td>69</td>\n",
       "      <td>3.485921</td>\n",
       "    </tr>\n",
       "    <tr>\n",
       "      <th>2514</th>\n",
       "      <td>272</td>\n",
       "      <td>133</td>\n",
       "      <td>1.0</td>\n",
       "      <td>4.508296</td>\n",
       "      <td>{'was_impossible': False}</td>\n",
       "      <td>37</td>\n",
       "      <td>135</td>\n",
       "      <td>3.508296</td>\n",
       "    </tr>\n",
       "    <tr>\n",
       "      <th>18661</th>\n",
       "      <td>887</td>\n",
       "      <td>476</td>\n",
       "      <td>1.0</td>\n",
       "      <td>4.533896</td>\n",
       "      <td>{'was_impossible': False}</td>\n",
       "      <td>135</td>\n",
       "      <td>136</td>\n",
       "      <td>3.533896</td>\n",
       "    </tr>\n",
       "    <tr>\n",
       "      <th>10155</th>\n",
       "      <td>2</td>\n",
       "      <td>315</td>\n",
       "      <td>1.0</td>\n",
       "      <td>4.546266</td>\n",
       "      <td>{'was_impossible': False}</td>\n",
       "      <td>46</td>\n",
       "      <td>123</td>\n",
       "      <td>3.546266</td>\n",
       "    </tr>\n",
       "    <tr>\n",
       "      <th>7400</th>\n",
       "      <td>295</td>\n",
       "      <td>183</td>\n",
       "      <td>1.0</td>\n",
       "      <td>4.548557</td>\n",
       "      <td>{'was_impossible': False}</td>\n",
       "      <td>149</td>\n",
       "      <td>238</td>\n",
       "      <td>3.548557</td>\n",
       "    </tr>\n",
       "    <tr>\n",
       "      <th>13750</th>\n",
       "      <td>493</td>\n",
       "      <td>156</td>\n",
       "      <td>1.0</td>\n",
       "      <td>4.553101</td>\n",
       "      <td>{'was_impossible': False}</td>\n",
       "      <td>98</td>\n",
       "      <td>118</td>\n",
       "      <td>3.553101</td>\n",
       "    </tr>\n",
       "    <tr>\n",
       "      <th>449</th>\n",
       "      <td>405</td>\n",
       "      <td>575</td>\n",
       "      <td>5.0</td>\n",
       "      <td>1.313741</td>\n",
       "      <td>{'was_impossible': False}</td>\n",
       "      <td>469</td>\n",
       "      <td>32</td>\n",
       "      <td>3.686259</td>\n",
       "    </tr>\n",
       "    <tr>\n",
       "      <th>19248</th>\n",
       "      <td>295</td>\n",
       "      <td>96</td>\n",
       "      <td>1.0</td>\n",
       "      <td>4.733470</td>\n",
       "      <td>{'was_impossible': False}</td>\n",
       "      <td>149</td>\n",
       "      <td>246</td>\n",
       "      <td>3.733470</td>\n",
       "    </tr>\n",
       "    <tr>\n",
       "      <th>18729</th>\n",
       "      <td>481</td>\n",
       "      <td>318</td>\n",
       "      <td>1.0</td>\n",
       "      <td>4.764099</td>\n",
       "      <td>{'was_impossible': False}</td>\n",
       "      <td>41</td>\n",
       "      <td>238</td>\n",
       "      <td>3.764099</td>\n",
       "    </tr>\n",
       "    <tr>\n",
       "      <th>6470</th>\n",
       "      <td>366</td>\n",
       "      <td>234</td>\n",
       "      <td>1.0</td>\n",
       "      <td>4.822422</td>\n",
       "      <td>{'was_impossible': False}</td>\n",
       "      <td>27</td>\n",
       "      <td>228</td>\n",
       "      <td>3.822422</td>\n",
       "    </tr>\n",
       "  </tbody>\n",
       "</table>\n",
       "</div>"
      ],
      "text/plain": [
       "       uid  iid  rui       est                    details   Iu   Ui       err\n",
       "16110  145   59  1.0  4.485921  {'was_impossible': False}  252   69  3.485921\n",
       "2514   272  133  1.0  4.508296  {'was_impossible': False}   37  135  3.508296\n",
       "18661  887  476  1.0  4.533896  {'was_impossible': False}  135  136  3.533896\n",
       "10155    2  315  1.0  4.546266  {'was_impossible': False}   46  123  3.546266\n",
       "7400   295  183  1.0  4.548557  {'was_impossible': False}  149  238  3.548557\n",
       "13750  493  156  1.0  4.553101  {'was_impossible': False}   98  118  3.553101\n",
       "449    405  575  5.0  1.313741  {'was_impossible': False}  469   32  3.686259\n",
       "19248  295   96  1.0  4.733470  {'was_impossible': False}  149  246  3.733470\n",
       "18729  481  318  1.0  4.764099  {'was_impossible': False}   41  238  3.764099\n",
       "6470   366  234  1.0  4.822422  {'was_impossible': False}   27  228  3.822422"
      ]
     },
     "execution_count": 37,
     "metadata": {},
     "output_type": "execute_result"
    }
   ],
   "source": [
    "worst_predictions"
   ]
  },
  {
   "attachments": {},
   "cell_type": "markdown",
   "metadata": {},
   "source": [
    "The best predictions seems well off (and not lucky guesses, as many users have rated the given movies, as indicated by the Ui column), but some of the worst predictions will need more investigation."
   ]
  },
  {
   "cell_type": "code",
   "execution_count": 38,
   "metadata": {},
   "outputs": [
    {
     "data": {
      "image/png": "[encoded data removed]",
      "text/plain": [
       "<Figure size 640x480 with 1 Axes>"
      ]
     },
     "metadata": {},
     "output_type": "display_data"
    }
   ],
   "source": [
    "import matplotlib.pyplot as plt\n",
    "df.loc[df['itemID'] == 514]['rating'].hist()\n",
    "plt.xlabel('rating')\n",
    "plt.ylabel('Number of ratings')\n",
    "plt.title('Number of ratings movie 514 has received')\n",
    "plt.show()"
   ]
  },
  {
   "attachments": {},
   "cell_type": "markdown",
   "metadata": {},
   "source": [
    "It seems as if the user, who rated the movie a 1, is an outlier. With this in mind, it makes sense that our model predicted a score of 5. Let's check the next worst prediction"
   ]
  },
  {
   "cell_type": "code",
   "execution_count": 39,
   "metadata": {},
   "outputs": [
    {
     "data": {
      "image/png": "[encoded data removed]",
      "text/plain": [
       "<Figure size 640x480 with 1 Axes>"
      ]
     },
     "metadata": {},
     "output_type": "display_data"
    }
   ],
   "source": [
    "df.loc[df['itemID'] == 67]['rating'].hist()\n",
    "plt.xlabel('rating')\n",
    "plt.ylabel('Number of ratings')\n",
    "plt.title('Number of ratings movie 67 has received')\n",
    "plt.show()"
   ]
  },
  {
   "attachments": {},
   "cell_type": "markdown",
   "metadata": {},
   "source": [
    "Once again, it seems as if the user's score is an outlier (most rated it highly, except for user 314, which rated it very low). With these two examples in mind, as well as the model having RMSE of 0.9091, we're content with the result of the model. Now we're ready to recommend some movies!"
   ]
  },
  {
   "cell_type": "code",
   "execution_count": 27,
   "metadata": {},
   "outputs": [
    {
     "data": {
      "text/plain": [
       "[{'movie_id': 855,\n",
       "  'movie_title': 'Diva (1981)',\n",
       "  'release_date': '01-Jan-1981',\n",
       "  'Action': 1,\n",
       "  'Drama': 1,\n",
       "  'Mystery': 1,\n",
       "  'Romance': 1,\n",
       "  'Thriller': 1},\n",
       " {'movie_id': 496,\n",
       "  'movie_title': \"It's a Wonderful Life (1946)\",\n",
       "  'release_date': '01-Jan-1946',\n",
       "  'Drama': 1},\n",
       " {'movie_id': 746,\n",
       "  'movie_title': 'Real Genius (1985)',\n",
       "  'release_date': '01-Jan-1985',\n",
       "  'Comedy': 1},\n",
       " {'movie_id': 648,\n",
       "  'movie_title': 'Quiet Man, The (1952)',\n",
       "  'release_date': '01-Jan-1952',\n",
       "  'Comedy': 1,\n",
       "  'Romance': 1},\n",
       " {'movie_id': 863,\n",
       "  'movie_title': 'Garden of Finzi-Contini, The (Giardino dei Finzi-Contini, Il) (1970)',\n",
       "  'release_date': '08-Nov-1996',\n",
       "  'Drama': 1}]"
      ]
     },
     "execution_count": 27,
     "metadata": {},
     "output_type": "execute_result"
    }
   ],
   "source": [
    "import difflib\n",
    "import random\n",
    "\n",
    "def get_movie_id(movie_title, metadata):\n",
    "    existing_titles = list(metadata['movie_title'].values)\n",
    "    closest_titles = difflib.get_close_matches(movie_title, existing_titles)\n",
    "    movie_id = metadata[metadata['movie_title'] == closest_titles[0]]['movie_id'].values[0]\n",
    "    return movie_id\n",
    "\n",
    "def get_movie_info(movie_id, metadata):\n",
    "    movie_info = metadata[metadata['movie_id'] == movie_id]\n",
    "    movie_info = movie_info.loc[:, (movie_info != 0).any(axis=0)]\n",
    "    return movie_info.to_dict(orient='records')[0]\n",
    "\n",
    "def predict_review(user_id, movie_title, model, metadata):\n",
    "    \n",
    "    movie_id = get_movie_id(movie_title, metadata)\n",
    "    review_prediction = model.predict(uid=user_id, iid=movie_id)\n",
    "    return review_prediction.est\n",
    "\n",
    "def generate_recommendation(user_id, model, metadata, thresh=4, num_recs=5):\n",
    "    \n",
    "    movie_titles = list(metadata['movie_title'].values)\n",
    "    random.shuffle(movie_titles)\n",
    "    movie_list = []\n",
    "\n",
    "    for movie_title in movie_titles:\n",
    "        rating = predict_review(user_id, movie_title, model, metadata)\n",
    "        if rating >= thresh:\n",
    "            movie_id = get_movie_id(movie_title, metadata)\n",
    "            movie_list.append(get_movie_info(movie_id, metadata))\n",
    "        if(len(movie_list) == num_recs):\n",
    "            return movie_list\n",
    "\n",
    "recommendation = generate_recommendation(200, algo, movies, thresh=4)\n",
    "recommendation"
   ]
  },
  {
   "attachments": {},
   "cell_type": "markdown",
   "metadata": {},
   "source": [
    "Finally, check if these movies are in the same genres as the ones the user usually watches."
   ]
  },
  {
   "cell_type": "code",
   "execution_count": 28,
   "metadata": {},
   "outputs": [
    {
     "data": {
      "text/html": [
       "<div>\n",
       "<style scoped>\n",
       "    .dataframe tbody tr th:only-of-type {\n",
       "        vertical-align: middle;\n",
       "    }\n",
       "\n",
       "    .dataframe tbody tr th {\n",
       "        vertical-align: top;\n",
       "    }\n",
       "\n",
       "    .dataframe thead th {\n",
       "        text-align: right;\n",
       "    }\n",
       "</style>\n",
       "<table border=\"1\" class=\"dataframe\">\n",
       "  <thead>\n",
       "    <tr style=\"text-align: right;\">\n",
       "      <th></th>\n",
       "      <th>movie_id</th>\n",
       "      <th>movie_title</th>\n",
       "      <th>release_date</th>\n",
       "      <th>Action</th>\n",
       "      <th>Adventure</th>\n",
       "      <th>Animation</th>\n",
       "      <th>Children's</th>\n",
       "      <th>Comedy</th>\n",
       "      <th>Drama</th>\n",
       "      <th>Sci-Fi</th>\n",
       "      <th>Thriller</th>\n",
       "    </tr>\n",
       "  </thead>\n",
       "  <tbody>\n",
       "    <tr>\n",
       "      <th>0</th>\n",
       "      <td>1</td>\n",
       "      <td>Toy Story (1995)</td>\n",
       "      <td>01-Jan-1995</td>\n",
       "      <td>0</td>\n",
       "      <td>0</td>\n",
       "      <td>1</td>\n",
       "      <td>1</td>\n",
       "      <td>1</td>\n",
       "      <td>0</td>\n",
       "      <td>0</td>\n",
       "      <td>0</td>\n",
       "    </tr>\n",
       "    <tr>\n",
       "      <th>1</th>\n",
       "      <td>2</td>\n",
       "      <td>GoldenEye (1995)</td>\n",
       "      <td>01-Jan-1995</td>\n",
       "      <td>1</td>\n",
       "      <td>1</td>\n",
       "      <td>0</td>\n",
       "      <td>0</td>\n",
       "      <td>0</td>\n",
       "      <td>0</td>\n",
       "      <td>0</td>\n",
       "      <td>1</td>\n",
       "    </tr>\n",
       "    <tr>\n",
       "      <th>6</th>\n",
       "      <td>7</td>\n",
       "      <td>Twelve Monkeys (1995)</td>\n",
       "      <td>01-Jan-1995</td>\n",
       "      <td>0</td>\n",
       "      <td>0</td>\n",
       "      <td>0</td>\n",
       "      <td>0</td>\n",
       "      <td>0</td>\n",
       "      <td>1</td>\n",
       "      <td>1</td>\n",
       "      <td>0</td>\n",
       "    </tr>\n",
       "    <tr>\n",
       "      <th>7</th>\n",
       "      <td>8</td>\n",
       "      <td>Babe (1995)</td>\n",
       "      <td>01-Jan-1995</td>\n",
       "      <td>0</td>\n",
       "      <td>0</td>\n",
       "      <td>0</td>\n",
       "      <td>1</td>\n",
       "      <td>1</td>\n",
       "      <td>1</td>\n",
       "      <td>0</td>\n",
       "      <td>0</td>\n",
       "    </tr>\n",
       "    <tr>\n",
       "      <th>8</th>\n",
       "      <td>9</td>\n",
       "      <td>Dead Man Walking (1995)</td>\n",
       "      <td>01-Jan-1995</td>\n",
       "      <td>0</td>\n",
       "      <td>0</td>\n",
       "      <td>0</td>\n",
       "      <td>0</td>\n",
       "      <td>0</td>\n",
       "      <td>1</td>\n",
       "      <td>0</td>\n",
       "      <td>0</td>\n",
       "    </tr>\n",
       "  </tbody>\n",
       "</table>\n",
       "</div>"
      ],
      "text/plain": [
       "   movie_id              movie_title release_date  Action  Adventure  \\\n",
       "0         1         Toy Story (1995)  01-Jan-1995       0          0   \n",
       "1         2         GoldenEye (1995)  01-Jan-1995       1          1   \n",
       "6         7    Twelve Monkeys (1995)  01-Jan-1995       0          0   \n",
       "7         8              Babe (1995)  01-Jan-1995       0          0   \n",
       "8         9  Dead Man Walking (1995)  01-Jan-1995       0          0   \n",
       "\n",
       "   Animation  Children's  Comedy  Drama  Sci-Fi  Thriller  \n",
       "0          1           1       1      0       0         0  \n",
       "1          0           0       0      0       0         1  \n",
       "6          0           0       0      1       1         0  \n",
       "7          0           1       1      1       0         0  \n",
       "8          0           0       0      1       0         0  "
      ]
     },
     "execution_count": 28,
     "metadata": {},
     "output_type": "execute_result"
    }
   ],
   "source": [
    "user_200_ratings = df[df['userID'] == 200].sort_values(by='rating', ascending=False)\n",
    "#display(user_200_ratings)\n",
    "user_200_ratings_ids = user_200_ratings['itemID']\n",
    "\n",
    "user_200_movies = movies[movies['movie_id'].isin(user_200_ratings_ids)][:5]\n",
    "user_200_movies.loc[:, (user_200_movies != 0).any(axis=0)]"
   ]
  },
  {
   "attachments": {},
   "cell_type": "markdown",
   "metadata": {},
   "source": [
    "The model recommended drama, thriller and comedy movies, which are all categories which are present in the top rated of the user."
   ]
  },
  {
   "cell_type": "code",
   "execution_count": 32,
   "metadata": {},
   "outputs": [
    {
     "name": "stdout",
     "output_type": "stream",
     "text": [
      "[t-SNE] Computing 91 nearest neighbors...\n",
      "[t-SNE] Indexed 1152 samples in 0.008s...\n",
      "[t-SNE] Computed neighbors for 1152 samples in 0.088s...\n",
      "[t-SNE] Computed conditional probabilities for sample 1000 / 1152\n",
      "[t-SNE] Computed conditional probabilities for sample 1152 / 1152\n",
      "[t-SNE] Mean sigma: 0.247352\n",
      "[t-SNE] Computed conditional probabilities in 0.064s\n",
      "[t-SNE] Iteration 50: error = 68.8976212, gradient norm = 0.0004745 (50 iterations in 0.322s)\n",
      "[t-SNE] Iteration 100: error = 68.8979797, gradient norm = 0.0034467 (50 iterations in 0.364s)\n",
      "[t-SNE] Iteration 150: error = 68.8986816, gradient norm = 0.0064940 (50 iterations in 0.397s)\n",
      "[t-SNE] Iteration 200: error = 68.9004669, gradient norm = 0.0104439 (50 iterations in 0.322s)\n",
      "[t-SNE] Iteration 250: error = 68.8976669, gradient norm = 0.0018399 (50 iterations in 0.332s)\n",
      "[t-SNE] KL divergence after 250 iterations with early exaggeration: 68.897667\n",
      "[t-SNE] Iteration 300: error = 2.2341051, gradient norm = 0.0101825 (50 iterations in 0.274s)\n",
      "[t-SNE] Iteration 350: error = 2.1373875, gradient norm = 0.0071356 (50 iterations in 0.245s)\n",
      "[t-SNE] Iteration 400: error = 2.0972073, gradient norm = 0.0061776 (50 iterations in 0.225s)\n",
      "[t-SNE] Iteration 450: error = 2.0742748, gradient norm = 0.0053590 (50 iterations in 0.226s)\n",
      "[t-SNE] Iteration 500: error = 2.0614228, gradient norm = 0.0045297 (50 iterations in 0.221s)\n",
      "[t-SNE] KL divergence after 500 iterations: 2.061423\n"
     ]
    }
   ],
   "source": [
    "from sklearn.manifold import TSNE\n",
    "tsne = TSNE(n_components=2, n_iter=500, verbose=3, random_state=1)\n",
    "movies_embedding = tsne.fit_transform(algo.qi)\n",
    "projection = pd.DataFrame(columns=['x', 'y'], data=movies_embedding)\n",
    "projection['itemID'] = movies['movie_id']"
   ]
  },
  {
   "cell_type": "code",
   "execution_count": 34,
   "metadata": {},
   "outputs": [
    {
     "data": {
      "application/vnd.plotly.v1+json": {
       "config": {
        "plotlyServerURL": "https://plot.ly"
       },
       "data": [
        {
         "hovertemplate": "x=%{x}<br>y=%{y}<extra></extra>",
         "legendgroup": "",
         "marker": {
          "color": "#636efa",
          "symbol": "circle"
         },
         "mode": "markers",
         "name": "",
         "showlegend": false,
         "type": "scattergl",
         "x": [
          -6.194431304931641,
          -17.6116943359375,
          -2.98569393157959,
          -19.11295509338379,
          -12.178431510925293,
          -12.498455047607422,
          0.646859347820282,
          -17.582914352416992,
          -8.324504852294922,
          -10.917219161987305,
          4.308955192565918,
          -17.824996948242188,
          -2.554938316345215,
          -4.101984977722168,
          13.529467582702637,
          0.8344065546989441,
          11.44268798828125,
          -0.8011314272880554,
          -15.92720890045166,
          -10.311657905578613,
          -5.055602073669434,
          1.7862505912780762,
          2.26991605758667,
          0.19980794191360474,
          -15.791838645935059,
          -11.596952438354492,
          7.058327674865723,
          -6.8840250968933105,
          -1.0816110372543335,
          16.07129669189453,
          -17.066991806030273,
          -8.650716781616211,
          -12.269107818603516,
          -11.97916316986084,
          6.7943596839904785,
          4.486252307891846,
          8.857389450073242,
          -10.742927551269531,
          -18.571325302124023,
          -15.991474151611328,
          -2.2170588970184326,
          -9.16394329071045,
          -12.222865104675293,
          -1.3169523477554321,
          -14.740266799926758,
          -13.074613571166992,
          -14.374311447143555,
          -4.860403537750244,
          18.304113388061523,
          0.7497656345367432,
          -9.56953239440918,
          -7.895703315734863,
          -7.590376377105713,
          2.818218946456909,
          3.3547918796539307,
          -3.286947727203369,
          -19.10304832458496,
          -1.288628339767456,
          -2.2345337867736816,
          -5.308876991271973,
          15.454221725463867,
          10.400732040405273,
          -6.334081172943115,
          -10.420496940612793,
          -4.943974494934082,
          9.019857406616211,
          12.585429191589355,
          -9.552396774291992,
          -9.318487167358398,
          -9.866936683654785,
          -0.15127772092819214,
          -8.367570877075195,
          -1.5895640850067139,
          6.011939525604248,
          6.496119976043701,
          16.341529846191406,
          16.175613403320312,
          -13.68909740447998,
          -9.850913047790527,
          -14.829216003417969,
          8.563165664672852,
          10.553638458251953,
          7.053477764129639,
          -11.929372787475586,
          -0.11443223804235458,
          2.1438982486724854,
          16.878864288330078,
          -3.232404947280884,
          -4.323987007141113,
          4.073809623718262,
          18.439865112304688,
          -9.677538871765137,
          4.563168048858643,
          4.79538106918335,
          14.89038372039795,
          15.278465270996094,
          -10.29655933380127,
          9.175652503967285,
          5.080765247344971,
          -3.1802124977111816,
          -5.778557777404785,
          -9.745429992675781,
          -10.92193603515625,
          13.048027992248535,
          -17.277381896972656,
          -12.605168342590332,
          -16.09528350830078,
          -12.784469604492188,
          18.36486053466797,
          -4.130228519439697,
          -10.196492195129395,
          -4.27833890914917,
          -4.590179920196533,
          -10.015130996704102,
          4.230973720550537,
          -11.716653823852539,
          16.822158813476562,
          7.294022083282471,
          4.818143844604492,
          -8.27550983428955,
          14.7613525390625,
          -6.87054967880249,
          -7.6788330078125,
          -4.374330997467041,
          4.6555633544921875,
          -8.437826156616211,
          -15.98647689819336,
          -14.988179206848145,
          3.0575919151306152,
          -1.0913549661636353,
          1.0291428565979004,
          0.38999325037002563,
          -1.6364665031433105,
          14.384652137756348,
          -8.171442031860352,
          1.1433061361312866,
          19.36359214782715,
          -5.925166130065918,
          -2.6101667881011963,
          -1.4146571159362793,
          -12.69644832611084,
          14.270042419433594,
          12.07115364074707,
          2.276714563369751,
          -3.1137049198150635,
          -2.0625264644622803,
          8.773273468017578,
          -15.240102767944336,
          1.8510929346084595,
          -7.9711012840271,
          7.071120738983154,
          12.881817817687988,
          7.013527870178223,
          -1.0110535621643066,
          7.313708305358887,
          8.692089080810547,
          -6.9240641593933105,
          -11.908567428588867,
          -8.377411842346191,
          19.386571884155273,
          17.705968856811523,
          -0.6291005611419678,
          -12.489274978637695,
          11.46442699432373,
          -5.102279186248779,
          13.783751487731934,
          7.620983123779297,
          -3.7218751907348633,
          8.292964935302734,
          -11.987935066223145,
          3.292506217956543,
          -4.103736400604248,
          10.566570281982422,
          -2.527818441390991,
          -9.301653861999512,
          7.613154411315918,
          8.995528221130371,
          -8.005894660949707,
          6.029062747955322,
          10.478087425231934,
          9.14101505279541,
          -17.523317337036133,
          -4.482589244842529,
          2.12416934967041,
          4.335714817047119,
          3.4362001419067383,
          -6.938676357269287,
          -6.872469425201416,
          -8.594038009643555,
          -12.443460464477539,
          -0.43159353733062744,
          -10.318581581115723,
          9.235671043395996,
          6.17872428894043,
          17.567598342895508,
          8.209328651428223,
          3.9735822677612305,
          -8.324453353881836,
          18.571273803710938,
          -13.481573104858398,
          -13.374780654907227,
          -5.975738525390625,
          15.330167770385742,
          -17.425981521606445,
          -16.63234519958496,
          -1.0406876802444458,
          8.186474800109863,
          -0.4698951244354248,
          -8.65544605255127,
          -9.872904777526855,
          -5.251829147338867,
          4.520606994628906,
          -16.0219783782959,
          8.728728294372559,
          2.361150026321411,
          -4.76581335067749,
          -9.087201118469238,
          5.354515075683594,
          -10.193238258361816,
          -4.540521144866943,
          5.9601969718933105,
          -15.591827392578125,
          4.731978893280029,
          4.922530174255371,
          6.903139591217041,
          -2.8534765243530273,
          -12.586133003234863,
          -9.164073944091797,
          -13.937938690185547,
          -19.16850471496582,
          -4.670252799987793,
          -8.040404319763184,
          -3.483785629272461,
          2.1442482471466064,
          3.7703700065612793,
          -9.199228286743164,
          -13.001227378845215,
          -3.9393980503082275,
          -0.44418665766716003,
          -18.09905242919922,
          -5.792825222015381,
          18.3239803314209,
          -2.1859796047210693,
          12.92495346069336,
          16.852354049682617,
          -1.110548496246338,
          0.594035804271698,
          -12.026838302612305,
          -9.320366859436035,
          0.5055619478225708,
          9.852072715759277,
          -0.506790280342102,
          -1.82205069065094,
          1.8096140623092651,
          -9.005366325378418,
          0.7646399736404419,
          -5.90615701675415,
          -11.092276573181152,
          -10.374204635620117,
          -10.827699661254883,
          4.2331061363220215,
          -10.196596145629883,
          1.6017194986343384,
          -14.088013648986816,
          -2.903055429458618,
          -9.34161376953125,
          -6.244838237762451,
          -4.742394924163818,
          -7.450326442718506,
          -14.850346565246582,
          -7.468698024749756,
          12.2969388961792,
          7.03963565826416,
          -3.3440892696380615,
          -7.463233947753906,
          10.865809440612793,
          13.683798789978027,
          12.075885772705078,
          2.415780544281006,
          -13.031275749206543,
          -7.145602703094482,
          5.834030628204346,
          -3.000432014465332,
          2.8815829753875732,
          8.79978084564209,
          -1.9351520538330078,
          6.968979358673096,
          -12.159335136413574,
          -4.255943775177002,
          10.118803024291992,
          3.367245674133301,
          5.582723140716553,
          9.961100578308105,
          -8.15722942352295,
          13.24963665008545,
          6.790708065032959,
          -4.128480434417725,
          2.26965594291687,
          2.8111958503723145,
          -2.1695358753204346,
          6.267159461975098,
          -4.005838394165039,
          -6.961926460266113,
          -13.369718551635742,
          1.0622937679290771,
          -10.31412124633789,
          -4.361811637878418,
          15.96300983428955,
          -15.482089042663574,
          -1.0925147533416748,
          4.359867572784424,
          17.543392181396484,
          -5.024590015411377,
          10.682955741882324,
          -1.669907808303833,
          7.558337211608887,
          -2.2169830799102783,
          5.997225284576416,
          8.623167037963867,
          -0.005538297817111015,
          -14.320320129394531,
          -5.3793230056762695,
          -5.56005859375,
          -15.576019287109375,
          -15.51187801361084,
          12.277338981628418,
          -6.02266263961792,
          1.7927106618881226,
          3.0579891204833984,
          -8.988183975219727,
          8.360840797424316,
          -6.028003215789795,
          -2.9052834510803223,
          -6.1555705070495605,
          -2.6375067234039307,
          11.193779945373535,
          -2.80820369720459,
          -10.167738914489746,
          12.209359169006348,
          13.909322738647461,
          -5.87208890914917,
          -4.412862300872803,
          7.603790760040283,
          -0.8294910788536072,
          -10.046521186828613,
          -15.079700469970703,
          10.983616828918457,
          -12.891753196716309,
          -12.5961275100708,
          7.845643520355225,
          -7.15535831451416,
          14.846851348876953,
          11.682828903198242,
          4.762224197387695,
          -0.37704646587371826,
          3.539006233215332,
          -0.2724350690841675,
          -4.393313884735107,
          -8.550457000732422,
          5.365928649902344,
          -15.417831420898438,
          4.717719078063965,
          -8.308499336242676,
          -3.9185166358947754,
          -14.129369735717773,
          0.6515196561813354,
          -1.9908044338226318,
          -6.72855281829834,
          -13.218331336975098,
          16.817604064941406,
          6.834494590759277,
          6.0005784034729,
          -16.040987014770508,
          -3.6301333904266357,
          4.741857528686523,
          -6.967936038970947,
          -15.291437149047852,
          11.938347816467285,
          5.471424102783203,
          0.8341582417488098,
          -10.602560043334961,
          -2.6020495891571045,
          8.626770973205566,
          5.308962345123291,
          -5.344325065612793,
          4.1837334632873535,
          -15.39543628692627,
          13.786175727844238,
          -8.343382835388184,
          -6.127267837524414,
          -8.827011108398438,
          -6.367899417877197,
          -11.478231430053711,
          -15.792314529418945,
          -2.0319535732269287,
          2.132688045501709,
          -13.768162727355957,
          11.378866195678711,
          13.410033226013184,
          0.2466602921485901,
          12.888030052185059,
          -3.1215906143188477,
          9.75892448425293,
          -3.3809962272644043,
          -11.702238082885742,
          0.8462584018707275,
          -9.837599754333496,
          -9.430459976196289,
          -8.007011413574219,
          7.651689052581787,
          13.357322692871094,
          5.233194828033447,
          -3.783581495285034,
          -2.8506393432617188,
          -7.184703826904297,
          2.0540034770965576,
          -14.000685691833496,
          6.202237129211426,
          -5.164300441741943,
          11.486115455627441,
          9.554509162902832,
          -3.3353629112243652,
          -0.15687723457813263,
          0.2529546022415161,
          -14.480199813842773,
          -13.959424018859863,
          -8.885787010192871,
          7.674191951751709,
          0.6819624900817871,
          -11.967655181884766,
          1.353036880493164,
          -4.426947593688965,
          -6.12744140625,
          -13.779908180236816,
          6.4586181640625,
          -6.676962375640869,
          -14.769168853759766,
          -3.223904609680176,
          3.7464189529418945,
          -16.93947982788086,
          16.76146697998047,
          -14.338067054748535,
          -2.0827906131744385,
          1.8986635208129883,
          5.3096113204956055,
          18.685670852661133,
          -17.18576431274414,
          -6.967719554901123,
          6.7758965492248535,
          5.906935214996338,
          9.924168586730957,
          8.634859085083008,
          4.6184892654418945,
          -0.27354440093040466,
          3.8434417247772217,
          9.071024894714355,
          5.986406326293945,
          5.4292097091674805,
          -7.19453763961792,
          6.3490400314331055,
          -3.662243604660034,
          -10.235346794128418,
          -0.8233599066734314,
          -1.772230625152588,
          -1.3759324550628662,
          -5.200133323669434,
          3.5996174812316895,
          14.276957511901855,
          7.312167167663574,
          -5.375100612640381,
          -1.397716999053955,
          -13.589829444885254,
          8.38762092590332,
          0.26593977212905884,
          15.758481979370117,
          1.575223445892334,
          -1.565630316734314,
          -11.29491901397705,
          12.962607383728027,
          -5.053215503692627,
          8.742629051208496,
          -15.550345420837402,
          -4.97637939453125,
          -1.1658141613006592,
          18.474210739135742,
          17.560243606567383,
          -4.729217052459717,
          0.5463811755180359,
          3.5365114212036133,
          -0.927997350692749,
          1.9435195922851562,
          11.129874229431152,
          -6.042487144470215,
          -4.671429634094238,
          -2.9679300785064697,
          -0.126827672123909,
          4.570487022399902,
          -6.112857818603516,
          4.448715686798096,
          -1.2119659185409546,
          -9.951577186584473,
          -10.407754898071289,
          -16.09591293334961,
          -12.60558032989502,
          -11.870121002197266,
          1.74802565574646,
          4.290703296661377,
          -8.38209056854248,
          -5.414296627044678,
          18.083669662475586,
          9.468293190002441,
          -3.6671302318573,
          -13.593375205993652,
          5.824664115905762,
          13.576985359191895,
          0.6052793264389038,
          -8.112257957458496,
          -2.2336339950561523,
          7.786977291107178,
          -5.839550018310547,
          -2.1760494709014893,
          -7.94960355758667,
          -16.113813400268555,
          3.9779582023620605,
          -1.3314062356948853,
          7.999228000640869,
          -6.742652416229248,
          -9.89049243927002,
          -17.179555892944336,
          -2.536738634109497,
          -12.995014190673828,
          10.819242477416992,
          1.725784420967102,
          -1.7745164632797241,
          -3.257814407348633,
          1.94966459274292,
          -5.484262943267822,
          14.223657608032227,
          2.6746349334716797,
          -9.596967697143555,
          9.884260177612305,
          -3.4221339225769043,
          0.22403298318386078,
          1.762198567390442,
          -8.088677406311035,
          -5.016571521759033,
          2.40083909034729,
          9.674690246582031,
          -12.906594276428223,
          -6.33098840713501,
          3.5947279930114746,
          -5.21469783782959,
          17.114295959472656,
          11.520671844482422,
          -4.758354187011719,
          -12.940690040588379,
          -3.471271514892578,
          -10.282596588134766,
          16.13788414001465,
          5.272350788116455,
          -0.33568137884140015,
          -10.978936195373535,
          9.504358291625977,
          -11.669670104980469,
          1.1663813591003418,
          7.497593402862549,
          0.7598775625228882,
          -8.712926864624023,
          -3.8194119930267334,
          -11.82866382598877,
          10.09415054321289,
          -9.307199478149414,
          1.3142155408859253,
          -0.7706818580627441,
          0.14489521086215973,
          -3.557145833969116,
          -1.404075026512146,
          -15.923352241516113,
          9.449810981750488,
          0.8469629883766174,
          -0.8121256828308105,
          -4.824666500091553,
          8.390480995178223,
          0.8172150254249573,
          3.196582078933716,
          0.9142261147499084,
          -8.92328929901123,
          -3.0382282733917236,
          9.496788024902344,
          2.666030168533325,
          6.429276943206787,
          -8.973337173461914,
          13.57142162322998,
          -14.922750473022461,
          -9.826213836669922,
          -3.848397970199585,
          1.8520832061767578,
          8.468355178833008,
          13.566497802734375,
          10.516125679016113,
          1.2927557229995728,
          -5.116504192352295,
          -12.589853286743164,
          5.94011116027832,
          -3.2860329151153564,
          0.7618197202682495,
          -12.814858436584473,
          7.421751499176025,
          12.064414024353027,
          -11.908903121948242,
          14.37131118774414,
          -12.973981857299805,
          -2.468095302581787,
          -14.628410339355469,
          5.746731281280518,
          8.246938705444336,
          10.937010765075684,
          9.231719970703125,
          4.061262130737305,
          -2.2351958751678467,
          -0.09966881573200226,
          1.682793378829956,
          0.4173569083213806,
          -11.894370079040527,
          9.12951946258545,
          6.047455787658691,
          -9.561104774475098,
          10.243912696838379,
          -6.589467525482178,
          9.041926383972168,
          9.764866828918457,
          6.643768310546875,
          0.8737313747406006,
          11.033635139465332,
          -1.4392601251602173,
          3.3694214820861816,
          3.4938135147094727,
          -9.206369400024414,
          9.919290542602539,
          -3.1718406677246094,
          13.578964233398438,
          1.1358956098556519,
          6.075215816497803,
          -0.9663857221603394,
          -10.922440528869629,
          7.025965690612793,
          8.934781074523926,
          1.091905117034912,
          2.70168399810791,
          1.205397367477417,
          -11.042699813842773,
          0.5391064882278442,
          6.248368740081787,
          14.696714401245117,
          8.298786163330078,
          2.023113965988159,
          3.119940996170044,
          11.316658973693848,
          1.7708920240402222,
          2.833545684814453,
          -3.626124382019043,
          -11.062742233276367,
          -15.896866798400879,
          7.741735458374023,
          -9.817684173583984,
          -13.727546691894531,
          -14.234939575195312,
          -5.7611403465271,
          0.09798146784305573,
          -15.527158737182617,
          4.34415340423584,
          12.842991828918457,
          16.912012100219727,
          -7.051019668579102,
          -6.244194030761719,
          0.920400083065033,
          7.34702730178833,
          2.165708541870117,
          -4.221312046051025,
          8.484549522399902,
          14.535770416259766,
          -5.522972583770752,
          4.8931989669799805,
          -0.519546389579773,
          8.939264297485352,
          -9.56142520904541,
          -19.0936336517334,
          -15.492636680603027,
          4.110952854156494,
          -5.1442694664001465,
          -4.886594772338867,
          12.039490699768066,
          11.059257507324219,
          -10.475756645202637,
          -6.7861552238464355,
          12.547282218933105,
          -3.427783966064453,
          2.2051124572753906,
          4.075423717498779,
          10.085100173950195,
          -15.44291877746582,
          13.249536514282227,
          -1.205289363861084,
          -3.597060441970825,
          8.44296932220459,
          3.1158993244171143,
          5.961418628692627,
          -3.850998878479004,
          9.189247131347656,
          10.912796974182129,
          12.694281578063965,
          3.9682679176330566,
          6.877514839172363,
          -5.973214626312256,
          5.384047031402588,
          2.283428907394409,
          -0.7031779289245605,
          -13.764461517333984,
          5.811926364898682,
          1.749783992767334,
          16.13258171081543,
          -9.677118301391602,
          6.5409836769104,
          6.47730016708374,
          -1.5926299095153809,
          -0.19066275656223297,
          -3.581491470336914,
          2.395712375640869,
          -0.24666419625282288,
          5.584473133087158,
          -1.3535287380218506,
          3.4060070514678955,
          -4.937840461730957,
          -0.04414178803563118,
          7.987131595611572,
          12.67235279083252,
          -3.9219791889190674,
          12.185773849487305,
          14.055133819580078,
          -1.7495652437210083,
          12.157445907592773,
          11.72603702545166,
          11.718836784362793,
          -3.559603452682495,
          5.213429927825928,
          -5.90745210647583,
          4.845560550689697,
          -1.721988320350647,
          10.236154556274414,
          10.787046432495117,
          0.08056119084358215,
          1.720718264579773,
          -1.7723264694213867,
          5.414627552032471,
          -0.8230816125869751,
          -8.418810844421387,
          -4.251124858856201,
          11.98388385772705,
          -12.319417953491211,
          -17.36809730529785,
          3.2413065433502197,
          2.9237024784088135,
          -2.420710325241089,
          -3.3979289531707764,
          0.1274086833000183,
          4.393139839172363,
          -0.8227524161338806,
          -7.259536266326904,
          -8.791023254394531,
          -0.4769052565097809,
          -0.898970901966095,
          -10.78994083404541,
          6.631341934204102,
          -5.772268295288086,
          -6.925156593322754,
          13.770782470703125,
          -0.06589286029338837,
          -4.775032043457031,
          11.471176147460938,
          12.42796802520752,
          10.015629768371582,
          -5.969666481018066,
          4.552543640136719,
          -10.671457290649414,
          -14.756669044494629,
          3.409097909927368,
          5.864912986755371,
          4.238124370574951,
          -6.476551532745361,
          -9.099244117736816,
          8.825471878051758,
          8.074400901794434,
          3.884063959121704,
          1.908536672592163,
          -5.204462051391602,
          10.898126602172852,
          -3.3039820194244385,
          -1.5637620687484741,
          -3.569851875305176,
          -1.2318319082260132,
          5.575814723968506,
          -10.536080360412598,
          3.6282663345336914,
          15.014995574951172,
          -13.286295890808105,
          7.321768760681152,
          13.254363059997559,
          -11.750354766845703,
          1.5224381685256958,
          8.316414833068848,
          10.641127586364746,
          6.207040786743164,
          -7.869006633758545,
          -11.19859504699707,
          0.3070559501647949,
          7.991507053375244,
          -0.6746095418930054,
          8.360723495483398,
          15.851738929748535,
          8.700051307678223,
          13.495884895324707,
          11.43593692779541,
          4.647114276885986,
          4.188199043273926,
          -4.281527519226074,
          -7.534504413604736,
          7.174833297729492,
          -0.8713721036911011,
          5.547891139984131,
          12.693126678466797,
          9.37806510925293,
          5.081073760986328,
          -18.071014404296875,
          11.406027793884277,
          0.3969481885433197,
          -2.4891231060028076,
          2.6255829334259033,
          2.547761917114258,
          3.3207757472991943,
          4.215456008911133,
          -12.054253578186035,
          -1.381688117980957,
          12.669050216674805,
          11.011958122253418,
          -7.448601722717285,
          11.348262786865234,
          5.0165114402771,
          6.143563747406006,
          6.003199577331543,
          -2.9509060382843018,
          -0.8553442358970642,
          6.481447696685791,
          13.601326942443848,
          -5.289946556091309,
          -6.934290409088135,
          14.977019309997559,
          11.085320472717285,
          -4.412815570831299,
          -6.308888912200928,
          -0.5759652256965637,
          3.2848188877105713,
          14.852075576782227,
          -4.905250549316406,
          8.388784408569336,
          -1.7232112884521484,
          -3.6107490062713623,
          -10.679123878479004,
          3.17451548576355,
          -1.3760701417922974,
          -5.855685234069824,
          13.36036491394043,
          4.744052886962891,
          12.736588478088379,
          9.488377571105957,
          -7.0789103507995605,
          3.2466728687286377,
          5.9962944984436035,
          2.2155535221099854,
          6.033777236938477,
          12.121020317077637,
          -9.6149320602417,
          -14.26838207244873,
          7.6435770988464355,
          -7.170675277709961,
          4.762706756591797,
          13.844090461730957,
          -11.67261028289795,
          2.5126829147338867,
          5.199799060821533,
          1.9802831411361694,
          -4.697124004364014,
          -7.73918342590332,
          -7.278007507324219,
          10.286246299743652,
          0.8702991604804993,
          6.609992504119873,
          -7.993697166442871,
          -1.9646137952804565,
          -6.642755031585693,
          -7.855043888092041,
          -6.9494524002075195,
          3.094252824783325,
          5.92412805557251,
          -11.077954292297363,
          2.743220806121826,
          -13.402204513549805,
          10.544090270996094,
          -12.795741081237793,
          -9.009387969970703,
          7.63853645324707,
          -12.657512664794922,
          4.419474124908447,
          -13.604280471801758,
          12.130094528198242,
          -8.320240020751953,
          -1.7921123504638672,
          1.7186083793640137,
          -6.036281585693359,
          0.9979523420333862,
          -4.7975287437438965,
          -8.600929260253906,
          -10.487031936645508,
          -11.908159255981445,
          -2.792222738265991,
          -10.942858695983887,
          1.6913169622421265,
          -3.281339406967163,
          1.6945648193359375,
          4.652149200439453,
          -11.73495101928711,
          5.135778427124023,
          -0.616998016834259,
          9.111390113830566,
          12.878686904907227,
          -0.7627617716789246,
          -13.889551162719727,
          -8.388690948486328,
          -8.717582702636719,
          -14.141594886779785,
          1.606191873550415,
          2.487109661102295,
          -11.72430419921875,
          -5.164607048034668,
          -7.292227745056152,
          5.08312463760376,
          0.013941526412963867,
          8.038473129272461,
          5.943054676055908,
          2.5035176277160645,
          -11.784539222717285,
          3.9889726638793945,
          10.825319290161133,
          0.6135169267654419,
          10.010704040527344,
          2.7663702964782715,
          9.734989166259766,
          -2.5308303833007812,
          3.4024837017059326,
          -7.2683587074279785,
          3.6809134483337402,
          -8.80409049987793,
          -2.140392303466797,
          10.569609642028809,
          3.470668077468872,
          -8.487570762634277,
          -4.871028900146484,
          -2.452949047088623,
          9.903365135192871,
          -4.908583641052246,
          6.324763774871826,
          -9.409524917602539,
          6.913633346557617,
          6.03212833404541,
          4.668744087219238,
          16.013879776000977,
          3.4127840995788574,
          -5.866454124450684,
          -0.2636813223361969,
          6.952015399932861,
          5.940458297729492,
          8.665762901306152,
          -1.2247036695480347,
          -8.446541786193848,
          -15.878436088562012,
          -14.075424194335938,
          7.3958868980407715,
          0.7846194505691528,
          1.1070951223373413,
          11.185851097106934,
          -6.5452704429626465,
          -0.6551226377487183,
          6.535823822021484,
          -7.264701843261719,
          -8.303874969482422,
          5.051943302154541,
          -7.244776725769043,
          -4.974513530731201,
          13.784364700317383,
          -4.531925678253174,
          -0.6300221085548401,
          11.219669342041016,
          3.419218063354492,
          6.613812446594238,
          6.8491010665893555,
          -3.692305326461792,
          -0.12266530841588974,
          2.673863649368286,
          2.811532497406006,
          6.788674831390381,
          -6.334807872772217,
          1.4528472423553467,
          7.216046333312988,
          -0.18328596651554108,
          -6.368393898010254,
          -5.194220542907715,
          -0.2802766263484955,
          2.390977144241333,
          6.15669584274292,
          5.9777984619140625,
          -4.011363983154297,
          3.9032299518585205,
          3.4396870136260986,
          -10.824923515319824,
          -1.8705790042877197,
          -4.893494606018066,
          10.964954376220703,
          1.9279454946517944,
          2.6832759380340576,
          6.963844299316406,
          7.233665943145752,
          14.341752052307129,
          7.528390407562256,
          10.23310661315918,
          4.503446578979492,
          -7.215114593505859,
          -4.60314416885376,
          -2.874617099761963,
          2.5339815616607666,
          -14.431967735290527,
          -8.987804412841797,
          -8.71761417388916,
          -12.147278785705566,
          9.799554824829102,
          -6.031784534454346,
          -5.533813953399658,
          -0.5555387735366821,
          2.2155814170837402,
          -2.417226552963257,
          -14.998950004577637,
          -16.320453643798828,
          -3.3900163173675537,
          1.6297965049743652,
          -6.029943466186523,
          2.1747870445251465,
          -0.886921226978302,
          9.364675521850586,
          -15.089200019836426,
          -6.2070393562316895,
          -7.493372440338135,
          -8.030961990356445,
          0.054748695343732834,
          4.156589031219482,
          -3.645460367202759,
          3.668203115463257,
          -6.4939656257629395,
          -3.699319839477539,
          -7.199836730957031,
          3.2762818336486816,
          4.17293643951416,
          12.397734642028809,
          8.283308029174805,
          -3.6885805130004883,
          -8.066533088684082,
          13.760628700256348,
          3.1988582611083984,
          4.319027423858643,
          -0.7399296164512634,
          14.430747032165527,
          1.9871418476104736,
          5.063565254211426,
          -4.397909164428711,
          2.1920552253723145,
          -10.380050659179688,
          12.236512184143066,
          5.212971210479736,
          -2.0193004608154297,
          -2.6190037727355957,
          -5.597095012664795,
          -0.07512116432189941,
          -3.505547285079956,
          2.189002513885498,
          -3.5355169773101807,
          4.958629608154297,
          -8.192465782165527,
          5.629512310028076,
          -11.795717239379883,
          1.3346158266067505,
          -7.900703430175781,
          11.066662788391113,
          0.05905803665518761,
          8.932926177978516,
          5.486069202423096,
          -5.324974536895752,
          0.16343557834625244,
          0.642897367477417,
          0.9726207256317139,
          -3.296375036239624,
          13.660584449768066,
          -7.334887981414795,
          8.487706184387207,
          -10.546188354492188,
          -1.8780776262283325,
          -6.289653301239014,
          10.078179359436035,
          -2.408677339553833,
          -0.3548811674118042,
          2.672851800918579,
          8.4253511428833,
          12.888031959533691,
          3.870945453643799,
          1.1762721538543701,
          8.321839332580566,
          10.671390533447266,
          7.418254375457764,
          -5.83108377456665,
          5.428241729736328,
          -3.757852554321289,
          0.40484097599983215,
          -6.24758243560791,
          4.435011386871338,
          7.949299335479736,
          14.198533058166504,
          11.47957992553711,
          -0.827094554901123,
          -11.321612358093262,
          9.745808601379395,
          -0.15020471811294556,
          16.684127807617188,
          3.2600224018096924,
          2.278903007507324,
          2.951385974884033,
          11.90413761138916,
          -6.969206809997559,
          -3.783585786819458,
          0.7689977288246155,
          -3.428042411804199,
          -1.739219307899475,
          -5.360764980316162,
          -0.38691380620002747,
          -12.65300178527832,
          -8.87321662902832,
          0.5209966897964478
         ],
         "xaxis": "x",
         "y": [
          0.6661894917488098,
          -5.853123664855957,
          15.120414733886719,
          -4.1210737228393555,
          8.988430976867676,
          6.1189398765563965,
          6.865159034729004,
          -1.1470651626586914,
          3.419734239578247,
          -2.496450901031494,
          -9.947369575500488,
          -0.43126294016838074,
          -4.830892086029053,
          -19.556272506713867,
          11.844466209411621,
          4.769906044006348,
          13.879599571228027,
          0.01096259243786335,
          -1.5946093797683716,
          -1.5407534837722778,
          6.816897869110107,
          20.220840454101562,
          7.3582024574279785,
          -18.151180267333984,
          2.717393398284912,
          -12.221638679504395,
          -13.250445365905762,
          2.175751209259033,
          -8.939520835876465,
          -3.9483020305633545,
          -9.413599014282227,
          -7.377071380615234,
          8.949939727783203,
          -8.471365928649902,
          16.060897827148438,
          16.942480087280273,
          15.50058650970459,
          -9.383781433105469,
          -3.930690288543701,
          -15.837414741516113,
          11.768712997436523,
          -4.819244861602783,
          -15.427923202514648,
          -10.865899085998535,
          -6.974267482757568,
          -5.64355993270874,
          -12.597237586975098,
          15.575326919555664,
          5.301889896392822,
          8.5797700881958,
          9.451275825500488,
          -17.436864852905273,
          -3.484318971633911,
          -3.3032138347625732,
          -3.0206985473632812,
          7.165042877197266,
          -7.797011852264404,
          16.261184692382812,
          -8.711576461791992,
          10.936525344848633,
          7.055825710296631,
          15.205000877380371,
          13.221628189086914,
          0.19125579297542572,
          -5.8815131187438965,
          8.496664047241211,
          9.767261505126953,
          11.736241340637207,
          -8.472955703735352,
          -6.777091026306152,
          4.4538445472717285,
          5.097583770751953,
          1.7777012586593628,
          -4.136417388916016,
          -0.7445718050003052,
          10.488776206970215,
          6.560606002807617,
          -12.9235258102417,
          -2.5660886764526367,
          -11.151082038879395,
          6.084891319274902,
          1.0382906198501587,
          14.13195514678955,
          9.354778289794922,
          -2.385537624359131,
          -4.3765177726745605,
          1.62388277053833,
          15.906733512878418,
          14.438813209533691,
          17.257259368896484,
          5.229393005371094,
          -8.284158706665039,
          -10.113510131835938,
          17.700275421142578,
          11.897370338439941,
          13.395838737487793,
          -3.9606869220733643,
          10.530233383178711,
          20.7504825592041,
          -8.940733909606934,
          12.29098892211914,
          -10.333383560180664,
          9.948054313659668,
          10.912270545959473,
          -9.504693031311035,
          -4.132580757141113,
          -13.255636215209961,
          -8.750412940979004,
          3.9187207221984863,
          -8.756267547607422,
          -1.1217490434646606,
          -14.064772605895996,
          10.927393913269043,
          -9.087265968322754,
          20.05405616760254,
          -8.505243301391602,
          10.36433219909668,
          5.211858749389648,
          15.591277122497559,
          12.527217864990234,
          4.8170318603515625,
          -17.044450759887695,
          -13.890728950500488,
          -13.147045135498047,
          19.02915382385254,
          12.329245567321777,
          -11.328739166259766,
          -3.1922190189361572,
          8.280204772949219,
          3.1565122604370117,
          11.665761947631836,
          -11.044048309326172,
          3.404491424560547,
          2.54243540763855,
          -20.689279556274414,
          12.34023666381836,
          0.5448743104934692,
          13.521971702575684,
          -19.444841384887695,
          15.769571304321289,
          2.5875403881073,
          16.894987106323242,
          -9.387088775634766,
          1.6219555139541626,
          0.5606147050857544,
          13.135190963745117,
          16.552833557128906,
          3.500952959060669,
          16.99869728088379,
          -13.61612319946289,
          9.768176078796387,
          -3.0513482093811035,
          4.249260425567627,
          5.5097575187683105,
          17.9975528717041,
          12.889239311218262,
          1.7297396659851074,
          -0.8122822642326355,
          -20.80851173400879,
          0.5596562027931213,
          8.886918067932129,
          9.341667175292969,
          -16.82079315185547,
          -10.558713912963867,
          10.471590995788574,
          -5.545809268951416,
          -2.4106273651123047,
          -14.303773880004883,
          11.701507568359375,
          10.153356552124023,
          -7.689164161682129,
          17.156248092651367,
          10.019115447998047,
          -19.802942276000977,
          -12.390632629394531,
          -0.02010919526219368,
          12.419693946838379,
          14.61958122253418,
          10.909499168395996,
          4.029577732086182,
          -2.1771693229675293,
          -2.1733124256134033,
          11.678613662719727,
          15.536185264587402,
          -17.648433685302734,
          15.798023223876953,
          11.255549430847168,
          -7.558940410614014,
          -2.5580427646636963,
          8.795576095581055,
          -17.272180557250977,
          6.074392318725586,
          -2.0527007579803467,
          0.6757785677909851,
          8.840554237365723,
          3.2763495445251465,
          10.303447723388672,
          -16.07659339904785,
          5.191866874694824,
          -4.706552982330322,
          3.1636836528778076,
          -2.0245542526245117,
          4.621995449066162,
          -6.670413970947266,
          -2.95733380317688,
          14.689046859741211,
          14.124612808227539,
          18.185583114624023,
          -18.39970588684082,
          0.829686164855957,
          -17.81090545654297,
          12.66732406616211,
          3.5312716960906982,
          -9.964680671691895,
          16.05072021484375,
          -11.0440673828125,
          -15.4827299118042,
          18.805936813354492,
          -1.8586851358413696,
          -9.725324630737305,
          -10.85716724395752,
          -5.051535129547119,
          8.789816856384277,
          20.668315887451172,
          -9.173630714416504,
          -4.156800746917725,
          -13.13720417022705,
          -11.914899826049805,
          -15.082048416137695,
          -4.1805830001831055,
          11.991471290588379,
          7.981791973114014,
          11.899774551391602,
          -13.19744873046875,
          -12.616964340209961,
          -12.3375244140625,
          -0.9003388285636902,
          -3.867022752761841,
          -13.548361778259277,
          -11.463516235351562,
          13.688055992126465,
          -0.9941787123680115,
          16.373910903930664,
          10.882811546325684,
          2.3672327995300293,
          11.979439735412598,
          -20.68779182434082,
          -11.680747985839844,
          -17.198179244995117,
          4.704370498657227,
          10.242941856384277,
          -10.201964378356934,
          -7.195008754730225,
          3.918703079223633,
          -6.467179775238037,
          13.855463981628418,
          -12.756563186645508,
          -3.361941337585449,
          1.6459667682647705,
          -16.457101821899414,
          -3.7294373512268066,
          4.163529396057129,
          -0.36456936597824097,
          0.15779012441635132,
          -14.234292984008789,
          -5.171800136566162,
          -16.825023651123047,
          -8.03561019897461,
          -17.28972816467285,
          -3.096606492996216,
          -11.928810119628906,
          -10.797567367553711,
          15.947741508483887,
          13.16997241973877,
          -18.479848861694336,
          -10.316483497619629,
          -4.855762481689453,
          -6.562182903289795,
          7.05580472946167,
          -16.548681259155273,
          -17.491025924682617,
          -8.227513313293457,
          -7.4614105224609375,
          -1.3240978717803955,
          1.188602089881897,
          5.862822532653809,
          -9.960351943969727,
          0.4941978454589844,
          17.751224517822266,
          8.738784790039062,
          -11.5887451171875,
          3.734180212020874,
          9.777715682983398,
          10.769843101501465,
          14.48459529876709,
          -4.080889701843262,
          17.218467712402344,
          -1.9815478324890137,
          19.913787841796875,
          -14.353856086730957,
          17.18233871459961,
          -14.134517669677734,
          3.5475924015045166,
          -4.134658336639404,
          2.753485679626465,
          -19.945335388183594,
          2.5524327754974365,
          5.980586051940918,
          2.179229259490967,
          8.131942749023438,
          14.246907234191895,
          8.838630676269531,
          9.950315475463867,
          -0.1520622819662094,
          7.283453464508057,
          12.657426834106445,
          -12.000670433044434,
          16.00804328918457,
          7.2260260581970215,
          12.555570602416992,
          -0.06612476706504822,
          -9.530561447143555,
          -8.691170692443848,
          -7.729966163635254,
          3.0412628650665283,
          9.453767776489258,
          7.878872394561768,
          9.569196701049805,
          -3.3475329875946045,
          -16.261539459228516,
          15.185035705566406,
          12.053930282592773,
          9.780230522155762,
          14.970110893249512,
          9.72085189819336,
          6.505551815032959,
          -12.966236114501953,
          -0.8042470216751099,
          -1.6327751874923706,
          6.364932060241699,
          -12.481139183044434,
          13.11032772064209,
          13.514531135559082,
          13.132183074951172,
          -11.915428161621094,
          -14.843178749084473,
          5.096152305603027,
          -6.405245780944824,
          5.879279613494873,
          2.556509494781494,
          1.7634261846542358,
          -0.8373148441314697,
          -9.550395965576172,
          12.519027709960938,
          14.905842781066895,
          6.456456184387207,
          11.245699882507324,
          17.479633331298828,
          -3.682541847229004,
          14.426107406616211,
          -8.603778839111328,
          13.830833435058594,
          11.425625801086426,
          1.2617093324661255,
          -1.5471590757369995,
          -3.935467481613159,
          13.05947494506836,
          11.61302375793457,
          -15.12981128692627,
          -1.2750412225723267,
          5.200626850128174,
          6.992647171020508,
          -8.122553825378418,
          6.551525592803955,
          10.300495147705078,
          -6.372318267822266,
          -1.1251951456069946,
          0.5488070249557495,
          -3.5175576210021973,
          -0.800642728805542,
          -2.4197421073913574,
          -19.145591735839844,
          -12.66612434387207,
          -15.765154838562012,
          -10.433441162109375,
          -0.8920133709907532,
          -1.230374813079834,
          -6.251151084899902,
          11.256175994873047,
          -14.866211891174316,
          1.3273594379425049,
          -3.794874429702759,
          -16.950454711914062,
          1.5140653848648071,
          -3.315535068511963,
          -15.153377532958984,
          -2.2899057865142822,
          -2.3713924884796143,
          12.016657829284668,
          6.3295063972473145,
          -3.058945655822754,
          7.654601573944092,
          14.068758964538574,
          -0.4836847186088562,
          -17.13521957397461,
          10.265359878540039,
          -12.44898509979248,
          11.6237211227417,
          -5.596107006072998,
          -1.3215787410736084,
          -6.906540870666504,
          -5.303929805755615,
          -11.730769157409668,
          -16.20619773864746,
          -9.801488876342773,
          16.773910522460938,
          -13.184256553649902,
          -8.27501106262207,
          15.255125045776367,
          4.1833295822143555,
          6.101940155029297,
          1.0383694171905518,
          13.333590507507324,
          0.32570332288742065,
          -4.4982523918151855,
          -6.4827680587768555,
          -14.348636627197266,
          -3.724128484725952,
          -9.431934356689453,
          -13.999282836914062,
          -14.960915565490723,
          -6.918542861938477,
          -16.524381637573242,
          -12.025989532470703,
          8.1055326461792,
          -9.516439437866211,
          2.8722524642944336,
          -0.313228964805603,
          -12.651091575622559,
          -4.884403228759766,
          -1.286964774131775,
          -15.284878730773926,
          13.069808006286621,
          10.931103706359863,
          3.083183765411377,
          -1.1289876699447632,
          -5.989239692687988,
          4.071832656860352,
          -2.94197678565979,
          5.793196201324463,
          2.535835027694702,
          -8.404481887817383,
          3.0910074710845947,
          0.0262446366250515,
          -2.0431506633758545,
          10.519061088562012,
          -0.3423651456832886,
          -15.708294868469238,
          -15.229313850402832,
          -1.8884044885635376,
          2.532264471054077,
          -19.884126663208008,
          10.629948616027832,
          -4.973319053649902,
          0.8370504379272461,
          -5.444380760192871,
          5.716498851776123,
          0.5224025249481201,
          -2.0648322105407715,
          13.804366111755371,
          -8.62378215789795,
          -11.506231307983398,
          7.359766960144043,
          -13.445768356323242,
          10.736515998840332,
          -11.945111274719238,
          -1.0931873321533203,
          1.121999740600586,
          5.64919376373291,
          5.775482654571533,
          17.612184524536133,
          2.89384126663208,
          6.23412561416626,
          -15.812070846557617,
          3.418999671936035,
          1.9598664045333862,
          12.925296783447266,
          -5.6108269691467285,
          10.352462768554688,
          -15.55558967590332,
          13.196908950805664,
          13.76657772064209,
          -8.975122451782227,
          -1.3236815929412842,
          4.288426876068115,
          -8.484698295593262,
          -3.7188258171081543,
          -0.3021736741065979,
          -14.015503883361816,
          -15.806692123413086,
          -17.925535202026367,
          4.116034030914307,
          -4.728948593139648,
          -5.029244422912598,
          -4.77694845199585,
          0.6897420883178711,
          18.36018180847168,
          -3.897836923599243,
          3.407566785812378,
          -3.3180487155914307,
          16.284204483032227,
          3.757265090942383,
          -4.28307580947876,
          -8.203694343566895,
          9.899041175842285,
          -20.67041778564453,
          -20.51113510131836,
          4.310297966003418,
          11.381725311279297,
          -2.2223575115203857,
          -7.527939796447754,
          -4.6982245445251465,
          2.2340164184570312,
          -17.748727798461914,
          10.11238956451416,
          10.301742553710938,
          8.795254707336426,
          -10.031229019165039,
          -6.010822296142578,
          3.1370160579681396,
          -8.305726051330566,
          0.10664135217666626,
          9.01693344116211,
          -3.980435848236084,
          15.797274589538574,
          3.780038833618164,
          -15.609073638916016,
          0.67051100730896,
          -9.123318672180176,
          -6.7280755043029785,
          13.557709693908691,
          -7.661818504333496,
          -2.142911195755005,
          -6.5194196701049805,
          -17.84092140197754,
          -11.416467666625977,
          -5.2010817527771,
          4.7699761390686035,
          -5.882836818695068,
          -14.635193824768066,
          0.2258060723543167,
          1.5419654846191406,
          2.146872043609619,
          6.734938144683838,
          -17.47130584716797,
          -14.318971633911133,
          -13.025790214538574,
          -14.655633926391602,
          8.472142219543457,
          11.47698974609375,
          1.5067309141159058,
          -7.329994201660156,
          14.824156761169434,
          3.494231939315796,
          -10.98060417175293,
          11.830340385437012,
          17.459083557128906,
          -1.3879406452178955,
          -1.720591425895691,
          -10.728508949279785,
          -4.587268352508545,
          2.333962917327881,
          -7.702381610870361,
          -16.384862899780273,
          -8.660240173339844,
          -12.436434745788574,
          7.635271072387695,
          -15.995524406433105,
          7.822908401489258,
          3.0967047214508057,
          -9.954526901245117,
          -1.689380407333374,
          -5.093911170959473,
          14.826961517333984,
          4.864946365356445,
          -15.024024963378906,
          -2.3760037422180176,
          14.440729141235352,
          6.796554088592529,
          -11.061381340026855,
          -8.443533897399902,
          -8.420219421386719,
          -6.480524063110352,
          -8.2443208694458,
          -16.716930389404297,
          8.92199993133545,
          12.348488807678223,
          14.815984725952148,
          14.199178695678711,
          1.474331259727478,
          -16.351768493652344,
          -6.3077826499938965,
          -7.677483081817627,
          9.716310501098633,
          10.95224380493164,
          13.1168794631958,
          -2.875222682952881,
          15.108200073242188,
          -6.726253032684326,
          -13.936216354370117,
          5.110677719116211,
          -9.706246376037598,
          -10.944360733032227,
          -5.740965843200684,
          -1.0948047637939453,
          5.94089937210083,
          11.738389015197754,
          8.165253639221191,
          8.289092063903809,
          -11.645737648010254,
          9.756913185119629,
          8.583500862121582,
          0.09170261770486832,
          -3.8089237213134766,
          9.279109001159668,
          -10.831727981567383,
          3.3001322746276855,
          12.885071754455566,
          -13.343585014343262,
          2.229234457015991,
          11.468305587768555,
          -5.791466236114502,
          6.038313865661621,
          8.238312721252441,
          -13.681217193603516,
          11.71327018737793,
          20.28705596923828,
          -15.913161277770996,
          4.106895446777344,
          -16.27924156188965,
          11.328292846679688,
          -16.238195419311523,
          13.653390884399414,
          13.967400550842285,
          -11.005799293518066,
          17.055301666259766,
          15.25880241394043,
          -2.70454740524292,
          14.200977325439453,
          -10.850580215454102,
          -14.53620719909668,
          3.1415562629699707,
          7.8904595375061035,
          9.913695335388184,
          -6.592219829559326,
          -9.751245498657227,
          11.764659881591797,
          -2.214942693710327,
          -14.954830169677734,
          -3.11562180519104,
          -3.6481759548187256,
          -7.5682291984558105,
          -11.278998374938965,
          7.958897113800049,
          -8.89136028289795,
          -6.645663738250732,
          -3.087266206741333,
          -6.131925582885742,
          15.601424217224121,
          -6.273923873901367,
          -8.313209533691406,
          7.205747127532959,
          4.951769828796387,
          3.4512388706207275,
          14.841673851013184,
          17.702898025512695,
          12.940570831298828,
          1.2890801429748535,
          -7.269034385681152,
          9.449338912963867,
          14.404268264770508,
          -9.591996192932129,
          7.051506996154785,
          -11.138823509216309,
          3.82080340385437,
          -19.0930233001709,
          -4.112481594085693,
          -6.056477069854736,
          -5.819636821746826,
          -3.2880194187164307,
          -6.605229377746582,
          4.138781547546387,
          6.980237007141113,
          -15.542943954467773,
          -4.765244960784912,
          5.854274272918701,
          -6.135632038116455,
          -6.703166484832764,
          2.093679428100586,
          12.65457820892334,
          -13.146728515625,
          -0.9468362331390381,
          -2.9825470447540283,
          6.299036026000977,
          -5.238312244415283,
          8.444323539733887,
          11.11712646484375,
          -6.053084850311279,
          0.6067368388175964,
          -0.6347647905349731,
          12.53322696685791,
          14.41843318939209,
          -10.371896743774414,
          -3.337928056716919,
          4.0499114990234375,
          -4.7477264404296875,
          12.196026802062988,
          -11.334238052368164,
          9.679922103881836,
          12.321383476257324,
          3.270690679550171,
          -13.731430053710938,
          16.795551300048828,
          4.190946578979492,
          -4.986344337463379,
          -13.461125373840332,
          -10.526152610778809,
          -9.256397247314453,
          0.7532358169555664,
          1.3765703439712524,
          -7.047121524810791,
          -18.06396484375,
          -11.23401165008545,
          7.979532241821289,
          7.372808933258057,
          11.841778755187988,
          8.709957122802734,
          8.187758445739746,
          4.667100429534912,
          12.857649803161621,
          11.757879257202148,
          15.253437042236328,
          2.908629894256592,
          -16.237211227416992,
          -1.0345871448516846,
          -5.19019889831543,
          4.875065803527832,
          -15.772526741027832,
          8.628725051879883,
          16.902896881103516,
          11.080921173095703,
          1.93448805809021,
          -3.6251273155212402,
          2.550574541091919,
          -6.929080486297607,
          0.08312354981899261,
          -12.727736473083496,
          2.284640312194824,
          -14.547234535217285,
          -1.6300946474075317,
          5.048947811126709,
          5.866262912750244,
          -5.9645676612854,
          -2.8536250591278076,
          -1.4380452632904053,
          -3.6051273345947266,
          -3.1556556224823,
          -12.199893951416016,
          -3.645040273666382,
          4.23842191696167,
          -5.611728191375732,
          -8.828845024108887,
          -5.823029041290283,
          -4.189838409423828,
          4.410589218139648,
          5.765088081359863,
          -0.7713906168937683,
          4.40208625793457,
          0.5476230978965759,
          4.674079418182373,
          -4.598399639129639,
          -8.644287109375,
          3.3305437564849854,
          -5.797210216522217,
          -10.467597007751465,
          1.8010609149932861,
          -6.725007057189941,
          9.839764595031738,
          -0.3880262076854706,
          -4.909498691558838,
          -12.228852272033691,
          5.670929431915283,
          11.476160049438477,
          -6.662055492401123,
          -8.776843070983887,
          -4.614166736602783,
          -4.799118995666504,
          -0.688143789768219,
          -10.368317604064941,
          7.602959156036377,
          -2.368380069732666,
          -13.790165901184082,
          4.969389915466309,
          -2.4822964668273926,
          -15.0806303024292,
          9.543854713439941,
          7.742952346801758,
          -6.074222087860107,
          0.9867770075798035,
          4.683126449584961,
          8.14114761352539,
          0.49963125586509705,
          0.01253184862434864,
          -3.738180637359619,
          -7.105534553527832,
          -0.3438393175601959,
          1.9350111484527588,
          1.1767609119415283,
          5.9962477684021,
          -12.462275505065918,
          3.536339282989502,
          10.759725570678711,
          3.1207077503204346,
          -6.0776591300964355,
          0.6660184860229492,
          -8.379508972167969,
          14.958556175231934,
          -2.299809217453003,
          2.2709336280822754,
          1.886218547821045,
          -1.00899338722229,
          12.132109642028809,
          -11.447003364562988,
          -9.690622329711914,
          -12.360373497009277,
          2.244694471359253,
          14.147305488586426,
          -11.677871704101562,
          -18.18829917907715,
          7.432255268096924,
          0.6554858088493347,
          -8.072750091552734,
          9.1832857131958,
          -4.04688835144043,
          -11.45496654510498,
          9.669797897338867,
          2.0970871448516846,
          0.13241860270500183,
          -6.01680850982666,
          -3.875539541244507,
          -7.425947189331055,
          2.907517433166504,
          6.3802947998046875,
          1.2197703123092651,
          -4.786810874938965,
          7.536480903625488,
          6.983826160430908,
          -17.167238235473633,
          -13.14045238494873,
          6.325191020965576,
          10.426968574523926,
          8.152129173278809,
          -0.3574348986148834,
          12.733226776123047,
          -1.2067402601242065,
          1.3381950855255127,
          -12.855330467224121,
          -0.7410685420036316,
          -1.6108862161636353,
          -7.35479211807251,
          8.112249374389648,
          5.0654826164245605,
          6.991129398345947,
          3.760632038116455,
          -3.4576497077941895,
          7.861743927001953,
          5.736787796020508,
          5.726930618286133,
          12.994190216064453,
          4.456424713134766,
          -16.716266632080078,
          -10.339118003845215,
          10.288480758666992,
          -5.985898017883301,
          5.644979953765869,
          3.0608861446380615,
          -6.182988166809082,
          -0.38286057114601135,
          15.521153450012207,
          -11.65142822265625,
          -10.026742935180664,
          -2.3303661346435547,
          -9.727188110351562,
          5.580002307891846,
          -4.774296283721924,
          10.252081871032715,
          7.792608261108398,
          4.219461441040039,
          -0.855289876461029,
          -6.872882843017578,
          -1.832134485244751,
          9.194506645202637,
          -6.291823863983154,
          -12.805357933044434,
          2.4158596992492676,
          -2.437546968460083,
          17.029640197753906,
          -9.716005325317383,
          -3.763185739517212,
          12.324445724487305,
          -7.656248569488525,
          1.2155622243881226,
          0.2834727168083191,
          3.3289406299591064,
          -13.610095977783203,
          -9.38330078125,
          -7.318200588226318,
          -7.473979949951172,
          -15.147870063781738,
          -2.223785161972046,
          -2.878667116165161,
          -4.132421493530273,
          -6.957385540008545,
          10.42303466796875,
          -14.974913597106934,
          9.72848129272461,
          -3.0815634727478027,
          6.7847089767456055,
          17.984512329101562,
          -12.24850845336914,
          -13.144865989685059,
          -2.837630033493042,
          8.923372268676758,
          4.812411308288574,
          -7.814319133758545,
          -2.5398576259613037,
          6.622111797332764,
          1.4481850862503052,
          -10.570727348327637,
          -11.959694862365723,
          4.103525161743164,
          -1.4684908390045166,
          -13.936837196350098,
          -0.4695100784301758,
          -3.697277545928955,
          15.760320663452148,
          16.496431350708008,
          14.447639465332031,
          11.012579917907715,
          -5.000331878662109,
          -8.044483184814453,
          4.983638763427734,
          12.647615432739258,
          -4.752892017364502,
          7.01047945022583,
          5.789468765258789,
          11.017212867736816,
          -9.443947792053223,
          -7.36082649230957,
          -0.9408535361289978,
          -14.237858772277832,
          0.5293436646461487,
          16.93088150024414,
          0.5904255509376526,
          5.670994281768799,
          -2.409594774246216,
          -11.683890342712402,
          -7.12494421005249,
          4.459502220153809,
          1.765205979347229,
          -6.745680332183838,
          0.7909285426139832,
          7.6711602210998535,
          6.0694732666015625,
          -3.9581966400146484,
          5.256427764892578,
          7.786086559295654,
          -11.975496292114258,
          3.584597587585449,
          6.9199604988098145,
          -0.23454681038856506,
          9.118512153625488,
          5.3969573974609375,
          -4.610132694244385,
          -4.891942024230957,
          7.00125789642334,
          -1.553992509841919,
          8.511392593383789,
          12.868931770324707,
          6.187768936157227,
          -4.530503273010254,
          1.9690576791763306,
          -6.83738899230957,
          -9.658666610717773,
          0.7760127782821655,
          -0.5820038318634033,
          4.492449760437012,
          13.926630973815918,
          -2.877664089202881,
          6.147493362426758,
          16.75779914855957,
          -1.0723532438278198,
          8.014720916748047,
          11.218730926513672,
          2.2445950508117676,
          -10.311259269714355,
          -8.849519729614258,
          -8.929923057556152,
          4.159343242645264,
          -10.697738647460938,
          -9.579300880432129,
          11.637964248657227,
          3.6348845958709717,
          -1.163381576538086,
          -7.235744476318359,
          1.1329721212387085,
          2.0526599884033203,
          12.973755836486816,
          9.605284690856934,
          -4.557064056396484,
          3.6879703998565674,
          6.78290319442749,
          -6.087070465087891,
          2.2373883724212646,
          -3.335697889328003,
          8.944296836853027,
          -6.596989154815674,
          18.399578094482422,
          12.34706974029541,
          6.483920097351074,
          16.07095718383789,
          17.552942276000977,
          9.933921813964844,
          -13.591243743896484,
          -3.2665772438049316,
          1.7915868759155273,
          0.144928440451622,
          11.95578384399414,
          -10.184664726257324,
          -11.178878784179688,
          -0.901421308517456,
          -2.163569688796997,
          13.939327239990234,
          -3.9416770935058594,
          5.6594462394714355,
          -6.777640342712402,
          -9.260716438293457,
          -6.467437267303467,
          -8.245838165283203,
          -5.535784721374512,
          9.243875503540039,
          -3.5566885471343994,
          -1.918175220489502,
          4.283295154571533,
          10.65011215209961,
          8.61782455444336,
          -13.234903335571289,
          -1.761317491531372,
          -3.4945623874664307,
          -6.9360880851745605,
          1.2063186168670654,
          -7.166287422180176,
          -9.949039459228516,
          13.466156959533691,
          -1.013149380683899,
          -4.289484024047852,
          -9.6937894821167,
          -6.736192226409912,
          10.156562805175781,
          8.52194595336914,
          -6.559911727905273,
          -10.037800788879395,
          0.20329491794109344,
          14.101317405700684,
          0.6049857139587402,
          0.5843591094017029,
          0.4467141926288605,
          10.181783676147461,
          -3.8639867305755615,
          8.370304107666016,
          -5.068801403045654,
          5.703511714935303,
          -13.574440956115723,
          11.489340782165527,
          6.836178779602051,
          -9.589015007019043,
          -2.1278562545776367,
          -12.03235912322998,
          -4.521985054016113,
          2.47015380859375,
          -0.1736270785331726,
          -1.5967693328857422,
          17.487043380737305,
          -9.628268241882324,
          -2.3919966220855713,
          -10.617149353027344,
          10.638251304626465,
          -5.3714280128479,
          11.091649055480957,
          7.985815525054932,
          2.1255481243133545,
          0.6391838788986206,
          3.643228530883789,
          -4.17677640914917,
          12.391557693481445,
          4.790036678314209,
          6.334069728851318,
          17.131845474243164,
          -8.344693183898926,
          5.512167453765869,
          -9.488265037536621,
          -9.545076370239258,
          -10.781673431396484,
          -7.135275363922119,
          0.09466885030269623,
          -11.996414184570312,
          2.851189136505127,
          1.0891432762145996,
          10.832119941711426,
          1.9524712562561035,
          -1.6980520486831665,
          7.275628089904785,
          4.419590950012207,
          -1.431350827217102,
          -2.689323663711548,
          8.344541549682617,
          -7.704945087432861,
          -4.235230445861816,
          -6.466436386108398,
          0.08979373425245285,
          5.454442977905273,
          2.688330888748169,
          5.693117618560791,
          -6.088301658630371,
          -1.6891483068466187,
          5.801097393035889,
          2.5089337825775146,
          1.3978482484817505,
          2.8475568294525146,
          3.030845880508423,
          2.3853111267089844,
          2.5189027786254883,
          -3.6905765533447266,
          -1.5092514753341675,
          -4.882611274719238,
          0.2706184983253479,
          -13.53268051147461,
          -6.72962760925293,
          -10.673577308654785,
          -3.3590810298919678,
          -11.82785701751709,
          1.885073184967041
         ],
         "yaxis": "y"
        }
       ],
       "layout": {
        "legend": {
         "tracegroupgap": 0
        },
        "margin": {
         "t": 60
        },
        "template": {
         "data": {
          "bar": [
           {
            "error_x": {
             "color": "#2a3f5f"
            },
            "error_y": {
             "color": "#2a3f5f"
            },
            "marker": {
             "line": {
              "color": "#E5ECF6",
              "width": 0.5
             },
             "pattern": {
              "fillmode": "overlay",
              "size": 10,
              "solidity": 0.2
             }
            },
            "type": "bar"
           }
          ],
          "barpolar": [
           {
            "marker": {
             "line": {
              "color": "#E5ECF6",
              "width": 0.5
             },
             "pattern": {
              "fillmode": "overlay",
              "size": 10,
              "solidity": 0.2
             }
            },
            "type": "barpolar"
           }
          ],
          "carpet": [
           {
            "aaxis": {
             "endlinecolor": "#2a3f5f",
             "gridcolor": "white",
             "linecolor": "white",
             "minorgridcolor": "white",
             "startlinecolor": "#2a3f5f"
            },
            "baxis": {
             "endlinecolor": "#2a3f5f",
             "gridcolor": "white",
             "linecolor": "white",
             "minorgridcolor": "white",
             "startlinecolor": "#2a3f5f"
            },
            "type": "carpet"
           }
          ],
          "choropleth": [
           {
            "colorbar": {
             "outlinewidth": 0,
             "ticks": ""
            },
            "type": "choropleth"
           }
          ],
          "contour": [
           {
            "colorbar": {
             "outlinewidth": 0,
             "ticks": ""
            },
            "colorscale": [
             [
              0,
              "#0d0887"
             ],
             [
              0.1111111111111111,
              "#46039f"
             ],
             [
              0.2222222222222222,
              "#7201a8"
             ],
             [
              0.3333333333333333,
              "#9c179e"
             ],
             [
              0.4444444444444444,
              "#bd3786"
             ],
             [
              0.5555555555555556,
              "#d8576b"
             ],
             [
              0.6666666666666666,
              "#ed7953"
             ],
             [
              0.7777777777777778,
              "#fb9f3a"
             ],
             [
              0.8888888888888888,
              "#fdca26"
             ],
             [
              1,
              "#f0f921"
             ]
            ],
            "type": "contour"
           }
          ],
          "contourcarpet": [
           {
            "colorbar": {
             "outlinewidth": 0,
             "ticks": ""
            },
            "type": "contourcarpet"
           }
          ],
          "heatmap": [
           {
            "colorbar": {
             "outlinewidth": 0,
             "ticks": ""
            },
            "colorscale": [
             [
              0,
              "#0d0887"
             ],
             [
              0.1111111111111111,
              "#46039f"
             ],
             [
              0.2222222222222222,
              "#7201a8"
             ],
             [
              0.3333333333333333,
              "#9c179e"
             ],
             [
              0.4444444444444444,
              "#bd3786"
             ],
             [
              0.5555555555555556,
              "#d8576b"
             ],
             [
              0.6666666666666666,
              "#ed7953"
             ],
             [
              0.7777777777777778,
              "#fb9f3a"
             ],
             [
              0.8888888888888888,
              "#fdca26"
             ],
             [
              1,
              "#f0f921"
             ]
            ],
            "type": "heatmap"
           }
          ],
          "heatmapgl": [
           {
            "colorbar": {
             "outlinewidth": 0,
             "ticks": ""
            },
            "colorscale": [
             [
              0,
              "#0d0887"
             ],
             [
              0.1111111111111111,
              "#46039f"
             ],
             [
              0.2222222222222222,
              "#7201a8"
             ],
             [
              0.3333333333333333,
              "#9c179e"
             ],
             [
              0.4444444444444444,
              "#bd3786"
             ],
             [
              0.5555555555555556,
              "#d8576b"
             ],
             [
              0.6666666666666666,
              "#ed7953"
             ],
             [
              0.7777777777777778,
              "#fb9f3a"
             ],
             [
              0.8888888888888888,
              "#fdca26"
             ],
             [
              1,
              "#f0f921"
             ]
            ],
            "type": "heatmapgl"
           }
          ],
          "histogram": [
           {
            "marker": {
             "pattern": {
              "fillmode": "overlay",
              "size": 10,
              "solidity": 0.2
             }
            },
            "type": "histogram"
           }
          ],
          "histogram2d": [
           {
            "colorbar": {
             "outlinewidth": 0,
             "ticks": ""
            },
            "colorscale": [
             [
              0,
              "#0d0887"
             ],
             [
              0.1111111111111111,
              "#46039f"
             ],
             [
              0.2222222222222222,
              "#7201a8"
             ],
             [
              0.3333333333333333,
              "#9c179e"
             ],
             [
              0.4444444444444444,
              "#bd3786"
             ],
             [
              0.5555555555555556,
              "#d8576b"
             ],
             [
              0.6666666666666666,
              "#ed7953"
             ],
             [
              0.7777777777777778,
              "#fb9f3a"
             ],
             [
              0.8888888888888888,
              "#fdca26"
             ],
             [
              1,
              "#f0f921"
             ]
            ],
            "type": "histogram2d"
           }
          ],
          "histogram2dcontour": [
           {
            "colorbar": {
             "outlinewidth": 0,
             "ticks": ""
            },
            "colorscale": [
             [
              0,
              "#0d0887"
             ],
             [
              0.1111111111111111,
              "#46039f"
             ],
             [
              0.2222222222222222,
              "#7201a8"
             ],
             [
              0.3333333333333333,
              "#9c179e"
             ],
             [
              0.4444444444444444,
              "#bd3786"
             ],
             [
              0.5555555555555556,
              "#d8576b"
             ],
             [
              0.6666666666666666,
              "#ed7953"
             ],
             [
              0.7777777777777778,
              "#fb9f3a"
             ],
             [
              0.8888888888888888,
              "#fdca26"
             ],
             [
              1,
              "#f0f921"
             ]
            ],
            "type": "histogram2dcontour"
           }
          ],
          "mesh3d": [
           {
            "colorbar": {
             "outlinewidth": 0,
             "ticks": ""
            },
            "type": "mesh3d"
           }
          ],
          "parcoords": [
           {
            "line": {
             "colorbar": {
              "outlinewidth": 0,
              "ticks": ""
             }
            },
            "type": "parcoords"
           }
          ],
          "pie": [
           {
            "automargin": true,
            "type": "pie"
           }
          ],
          "scatter": [
           {
            "fillpattern": {
             "fillmode": "overlay",
             "size": 10,
             "solidity": 0.2
            },
            "type": "scatter"
           }
          ],
          "scatter3d": [
           {
            "line": {
             "colorbar": {
              "outlinewidth": 0,
              "ticks": ""
             }
            },
            "marker": {
             "colorbar": {
              "outlinewidth": 0,
              "ticks": ""
             }
            },
            "type": "scatter3d"
           }
          ],
          "scattercarpet": [
           {
            "marker": {
             "colorbar": {
              "outlinewidth": 0,
              "ticks": ""
             }
            },
            "type": "scattercarpet"
           }
          ],
          "scattergeo": [
           {
            "marker": {
             "colorbar": {
              "outlinewidth": 0,
              "ticks": ""
             }
            },
            "type": "scattergeo"
           }
          ],
          "scattergl": [
           {
            "marker": {
             "colorbar": {
              "outlinewidth": 0,
              "ticks": ""
             }
            },
            "type": "scattergl"
           }
          ],
          "scattermapbox": [
           {
            "marker": {
             "colorbar": {
              "outlinewidth": 0,
              "ticks": ""
             }
            },
            "type": "scattermapbox"
           }
          ],
          "scatterpolar": [
           {
            "marker": {
             "colorbar": {
              "outlinewidth": 0,
              "ticks": ""
             }
            },
            "type": "scatterpolar"
           }
          ],
          "scatterpolargl": [
           {
            "marker": {
             "colorbar": {
              "outlinewidth": 0,
              "ticks": ""
             }
            },
            "type": "scatterpolargl"
           }
          ],
          "scatterternary": [
           {
            "marker": {
             "colorbar": {
              "outlinewidth": 0,
              "ticks": ""
             }
            },
            "type": "scatterternary"
           }
          ],
          "surface": [
           {
            "colorbar": {
             "outlinewidth": 0,
             "ticks": ""
            },
            "colorscale": [
             [
              0,
              "#0d0887"
             ],
             [
              0.1111111111111111,
              "#46039f"
             ],
             [
              0.2222222222222222,
              "#7201a8"
             ],
             [
              0.3333333333333333,
              "#9c179e"
             ],
             [
              0.4444444444444444,
              "#bd3786"
             ],
             [
              0.5555555555555556,
              "#d8576b"
             ],
             [
              0.6666666666666666,
              "#ed7953"
             ],
             [
              0.7777777777777778,
              "#fb9f3a"
             ],
             [
              0.8888888888888888,
              "#fdca26"
             ],
             [
              1,
              "#f0f921"
             ]
            ],
            "type": "surface"
           }
          ],
          "table": [
           {
            "cells": {
             "fill": {
              "color": "#EBF0F8"
             },
             "line": {
              "color": "white"
             }
            },
            "header": {
             "fill": {
              "color": "#C8D4E3"
             },
             "line": {
              "color": "white"
             }
            },
            "type": "table"
           }
          ]
         },
         "layout": {
          "annotationdefaults": {
           "arrowcolor": "#2a3f5f",
           "arrowhead": 0,
           "arrowwidth": 1
          },
          "autotypenumbers": "strict",
          "coloraxis": {
           "colorbar": {
            "outlinewidth": 0,
            "ticks": ""
           }
          },
          "colorscale": {
           "diverging": [
            [
             0,
             "#8e0152"
            ],
            [
             0.1,
             "#c51b7d"
            ],
            [
             0.2,
             "#de77ae"
            ],
            [
             0.3,
             "#f1b6da"
            ],
            [
             0.4,
             "#fde0ef"
            ],
            [
             0.5,
             "#f7f7f7"
            ],
            [
             0.6,
             "#e6f5d0"
            ],
            [
             0.7,
             "#b8e186"
            ],
            [
             0.8,
             "#7fbc41"
            ],
            [
             0.9,
             "#4d9221"
            ],
            [
             1,
             "#276419"
            ]
           ],
           "sequential": [
            [
             0,
             "#0d0887"
            ],
            [
             0.1111111111111111,
             "#46039f"
            ],
            [
             0.2222222222222222,
             "#7201a8"
            ],
            [
             0.3333333333333333,
             "#9c179e"
            ],
            [
             0.4444444444444444,
             "#bd3786"
            ],
            [
             0.5555555555555556,
             "#d8576b"
            ],
            [
             0.6666666666666666,
             "#ed7953"
            ],
            [
             0.7777777777777778,
             "#fb9f3a"
            ],
            [
             0.8888888888888888,
             "#fdca26"
            ],
            [
             1,
             "#f0f921"
            ]
           ],
           "sequentialminus": [
            [
             0,
             "#0d0887"
            ],
            [
             0.1111111111111111,
             "#46039f"
            ],
            [
             0.2222222222222222,
             "#7201a8"
            ],
            [
             0.3333333333333333,
             "#9c179e"
            ],
            [
             0.4444444444444444,
             "#bd3786"
            ],
            [
             0.5555555555555556,
             "#d8576b"
            ],
            [
             0.6666666666666666,
             "#ed7953"
            ],
            [
             0.7777777777777778,
             "#fb9f3a"
            ],
            [
             0.8888888888888888,
             "#fdca26"
            ],
            [
             1,
             "#f0f921"
            ]
           ]
          },
          "colorway": [
           "#636efa",
           "#EF553B",
           "#00cc96",
           "#ab63fa",
           "#FFA15A",
           "#19d3f3",
           "#FF6692",
           "#B6E880",
           "#FF97FF",
           "#FECB52"
          ],
          "font": {
           "color": "#2a3f5f"
          },
          "geo": {
           "bgcolor": "white",
           "lakecolor": "white",
           "landcolor": "#E5ECF6",
           "showlakes": true,
           "showland": true,
           "subunitcolor": "white"
          },
          "hoverlabel": {
           "align": "left"
          },
          "hovermode": "closest",
          "mapbox": {
           "style": "light"
          },
          "paper_bgcolor": "white",
          "plot_bgcolor": "#E5ECF6",
          "polar": {
           "angularaxis": {
            "gridcolor": "white",
            "linecolor": "white",
            "ticks": ""
           },
           "bgcolor": "#E5ECF6",
           "radialaxis": {
            "gridcolor": "white",
            "linecolor": "white",
            "ticks": ""
           }
          },
          "scene": {
           "xaxis": {
            "backgroundcolor": "#E5ECF6",
            "gridcolor": "white",
            "gridwidth": 2,
            "linecolor": "white",
            "showbackground": true,
            "ticks": "",
            "zerolinecolor": "white"
           },
           "yaxis": {
            "backgroundcolor": "#E5ECF6",
            "gridcolor": "white",
            "gridwidth": 2,
            "linecolor": "white",
            "showbackground": true,
            "ticks": "",
            "zerolinecolor": "white"
           },
           "zaxis": {
            "backgroundcolor": "#E5ECF6",
            "gridcolor": "white",
            "gridwidth": 2,
            "linecolor": "white",
            "showbackground": true,
            "ticks": "",
            "zerolinecolor": "white"
           }
          },
          "shapedefaults": {
           "line": {
            "color": "#2a3f5f"
           }
          },
          "ternary": {
           "aaxis": {
            "gridcolor": "white",
            "linecolor": "white",
            "ticks": ""
           },
           "baxis": {
            "gridcolor": "white",
            "linecolor": "white",
            "ticks": ""
           },
           "bgcolor": "#E5ECF6",
           "caxis": {
            "gridcolor": "white",
            "linecolor": "white",
            "ticks": ""
           }
          },
          "title": {
           "x": 0.05
          },
          "xaxis": {
           "automargin": true,
           "gridcolor": "white",
           "linecolor": "white",
           "ticks": "",
           "title": {
            "standoff": 15
           },
           "zerolinecolor": "white",
           "zerolinewidth": 2
          },
          "yaxis": {
           "automargin": true,
           "gridcolor": "white",
           "linecolor": "white",
           "ticks": "",
           "title": {
            "standoff": 15
           },
           "zerolinecolor": "white",
           "zerolinewidth": 2
          }
         }
        },
        "xaxis": {
         "anchor": "y",
         "domain": [
          0,
          1
         ],
         "title": {
          "text": "x"
         }
        },
        "yaxis": {
         "anchor": "x",
         "domain": [
          0,
          1
         ],
         "title": {
          "text": "y"
         }
        }
       }
      }
     },
     "metadata": {},
     "output_type": "display_data"
    }
   ],
   "source": [
    "import plotly.express as px\n",
    "fig = px.scatter(\n",
    "    projection, x='x', y='y'\n",
    ")\n",
    "fig.show()"
   ]
  }
 ],
 "metadata": {
  "kernelspec": {
   "display_name": "base",
   "language": "python",
   "name": "python3"
  },
  "language_info": {
   "codemirror_mode": {
    "name": "ipython",
    "version": 3
   },
   "file_extension": ".py",
   "mimetype": "text/x-python",
   "name": "python",
   "nbconvert_exporter": "python",
   "pygments_lexer": "ipython3",
   "version": "3.9.16"
  },
  "orig_nbformat": 4,
  "vscode": {
   "interpreter": {
    "hash": "ccf95cdb2ed328e99c522ea98c5a191fdc39d5c45652473dc67115aa8cdc79ee"
   }
  }
 },
 "nbformat": 4,
 "nbformat_minor": 2
}
